{
 "cells": [
  {
   "cell_type": "markdown",
   "metadata": {},
   "source": [
    "# Functions\n",
    "\n",
    "```\n",
    "A function is a group of statements that together perform a task.\n",
    "Declare once.\n",
    "Call as many times as you want\n",
    "```\n",
    "\n",
    "**Types of Functions**\n",
    "- built in\n",
    "- user defined"
   ]
  },
  {
   "cell_type": "markdown",
   "metadata": {},
   "source": [
    "## Built in function"
   ]
  },
  {
   "cell_type": "code",
   "execution_count": 1,
   "metadata": {},
   "outputs": [
    {
     "data": {
      "text/plain": [
       "['ArithmeticError',\n",
       " 'AssertionError',\n",
       " 'AttributeError',\n",
       " 'BaseException',\n",
       " 'BlockingIOError',\n",
       " 'BrokenPipeError',\n",
       " 'BufferError',\n",
       " 'BytesWarning',\n",
       " 'ChildProcessError',\n",
       " 'ConnectionAbortedError',\n",
       " 'ConnectionError',\n",
       " 'ConnectionRefusedError',\n",
       " 'ConnectionResetError',\n",
       " 'DeprecationWarning',\n",
       " 'EOFError',\n",
       " 'Ellipsis',\n",
       " 'EncodingWarning',\n",
       " 'EnvironmentError',\n",
       " 'Exception',\n",
       " 'False',\n",
       " 'FileExistsError',\n",
       " 'FileNotFoundError',\n",
       " 'FloatingPointError',\n",
       " 'FutureWarning',\n",
       " 'GeneratorExit',\n",
       " 'IOError',\n",
       " 'ImportError',\n",
       " 'ImportWarning',\n",
       " 'IndentationError',\n",
       " 'IndexError',\n",
       " 'InterruptedError',\n",
       " 'IsADirectoryError',\n",
       " 'KeyError',\n",
       " 'KeyboardInterrupt',\n",
       " 'LookupError',\n",
       " 'MemoryError',\n",
       " 'ModuleNotFoundError',\n",
       " 'NameError',\n",
       " 'None',\n",
       " 'NotADirectoryError',\n",
       " 'NotImplemented',\n",
       " 'NotImplementedError',\n",
       " 'OSError',\n",
       " 'OverflowError',\n",
       " 'PendingDeprecationWarning',\n",
       " 'PermissionError',\n",
       " 'ProcessLookupError',\n",
       " 'RecursionError',\n",
       " 'ReferenceError',\n",
       " 'ResourceWarning',\n",
       " 'RuntimeError',\n",
       " 'RuntimeWarning',\n",
       " 'StopAsyncIteration',\n",
       " 'StopIteration',\n",
       " 'SyntaxError',\n",
       " 'SyntaxWarning',\n",
       " 'SystemError',\n",
       " 'SystemExit',\n",
       " 'TabError',\n",
       " 'TimeoutError',\n",
       " 'True',\n",
       " 'TypeError',\n",
       " 'UnboundLocalError',\n",
       " 'UnicodeDecodeError',\n",
       " 'UnicodeEncodeError',\n",
       " 'UnicodeError',\n",
       " 'UnicodeTranslateError',\n",
       " 'UnicodeWarning',\n",
       " 'UserWarning',\n",
       " 'ValueError',\n",
       " 'Warning',\n",
       " 'WindowsError',\n",
       " 'ZeroDivisionError',\n",
       " '__IPYTHON__',\n",
       " '__build_class__',\n",
       " '__debug__',\n",
       " '__doc__',\n",
       " '__import__',\n",
       " '__loader__',\n",
       " '__name__',\n",
       " '__package__',\n",
       " '__spec__',\n",
       " 'abs',\n",
       " 'aiter',\n",
       " 'all',\n",
       " 'anext',\n",
       " 'any',\n",
       " 'ascii',\n",
       " 'bin',\n",
       " 'bool',\n",
       " 'breakpoint',\n",
       " 'bytearray',\n",
       " 'bytes',\n",
       " 'callable',\n",
       " 'chr',\n",
       " 'classmethod',\n",
       " 'compile',\n",
       " 'complex',\n",
       " 'copyright',\n",
       " 'credits',\n",
       " 'delattr',\n",
       " 'dict',\n",
       " 'dir',\n",
       " 'display',\n",
       " 'divmod',\n",
       " 'enumerate',\n",
       " 'eval',\n",
       " 'exec',\n",
       " 'execfile',\n",
       " 'filter',\n",
       " 'float',\n",
       " 'format',\n",
       " 'frozenset',\n",
       " 'get_ipython',\n",
       " 'getattr',\n",
       " 'globals',\n",
       " 'hasattr',\n",
       " 'hash',\n",
       " 'help',\n",
       " 'hex',\n",
       " 'id',\n",
       " 'input',\n",
       " 'int',\n",
       " 'isinstance',\n",
       " 'issubclass',\n",
       " 'iter',\n",
       " 'len',\n",
       " 'license',\n",
       " 'list',\n",
       " 'locals',\n",
       " 'map',\n",
       " 'max',\n",
       " 'memoryview',\n",
       " 'min',\n",
       " 'next',\n",
       " 'object',\n",
       " 'oct',\n",
       " 'open',\n",
       " 'ord',\n",
       " 'pow',\n",
       " 'print',\n",
       " 'property',\n",
       " 'range',\n",
       " 'repr',\n",
       " 'reversed',\n",
       " 'round',\n",
       " 'runfile',\n",
       " 'set',\n",
       " 'setattr',\n",
       " 'slice',\n",
       " 'sorted',\n",
       " 'staticmethod',\n",
       " 'str',\n",
       " 'sum',\n",
       " 'super',\n",
       " 'tuple',\n",
       " 'type',\n",
       " 'vars',\n",
       " 'zip']"
      ]
     },
     "execution_count": 1,
     "metadata": {},
     "output_type": "execute_result"
    }
   ],
   "source": [
    "# list of builtin functions\n",
    "dir(__builtin__)"
   ]
  },
  {
   "cell_type": "code",
   "execution_count": 5,
   "metadata": {},
   "outputs": [
    {
     "name": "stdout",
     "output_type": "stream",
     "text": [
      "Help on built-in function sum in module builtins:\n",
      "\n",
      "sum(iterable, /, start=0)\n",
      "    Return the sum of a 'start' value (default: 0) plus an iterable of numbers\n",
      "    \n",
      "    When the iterable is empty, return the start value.\n",
      "    This function is intended specifically for use with numeric values and may\n",
      "    reject non-numeric types.\n",
      "\n"
     ]
    }
   ],
   "source": [
    "help(sum)"
   ]
  },
  {
   "cell_type": "code",
   "execution_count": 6,
   "metadata": {},
   "outputs": [
    {
     "data": {
      "text/plain": [
       "120"
      ]
     },
     "execution_count": 6,
     "metadata": {},
     "output_type": "execute_result"
    }
   ],
   "source": [
    "sum((10,20,30,60))"
   ]
  },
  {
   "cell_type": "code",
   "execution_count": 3,
   "metadata": {},
   "outputs": [
    {
     "data": {
      "text/plain": [
       "3"
      ]
     },
     "execution_count": 3,
     "metadata": {},
     "output_type": "execute_result"
    }
   ],
   "source": [
    "min(10,50,3,70)"
   ]
  },
  {
   "cell_type": "code",
   "execution_count": 4,
   "metadata": {},
   "outputs": [
    {
     "data": {
      "text/plain": [
       "70"
      ]
     },
     "execution_count": 4,
     "metadata": {},
     "output_type": "execute_result"
    }
   ],
   "source": [
    "max(10,50,3,70)"
   ]
  },
  {
   "cell_type": "code",
   "execution_count": 7,
   "metadata": {},
   "outputs": [
    {
     "data": {
      "text/plain": [
       "30.0"
      ]
     },
     "execution_count": 7,
     "metadata": {},
     "output_type": "execute_result"
    }
   ],
   "source": [
    "numbers = (10,20,30,60)\n",
    "sum(numbers)/len(numbers)"
   ]
  },
  {
   "cell_type": "code",
   "execution_count": 13,
   "metadata": {},
   "outputs": [],
   "source": [
    "def average(x):\n",
    "    return sum(x)/len(x)"
   ]
  },
  {
   "cell_type": "code",
   "execution_count": 14,
   "metadata": {},
   "outputs": [
    {
     "data": {
      "text/plain": [
       "<function __main__.average(x)>"
      ]
     },
     "execution_count": 14,
     "metadata": {},
     "output_type": "execute_result"
    }
   ],
   "source": [
    "average"
   ]
  },
  {
   "cell_type": "code",
   "execution_count": 15,
   "metadata": {},
   "outputs": [
    {
     "data": {
      "text/plain": [
       "<function print>"
      ]
     },
     "execution_count": 15,
     "metadata": {},
     "output_type": "execute_result"
    }
   ],
   "source": [
    "print"
   ]
  },
  {
   "cell_type": "code",
   "execution_count": 16,
   "metadata": {},
   "outputs": [
    {
     "data": {
      "text/plain": [
       "200.0"
      ]
     },
     "execution_count": 16,
     "metadata": {},
     "output_type": "execute_result"
    }
   ],
   "source": [
    "average((100,200,300))"
   ]
  },
  {
   "cell_type": "code",
   "execution_count": 17,
   "metadata": {},
   "outputs": [
    {
     "data": {
      "text/plain": [
       "30.0"
      ]
     },
     "execution_count": 17,
     "metadata": {},
     "output_type": "execute_result"
    }
   ],
   "source": [
    "average(numbers)"
   ]
  },
  {
   "cell_type": "markdown",
   "metadata": {},
   "source": [
    "## User defined Functions\n",
    "```\n",
    "Syntax:\n",
    "\n",
    "def name_of_function(argument):\n",
    "  ......\n",
    "  ......\n",
    "  ......\n",
    "  return something\n",
    "\n"
   ]
  },
  {
   "cell_type": "markdown",
   "metadata": {},
   "source": [
    "### Types of user defined functions\n",
    "\n",
    "1. Functions with no input argument and no return\n",
    "2. Functions with input argument and no return\n",
    "3. Functions with input argument and return\n",
    "4. Functions with variable length arguments (*args)\n",
    "5. Functions with keyworded variable length arguments (**kwargs)\n",
    "6. Functions with positional arguments only\n",
    "7. Functions with keyworded variable length argument\n",
    "8. Functions with default value"
   ]
  },
  {
   "cell_type": "markdown",
   "metadata": {
    "jp-MarkdownHeadingCollapsed": true
   },
   "source": [
    "#### **1. Functions with no input argument and no return**"
   ]
  },
  {
   "cell_type": "code",
   "execution_count": 26,
   "metadata": {},
   "outputs": [
    {
     "name": "stdout",
     "output_type": "stream",
     "text": [
      "Hi\n",
      "None\n"
     ]
    }
   ],
   "source": [
    "val = print(\"Hi\")\n",
    "print(val)"
   ]
  },
  {
   "cell_type": "code",
   "execution_count": 18,
   "metadata": {},
   "outputs": [],
   "source": [
    "def greet():\n",
    "    print(\"Hello\")"
   ]
  },
  {
   "cell_type": "code",
   "execution_count": 19,
   "metadata": {},
   "outputs": [
    {
     "name": "stdout",
     "output_type": "stream",
     "text": [
      "Hello\n"
     ]
    }
   ],
   "source": [
    "greet()"
   ]
  },
  {
   "cell_type": "code",
   "execution_count": 20,
   "metadata": {},
   "outputs": [
    {
     "name": "stdout",
     "output_type": "stream",
     "text": [
      "Hello\n"
     ]
    }
   ],
   "source": [
    "greet()"
   ]
  },
  {
   "cell_type": "code",
   "execution_count": 21,
   "metadata": {},
   "outputs": [
    {
     "name": "stdout",
     "output_type": "stream",
     "text": [
      "Hello\n",
      "None\n"
     ]
    }
   ],
   "source": [
    "a = greet\n",
    "b = a()\n",
    "print(b)"
   ]
  },
  {
   "cell_type": "code",
   "execution_count": 23,
   "metadata": {},
   "outputs": [
    {
     "name": "stdout",
     "output_type": "stream",
     "text": [
      "Hello\n",
      "Hello\n",
      "None None\n"
     ]
    }
   ],
   "source": [
    "a = greet\n",
    "b = a\n",
    "print(a(),b())"
   ]
  },
  {
   "cell_type": "code",
   "execution_count": 24,
   "metadata": {},
   "outputs": [
    {
     "name": "stdout",
     "output_type": "stream",
     "text": [
      "Hello\n",
      "None\n",
      "Hello\n",
      "None\n"
     ]
    }
   ],
   "source": [
    "my_msg = greet\n",
    "a = my_msg\n",
    "print(a())\n",
    "print(my_msg())"
   ]
  },
  {
   "cell_type": "markdown",
   "metadata": {
    "jp-MarkdownHeadingCollapsed": true
   },
   "source": [
    "#### **2. Functions with input argument and no return**"
   ]
  },
  {
   "cell_type": "code",
   "execution_count": 27,
   "metadata": {},
   "outputs": [],
   "source": [
    "def greet_xyz(name):\n",
    "    print(f'Hello {name}')"
   ]
  },
  {
   "cell_type": "code",
   "execution_count": 28,
   "metadata": {},
   "outputs": [
    {
     "ename": "TypeError",
     "evalue": "greet_xyz() missing 1 required positional argument: 'name'",
     "output_type": "error",
     "traceback": [
      "\u001b[1;31m---------------------------------------------------------------------------\u001b[0m",
      "\u001b[1;31mTypeError\u001b[0m                                 Traceback (most recent call last)",
      "Cell \u001b[1;32mIn[28], line 1\u001b[0m\n\u001b[1;32m----> 1\u001b[0m \u001b[43mgreet_xyz\u001b[49m\u001b[43m(\u001b[49m\u001b[43m)\u001b[49m\n",
      "\u001b[1;31mTypeError\u001b[0m: greet_xyz() missing 1 required positional argument: 'name'"
     ]
    }
   ],
   "source": [
    "greet_xyz()"
   ]
  },
  {
   "cell_type": "code",
   "execution_count": 29,
   "metadata": {},
   "outputs": [
    {
     "name": "stdout",
     "output_type": "stream",
     "text": [
      "Hello Nazira\n"
     ]
    }
   ],
   "source": [
    "greet_xyz('Nazira')"
   ]
  },
  {
   "cell_type": "code",
   "execution_count": 30,
   "metadata": {},
   "outputs": [
    {
     "name": "stdout",
     "output_type": "stream",
     "text": [
      "Hello Sana\n"
     ]
    }
   ],
   "source": [
    "greet_xyz('Sana')"
   ]
  },
  {
   "cell_type": "markdown",
   "metadata": {
    "jp-MarkdownHeadingCollapsed": true
   },
   "source": [
    "#### **3. Functions input argument and return**"
   ]
  },
  {
   "cell_type": "code",
   "execution_count": 31,
   "metadata": {},
   "outputs": [],
   "source": [
    "def add(num1,num2):\n",
    "    return num1+num2"
   ]
  },
  {
   "cell_type": "code",
   "execution_count": 33,
   "metadata": {},
   "outputs": [],
   "source": [
    "res = add(10,20)"
   ]
  },
  {
   "cell_type": "code",
   "execution_count": 34,
   "metadata": {},
   "outputs": [
    {
     "data": {
      "text/plain": [
       "30"
      ]
     },
     "execution_count": 34,
     "metadata": {},
     "output_type": "execute_result"
    }
   ],
   "source": [
    "res"
   ]
  },
  {
   "cell_type": "code",
   "execution_count": 35,
   "metadata": {},
   "outputs": [
    {
     "data": {
      "text/plain": [
       "40"
      ]
     },
     "execution_count": 35,
     "metadata": {},
     "output_type": "execute_result"
    }
   ],
   "source": [
    "def mul(a,b):\n",
    "    return a*b\n",
    "mul(10,4)"
   ]
  },
  {
   "cell_type": "markdown",
   "metadata": {
    "jp-MarkdownHeadingCollapsed": true
   },
   "source": [
    "#### **4. Functions with variable length argument**"
   ]
  },
  {
   "cell_type": "code",
   "execution_count": 36,
   "metadata": {},
   "outputs": [
    {
     "data": {
      "text/plain": [
       "60"
      ]
     },
     "execution_count": 36,
     "metadata": {},
     "output_type": "execute_result"
    }
   ],
   "source": [
    "add(10,50)"
   ]
  },
  {
   "cell_type": "code",
   "execution_count": 37,
   "metadata": {},
   "outputs": [
    {
     "data": {
      "text/plain": [
       "90"
      ]
     },
     "execution_count": 37,
     "metadata": {},
     "output_type": "execute_result"
    }
   ],
   "source": [
    "add(40,50)"
   ]
  },
  {
   "cell_type": "code",
   "execution_count": 38,
   "metadata": {},
   "outputs": [
    {
     "ename": "TypeError",
     "evalue": "add() takes 2 positional arguments but 3 were given",
     "output_type": "error",
     "traceback": [
      "\u001b[1;31m---------------------------------------------------------------------------\u001b[0m",
      "\u001b[1;31mTypeError\u001b[0m                                 Traceback (most recent call last)",
      "Cell \u001b[1;32mIn[38], line 1\u001b[0m\n\u001b[1;32m----> 1\u001b[0m \u001b[43madd\u001b[49m\u001b[43m(\u001b[49m\u001b[38;5;241;43m4\u001b[39;49m\u001b[43m,\u001b[49m\u001b[38;5;241;43m5\u001b[39;49m\u001b[43m,\u001b[49m\u001b[38;5;241;43m6\u001b[39;49m\u001b[43m)\u001b[49m\n",
      "\u001b[1;31mTypeError\u001b[0m: add() takes 2 positional arguments but 3 were given"
     ]
    }
   ],
   "source": [
    "add(4,5,6)"
   ]
  },
  {
   "cell_type": "code",
   "execution_count": 39,
   "metadata": {},
   "outputs": [],
   "source": [
    "def add_vla(*args):\n",
    "    print(args)"
   ]
  },
  {
   "cell_type": "code",
   "execution_count": 40,
   "metadata": {},
   "outputs": [
    {
     "name": "stdout",
     "output_type": "stream",
     "text": [
      "(10, 20, 30)\n"
     ]
    }
   ],
   "source": [
    "add_vla(10,20,30)"
   ]
  },
  {
   "cell_type": "code",
   "execution_count": 41,
   "metadata": {},
   "outputs": [
    {
     "name": "stdout",
     "output_type": "stream",
     "text": [
      "(10, 20)\n"
     ]
    }
   ],
   "source": [
    "add_vla(10,20)"
   ]
  },
  {
   "cell_type": "code",
   "execution_count": 42,
   "metadata": {},
   "outputs": [
    {
     "name": "stdout",
     "output_type": "stream",
     "text": [
      "(1,)\n"
     ]
    }
   ],
   "source": [
    "add_vla(1)"
   ]
  },
  {
   "cell_type": "code",
   "execution_count": 43,
   "metadata": {},
   "outputs": [
    {
     "name": "stdout",
     "output_type": "stream",
     "text": [
      "()\n"
     ]
    }
   ],
   "source": [
    "add_vla()"
   ]
  },
  {
   "cell_type": "code",
   "execution_count": 48,
   "metadata": {},
   "outputs": [],
   "source": [
    "def add(*args):\n",
    "    total = 0\n",
    "    for num in a:\n",
    "        total += num\n",
    "    return total"
   ]
  },
  {
   "cell_type": "code",
   "execution_count": 49,
   "metadata": {},
   "outputs": [
    {
     "data": {
      "text/plain": [
       "10"
      ]
     },
     "execution_count": 49,
     "metadata": {},
     "output_type": "execute_result"
    }
   ],
   "source": [
    "add(10)"
   ]
  },
  {
   "cell_type": "code",
   "execution_count": 50,
   "metadata": {},
   "outputs": [
    {
     "data": {
      "text/plain": [
       "30"
      ]
     },
     "execution_count": 50,
     "metadata": {},
     "output_type": "execute_result"
    }
   ],
   "source": [
    "add(10,20)"
   ]
  },
  {
   "cell_type": "code",
   "execution_count": 51,
   "metadata": {},
   "outputs": [
    {
     "data": {
      "text/plain": [
       "50"
      ]
     },
     "execution_count": 51,
     "metadata": {},
     "output_type": "execute_result"
    }
   ],
   "source": [
    "add(10,20,20)"
   ]
  },
  {
   "cell_type": "code",
   "execution_count": 52,
   "metadata": {},
   "outputs": [
    {
     "ename": "SyntaxError",
     "evalue": "invalid syntax (226847581.py, line 1)",
     "output_type": "error",
     "traceback": [
      "\u001b[1;36m  Cell \u001b[1;32mIn[52], line 1\u001b[1;36m\u001b[0m\n\u001b[1;33m    def temp(*a,*b):\u001b[0m\n\u001b[1;37m                ^\u001b[0m\n\u001b[1;31mSyntaxError\u001b[0m\u001b[1;31m:\u001b[0m invalid syntax\n"
     ]
    }
   ],
   "source": [
    "def temp(*a,*b):\n",
    "    print(a)\n",
    "    print(b)"
   ]
  },
  {
   "cell_type": "code",
   "execution_count": 53,
   "metadata": {},
   "outputs": [
    {
     "data": {
      "text/plain": [
       "10"
      ]
     },
     "execution_count": 53,
     "metadata": {},
     "output_type": "execute_result"
    }
   ],
   "source": [
    "min(10,20,30,40)"
   ]
  },
  {
   "cell_type": "code",
   "execution_count": 54,
   "metadata": {},
   "outputs": [
    {
     "data": {
      "text/plain": [
       "1"
      ]
     },
     "execution_count": 54,
     "metadata": {},
     "output_type": "execute_result"
    }
   ],
   "source": [
    "min(4,8,1,6)"
   ]
  },
  {
   "cell_type": "code",
   "execution_count": 56,
   "metadata": {},
   "outputs": [
    {
     "data": {
      "text/plain": [
       "3"
      ]
     },
     "execution_count": 56,
     "metadata": {},
     "output_type": "execute_result"
    }
   ],
   "source": [
    "min(4,3)"
   ]
  },
  {
   "cell_type": "code",
   "execution_count": 66,
   "metadata": {},
   "outputs": [],
   "source": [
    "def my_min(*args):\n",
    "    if len(args) > 0:\n",
    "        if isinstance(args[0],int) or isinstance(args[0],int): \n",
    "            min_num = args[0]\n",
    "            for num in args[1:]:\n",
    "                if num < min_num:\n",
    "                    min_num = num\n",
    "            return min_num\n",
    "        else:\n",
    "            print(\"minimum 1 number required\")"
   ]
  },
  {
   "cell_type": "code",
   "execution_count": 67,
   "metadata": {},
   "outputs": [
    {
     "data": {
      "text/plain": [
       "(10, 10)"
      ]
     },
     "execution_count": 67,
     "metadata": {},
     "output_type": "execute_result"
    }
   ],
   "source": [
    "min(10,20,30,40), my_min(10,20,30,40)"
   ]
  },
  {
   "cell_type": "code",
   "execution_count": 59,
   "metadata": {},
   "outputs": [
    {
     "data": {
      "text/plain": [
       "1"
      ]
     },
     "execution_count": 59,
     "metadata": {},
     "output_type": "execute_result"
    }
   ],
   "source": [
    "my_min(4,8,1,6)"
   ]
  },
  {
   "cell_type": "code",
   "execution_count": 60,
   "metadata": {},
   "outputs": [
    {
     "data": {
      "text/plain": [
       "3"
      ]
     },
     "execution_count": 60,
     "metadata": {},
     "output_type": "execute_result"
    }
   ],
   "source": [
    "my_min(4,3)"
   ]
  },
  {
   "cell_type": "code",
   "execution_count": 61,
   "metadata": {},
   "outputs": [
    {
     "name": "stdout",
     "output_type": "stream",
     "text": [
      "minimum 1 number required\n"
     ]
    }
   ],
   "source": [
    "my_min()"
   ]
  },
  {
   "cell_type": "code",
   "execution_count": 62,
   "metadata": {},
   "outputs": [
    {
     "data": {
      "text/plain": [
       "(10, 20, 30, 60)"
      ]
     },
     "execution_count": 62,
     "metadata": {},
     "output_type": "execute_result"
    }
   ],
   "source": [
    "numbers"
   ]
  },
  {
   "cell_type": "code",
   "execution_count": 65,
   "metadata": {},
   "outputs": [
    {
     "data": {
      "text/plain": [
       "False"
      ]
     },
     "execution_count": 65,
     "metadata": {},
     "output_type": "execute_result"
    }
   ],
   "source": [
    "a = 10\n",
    "isinstance(a, float)"
   ]
  },
  {
   "cell_type": "code",
   "execution_count": 63,
   "metadata": {},
   "outputs": [
    {
     "data": {
      "text/plain": [
       "True"
      ]
     },
     "execution_count": 63,
     "metadata": {},
     "output_type": "execute_result"
    }
   ],
   "source": [
    "isinstance(numbers,tuple)"
   ]
  },
  {
   "cell_type": "markdown",
   "metadata": {
    "jp-MarkdownHeadingCollapsed": true
   },
   "source": [
    "#### **5. Functions with keyworded variable length argument**"
   ]
  },
  {
   "cell_type": "code",
   "execution_count": 68,
   "metadata": {},
   "outputs": [],
   "source": [
    "def survey(name,age,*others):\n",
    "    print(name)\n",
    "    print(age)\n",
    "    print(others)"
   ]
  },
  {
   "cell_type": "code",
   "execution_count": 69,
   "metadata": {},
   "outputs": [
    {
     "name": "stdout",
     "output_type": "stream",
     "text": [
      "Nazira\n",
      "15\n",
      "()\n"
     ]
    }
   ],
   "source": [
    "survey('Nazira',15)"
   ]
  },
  {
   "cell_type": "code",
   "execution_count": 70,
   "metadata": {},
   "outputs": [
    {
     "name": "stdout",
     "output_type": "stream",
     "text": [
      "Arpita\n",
      "16\n",
      "('Black', 'Black', 'Cricket')\n"
     ]
    }
   ],
   "source": [
    "survey('Arpita',16,'Black','Black','Cricket')"
   ]
  },
  {
   "cell_type": "code",
   "execution_count": 71,
   "metadata": {},
   "outputs": [
    {
     "ename": "TypeError",
     "evalue": "survey() got an unexpected keyword argument 'eye_color'",
     "output_type": "error",
     "traceback": [
      "\u001b[1;31m---------------------------------------------------------------------------\u001b[0m",
      "\u001b[1;31mTypeError\u001b[0m                                 Traceback (most recent call last)",
      "Cell \u001b[1;32mIn[71], line 1\u001b[0m\n\u001b[1;32m----> 1\u001b[0m \u001b[43msurvey\u001b[49m\u001b[43m(\u001b[49m\u001b[38;5;124;43m'\u001b[39;49m\u001b[38;5;124;43mArpita\u001b[39;49m\u001b[38;5;124;43m'\u001b[39;49m\u001b[43m,\u001b[49m\u001b[38;5;241;43m16\u001b[39;49m\u001b[43m,\u001b[49m\u001b[43meye_color\u001b[49m\u001b[43m \u001b[49m\u001b[38;5;241;43m=\u001b[39;49m\u001b[43m \u001b[49m\u001b[38;5;124;43m'\u001b[39;49m\u001b[38;5;124;43mBlack\u001b[39;49m\u001b[38;5;124;43m'\u001b[39;49m\u001b[43m,\u001b[49m\u001b[43mhair_color\u001b[49m\u001b[43m \u001b[49m\u001b[38;5;241;43m=\u001b[39;49m\u001b[43m \u001b[49m\u001b[38;5;124;43m'\u001b[39;49m\u001b[38;5;124;43mBlack\u001b[39;49m\u001b[38;5;124;43m'\u001b[39;49m\u001b[43m,\u001b[49m\u001b[43msports\u001b[49m\u001b[43m \u001b[49m\u001b[38;5;241;43m=\u001b[39;49m\u001b[43m \u001b[49m\u001b[38;5;124;43m'\u001b[39;49m\u001b[38;5;124;43mCricket\u001b[39;49m\u001b[38;5;124;43m'\u001b[39;49m\u001b[43m)\u001b[49m\n",
      "\u001b[1;31mTypeError\u001b[0m: survey() got an unexpected keyword argument 'eye_color'"
     ]
    }
   ],
   "source": [
    "survey('Arpita',16,eye_color = 'Black',hair_color = 'Black',sports = 'Cricket')"
   ]
  },
  {
   "cell_type": "code",
   "execution_count": 75,
   "metadata": {},
   "outputs": [],
   "source": [
    "def survey(name,age,**kwargs):\n",
    "    print(name)\n",
    "    print(age)\n",
    "    print(kwargs)"
   ]
  },
  {
   "cell_type": "code",
   "execution_count": 76,
   "metadata": {},
   "outputs": [
    {
     "name": "stdout",
     "output_type": "stream",
     "text": [
      "Nazira\n",
      "15\n",
      "{}\n"
     ]
    }
   ],
   "source": [
    "survey('Nazira',15)"
   ]
  },
  {
   "cell_type": "code",
   "execution_count": 79,
   "metadata": {},
   "outputs": [
    {
     "name": "stdout",
     "output_type": "stream",
     "text": [
      "Arpita\n",
      "16\n",
      "{'eye_color': 'Black', 'hair_color': 'Black', 'sports': 'Cricket'}\n"
     ]
    }
   ],
   "source": [
    "survey('Arpita',16,eye_color ='Black',hair_color = 'Black',sports = 'Cricket')"
   ]
  },
  {
   "cell_type": "code",
   "execution_count": 80,
   "metadata": {},
   "outputs": [
    {
     "name": "stdout",
     "output_type": "stream",
     "text": [
      "Arpita\n",
      "16\n",
      "{'eye_color': 'Black', 'hair_color': 'Black', 'sports': 'Cricket'}\n"
     ]
    }
   ],
   "source": [
    "survey(name = 'Arpita',age = 16,eye_color ='Black',hair_color = 'Black',sports = 'Cricket')"
   ]
  },
  {
   "cell_type": "markdown",
   "metadata": {},
   "source": [
    "#### Argument matching:\n",
    "1. Positional matching\n",
    "2. Keyworded matching"
   ]
  },
  {
   "cell_type": "code",
   "execution_count": 81,
   "metadata": {},
   "outputs": [],
   "source": [
    "def temp(a,b,c):\n",
    "    print(f'a : {a}')\n",
    "    print(f'b : {b}')\n",
    "    print(f'c : {c}')\n",
    "    "
   ]
  },
  {
   "cell_type": "code",
   "execution_count": 82,
   "metadata": {},
   "outputs": [
    {
     "name": "stdout",
     "output_type": "stream",
     "text": [
      "a : 10\n",
      "b : 20\n",
      "c : 30\n"
     ]
    }
   ],
   "source": [
    "temp(10,20,30)                      # Positional argument"
   ]
  },
  {
   "cell_type": "code",
   "execution_count": 83,
   "metadata": {},
   "outputs": [
    {
     "name": "stdout",
     "output_type": "stream",
     "text": [
      "a : 20\n",
      "b : 50\n",
      "c : 10\n"
     ]
    }
   ],
   "source": [
    "temp(c = 10,b = 50,a = 20)          # Keyworded argument"
   ]
  },
  {
   "cell_type": "code",
   "execution_count": 84,
   "metadata": {},
   "outputs": [
    {
     "name": "stdout",
     "output_type": "stream",
     "text": [
      "a : 10\n",
      "b : 20\n",
      "c : 30\n"
     ]
    }
   ],
   "source": [
    "temp(10,20,c = 30)"
   ]
  },
  {
   "cell_type": "code",
   "execution_count": 85,
   "metadata": {},
   "outputs": [
    {
     "ename": "TypeError",
     "evalue": "temp() got multiple values for argument 'a'",
     "output_type": "error",
     "traceback": [
      "\u001b[1;31m---------------------------------------------------------------------------\u001b[0m",
      "\u001b[1;31mTypeError\u001b[0m                                 Traceback (most recent call last)",
      "Cell \u001b[1;32mIn[85], line 1\u001b[0m\n\u001b[1;32m----> 1\u001b[0m \u001b[43mtemp\u001b[49m\u001b[43m(\u001b[49m\u001b[38;5;241;43m10\u001b[39;49m\u001b[43m,\u001b[49m\u001b[38;5;241;43m20\u001b[39;49m\u001b[43m,\u001b[49m\u001b[43ma\u001b[49m\u001b[43m \u001b[49m\u001b[38;5;241;43m=\u001b[39;49m\u001b[43m \u001b[49m\u001b[38;5;241;43m30\u001b[39;49m\u001b[43m)\u001b[49m\n",
      "\u001b[1;31mTypeError\u001b[0m: temp() got multiple values for argument 'a'"
     ]
    }
   ],
   "source": [
    "temp(10,20,a = 30)"
   ]
  },
  {
   "cell_type": "code",
   "execution_count": 86,
   "metadata": {},
   "outputs": [
    {
     "ename": "SyntaxError",
     "evalue": "positional argument follows keyword argument (1514140277.py, line 1)",
     "output_type": "error",
     "traceback": [
      "\u001b[1;36m  Cell \u001b[1;32mIn[86], line 1\u001b[1;36m\u001b[0m\n\u001b[1;33m    temp(c = 10,20,30)\u001b[0m\n\u001b[1;37m                     ^\u001b[0m\n\u001b[1;31mSyntaxError\u001b[0m\u001b[1;31m:\u001b[0m positional argument follows keyword argument\n"
     ]
    }
   ],
   "source": [
    "temp(c = 10,20,30)"
   ]
  },
  {
   "cell_type": "code",
   "execution_count": 87,
   "metadata": {},
   "outputs": [
    {
     "ename": "SyntaxError",
     "evalue": "positional argument follows keyword argument (384518569.py, line 1)",
     "output_type": "error",
     "traceback": [
      "\u001b[1;36m  Cell \u001b[1;32mIn[87], line 1\u001b[1;36m\u001b[0m\n\u001b[1;33m    temp(a = 10,b = 20,30)\u001b[0m\n\u001b[1;37m                         ^\u001b[0m\n\u001b[1;31mSyntaxError\u001b[0m\u001b[1;31m:\u001b[0m positional argument follows keyword argument\n"
     ]
    }
   ],
   "source": [
    "temp(a = 10,b = 20,30)"
   ]
  },
  {
   "cell_type": "code",
   "execution_count": 88,
   "metadata": {},
   "outputs": [
    {
     "name": "stdout",
     "output_type": "stream",
     "text": [
      "a : 30\n",
      "b : 20\n",
      "c : 10\n"
     ]
    }
   ],
   "source": [
    "temp(30,c = 10,b = 20)"
   ]
  },
  {
   "cell_type": "markdown",
   "metadata": {},
   "source": [
    "Note: In python poistional arguments folllowed by keyworded arguments are not allowed"
   ]
  },
  {
   "cell_type": "code",
   "execution_count": null,
   "metadata": {},
   "outputs": [],
   "source": []
  },
  {
   "cell_type": "code",
   "execution_count": 97,
   "metadata": {},
   "outputs": [
    {
     "name": "stdout",
     "output_type": "stream",
     "text": [
      "Help on method_descriptor:\n",
      "\n",
      "find(...)\n",
      "    S.find(sub[, start[, end]]) -> int\n",
      "    \n",
      "    Return the lowest index in S where substring sub is found,\n",
      "    such that sub is contained within S[start:end].  Optional\n",
      "    arguments start and end are interpreted as in slice notation.\n",
      "    \n",
      "    Return -1 on failure.\n",
      "\n"
     ]
    }
   ],
   "source": [
    "help(str.find)"
   ]
  },
  {
   "cell_type": "code",
   "execution_count": 96,
   "metadata": {},
   "outputs": [
    {
     "data": {
      "text/plain": [
       "3"
      ]
     },
     "execution_count": 96,
     "metadata": {},
     "output_type": "execute_result"
    }
   ],
   "source": [
    "\"Nuvama Wealth\".find('a')"
   ]
  },
  {
   "cell_type": "code",
   "execution_count": 98,
   "metadata": {},
   "outputs": [
    {
     "data": {
      "text/plain": [
       "5"
      ]
     },
     "execution_count": 98,
     "metadata": {},
     "output_type": "execute_result"
    }
   ],
   "source": [
    "\"Nuvama Wealth\".find('a', 4)"
   ]
  },
  {
   "cell_type": "code",
   "execution_count": 99,
   "metadata": {},
   "outputs": [
    {
     "ename": "TypeError",
     "evalue": "find() takes no keyword arguments",
     "output_type": "error",
     "traceback": [
      "\u001b[1;31m---------------------------------------------------------------------------\u001b[0m",
      "\u001b[1;31mTypeError\u001b[0m                                 Traceback (most recent call last)",
      "Cell \u001b[1;32mIn[99], line 1\u001b[0m\n\u001b[1;32m----> 1\u001b[0m \u001b[38;5;124;43m\"\u001b[39;49m\u001b[38;5;124;43mNuvama Wealth\u001b[39;49m\u001b[38;5;124;43m\"\u001b[39;49m\u001b[38;5;241;43m.\u001b[39;49m\u001b[43mfind\u001b[49m\u001b[43m(\u001b[49m\u001b[38;5;124;43m'\u001b[39;49m\u001b[38;5;124;43ma\u001b[39;49m\u001b[38;5;124;43m'\u001b[39;49m\u001b[43m,\u001b[49m\u001b[43m \u001b[49m\u001b[43mstart\u001b[49m\u001b[43m \u001b[49m\u001b[38;5;241;43m=\u001b[39;49m\u001b[43m \u001b[49m\u001b[38;5;241;43m4\u001b[39;49m\u001b[43m)\u001b[49m\n",
      "\u001b[1;31mTypeError\u001b[0m: find() takes no keyword arguments"
     ]
    }
   ],
   "source": [
    "\"Nuvama Wealth\".find('a', start = 4)"
   ]
  },
  {
   "cell_type": "markdown",
   "metadata": {
    "jp-MarkdownHeadingCollapsed": true
   },
   "source": [
    "#### 6. Functions with positional arguments only"
   ]
  },
  {
   "cell_type": "code",
   "execution_count": 89,
   "metadata": {},
   "outputs": [],
   "source": [
    "def add(a,b,/):\n",
    "    return a+b"
   ]
  },
  {
   "cell_type": "code",
   "execution_count": 90,
   "metadata": {},
   "outputs": [
    {
     "data": {
      "text/plain": [
       "30"
      ]
     },
     "execution_count": 90,
     "metadata": {},
     "output_type": "execute_result"
    }
   ],
   "source": [
    "add(10,20)"
   ]
  },
  {
   "cell_type": "code",
   "execution_count": 91,
   "metadata": {},
   "outputs": [
    {
     "ename": "TypeError",
     "evalue": "add() got some positional-only arguments passed as keyword arguments: 'a, b'",
     "output_type": "error",
     "traceback": [
      "\u001b[1;31m---------------------------------------------------------------------------\u001b[0m",
      "\u001b[1;31mTypeError\u001b[0m                                 Traceback (most recent call last)",
      "Cell \u001b[1;32mIn[91], line 1\u001b[0m\n\u001b[1;32m----> 1\u001b[0m \u001b[43madd\u001b[49m\u001b[43m(\u001b[49m\u001b[43ma\u001b[49m\u001b[43m \u001b[49m\u001b[38;5;241;43m=\u001b[39;49m\u001b[43m \u001b[49m\u001b[38;5;241;43m10\u001b[39;49m\u001b[43m,\u001b[49m\u001b[43mb\u001b[49m\u001b[43m \u001b[49m\u001b[38;5;241;43m=\u001b[39;49m\u001b[43m \u001b[49m\u001b[38;5;241;43m20\u001b[39;49m\u001b[43m)\u001b[49m\n",
      "\u001b[1;31mTypeError\u001b[0m: add() got some positional-only arguments passed as keyword arguments: 'a, b'"
     ]
    }
   ],
   "source": [
    "add(a = 10,b = 20)"
   ]
  },
  {
   "cell_type": "code",
   "execution_count": 92,
   "metadata": {},
   "outputs": [],
   "source": [
    "def temp(a,b,/,c):\n",
    "    print(a,b,c)"
   ]
  },
  {
   "cell_type": "code",
   "execution_count": 93,
   "metadata": {},
   "outputs": [
    {
     "name": "stdout",
     "output_type": "stream",
     "text": [
      "10 20 30\n"
     ]
    }
   ],
   "source": [
    "temp(10,20,c = 30)"
   ]
  },
  {
   "cell_type": "code",
   "execution_count": 94,
   "metadata": {},
   "outputs": [
    {
     "name": "stdout",
     "output_type": "stream",
     "text": [
      "10 20 30\n"
     ]
    }
   ],
   "source": [
    "temp(10,20,30)"
   ]
  },
  {
   "cell_type": "code",
   "execution_count": 95,
   "metadata": {},
   "outputs": [
    {
     "ename": "TypeError",
     "evalue": "temp() got some positional-only arguments passed as keyword arguments: 'a, b'",
     "output_type": "error",
     "traceback": [
      "\u001b[1;31m---------------------------------------------------------------------------\u001b[0m",
      "\u001b[1;31mTypeError\u001b[0m                                 Traceback (most recent call last)",
      "Cell \u001b[1;32mIn[95], line 1\u001b[0m\n\u001b[1;32m----> 1\u001b[0m \u001b[43mtemp\u001b[49m\u001b[43m(\u001b[49m\u001b[43ma\u001b[49m\u001b[43m \u001b[49m\u001b[38;5;241;43m=\u001b[39;49m\u001b[43m \u001b[49m\u001b[38;5;241;43m10\u001b[39;49m\u001b[43m,\u001b[49m\u001b[43mb\u001b[49m\u001b[43m \u001b[49m\u001b[38;5;241;43m=\u001b[39;49m\u001b[43m \u001b[49m\u001b[38;5;241;43m20\u001b[39;49m\u001b[43m,\u001b[49m\u001b[43mc\u001b[49m\u001b[43m \u001b[49m\u001b[38;5;241;43m=\u001b[39;49m\u001b[43m \u001b[49m\u001b[38;5;241;43m30\u001b[39;49m\u001b[43m)\u001b[49m\n",
      "\u001b[1;31mTypeError\u001b[0m: temp() got some positional-only arguments passed as keyword arguments: 'a, b'"
     ]
    }
   ],
   "source": [
    "temp(a = 10,b = 20,c = 30)"
   ]
  },
  {
   "cell_type": "markdown",
   "metadata": {},
   "source": [
    "#### 7. Functions with keyworded argument only"
   ]
  },
  {
   "cell_type": "code",
   "execution_count": 100,
   "metadata": {},
   "outputs": [],
   "source": [
    "def division(*,nr,dr):\n",
    "    return nr/dr"
   ]
  },
  {
   "cell_type": "code",
   "execution_count": 101,
   "metadata": {},
   "outputs": [
    {
     "ename": "TypeError",
     "evalue": "division() takes 0 positional arguments but 2 were given",
     "output_type": "error",
     "traceback": [
      "\u001b[1;31m---------------------------------------------------------------------------\u001b[0m",
      "\u001b[1;31mTypeError\u001b[0m                                 Traceback (most recent call last)",
      "Cell \u001b[1;32mIn[101], line 1\u001b[0m\n\u001b[1;32m----> 1\u001b[0m \u001b[43mdivision\u001b[49m\u001b[43m(\u001b[49m\u001b[38;5;241;43m20\u001b[39;49m\u001b[43m,\u001b[49m\u001b[38;5;241;43m10\u001b[39;49m\u001b[43m)\u001b[49m\n",
      "\u001b[1;31mTypeError\u001b[0m: division() takes 0 positional arguments but 2 were given"
     ]
    }
   ],
   "source": [
    "division(20,10)"
   ]
  },
  {
   "cell_type": "code",
   "execution_count": 102,
   "metadata": {},
   "outputs": [
    {
     "data": {
      "text/plain": [
       "0.5"
      ]
     },
     "execution_count": 102,
     "metadata": {},
     "output_type": "execute_result"
    }
   ],
   "source": [
    "division(nr = 10,dr = 20)"
   ]
  },
  {
   "cell_type": "code",
   "execution_count": 106,
   "metadata": {},
   "outputs": [
    {
     "name": "stdout",
     "output_type": "stream",
     "text": [
      "Help on built-in function print in module builtins:\n",
      "\n",
      "print(...)\n",
      "    print(value, ..., sep=' ', end='\\n', file=sys.stdout, flush=False)\n",
      "    \n",
      "    Prints the values to a stream, or to sys.stdout by default.\n",
      "    Optional keyword arguments:\n",
      "    file:  a file-like object (stream); defaults to the current sys.stdout.\n",
      "    sep:   string inserted between values, default a space.\n",
      "    end:   string appended after the last value, default a newline.\n",
      "    flush: whether to forcibly flush the stream.\n",
      "\n"
     ]
    }
   ],
   "source": [
    "help(print)"
   ]
  },
  {
   "cell_type": "markdown",
   "metadata": {
    "jp-MarkdownHeadingCollapsed": true
   },
   "source": [
    "#### 8. Functions with default value"
   ]
  },
  {
   "cell_type": "code",
   "execution_count": 103,
   "metadata": {},
   "outputs": [],
   "source": [
    "def mul(a,b = 1):\n",
    "    return a*b"
   ]
  },
  {
   "cell_type": "code",
   "execution_count": 104,
   "metadata": {},
   "outputs": [
    {
     "data": {
      "text/plain": [
       "20"
      ]
     },
     "execution_count": 104,
     "metadata": {},
     "output_type": "execute_result"
    }
   ],
   "source": [
    "mul(10,2)"
   ]
  },
  {
   "cell_type": "code",
   "execution_count": 105,
   "metadata": {},
   "outputs": [
    {
     "data": {
      "text/plain": [
       "10"
      ]
     },
     "execution_count": 105,
     "metadata": {},
     "output_type": "execute_result"
    }
   ],
   "source": [
    "mul(10)"
   ]
  },
  {
   "cell_type": "code",
   "execution_count": null,
   "metadata": {},
   "outputs": [],
   "source": [
    "mul()"
   ]
  },
  {
   "cell_type": "code",
   "execution_count": null,
   "metadata": {},
   "outputs": [],
   "source": [
    "def func(x, y=[]):     # Note: the default value is only created once during function defination\n",
    "    y.append(x)\n",
    "    return y\n",
    "\n",
    "print(func(1))\n",
    "print(func(2))"
   ]
  },
  {
   "cell_type": "code",
   "execution_count": null,
   "metadata": {},
   "outputs": [],
   "source": [
    "print(func(3, []))\n",
    "print(func(4))"
   ]
  },
  {
   "cell_type": "code",
   "execution_count": null,
   "metadata": {},
   "outputs": [],
   "source": [
    "# positional arguments, vla, keyworded arguments, default arguments, kwargs"
   ]
  },
  {
   "cell_type": "markdown",
   "metadata": {},
   "source": [
    "#### Quick Questions"
   ]
  },
  {
   "cell_type": "code",
   "execution_count": 107,
   "metadata": {},
   "outputs": [
    {
     "name": "stdout",
     "output_type": "stream",
     "text": [
      "a = 1, b = 2, c = 20\n",
      "args = (3, 4, 5)\n",
      "kwargs = {'x': 100, 'y': 200}\n"
     ]
    }
   ],
   "source": [
    "# 1. \n",
    "def mixed_function(a, b, *args, c=10, **kwargs):\n",
    "    print(f\"a = {a}, b = {b}, c = {c}\")\n",
    "    print(f\"args = {args}\")\n",
    "    print(f\"kwargs = {kwargs}\")\n",
    "\n",
    "mixed_function(1, 2, 3, 4, 5, c=20, x=100, y=200)"
   ]
  },
  {
   "cell_type": "code",
   "execution_count": 108,
   "metadata": {},
   "outputs": [
    {
     "name": "stdout",
     "output_type": "stream",
     "text": [
      "Hello, Alice! You are 25 years old.\n",
      "Hello, 25! You are Alice years old.\n"
     ]
    }
   ],
   "source": [
    "# 2. \n",
    "def greet(name, age):\n",
    "    print(f\"Hello, {name}! You are {age} years old.\")\n",
    "\n",
    "greet(\"Alice\", 25)\n",
    "greet(25, \"Alice\")"
   ]
  },
  {
   "cell_type": "code",
   "execution_count": 109,
   "metadata": {},
   "outputs": [
    {
     "name": "stdout",
     "output_type": "stream",
     "text": [
      "Hello, Bob! You are 30 years old.\n"
     ]
    }
   ],
   "source": [
    "# 3. \n",
    "def greet(name, age):\n",
    "    print(f\"Hello, {name}! You are {age} years old.\")\n",
    "\n",
    "greet(age=30, name=\"Bob\")"
   ]
  },
  {
   "cell_type": "code",
   "execution_count": 110,
   "metadata": {},
   "outputs": [
    {
     "name": "stdout",
     "output_type": "stream",
     "text": [
      "Hello, Guest! You are 18 years old.\n",
      "Hello, Charlie! You are 18 years old.\n",
      "Hello, Guest! You are 40 years old.\n"
     ]
    }
   ],
   "source": [
    "# 4. \n",
    "def greet(name=\"Guest\", age=18):\n",
    "    print(f\"Hello, {name}! You are {age} years old.\")\n",
    "\n",
    "greet()\n",
    "greet(\"Charlie\")\n",
    "greet(age=40)"
   ]
  },
  {
   "cell_type": "code",
   "execution_count": 111,
   "metadata": {},
   "outputs": [
    {
     "name": "stdout",
     "output_type": "stream",
     "text": [
      "(1, 2, 3)\n",
      "6\n",
      "(10, 20, 30, 40)\n",
      "100\n"
     ]
    }
   ],
   "source": [
    "# 5. \n",
    "def add_numbers(*args):\n",
    "    print(args)\n",
    "    return sum(args)\n",
    "\n",
    "print(add_numbers(1, 2, 3))\n",
    "print(add_numbers(10, 20, 30, 40))"
   ]
  },
  {
   "cell_type": "code",
   "execution_count": 112,
   "metadata": {},
   "outputs": [
    {
     "name": "stdout",
     "output_type": "stream",
     "text": [
      "{'name': 'David', 'age': 35, 'city': 'New York'}\n"
     ]
    }
   ],
   "source": [
    "# 6. \n",
    "def user_info(**kwargs):\n",
    "    print(kwargs)\n",
    "\n",
    "user_info(name=\"David\", age=35, city=\"New York\")"
   ]
  },
  {
   "cell_type": "code",
   "execution_count": 118,
   "metadata": {},
   "outputs": [
    {
     "name": "stdout",
     "output_type": "stream",
     "text": [
      "2 3 4\n",
      "24\n"
     ]
    }
   ],
   "source": [
    "# 7.\n",
    "def multiply(a, b, c):\n",
    "    print(a,b,c)\n",
    "    return a * b * c\n",
    "\n",
    "numbers = (2, 3, 4)\n",
    "print(multiply(*numbers))         # argument unpacking"
   ]
  },
  {
   "cell_type": "code",
   "execution_count": 121,
   "metadata": {},
   "outputs": [
    {
     "name": "stdout",
     "output_type": "stream",
     "text": [
      "0 1\n"
     ]
    }
   ],
   "source": [
    "values = range(2)\n",
    "def temp(a,b):\n",
    "    print(a,b)\n",
    "\n",
    "temp(*values)"
   ]
  },
  {
   "cell_type": "code",
   "execution_count": 119,
   "metadata": {},
   "outputs": [
    {
     "name": "stdout",
     "output_type": "stream",
     "text": [
      "2 3 4\n",
      "24\n"
     ]
    }
   ],
   "source": [
    "# 8.\n",
    "values = { \"b\": 3, \"c\": 4, \"a\": 2}\n",
    "print(multiply(**values))         # argument unpacking"
   ]
  },
  {
   "cell_type": "code",
   "execution_count": 122,
   "metadata": {},
   "outputs": [
    {
     "ename": "SyntaxError",
     "evalue": "invalid syntax (3284953156.py, line 2)",
     "output_type": "error",
     "traceback": [
      "\u001b[1;36m  Cell \u001b[1;32mIn[122], line 2\u001b[1;36m\u001b[0m\n\u001b[1;33m    def func(*,a,b,c,d,/):\u001b[0m\n\u001b[1;37m                       ^\u001b[0m\n\u001b[1;31mSyntaxError\u001b[0m\u001b[1;31m:\u001b[0m invalid syntax\n"
     ]
    }
   ],
   "source": [
    "# 9.\n",
    "def func(*,a,b,c,d,/):\n",
    "    print(f'a : {a}')\n",
    "    print(f'b : {b}')\n",
    "    print(f'c : {c}')\n",
    "    print(f'd : {d}')\n",
    "func(a = 10,b = 20,30,40)"
   ]
  },
  {
   "cell_type": "code",
   "execution_count": 123,
   "metadata": {},
   "outputs": [
    {
     "name": "stdout",
     "output_type": "stream",
     "text": [
      "a : 10\n",
      "b : 20\n",
      "c : 30\n",
      "d : 40\n"
     ]
    }
   ],
   "source": [
    "# 10. guess the ouput\n",
    "def func(a,b,/,*,c,d):\n",
    "    print(f'a : {a}')\n",
    "    print(f'b : {b}')\n",
    "    print(f'c : {c}')\n",
    "    print(f'd : {d}')\n",
    "func(10,20,c = 30,d = 40)"
   ]
  },
  {
   "cell_type": "code",
   "execution_count": 124,
   "metadata": {},
   "outputs": [
    {
     "ename": "TypeError",
     "evalue": "func() takes 2 positional arguments but 4 were given",
     "output_type": "error",
     "traceback": [
      "\u001b[1;31m---------------------------------------------------------------------------\u001b[0m",
      "\u001b[1;31mTypeError\u001b[0m                                 Traceback (most recent call last)",
      "Cell \u001b[1;32mIn[124], line 1\u001b[0m\n\u001b[1;32m----> 1\u001b[0m \u001b[43mfunc\u001b[49m\u001b[43m(\u001b[49m\u001b[38;5;241;43m10\u001b[39;49m\u001b[43m,\u001b[49m\u001b[38;5;241;43m20\u001b[39;49m\u001b[43m,\u001b[49m\u001b[38;5;241;43m30\u001b[39;49m\u001b[43m,\u001b[49m\u001b[38;5;241;43m40\u001b[39;49m\u001b[43m)\u001b[49m\n",
      "\u001b[1;31mTypeError\u001b[0m: func() takes 2 positional arguments but 4 were given"
     ]
    }
   ],
   "source": [
    "func(10,20,30,40)"
   ]
  },
  {
   "cell_type": "code",
   "execution_count": 125,
   "metadata": {},
   "outputs": [
    {
     "ename": "TypeError",
     "evalue": "func() got some positional-only arguments passed as keyword arguments: 'a, b'",
     "output_type": "error",
     "traceback": [
      "\u001b[1;31m---------------------------------------------------------------------------\u001b[0m",
      "\u001b[1;31mTypeError\u001b[0m                                 Traceback (most recent call last)",
      "Cell \u001b[1;32mIn[125], line 1\u001b[0m\n\u001b[1;32m----> 1\u001b[0m \u001b[43mfunc\u001b[49m\u001b[43m(\u001b[49m\u001b[43ma\u001b[49m\u001b[43m \u001b[49m\u001b[38;5;241;43m=\u001b[39;49m\u001b[43m \u001b[49m\u001b[38;5;241;43m10\u001b[39;49m\u001b[43m,\u001b[49m\u001b[43mb\u001b[49m\u001b[43m \u001b[49m\u001b[38;5;241;43m=\u001b[39;49m\u001b[43m \u001b[49m\u001b[38;5;241;43m20\u001b[39;49m\u001b[43m,\u001b[49m\u001b[43mc\u001b[49m\u001b[43m \u001b[49m\u001b[38;5;241;43m=\u001b[39;49m\u001b[43m \u001b[49m\u001b[38;5;241;43m30\u001b[39;49m\u001b[43m,\u001b[49m\u001b[43md\u001b[49m\u001b[43m \u001b[49m\u001b[38;5;241;43m=\u001b[39;49m\u001b[43m \u001b[49m\u001b[38;5;241;43m40\u001b[39;49m\u001b[43m)\u001b[49m\n",
      "\u001b[1;31mTypeError\u001b[0m: func() got some positional-only arguments passed as keyword arguments: 'a, b'"
     ]
    }
   ],
   "source": [
    "func(a = 10,b = 20,c = 30,d = 40)"
   ]
  },
  {
   "cell_type": "code",
   "execution_count": 126,
   "metadata": {},
   "outputs": [
    {
     "name": "stdout",
     "output_type": "stream",
     "text": [
      "a : 10\n",
      "b : 20\n",
      "c : 40\n",
      "d : 30\n"
     ]
    }
   ],
   "source": [
    "func(10,20,d = 30,c = 40)"
   ]
  },
  {
   "cell_type": "code",
   "execution_count": 127,
   "metadata": {},
   "outputs": [
    {
     "name": "stdout",
     "output_type": "stream",
     "text": [
      "Item: Shoes, Quantity: 2, Discount: 10%\n",
      "Total Price: $18.0\n"
     ]
    }
   ],
   "source": [
    "# 11. \n",
    "def order(item, quantity, *, discount=0):\n",
    "    total = quantity * 10\n",
    "    total -= total * (discount / 100)\n",
    "    print(f\"Item: {item}, Quantity: {quantity}, Discount: {discount}%\")\n",
    "    print(f\"Total Price: ${total}\")\n",
    "\n",
    "order(\"Shoes\", 2, discount=10)"
   ]
  },
  {
   "cell_type": "code",
   "execution_count": 129,
   "metadata": {},
   "outputs": [
    {
     "ename": "TypeError",
     "evalue": "order() takes 2 positional arguments but 3 were given",
     "output_type": "error",
     "traceback": [
      "\u001b[1;31m---------------------------------------------------------------------------\u001b[0m",
      "\u001b[1;31mTypeError\u001b[0m                                 Traceback (most recent call last)",
      "Cell \u001b[1;32mIn[129], line 2\u001b[0m\n\u001b[0;32m      1\u001b[0m \u001b[38;5;66;03m# 12. \u001b[39;00m\n\u001b[1;32m----> 2\u001b[0m \u001b[43morder\u001b[49m\u001b[43m(\u001b[49m\u001b[38;5;124;43m\"\u001b[39;49m\u001b[38;5;124;43mShoes\u001b[39;49m\u001b[38;5;124;43m\"\u001b[39;49m\u001b[43m,\u001b[49m\u001b[43m \u001b[49m\u001b[38;5;241;43m2\u001b[39;49m\u001b[43m,\u001b[49m\u001b[43m \u001b[49m\u001b[38;5;241;43m10\u001b[39;49m\u001b[43m)\u001b[49m\n",
      "\u001b[1;31mTypeError\u001b[0m: order() takes 2 positional arguments but 3 were given"
     ]
    }
   ],
   "source": [
    "# 12. \n",
    "order(\"Shoes\", 2, 10)"
   ]
  },
  {
   "cell_type": "code",
   "execution_count": 130,
   "metadata": {},
   "outputs": [
    {
     "name": "stdout",
     "output_type": "stream",
     "text": [
      "a = 1, b = 2, c = 20\n",
      "args = (3, 4, 5)\n",
      "kwargs = {'x': 100, 'y': 200}\n"
     ]
    }
   ],
   "source": [
    "# 13. \n",
    "def complex_func(a, b, /, *args, c=10, **kwargs):\n",
    "    print(f\"a = {a}, b = {b}, c = {c}\")\n",
    "    print(f\"args = {args}\")\n",
    "    print(f\"kwargs = {kwargs}\")\n",
    "\n",
    "complex_func(1, 2, 3, 4, 5, c=20, x=100, y=200)"
   ]
  },
  {
   "cell_type": "code",
   "execution_count": 131,
   "metadata": {},
   "outputs": [
    {
     "ename": "TypeError",
     "evalue": "complex_func() missing 2 required positional arguments: 'a' and 'b'",
     "output_type": "error",
     "traceback": [
      "\u001b[1;31m---------------------------------------------------------------------------\u001b[0m",
      "\u001b[1;31mTypeError\u001b[0m                                 Traceback (most recent call last)",
      "Cell \u001b[1;32mIn[131], line 2\u001b[0m\n\u001b[0;32m      1\u001b[0m \u001b[38;5;66;03m# 14. \u001b[39;00m\n\u001b[1;32m----> 2\u001b[0m \u001b[43mcomplex_func\u001b[49m\u001b[43m(\u001b[49m\u001b[43ma\u001b[49m\u001b[38;5;241;43m=\u001b[39;49m\u001b[38;5;241;43m1\u001b[39;49m\u001b[43m,\u001b[49m\u001b[43m \u001b[49m\u001b[43mb\u001b[49m\u001b[38;5;241;43m=\u001b[39;49m\u001b[38;5;241;43m2\u001b[39;49m\u001b[43m)\u001b[49m\n",
      "\u001b[1;31mTypeError\u001b[0m: complex_func() missing 2 required positional arguments: 'a' and 'b'"
     ]
    }
   ],
   "source": [
    "# 14. \n",
    "complex_func(a=1, b=2)"
   ]
  },
  {
   "cell_type": "code",
   "execution_count": 132,
   "metadata": {},
   "outputs": [
    {
     "name": "stdout",
     "output_type": "stream",
     "text": [
      "a = 1, b = 2, c = 10\n",
      "args = ()\n",
      "kwargs = {}\n"
     ]
    }
   ],
   "source": [
    "complex_func(1,2)"
   ]
  },
  {
   "cell_type": "code",
   "execution_count": null,
   "metadata": {},
   "outputs": [],
   "source": [
    "# 15. \n",
    "def func(a, b):\n",
    "    return a * b\n",
    "\n",
    "print(func(2, \"Hello\"))"
   ]
  },
  {
   "cell_type": "code",
   "execution_count": 136,
   "metadata": {},
   "outputs": [
    {
     "name": "stdout",
     "output_type": "stream",
     "text": [
      "[0]\n",
      "[0, 1]\n",
      "[0]\n",
      "[0, 1, 2]\n",
      "[0]\n"
     ]
    }
   ],
   "source": [
    "# 16. \n",
    "def example(x=[]):      # default arguments are created only during function defination\n",
    "    x.append(len(x))\n",
    "    return x\n",
    "\n",
    "print(example())\n",
    "print(example())\n",
    "print(example([]))\n",
    "print(example())\n",
    "print(example([]))"
   ]
  },
  {
   "cell_type": "code",
   "execution_count": 141,
   "metadata": {},
   "outputs": [
    {
     "name": "stdout",
     "output_type": "stream",
     "text": [
      "{1: 'A', 2: 'B', 3: 'C'}\n",
      "{1: 'A', 2: 'B', 3: 'C', 4: 'C'}\n",
      "{2: 'C'}\n",
      "{1: 'A', 2: 'B', 3: 'C', 4: 'C', 5: 'C'}\n"
     ]
    }
   ],
   "source": [
    "# 17. \n",
    "def check_value(key, data={1: \"A\", 2: \"B\"}):\n",
    "    data[key] = \"C\"\n",
    "    return data\n",
    "\n",
    "print(check_value(3))\n",
    "print(check_value(4))\n",
    "print(check_value(2, {}))\n",
    "print(check_value(5))"
   ]
  },
  {
   "cell_type": "code",
   "execution_count": null,
   "metadata": {},
   "outputs": [],
   "source": [
    "# 18. \n",
    "def modify_list(lst):\n",
    "    lst.append(100)\n",
    "    return lst\n",
    "\n",
    "numbers = [1, 2, 3]\n",
    "print(modify_list(numbers))\n",
    "print(numbers)"
   ]
  },
  {
   "cell_type": "code",
   "execution_count": null,
   "metadata": {},
   "outputs": [],
   "source": [
    "# 19.\n",
    "def modify_list(lst):\n",
    "    lst = lst.copy()  \n",
    "    lst.append(100)\n",
    "    return lst\n",
    "\n",
    "numbers = [1, 2, 3]\n",
    "print(modify_list(numbers))  \n",
    "print(numbers)  "
   ]
  },
  {
   "cell_type": "markdown",
   "metadata": {
    "jp-MarkdownHeadingCollapsed": true
   },
   "source": [
    "# pass\n",
    "\n",
    "- occupies a space\n",
    "- does nothing"
   ]
  },
  {
   "cell_type": "code",
   "execution_count": 143,
   "metadata": {},
   "outputs": [],
   "source": [
    "def load_data():\n",
    "    pass"
   ]
  },
  {
   "cell_type": "code",
   "execution_count": 146,
   "metadata": {},
   "outputs": [],
   "source": [
    "load_data()"
   ]
  },
  {
   "cell_type": "code",
   "execution_count": 145,
   "metadata": {},
   "outputs": [],
   "source": [
    "def load_data():\n",
    "    ..."
   ]
  },
  {
   "cell_type": "code",
   "execution_count": 148,
   "metadata": {},
   "outputs": [
    {
     "ename": "SyntaxError",
     "evalue": "incomplete input (2213876541.py, line 1)",
     "output_type": "error",
     "traceback": [
      "\u001b[1;36m  Cell \u001b[1;32mIn[148], line 1\u001b[1;36m\u001b[0m\n\u001b[1;33m    for i in range(10):\u001b[0m\n\u001b[1;37m                       ^\u001b[0m\n\u001b[1;31mSyntaxError\u001b[0m\u001b[1;31m:\u001b[0m incomplete input\n"
     ]
    }
   ],
   "source": [
    "for i in range(10):\n",
    "    pass"
   ]
  },
  {
   "cell_type": "markdown",
   "metadata": {
    "jp-MarkdownHeadingCollapsed": true
   },
   "source": [
    "# Docstring:\n",
    "The string statement followed by the function name is called the docstring\n",
    "(shortform for documentation string). It provides a convenient way of associating documentation with Python modules, functions, classes.\n",
    "It is specified in the source code that is used like a comment, in order to document a specific segment of code."
   ]
  },
  {
   "cell_type": "code",
   "execution_count": 149,
   "metadata": {},
   "outputs": [
    {
     "name": "stdout",
     "output_type": "stream",
     "text": [
      "Help on built-in function max in module builtins:\n",
      "\n",
      "max(...)\n",
      "    max(iterable, *[, default=obj, key=func]) -> value\n",
      "    max(arg1, arg2, *args, *[, key=func]) -> value\n",
      "    \n",
      "    With a single iterable argument, return its biggest item. The\n",
      "    default keyword-only argument specifies an object to return if\n",
      "    the provided iterable is empty.\n",
      "    With two or more arguments, return the largest argument.\n",
      "\n"
     ]
    }
   ],
   "source": [
    "help(max)"
   ]
  },
  {
   "cell_type": "code",
   "execution_count": 150,
   "metadata": {},
   "outputs": [
    {
     "name": "stdout",
     "output_type": "stream",
     "text": [
      "Help on method_descriptor:\n",
      "\n",
      "startswith(...)\n",
      "    S.startswith(prefix[, start[, end]]) -> bool\n",
      "    \n",
      "    Return True if S starts with the specified prefix, False otherwise.\n",
      "    With optional start, test S beginning at that position.\n",
      "    With optional end, stop comparing S at that position.\n",
      "    prefix can also be a tuple of strings to try.\n",
      "\n"
     ]
    }
   ],
   "source": [
    "help(str.startswith)"
   ]
  },
  {
   "cell_type": "code",
   "execution_count": 152,
   "metadata": {},
   "outputs": [
    {
     "name": "stdout",
     "output_type": "stream",
     "text": [
      "Help on function my_min in module __main__:\n",
      "\n",
      "my_min(*args)\n",
      "\n"
     ]
    }
   ],
   "source": [
    "help(my_min)"
   ]
  },
  {
   "cell_type": "code",
   "execution_count": 157,
   "metadata": {},
   "outputs": [],
   "source": [
    "def my_max(*args):\n",
    "    \"\"\"\n",
    "    This accepts variable number of arguments\n",
    "    Returns the largest number out of the given numbers\n",
    "    \"\"\"\n",
    "    big = args[0]\n",
    "    for num in args[1:]:\n",
    "        if num > big:\n",
    "            big = num\n",
    "    return big"
   ]
  },
  {
   "cell_type": "code",
   "execution_count": 158,
   "metadata": {},
   "outputs": [
    {
     "name": "stdout",
     "output_type": "stream",
     "text": [
      "Help on function my_max in module __main__:\n",
      "\n",
      "my_max(*args)\n",
      "    This accepts variable number of arguments\n",
      "    Returns the largest number out of the given numbers\n",
      "\n"
     ]
    }
   ],
   "source": [
    "help(my_max)"
   ]
  },
  {
   "cell_type": "code",
   "execution_count": null,
   "metadata": {},
   "outputs": [],
   "source": [
    "max(10,50,30,40)"
   ]
  },
  {
   "cell_type": "code",
   "execution_count": null,
   "metadata": {},
   "outputs": [],
   "source": [
    "my_max(10,50,30,40)"
   ]
  },
  {
   "cell_type": "code",
   "execution_count": null,
   "metadata": {},
   "outputs": [],
   "source": [
    "help(my_max)"
   ]
  },
  {
   "cell_type": "markdown",
   "metadata": {},
   "source": [
    "# Practice programs"
   ]
  },
  {
   "cell_type": "code",
   "execution_count": 159,
   "metadata": {},
   "outputs": [
    {
     "data": {
      "text/plain": [
       "157366"
      ]
     },
     "execution_count": 159,
     "metadata": {},
     "output_type": "execute_result"
    }
   ],
   "source": [
    "# 1. WAP to sum all the elements sales\n",
    "\n",
    "sales = [78000,65000,9800,4566]\n",
    "sum(sales)"
   ]
  },
  {
   "cell_type": "code",
   "execution_count": 160,
   "metadata": {},
   "outputs": [
    {
     "data": {
      "text/plain": [
       "(78000, 4566, 39341.5)"
      ]
     },
     "execution_count": 160,
     "metadata": {},
     "output_type": "execute_result"
    }
   ],
   "source": [
    "# 2. WAP to find the maximum and minimum sales, average sales\n",
    "\n",
    "sales = [78000,65000,9800,4566]\n",
    "max(sales),min(sales),average(sales)"
   ]
  },
  {
   "cell_type": "code",
   "execution_count": 161,
   "metadata": {},
   "outputs": [],
   "source": [
    "# 3.Write a Python function that takes a list and returns a new list with\n",
    "# unique elements of the first list.\n",
    "\n",
    "def get_unique(x):\n",
    "    if isinstance(x,list):\n",
    "        return list(set(x))\n",
    "    else:\n",
    "        print(\"Input not a list\")\n",
    "        "
   ]
  },
  {
   "cell_type": "code",
   "execution_count": 162,
   "metadata": {},
   "outputs": [
    {
     "data": {
      "text/plain": [
       "[40, 10, 50, 20, 60, 30]"
      ]
     },
     "execution_count": 162,
     "metadata": {},
     "output_type": "execute_result"
    }
   ],
   "source": [
    "numbers = [10,20,10,40,50,60,30,20]\n",
    "get_unique(numbers)"
   ]
  },
  {
   "cell_type": "code",
   "execution_count": 163,
   "metadata": {},
   "outputs": [
    {
     "name": "stdout",
     "output_type": "stream",
     "text": [
      "Input not a list\n"
     ]
    }
   ],
   "source": [
    "numbers = (10,20,10,40,50,60,30,20)\n",
    "get_unique(numbers)"
   ]
  },
  {
   "cell_type": "code",
   "execution_count": 165,
   "metadata": {},
   "outputs": [
    {
     "data": {
      "text/plain": [
       "{1: 'a', 2: 10, 30: 4}"
      ]
     },
     "execution_count": 165,
     "metadata": {},
     "output_type": "execute_result"
    }
   ],
   "source": [
    "# 4.Write a Python function to merge two Python dictionaries\n",
    "\n",
    "def merge_dict(dict1,dict2):\n",
    "    # dict1.update(dict2)\n",
    "    # return dict1\n",
    "\n",
    "    return dict1 | dict2\n",
    "\n",
    "merge_dict({1:'a',2:10},{30:4})"
   ]
  },
  {
   "cell_type": "code",
   "execution_count": null,
   "metadata": {},
   "outputs": [],
   "source": [
    "# 5. Write a Python function to remove a key from a dictionary.\n",
    "\n"
   ]
  },
  {
   "cell_type": "code",
   "execution_count": 166,
   "metadata": {},
   "outputs": [
    {
     "data": {
      "text/plain": [
       "'amavuN'"
      ]
     },
     "execution_count": 166,
     "metadata": {},
     "output_type": "execute_result"
    }
   ],
   "source": [
    "# 6. reverse of string\n",
    "def reverse_string(text):\n",
    "    return text[::-1]\n",
    "\n",
    "reverse_string(\"Nuvama\")"
   ]
  },
  {
   "cell_type": "code",
   "execution_count": 170,
   "metadata": {},
   "outputs": [
    {
     "data": {
      "text/plain": [
       "True"
      ]
     },
     "execution_count": 170,
     "metadata": {},
     "output_type": "execute_result"
    }
   ],
   "source": [
    "# 7. pallindrome\n",
    "\n",
    "def check_pallindrome(text):\n",
    "    return text.lower() == reverse_string(text).lower()\n",
    "\n",
    "check_pallindrome('Malayalam')"
   ]
  },
  {
   "cell_type": "markdown",
   "metadata": {},
   "source": [
    "# Lambda Functions/ Anonymous function\n",
    "\n",
    "One line function:\n",
    "- n no. of arguments\n",
    "- one expression\n",
    "\n",
    "**Syntax:**\n",
    "```\n",
    "  lambda arguments: expression\n",
    "```"
   ]
  },
  {
   "cell_type": "code",
   "execution_count": 171,
   "metadata": {},
   "outputs": [],
   "source": [
    "def cube(x):\n",
    "    return x**3"
   ]
  },
  {
   "cell_type": "code",
   "execution_count": 172,
   "metadata": {},
   "outputs": [
    {
     "data": {
      "text/plain": [
       "27"
      ]
     },
     "execution_count": 172,
     "metadata": {},
     "output_type": "execute_result"
    }
   ],
   "source": [
    "cube(3)"
   ]
  },
  {
   "cell_type": "code",
   "execution_count": 174,
   "metadata": {},
   "outputs": [
    {
     "data": {
      "text/plain": [
       "27"
      ]
     },
     "execution_count": 174,
     "metadata": {},
     "output_type": "execute_result"
    }
   ],
   "source": [
    "cube_lambda = lambda x: x**3\n",
    "cube_lambda(3)"
   ]
  },
  {
   "cell_type": "code",
   "execution_count": 175,
   "metadata": {},
   "outputs": [
    {
     "data": {
      "text/plain": [
       "60"
      ]
     },
     "execution_count": 175,
     "metadata": {},
     "output_type": "execute_result"
    }
   ],
   "source": [
    "add = lambda a,b : a+b\n",
    "add(10,50)"
   ]
  },
  {
   "cell_type": "code",
   "execution_count": null,
   "metadata": {},
   "outputs": [],
   "source": []
  },
  {
   "cell_type": "markdown",
   "metadata": {},
   "source": [
    "## filter()"
   ]
  },
  {
   "cell_type": "code",
   "execution_count": 178,
   "metadata": {},
   "outputs": [
    {
     "data": {
      "text/plain": [
       "[0, 2, 4, 6, 8]"
      ]
     },
     "execution_count": 178,
     "metadata": {},
     "output_type": "execute_result"
    }
   ],
   "source": [
    "def get_even(x):\n",
    "    return x%2 == 0\n",
    "\n",
    "list(filter(get_even, range(10)))"
   ]
  },
  {
   "cell_type": "code",
   "execution_count": 179,
   "metadata": {},
   "outputs": [
    {
     "data": {
      "text/plain": [
       "[0, 2, 4, 6, 8]"
      ]
     },
     "execution_count": 179,
     "metadata": {},
     "output_type": "execute_result"
    }
   ],
   "source": [
    "list(filter(lambda x:x%2==0, range(10)))"
   ]
  },
  {
   "cell_type": "code",
   "execution_count": null,
   "metadata": {},
   "outputs": [],
   "source": []
  },
  {
   "cell_type": "code",
   "execution_count": 176,
   "metadata": {},
   "outputs": [
    {
     "name": "stdout",
     "output_type": "stream",
     "text": [
      "Help on class filter in module builtins:\n",
      "\n",
      "class filter(object)\n",
      " |  filter(function or None, iterable) --> filter object\n",
      " |  \n",
      " |  Return an iterator yielding those items of iterable for which function(item)\n",
      " |  is true. If function is None, return the items that are true.\n",
      " |  \n",
      " |  Methods defined here:\n",
      " |  \n",
      " |  __getattribute__(self, name, /)\n",
      " |      Return getattr(self, name).\n",
      " |  \n",
      " |  __iter__(self, /)\n",
      " |      Implement iter(self).\n",
      " |  \n",
      " |  __next__(self, /)\n",
      " |      Implement next(self).\n",
      " |  \n",
      " |  __reduce__(...)\n",
      " |      Return state information for pickling.\n",
      " |  \n",
      " |  ----------------------------------------------------------------------\n",
      " |  Static methods defined here:\n",
      " |  \n",
      " |  __new__(*args, **kwargs) from builtins.type\n",
      " |      Create and return a new object.  See help(type) for accurate signature.\n",
      "\n"
     ]
    }
   ],
   "source": [
    "help(filter)"
   ]
  },
  {
   "cell_type": "code",
   "execution_count": 182,
   "metadata": {},
   "outputs": [
    {
     "name": "stdout",
     "output_type": "stream",
     "text": [
      "0\n",
      "3\n",
      "6\n",
      "9\n",
      "12\n",
      "15\n",
      "18\n",
      "21\n",
      "24\n",
      "27\n",
      "30\n"
     ]
    }
   ],
   "source": [
    "# WAP to get all numbers that are divisible by 3 between 0 to 30\n",
    "for i in filter(lambda x : x%3==0,range(31)):\n",
    "    print(i)"
   ]
  },
  {
   "cell_type": "code",
   "execution_count": 183,
   "metadata": {},
   "outputs": [
    {
     "data": {
      "text/plain": [
       "[0, 3, 6, 9, 12, 15, 18, 21, 24, 27, 30]"
      ]
     },
     "execution_count": 183,
     "metadata": {},
     "output_type": "execute_result"
    }
   ],
   "source": [
    "list(filter(lambda x : x%3==0,range(31)))"
   ]
  },
  {
   "cell_type": "code",
   "execution_count": 184,
   "metadata": {},
   "outputs": [
    {
     "data": {
      "text/plain": [
       "[0, 15, 30, 45, 60, 75, 90]"
      ]
     },
     "execution_count": 184,
     "metadata": {},
     "output_type": "execute_result"
    }
   ],
   "source": [
    "# WAF to get all numbers between 0 to 100 that are divisible by 3 and 5 both\n",
    "list(filter(lambda x: x%3 == 0 and x%5 == 0,range(101)))"
   ]
  },
  {
   "cell_type": "code",
   "execution_count": 188,
   "metadata": {},
   "outputs": [
    {
     "data": {
      "text/plain": [
       "['Sam', 'sarah']"
      ]
     },
     "execution_count": 188,
     "metadata": {},
     "output_type": "execute_result"
    }
   ],
   "source": [
    "# From the given students_list get all students whose name startswith s\n",
    "students_list = ['Sam','sarah','Joel']\n",
    "list(filter(lambda x: x[0].lower() == 's', students_list))"
   ]
  },
  {
   "cell_type": "code",
   "execution_count": 189,
   "metadata": {},
   "outputs": [
    {
     "data": {
      "text/plain": [
       "[1, '.', ' ', 20, True]"
      ]
     },
     "execution_count": 189,
     "metadata": {},
     "output_type": "execute_result"
    }
   ],
   "source": [
    "# If function is None, return the items that are true.\n",
    "list(filter(None, [1,0,False,\".\",\" \",20,\"\", True]))"
   ]
  },
  {
   "cell_type": "markdown",
   "metadata": {},
   "source": [
    "## map()"
   ]
  },
  {
   "cell_type": "markdown",
   "metadata": {},
   "source": [
    "![image.png](data:image/png;base64,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)"
   ]
  },
  {
   "cell_type": "code",
   "execution_count": 1,
   "metadata": {},
   "outputs": [
    {
     "name": "stdout",
     "output_type": "stream",
     "text": [
      "Help on class map in module builtins:\n",
      "\n",
      "class map(object)\n",
      " |  map(func, *iterables) --> map object\n",
      " |  \n",
      " |  Make an iterator that computes the function using arguments from\n",
      " |  each of the iterables.  Stops when the shortest iterable is exhausted.\n",
      " |  \n",
      " |  Methods defined here:\n",
      " |  \n",
      " |  __getattribute__(self, name, /)\n",
      " |      Return getattr(self, name).\n",
      " |  \n",
      " |  __iter__(self, /)\n",
      " |      Implement iter(self).\n",
      " |  \n",
      " |  __next__(self, /)\n",
      " |      Implement next(self).\n",
      " |  \n",
      " |  __reduce__(...)\n",
      " |      Return state information for pickling.\n",
      " |  \n",
      " |  ----------------------------------------------------------------------\n",
      " |  Static methods defined here:\n",
      " |  \n",
      " |  __new__(*args, **kwargs) from builtins.type\n",
      " |      Create and return a new object.  See help(type) for accurate signature.\n",
      "\n"
     ]
    }
   ],
   "source": [
    "help(map)"
   ]
  },
  {
   "cell_type": "code",
   "execution_count": 11,
   "metadata": {},
   "outputs": [
    {
     "data": {
      "text/plain": [
       "[10, 20, 30, 40]"
      ]
     },
     "execution_count": 11,
     "metadata": {},
     "output_type": "execute_result"
    }
   ],
   "source": [
    "numbers = ['10','20','30','40']\n",
    "# new_list = []\n",
    "# for num in numbers:\n",
    "#     new_list.append(int(num))\n",
    "# new_list\n",
    "\n",
    "list(map(lambda x:int(x), numbers))"
   ]
  },
  {
   "cell_type": "code",
   "execution_count": 13,
   "metadata": {},
   "outputs": [
    {
     "data": {
      "text/plain": [
       "[6, 9, 14, 21, 30]"
      ]
     },
     "execution_count": 13,
     "metadata": {},
     "output_type": "execute_result"
    }
   ],
   "source": [
    "# WAF that maps [0,1,2,3,4] to a new list: \n",
    "# the mapping relation is f(x) = x^2+2x+6\n",
    "\n",
    "list(map(lambda x:x**2+2*x+6,[0,1,2,3,4]))"
   ]
  },
  {
   "cell_type": "code",
   "execution_count": null,
   "metadata": {},
   "outputs": [],
   "source": [
    "list(map(int, ['10','20','30','40']))"
   ]
  },
  {
   "cell_type": "code",
   "execution_count": 15,
   "metadata": {},
   "outputs": [
    {
     "data": {
      "text/plain": [
       "[1, 4, 9, 16, 25, 36, 49, 64, 81, 100]"
      ]
     },
     "execution_count": 15,
     "metadata": {},
     "output_type": "execute_result"
    }
   ],
   "source": [
    "# WAF to find squares of the numbers till 10\n",
    "\n",
    "list(map(lambda x:x**2,range(1,11)))"
   ]
  },
  {
   "cell_type": "code",
   "execution_count": 16,
   "metadata": {},
   "outputs": [
    {
     "data": {
      "text/plain": [
       "['Mr. Sam', 'Mr. sarah', 'Mr. Joel']"
      ]
     },
     "execution_count": 16,
     "metadata": {},
     "output_type": "execute_result"
    }
   ],
   "source": [
    "# get a newlist based on given list where add Student at the start of every student name\n",
    "students_list = ['Sam','sarah','Joel']\n",
    "\n",
    "list(map(lambda x: \"Mr. \" + x, students_list))"
   ]
  },
  {
   "cell_type": "code",
   "execution_count": 19,
   "metadata": {},
   "outputs": [
    {
     "name": "stdin",
     "output_type": "stream",
     "text": [
      "pass the numbers seperated by commas 1,2,3,4\n"
     ]
    },
    {
     "data": {
      "text/plain": [
       "[1, 2, 3, 4]"
      ]
     },
     "execution_count": 19,
     "metadata": {},
     "output_type": "execute_result"
    }
   ],
   "source": [
    "list(map(int,input('pass the numbers seperated by commas:').split(',')))"
   ]
  },
  {
   "cell_type": "markdown",
   "metadata": {},
   "source": [
    "## sorted"
   ]
  },
  {
   "cell_type": "code",
   "execution_count": 190,
   "metadata": {},
   "outputs": [
    {
     "name": "stdout",
     "output_type": "stream",
     "text": [
      "Help on built-in function sorted in module builtins:\n",
      "\n",
      "sorted(iterable, /, *, key=None, reverse=False)\n",
      "    Return a new list containing all items from the iterable in ascending order.\n",
      "    \n",
      "    A custom key function can be supplied to customize the sort order, and the\n",
      "    reverse flag can be set to request the result in descending order.\n",
      "\n"
     ]
    }
   ],
   "source": [
    "help(sorted)"
   ]
  },
  {
   "cell_type": "code",
   "execution_count": 192,
   "metadata": {},
   "outputs": [
    {
     "data": {
      "text/plain": [
       "[('Jim', 2, 10), ('John', 10, 50), ('xyz', 20, 20), ('Sara', 60, 30)]"
      ]
     },
     "execution_count": 192,
     "metadata": {},
     "output_type": "execute_result"
    }
   ],
   "source": [
    "# WAP to sort the given data based on 2nd element\n",
    "data = [('John',10,50),('Sara',60,30),('Jim',2,10), ('xyz',20,20)]\n",
    "sorted(data, key = lambda x:x[1])"
   ]
  },
  {
   "cell_type": "code",
   "execution_count": 193,
   "metadata": {},
   "outputs": [
    {
     "data": {
      "text/plain": [
       "[(30, 1), (3, 5), (10, 20)]"
      ]
     },
     "execution_count": 193,
     "metadata": {},
     "output_type": "execute_result"
    }
   ],
   "source": [
    "# WAP to sort the given list in descending order based on 2nd element\n",
    "data = [(10,20),(3,5), (30,1)]\n",
    "sorted(data, key = lambda x:x[-1], reverse = False)"
   ]
  },
  {
   "cell_type": "code",
   "execution_count": 195,
   "metadata": {},
   "outputs": [
    {
     "data": {
      "text/plain": [
       "{'Poojita': 90, 'Prasad': 60, 'Santosh': 45, 'Suraj': 50}"
      ]
     },
     "execution_count": 195,
     "metadata": {},
     "output_type": "execute_result"
    }
   ],
   "source": [
    "# Write a Python program to sort the students based on name\n",
    "\n",
    "marks_dict = {'Suraj' : 50, 'Prasad' : 60, 'Santosh' : 45, 'Poojita' : 90}\n",
    "dict(sorted(marks_dict.items()))"
   ]
  },
  {
   "cell_type": "code",
   "execution_count": 196,
   "metadata": {},
   "outputs": [
    {
     "data": {
      "text/plain": [
       "{'Santosh': 45, 'Suraj': 50, 'Prasad': 60, 'Poojita': 90}"
      ]
     },
     "execution_count": 196,
     "metadata": {},
     "output_type": "execute_result"
    }
   ],
   "source": [
    "# Write a Python program to sort the students based on marks\n",
    "\n",
    "marks_dict = {'Suraj' : 50, 'Prasad' : 60, 'Santosh' : 45, 'Poojita' : 90}\n",
    "dict(sorted(marks_dict.items(), key = lambda x: x[1]))"
   ]
  },
  {
   "cell_type": "code",
   "execution_count": 197,
   "metadata": {},
   "outputs": [
    {
     "data": {
      "text/plain": [
       "{'Danny': 78, 'John': 86, 'Sachin': 560}"
      ]
     },
     "execution_count": 197,
     "metadata": {},
     "output_type": "execute_result"
    }
   ],
   "source": [
    "# WAP to sort a dicionary by scores in reverse order\n",
    "student_scores = {'John':86,\n",
    "                 'Sachin':560,\n",
    "                 'Danny':78}\n",
    "dict(sorted(student_scores.items(), key = lambda x: x[1], reverse = False))"
   ]
  },
  {
   "cell_type": "code",
   "execution_count": null,
   "metadata": {},
   "outputs": [],
   "source": [
    "# .Write a Python program to get the top three items in a shop.\n",
    "# Sample data: {'lux': 45.50, 'santoor':35, 'dove': 41.30, 'camay':55, 'liril': 24}\n",
    "# Expected Output:\n",
    "# camay 55\n",
    "# lux 45.5\n",
    "# dove 41.3\n",
    "data = {'lux': 45.50, 'santoor':35, 'dove': 41.30, 'camay':55, 'liril': 24}\n"
   ]
  },
  {
   "cell_type": "code",
   "execution_count": 199,
   "metadata": {},
   "outputs": [
    {
     "data": {
      "text/plain": [
       "[{'Subject': 'Maths', 'Marks': 60},\n",
       " {'Subject': 'Science', 'Marks': 70},\n",
       " {'Subject': 'English', 'Marks': 80}]"
      ]
     },
     "execution_count": 199,
     "metadata": {},
     "output_type": "execute_result"
    }
   ],
   "source": [
    "# Write a Python program to sort a list of dictionaries based on marks\n",
    "subject_marks = [{'Subject':'English','Marks':80},\n",
    "                 {'Subject':'Maths','Marks':60},\n",
    "                 {'Subject':'Science','Marks':70}]\n",
    "\n",
    "sorted(subject_marks, key = lambda x:x['Marks'])"
   ]
  },
  {
   "cell_type": "code",
   "execution_count": null,
   "metadata": {},
   "outputs": [],
   "source": []
  }
 ],
 "metadata": {
  "colab": {
   "collapsed_sections": [
    "BgH0UIIGFYdz",
    "Y870IYV5CLrY",
    "NzJ1XgJJq898",
    "U-gQvJgBxox6",
    "6UAnxgNfSq_8",
    "rSbSQJHwSwE1",
    "k8vzVPClQlW0",
    "3rbSJNDRekAI",
    "jvitpdZGELcS",
    "8nAsEjgeS0E3",
    "l-O80MYZSmv9",
    "LbFg8_mPwaWF",
    "3bxcCfGJzlaH",
    "iMp3uyR0OzEl",
    "BR4gQCvPfYTe",
    "C-H7FDoIZxIA",
    "2t8QJ0BHZ5R-",
    "PMSBdeh-GwPs",
    "lQx0bB5oV_h6",
    "lgYlQP5GP4la",
    "BRhV_mMF2908",
    "Zq1H1SRz5KJZ",
    "h6f_bk0BdaSc"
   ],
   "provenance": [],
   "toc_visible": true
  },
  "kernelspec": {
   "display_name": "Python 3 (ipykernel)",
   "language": "python",
   "name": "python3"
  },
  "language_info": {
   "codemirror_mode": {
    "name": "ipython",
    "version": 3
   },
   "file_extension": ".py",
   "mimetype": "text/x-python",
   "name": "python",
   "nbconvert_exporter": "python",
   "pygments_lexer": "ipython3",
   "version": "3.10.11"
  }
 },
 "nbformat": 4,
 "nbformat_minor": 4
}
