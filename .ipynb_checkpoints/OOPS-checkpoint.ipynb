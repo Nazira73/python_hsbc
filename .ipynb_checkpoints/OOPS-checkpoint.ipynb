{
 "cells": [
  {
   "cell_type": "markdown",
   "metadata": {
    "id": "mb7T30dJb6RQ"
   },
   "source": [
    "# OOPs (Object-oriented programming)\n",
    "- Most modern programming languages use OOPs, so does python\n",
    "- OOP is a programming pattern based on the concept of objects.\n",
    "- We will build **Employee management System** for understanding each building blocks of oops"
   ]
  },
  {
   "cell_type": "markdown",
   "metadata": {
    "id": "dNcE4IgYb6RS",
    "jp-MarkdownHeadingCollapsed": true
   },
   "source": [
    "## Class :\n",
    "- Is a blueprint for creating instances (objects)\n",
    "- Class is also said to be a user-defined datatype"
   ]
  },
  {
   "cell_type": "code",
   "execution_count": null,
   "metadata": {},
   "outputs": [],
   "source": []
  },
  {
   "cell_type": "code",
   "execution_count": null,
   "metadata": {},
   "outputs": [],
   "source": []
  },
  {
   "cell_type": "code",
   "execution_count": null,
   "metadata": {},
   "outputs": [],
   "source": []
  },
  {
   "cell_type": "markdown",
   "metadata": {},
   "source": [
    "- **Constructor:** "
   ]
  },
  {
   "cell_type": "code",
   "execution_count": null,
   "metadata": {},
   "outputs": [],
   "source": []
  },
  {
   "cell_type": "code",
   "execution_count": null,
   "metadata": {},
   "outputs": [],
   "source": []
  },
  {
   "cell_type": "code",
   "execution_count": null,
   "metadata": {},
   "outputs": [],
   "source": []
  },
  {
   "cell_type": "code",
   "execution_count": null,
   "metadata": {},
   "outputs": [],
   "source": []
  },
  {
   "cell_type": "code",
   "execution_count": null,
   "metadata": {},
   "outputs": [],
   "source": []
  },
  {
   "cell_type": "code",
   "execution_count": null,
   "metadata": {},
   "outputs": [],
   "source": []
  },
  {
   "cell_type": "code",
   "execution_count": null,
   "metadata": {},
   "outputs": [],
   "source": []
  },
  {
   "cell_type": "code",
   "execution_count": null,
   "metadata": {},
   "outputs": [],
   "source": []
  },
  {
   "cell_type": "markdown",
   "metadata": {},
   "source": [
    "## Attributes and Methods"
   ]
  },
  {
   "cell_type": "markdown",
   "metadata": {
    "colab": {
     "base_uri": "https://localhost:8080/"
    },
    "executionInfo": {
     "elapsed": 4,
     "status": "ok",
     "timestamp": 1685679469241,
     "user": {
      "displayName": "naz nazira",
      "userId": "06694449877078577923"
     },
     "user_tz": -330
    },
    "id": "zfpHB3vay454",
    "outputId": "ba2c0b37-c0bf-4424-fe67-2405c2cd5aa5"
   },
   "source": [
    "- Every class has its own attributes (variables)\n",
    "- Every class has its own methods (Functions)"
   ]
  },
  {
   "cell_type": "code",
   "execution_count": null,
   "metadata": {},
   "outputs": [],
   "source": []
  },
  {
   "cell_type": "code",
   "execution_count": null,
   "metadata": {},
   "outputs": [],
   "source": []
  },
  {
   "cell_type": "markdown",
   "metadata": {
    "colab": {
     "base_uri": "https://localhost:8080/"
    },
    "executionInfo": {
     "elapsed": 3,
     "status": "ok",
     "timestamp": 1685679933440,
     "user": {
      "displayName": "naz nazira",
      "userId": "06694449877078577923"
     },
     "user_tz": -330
    },
    "id": "Mgzp-FDHwLwS",
    "jp-MarkdownHeadingCollapsed": true,
    "outputId": "c66db70a-f234-453d-f651-66e40963f684"
   },
   "source": [
    "### Types of Attributes\n",
    "\n",
    "1. **Class variable:** variables which are class specific\n",
    "2. **Instance variable:** Object /instance specific"
   ]
  },
  {
   "cell_type": "code",
   "execution_count": null,
   "metadata": {},
   "outputs": [],
   "source": []
  },
  {
   "cell_type": "code",
   "execution_count": null,
   "metadata": {},
   "outputs": [],
   "source": []
  },
  {
   "cell_type": "code",
   "execution_count": null,
   "metadata": {},
   "outputs": [],
   "source": []
  },
  {
   "cell_type": "code",
   "execution_count": null,
   "metadata": {},
   "outputs": [],
   "source": []
  },
  {
   "cell_type": "code",
   "execution_count": null,
   "metadata": {},
   "outputs": [],
   "source": []
  },
  {
   "cell_type": "code",
   "execution_count": null,
   "metadata": {},
   "outputs": [],
   "source": []
  },
  {
   "cell_type": "markdown",
   "metadata": {
    "id": "-5M6iSUwBbF5"
   },
   "source": [
    "### Types of methods\n",
    "- Instance method:  which takes instance as first element by default (self)\n",
    "- Class method:\n",
    "    - which takes class as first element by default (cls).\n",
    "    - has decorator @classmethod\n",
    "    - The class method can only access the class attributes but not the instance attributes.\n",
    "    - The class method can be called using ClassName.MethodName() and also using instance.\n",
    "- Static method:\n",
    "  - A method that has nothing to do with class variabl;e or instance variable.\n",
    "  - It should have a @staticmethod decorator at the top of the function\n",
    "  - If you put @staticmethod  then that method can be called via Instnces as well as class\n",
    "  - If you dont put @staticmethod then you can call that method only via class"
   ]
  },
  {
   "cell_type": "code",
   "execution_count": null,
   "metadata": {},
   "outputs": [],
   "source": []
  },
  {
   "cell_type": "code",
   "execution_count": null,
   "metadata": {},
   "outputs": [],
   "source": []
  },
  {
   "cell_type": "code",
   "execution_count": null,
   "metadata": {},
   "outputs": [],
   "source": []
  },
  {
   "cell_type": "code",
   "execution_count": null,
   "metadata": {},
   "outputs": [],
   "source": []
  },
  {
   "cell_type": "code",
   "execution_count": null,
   "metadata": {},
   "outputs": [],
   "source": []
  },
  {
   "cell_type": "code",
   "execution_count": null,
   "metadata": {},
   "outputs": [],
   "source": []
  },
  {
   "cell_type": "code",
   "execution_count": null,
   "metadata": {},
   "outputs": [],
   "source": []
  },
  {
   "cell_type": "code",
   "execution_count": null,
   "metadata": {},
   "outputs": [],
   "source": []
  },
  {
   "cell_type": "code",
   "execution_count": null,
   "metadata": {},
   "outputs": [],
   "source": []
  },
  {
   "cell_type": "code",
   "execution_count": null,
   "metadata": {},
   "outputs": [],
   "source": []
  },
  {
   "cell_type": "markdown",
   "metadata": {},
   "source": [
    "### Quick Questions"
   ]
  },
  {
   "cell_type": "code",
   "execution_count": null,
   "metadata": {},
   "outputs": [],
   "source": [
    "class A():\n",
    "\tdef __init__(self,count=100):\n",
    "\t\tself.count=count\n",
    "\n",
    "obj1=A()\n",
    "obj2=A(102)\n",
    "print(obj1.count)\n",
    "print(obj2.count)"
   ]
  },
  {
   "cell_type": "code",
   "execution_count": null,
   "metadata": {},
   "outputs": [],
   "source": [
    "class A:\n",
    "\tdef __init__(self):\n",
    "\t\tself.count=5\n",
    "\t\tself.count=count+1\n",
    "\n",
    "a=A()\n",
    "print(a.count)"
   ]
  },
  {
   "cell_type": "code",
   "execution_count": null,
   "metadata": {},
   "outputs": [],
   "source": [
    "class A:\n",
    "\tdef __init__(self,num):\n",
    "\t\tnum=3\n",
    "\t\tself.num=num\n",
    "        \n",
    "\tdef change(self):\n",
    "\t\tself.num=7\n",
    "\n",
    "a=A(5)\n",
    "print(a.num)\n",
    "a.change()\n",
    "print(a.num)\n"
   ]
  },
  {
   "cell_type": "code",
   "execution_count": null,
   "metadata": {},
   "outputs": [],
   "source": [
    "class A:\n",
    "    def __init__(self,b):\n",
    "        self.b=b\n",
    "    def display(self):\n",
    "        print(self.b)\n",
    "obj=A(\"Hello\")\n",
    "del obj\n",
    "print(obj)"
   ]
  },
  {
   "cell_type": "code",
   "execution_count": null,
   "metadata": {},
   "outputs": [],
   "source": [
    "class test:\n",
    "    def __init__(self):\n",
    "        self.variable = 'Old'\n",
    "        self.Change(self.variable)\n",
    "    def Change(self, var):\n",
    "        var = 'New'"
   ]
  },
  {
   "cell_type": "code",
   "execution_count": null,
   "metadata": {},
   "outputs": [],
   "source": [
    "obj=test()\n",
    "print(obj.variable)"
   ]
  },
  {
   "cell_type": "code",
   "execution_count": null,
   "metadata": {},
   "outputs": [],
   "source": [
    "def add(c,k):\n",
    "    c.test=c.test+1    # c.test = 2\n",
    "    k=k+1              # k = 1\n",
    "class A:\n",
    "    def __init__(self):\n",
    "        self.test = 0\n",
    "def main():\n",
    "    Count=A()\n",
    "    k=0\n",
    "    for i in range(0,5,2):\n",
    "        add(Count,k)\n",
    "    print(\"Count.test=\", Count.test)\n",
    "    print(\"k =\", k)\n",
    "main()"
   ]
  },
  {
   "cell_type": "markdown",
   "metadata": {},
   "source": [
    "### 1.Encapsulation\n",
    "\n",
    "- Encapsulation is the concept of **bundling data and methods within a single unit** (i.e. class) in such a way that any object other than that class itself will not be able to access the data members of that class.\n",
    "\n",
    "![image.png](data:image/png;base64,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)\n",
    "\n",
    "\n"
   ]
  },
  {
   "cell_type": "markdown",
   "metadata": {
    "id": "IoaJTP8wP1jf"
   },
   "source": [
    "##### Why encapsulation is needed"
   ]
  },
  {
   "cell_type": "code",
   "execution_count": 21,
   "metadata": {
    "colab": {
     "base_uri": "https://localhost:8080/"
    },
    "executionInfo": {
     "elapsed": 501,
     "status": "ok",
     "timestamp": 1688358858336,
     "user": {
      "displayName": "naz nazira",
      "userId": "06694449877078577923"
     },
     "user_tz": -330
    },
    "id": "sMCtzKMlP_ee",
    "outputId": "cca297d0-3303-4ed5-98bc-080346551e3b"
   },
   "outputs": [
    {
     "name": "stdout",
     "output_type": "stream",
     "text": [
      "1000000\n"
     ]
    }
   ],
   "source": [
    "class Finance:\n",
    "\n",
    "  def __init__(self):\n",
    "    self.revenue = 1000000\n",
    "    self.no_of_sales = 150\n",
    "\n",
    "gokul = Finance()\n",
    "\n",
    "class HR:\n",
    "  def __init__(self):\n",
    "    print(gokul.revenue)\n",
    "\n",
    "shehan = HR()\n",
    "\n",
    "# HR class is able to access data member (revenue) of Finance class with the help of f1 object, which is not right"
   ]
  },
  {
   "cell_type": "code",
   "execution_count": 22,
   "metadata": {
    "colab": {
     "base_uri": "https://localhost:8080/"
    },
    "executionInfo": {
     "elapsed": 432,
     "status": "ok",
     "timestamp": 1687589746661,
     "user": {
      "displayName": "naz nazira",
      "userId": "06694449877078577923"
     },
     "user_tz": -330
    },
    "id": "G_I5nenWRIB3",
    "outputId": "f7eccc01-24d9-4928-f09b-0455268a2df5"
   },
   "outputs": [],
   "source": [
    "# Furthermore we can modify it as well\n",
    "\n",
    "class Finance:\n",
    "\n",
    "  def __init__(self):\n",
    "    self.revenue = 1000000\n",
    "    self.no_of_sales = 150\n",
    "\n",
    "gokul = Finance()\n",
    "\n",
    "class HR:\n",
    "  def __init__(self):\n",
    "    gokul.revenue = 0\n",
    "\n",
    "shehan = HR()"
   ]
  },
  {
   "cell_type": "code",
   "execution_count": 23,
   "metadata": {},
   "outputs": [
    {
     "data": {
      "text/plain": [
       "{'revenue': 0, 'no_of_sales': 150}"
      ]
     },
     "execution_count": 23,
     "metadata": {},
     "output_type": "execute_result"
    }
   ],
   "source": [
    "gokul.__dict__"
   ]
  },
  {
   "cell_type": "markdown",
   "metadata": {
    "id": "XEFq8q4uRqmW"
   },
   "source": [
    "- To avoid this we need Encapsulation (i.e information hiding)\n",
    "- Encapsulation can be achieved by declaring data members and methods of the class as **private**, which can be done with the help of Access modifers\n",
    "- Access modifers makes the data/method public, private or protected\n",
    "    1. Public Member: accesible anywhere using object reference\n",
    "    2. Private Member: accessible within the current class\n",
    "    3. Protected Member: Accessible within the class and its sub-classes\n",
    "- But in Python, we don’t have direct access modifiers like public, private, and protected. We can achieve this by using single underscore and double underscores.\n",
    "    1. Public Member: Normal\n",
    "    2. Private Member: starts with __\n",
    "    3. Protected Member: starts with _"
   ]
  },
  {
   "cell_type": "markdown",
   "metadata": {
    "id": "hz-vIs2aV4CX"
   },
   "source": [
    "#### Public Member\n",
    "Public data members arenaccesible anywhere using object reference. All member variables of the class are by default public."
   ]
  },
  {
   "cell_type": "code",
   "execution_count": 24,
   "metadata": {
    "colab": {
     "base_uri": "https://localhost:8080/"
    },
    "executionInfo": {
     "elapsed": 381,
     "status": "ok",
     "timestamp": 1675193999044,
     "user": {
      "displayName": "naz nazira",
      "userId": "06694449877078577923"
     },
     "user_tz": -330
    },
    "id": "pDPrh1cdV3GN",
    "outputId": "ea0905fd-5157-4808-a09e-07a854e00d72"
   },
   "outputs": [
    {
     "name": "stdout",
     "output_type": "stream",
     "text": [
      "1000000\n"
     ]
    }
   ],
   "source": [
    "class Finance:\n",
    "\n",
    "  def __init__(self):\n",
    "    self.revenue = 1000000            # public member\n",
    "    self.no_of_sales = 150              # public member\n",
    "\n",
    "gokul = Finance()\n",
    "\n",
    "class HR:\n",
    "  def __init__(self):\n",
    "    print(gokul.revenue)\n",
    "\n",
    "shehan = HR()"
   ]
  },
  {
   "cell_type": "markdown",
   "metadata": {
    "id": "cg4PvQbcWF54"
   },
   "source": [
    "#### Private Member\n",
    "\n",
    "- A private member means that only that class has direct access\n",
    "- starts with __"
   ]
  },
  {
   "cell_type": "code",
   "execution_count": 28,
   "metadata": {},
   "outputs": [
    {
     "name": "stdout",
     "output_type": "stream",
     "text": [
      "150\n"
     ]
    },
    {
     "ename": "AttributeError",
     "evalue": "'Finance' object has no attribute '_HR__revenue'",
     "output_type": "error",
     "traceback": [
      "\u001b[1;31m---------------------------------------------------------------------------\u001b[0m",
      "\u001b[1;31mAttributeError\u001b[0m                            Traceback (most recent call last)",
      "Cell \u001b[1;32mIn[28], line 14\u001b[0m\n\u001b[0;32m     11\u001b[0m     \u001b[38;5;28mprint\u001b[39m(gokul\u001b[38;5;241m.\u001b[39m__revenue)\n\u001b[0;32m     13\u001b[0m \u001b[38;5;28mprint\u001b[39m(gokul\u001b[38;5;241m.\u001b[39mno_of_sales)\n\u001b[1;32m---> 14\u001b[0m shehan \u001b[38;5;241m=\u001b[39m \u001b[43mHR\u001b[49m\u001b[43m(\u001b[49m\u001b[43m)\u001b[49m\n",
      "Cell \u001b[1;32mIn[28], line 11\u001b[0m, in \u001b[0;36mHR.__init__\u001b[1;34m(self)\u001b[0m\n\u001b[0;32m     10\u001b[0m \u001b[38;5;28;01mdef\u001b[39;00m\u001b[38;5;250m \u001b[39m\u001b[38;5;21m__init__\u001b[39m(\u001b[38;5;28mself\u001b[39m):\n\u001b[1;32m---> 11\u001b[0m   \u001b[38;5;28mprint\u001b[39m(\u001b[43mgokul\u001b[49m\u001b[38;5;241;43m.\u001b[39;49m\u001b[43m__revenue\u001b[49m)\n",
      "\u001b[1;31mAttributeError\u001b[0m: 'Finance' object has no attribute '_HR__revenue'"
     ]
    }
   ],
   "source": [
    "class Finance:\n",
    "    def __init__(self):\n",
    "        self.__revenue = 1000000            # private member\n",
    "        self.no_of_sales = 150         # public member\n",
    "\n",
    "gokul = Finance()\n",
    "\n",
    "class HR:\n",
    "  def __init__(self):\n",
    "    print(gokul.__revenue)\n",
    "\n",
    "print(gokul.no_of_sales)\n",
    "shehan = HR()"
   ]
  },
  {
   "cell_type": "code",
   "execution_count": 29,
   "metadata": {},
   "outputs": [],
   "source": [
    "# No modification is done to revenue of Finance class. rather a new private member is created named as revenue for HR class\n",
    "class Finance:\n",
    "\n",
    "    def __init__(self):\n",
    "        self.__revenue = 1000000            # private member\n",
    "        self.no_of_sales = 150         # public member\n",
    "gokul = Finance()\n",
    "\n",
    "class HR:\n",
    "  def __init__(self):\n",
    "    gokul.__revenue = 100\n",
    "\n",
    "shehan = HR()\n"
   ]
  },
  {
   "cell_type": "code",
   "execution_count": 30,
   "metadata": {},
   "outputs": [
    {
     "data": {
      "text/plain": [
       "{'_Finance__revenue': 1000000, 'no_of_sales': 150, '_HR__revenue': 100}"
      ]
     },
     "execution_count": 30,
     "metadata": {},
     "output_type": "execute_result"
    }
   ],
   "source": [
    "gokul.__dict__"
   ]
  },
  {
   "cell_type": "code",
   "execution_count": 34,
   "metadata": {},
   "outputs": [
    {
     "data": {
      "text/plain": [
       "800"
      ]
     },
     "execution_count": 34,
     "metadata": {},
     "output_type": "execute_result"
    }
   ],
   "source": [
    "gokul._Finance__revenue"
   ]
  },
  {
   "cell_type": "markdown",
   "metadata": {
    "id": "hNNDZeX3WinK"
   },
   "source": [
    "- We can access private members from outside of a class using the following two approaches\n",
    "\n",
    "  1. Create public method to access private members\n",
    "  2. Use name mangling"
   ]
  },
  {
   "cell_type": "code",
   "execution_count": 33,
   "metadata": {},
   "outputs": [
    {
     "data": {
      "text/plain": [
       "800"
      ]
     },
     "execution_count": 33,
     "metadata": {},
     "output_type": "execute_result"
    }
   ],
   "source": [
    "class Finance:\n",
    "    def __init__(self):\n",
    "        self.__revenue = 1000000            # private member\n",
    "        self.no_of_sales = 150              # public member\n",
    "\n",
    "    def show_revenue(self):                 # getter method\n",
    "        return self.__revenue\n",
    "\n",
    "    def set_revenue(self,new_revenue):      # setter method\n",
    "        self.__revenue = new_revenue\n",
    "        \n",
    "gokul = Finance()\n",
    "gokul.show_revenue()\n",
    "gokul.set_revenue(800)\n",
    "gokul.show_revenue()"
   ]
  },
  {
   "cell_type": "markdown",
   "metadata": {
    "id": "Jseh7IOQW32f"
   },
   "source": [
    "Name Mangling to access private members\n",
    "- We can directly access private and protected variables from outside of a class through name mangling.\n",
    "- Syntax:  `_classname__dataMember`"
   ]
  },
  {
   "cell_type": "code",
   "execution_count": 35,
   "metadata": {},
   "outputs": [
    {
     "name": "stdout",
     "output_type": "stream",
     "text": [
      "1000000\n"
     ]
    }
   ],
   "source": [
    "class Finance:\n",
    "\n",
    "    def __init__(self):\n",
    "        self.__revenue = 1000000            # private member\n",
    "        self.no_of_sales = 150              # public member\n",
    "        \n",
    "gokul = Finance()\n",
    "\n",
    "class HR:\n",
    "  def __init__(self):\n",
    "    print(gokul._Finance__revenue)\n",
    "\n",
    "shehan = HR()\n"
   ]
  },
  {
   "cell_type": "markdown",
   "metadata": {},
   "source": [
    "- This shows that there is no pure encapsulation in python. Via name mangling its still possible to access private data members of a class\n",
    "- We can also make methods as private, but it doesnt make sense to make methods private as no one will be able to use it. Still putting down one example"
   ]
  },
  {
   "cell_type": "code",
   "execution_count": 37,
   "metadata": {
    "colab": {
     "base_uri": "https://localhost:8080/"
    },
    "executionInfo": {
     "elapsed": 1137,
     "status": "ok",
     "timestamp": 1675246585398,
     "user": {
      "displayName": "naz nazira",
      "userId": "06694449877078577923"
     },
     "user_tz": -330
    },
    "id": "JvRr4l_VXPo2",
    "outputId": "0386539e-67da-4cd6-e91f-c3f623569e91"
   },
   "outputs": [
    {
     "name": "stdout",
     "output_type": "stream",
     "text": [
      "0\n",
      "Count.test= 17\n",
      "k = 0\n",
      "0\n",
      "{'_A__test': 0, '__test': 17}\n"
     ]
    }
   ],
   "source": [
    "def add(c,k):\n",
    "    c.__test=c.__test+1\n",
    "    k=k+1\n",
    "class A:\n",
    "    def __init__(self):\n",
    "        self.__test = 0\n",
    "    def get_test(self):\n",
    "        print(self.__test)\n",
    "def main():\n",
    "    Count=A()\n",
    "    Count.get_test()\n",
    "    k=0\n",
    "    Count.__test = 15  \n",
    "    for i in range(0,2):\n",
    "        add(Count,k)\n",
    "    print(\"Count.test=\", Count.__test)\n",
    "    print(\"k =\", k)\n",
    "    Count.get_test()\n",
    "    print(Count.__dict__)\n",
    "main()"
   ]
  },
  {
   "cell_type": "code",
   "execution_count": 38,
   "metadata": {
    "colab": {
     "base_uri": "https://localhost:8080/",
     "height": 200
    },
    "executionInfo": {
     "elapsed": 16,
     "status": "error",
     "timestamp": 1676117777198,
     "user": {
      "displayName": "naz nazira",
      "userId": "06694449877078577923"
     },
     "user_tz": -330
    },
    "id": "VQVyJk11eK8W",
    "outputId": "08c4d51c-4790-42b2-f707-cd59a6afb816"
   },
   "outputs": [],
   "source": [
    "class Employee:\n",
    "    # constructor\n",
    "    def __init__(self, name, salary):\n",
    "        self.name = name\n",
    "        self.__salary = salary\n",
    "\n",
    "    # private instance methods\n",
    "    def __show(self):\n",
    "        # private members are accessible from a class\n",
    "        print(\"Name: \", self.name, 'Salary:', self.__salary)\n",
    "\n",
    "emp = Employee('Jessa', 10000)"
   ]
  },
  {
   "cell_type": "code",
   "execution_count": 39,
   "metadata": {},
   "outputs": [
    {
     "ename": "AttributeError",
     "evalue": "'Employee' object has no attribute '__show'",
     "output_type": "error",
     "traceback": [
      "\u001b[1;31m---------------------------------------------------------------------------\u001b[0m",
      "\u001b[1;31mAttributeError\u001b[0m                            Traceback (most recent call last)",
      "Cell \u001b[1;32mIn[39], line 1\u001b[0m\n\u001b[1;32m----> 1\u001b[0m \u001b[43memp\u001b[49m\u001b[38;5;241;43m.\u001b[39;49m\u001b[43m__show\u001b[49m()\n",
      "\u001b[1;31mAttributeError\u001b[0m: 'Employee' object has no attribute '__show'"
     ]
    }
   ],
   "source": [
    "emp.__show()"
   ]
  },
  {
   "cell_type": "code",
   "execution_count": 40,
   "metadata": {},
   "outputs": [
    {
     "data": {
      "text/plain": [
       "mappingproxy({'__module__': '__main__',\n",
       "              '__init__': <function __main__.Employee.__init__(self, name, salary)>,\n",
       "              '_Employee__show': <function __main__.Employee.__show(self)>,\n",
       "              '__dict__': <attribute '__dict__' of 'Employee' objects>,\n",
       "              '__weakref__': <attribute '__weakref__' of 'Employee' objects>,\n",
       "              '__doc__': None})"
      ]
     },
     "execution_count": 40,
     "metadata": {},
     "output_type": "execute_result"
    }
   ],
   "source": [
    "Employee.__dict__"
   ]
  },
  {
   "cell_type": "code",
   "execution_count": 41,
   "metadata": {
    "colab": {
     "base_uri": "https://localhost:8080/"
    },
    "executionInfo": {
     "elapsed": 377,
     "status": "ok",
     "timestamp": 1676117782790,
     "user": {
      "displayName": "naz nazira",
      "userId": "06694449877078577923"
     },
     "user_tz": -330
    },
    "id": "_Z0gPvrneSr5",
    "outputId": "e8f5d2f9-f77f-41a8-f1c0-c42eec93b2b0"
   },
   "outputs": [
    {
     "name": "stdout",
     "output_type": "stream",
     "text": [
      "Name:  Jessa Salary: 10000\n"
     ]
    }
   ],
   "source": [
    "emp._Employee__show()"
   ]
  },
  {
   "cell_type": "markdown",
   "metadata": {
    "id": "isC62B3LXZVm"
   },
   "source": [
    "#### Protected Member (Just to touch)\n",
    "- Protected means **that class and its subclasses** have access to the variable, but not any other classes\n",
    "\n",
    "- starts with single _"
   ]
  },
  {
   "cell_type": "code",
   "execution_count": 42,
   "metadata": {
    "colab": {
     "base_uri": "https://localhost:8080/",
     "height": 36
    },
    "executionInfo": {
     "elapsed": 1094,
     "status": "ok",
     "timestamp": 1675247386874,
     "user": {
      "displayName": "naz nazira",
      "userId": "06694449877078577923"
     },
     "user_tz": -330
    },
    "id": "bvFmWKE9hQFp",
    "outputId": "7fc2e228-faa3-42d3-ab36-6bbfb7f97000"
   },
   "outputs": [
    {
     "data": {
      "text/plain": [
       "'NLP'"
      ]
     },
     "execution_count": 42,
     "metadata": {},
     "output_type": "execute_result"
    }
   ],
   "source": [
    "# base class\n",
    "class Company:\n",
    "    def __init__(self):\n",
    "        # Protected member\n",
    "        self._project = \"NLP\"\n",
    "\n",
    "c1 = Company()\n",
    "# Direct access protected data member is allowed\n",
    "c1._project"
   ]
  },
  {
   "cell_type": "code",
   "execution_count": null,
   "metadata": {
    "colab": {
     "base_uri": "https://localhost:8080/"
    },
    "executionInfo": {
     "elapsed": 528,
     "status": "ok",
     "timestamp": 1675247391889,
     "user": {
      "displayName": "naz nazira",
      "userId": "06694449877078577923"
     },
     "user_tz": -330
    },
    "id": "yDnA-Z5LhnKR",
    "outputId": "bf87de59-3d76-4fb2-e75b-7988a0bb98c9"
   },
   "outputs": [],
   "source": [
    "c1.__dict__"
   ]
  },
  {
   "cell_type": "code",
   "execution_count": null,
   "metadata": {
    "colab": {
     "base_uri": "https://localhost:8080/",
     "height": 36
    },
    "executionInfo": {
     "elapsed": 575,
     "status": "ok",
     "timestamp": 1675247367905,
     "user": {
      "displayName": "naz nazira",
      "userId": "06694449877078577923"
     },
     "user_tz": -330
    },
    "id": "yp__LJh9hdCM",
    "outputId": "b8b82f1f-7356-4b0a-fb31-9cdc9a04945e"
   },
   "outputs": [],
   "source": [
    "# Direct modification to protected data member is also allowed\n",
    "c1._project = 'Computer Vision'\n",
    "c1._project"
   ]
  },
  {
   "cell_type": "code",
   "execution_count": null,
   "metadata": {},
   "outputs": [],
   "source": [
    "c1.__dict__"
   ]
  },
  {
   "cell_type": "markdown",
   "metadata": {
    "id": "IMgRMjqBiVQ8"
   },
   "source": [
    "So _ doesn't actually do anything in python, its just an indication to the developer that this must be overridden only by the child class."
   ]
  },
  {
   "cell_type": "code",
   "execution_count": null,
   "metadata": {
    "colab": {
     "base_uri": "https://localhost:8080/"
    },
    "executionInfo": {
     "elapsed": 688,
     "status": "ok",
     "timestamp": 1675247776749,
     "user": {
      "displayName": "naz nazira",
      "userId": "06694449877078577923"
     },
     "user_tz": -330
    },
    "id": "yJF6bgy0Xowy",
    "outputId": "92d5382e-7bbe-439b-9fd6-d32af31b1f9f"
   },
   "outputs": [],
   "source": [
    "# base class\n",
    "class Company:\n",
    "    def __init__(self):\n",
    "        # Protected member\n",
    "        self._project = \"NLP\"\n",
    "\n",
    "# child class\n",
    "class Employee(Company):\n",
    "    def __init__(self, name):\n",
    "        self.name = name\n",
    "        Company.__init__(self)\n",
    "        self._project = 'Computer Vision'\n",
    "\n",
    "    def show(self):\n",
    "        print(\"Employee name :\", self.name)\n",
    "        # Accessing protected member in child class\n",
    "        print(\"Working on project :\", self._project)\n",
    "\n",
    "c = Employee(\"Jessa\")"
   ]
  },
  {
   "cell_type": "code",
   "execution_count": null,
   "metadata": {},
   "outputs": [],
   "source": [
    "c._project"
   ]
  },
  {
   "cell_type": "code",
   "execution_count": null,
   "metadata": {
    "colab": {
     "base_uri": "https://localhost:8080/"
    },
    "executionInfo": {
     "elapsed": 16,
     "status": "ok",
     "timestamp": 1675247777562,
     "user": {
      "displayName": "naz nazira",
      "userId": "06694449877078577923"
     },
     "user_tz": -330
    },
    "id": "A570pj7GjBA3",
    "outputId": "9adc5409-e967-403d-9962-b9d33d7c4610"
   },
   "outputs": [],
   "source": [
    "c.show()"
   ]
  },
  {
   "cell_type": "markdown",
   "metadata": {
    "id": "duKpTqCfe1Xr"
   },
   "source": [
    "#### Types of Inheritance\n",
    "1. Single inheritance\n",
    "2. Multiple Inheritance\n",
    "3. Multilevel inheritance\n",
    "4. Hierarchical Inheritance\n",
    "5. Hybrid Inheritance"
   ]
  },
  {
   "cell_type": "markdown",
   "metadata": {
    "id": "GSJE0KxlfEc0"
   },
   "source": [
    "##### Single Inheritance\n",
    "- In single inheritance, a child class inherits from a single-parent class. Here is one child class and one parent class.\n",
    "\n",
    "\n",
    "![image.png](data:image/png;base64,iVBORw0KGgoAAAANSUhEUgAAAgQAAAC7CAYAAAAaAYYfAAAAAXNSR0IArs4c6QAAAARnQU1BAACxjwv8YQUAAAAJcEhZcwAAEnQAABJ0Ad5mH3gAAChuSURBVHhe7d1pdFz3eR7wFxjs+74RIAHuJLiTImltlKzFSupYVi3Vbm05TZr6eEnb5PTETXtyqqT9Uvf0Q5q0dlvn+JzaOrUly9pFmRIlruK+k1iIhSD2HYN1gNn7Pu/MSDAIgtQCYAZ6fso1gJk7d+69YPA+/+XeiQsEAkEhIiKiz7X48FciIiL6HGMgICIiIuGQARFFtbi4uPB3RDSf2ENAREREDARERETEQEBERESKgYCIiIgYCIiIiIiBgIiIiBQDARERETEQEBEREQMBERERKQYCIiIiYiAgIiIiBgIiIiJSDARERETEQEBEREQMBERERKQYCIiIiEjiAoFAMPw9EVHUiYuLC38XXQJ+v0xMTMjhI0dkcsotDocj/AxR9AgG/JKeni4bN26UFStWhB+dHQMBEUW1aA0EHo9Herq75c/+/M9l0hOQ7Nx8cSQkRO3+0ucLSrvP45aJUafk5WTJs99+Vh5//PHws7NjICCiqBatBdbtdktra5s8/cwzkleyUtZv2ilZ2TkS70jQnQ6vRLQYgkHx6L/PocE+aai5KAkyJf/qB9+TZ/Tf6lwYCIgoqsVCINiw7QG57+EvS/GycsnMTBGHg4mAFo/b7ZGh/gG5cb1ezpw8JO7xfvn+d/8lAwERxbZYCARbdj8m+x5/SsorKqS4KEPS05IlISFe4uIZDGhhebx+GRoalbab7VJz5aqcPfmeuMcYCIhoCYiFQLB1z5fkgUeflGXl5VK+LFfyclIlNcUhDgYCWiAo5P6AyNiEWzo6+6WpsUXqa67K5bPHxTOBQPCdOwYCXnZIRPQZ0MaVts584poMypQ7ID5fUP9I47/QH2suXOZ1wbwBj0/GxyZl2Dkuo6MTNo8g9OzdYQ8BEUW1WOkhuO+LfyAFRSWSmZUt2ZnJkpWVLKmpCRIXz3YXzT+7DHbcJb29Tunq6pXurk7pbGuW69fOi2di4K56CBgIiCiqxVogyNBAkJSULCkpCZKUmCDxDgYCml9BLeNen0/Gxydk1DksQ4P90t/XJd0dLQwERLR0xGIgSEzEpEKHxMfHR+3+09IRDAbEh+Eq14SMj43KiHNABgd6PnYgYHQlIpoHaGv5/QEuXOZ/8YW+Yh4L5hJ8UgwERERExEBAREREDARERESkGAiIiIiIgYCIiIgYCIiIiEgxEBAREREDARERETEQEBERkWIgICIiIgYCIiL6HAgG7RMBPR63Lfgej9FHGAiIiGIc7l8/16L/E15z6ZnteLFEnovwawBwTYxJX1e79HW32/e49z99hIGAiCiGeb0emRgflbGRIRmdZRkfGxE3WsRLsPgF/D5xT03aMUaOd2zEKe5Jl/i8XvF4piwIYBkbHZb6a+flpef/p7z2q/8jzQ3X7Hn6CD/+mIiiWqx+/HHko4/ne/8bai/Kwf0vSnfHzVl7AnLyi+Seex+RLTvulZy8wvCjSwOO+eqFk1Jz+bQMDfTYYwmJibJjz8Oyccs90nrjun1Ny8iUxrorcuSdl+XcifdkbfV2+Uf/+J/Lpu17JTUtw14Xy4Ia9nw+n0xOTmg4HJPR4UF+/DER0edNYlKypGdkidfjkZ7OVi2MvRZCsnML9Nk4aaq7LB8ceksunjmqhWLod7rRowV6OUa0iHW235De7jYNW5PhZ26Fng6Xa1yu11yQE4f3y5ULJ6yHIL+w1Jac3ELp7+3U4v+qHD7wG2m72SiTrgkLCij+Scmpen5Y+mbDs0JEFMMqKtfI7z/1h/LYl78um3fcK7vufUS+/PQfyx/94K/ka8/+QFav2yKtzfVWPNtaGkKT6aLM5MS4dLQ2y+Vzx61VP6UF/HbQzY/gg5Bz7uT7yDyy7/Gn5F/86+ds+fb3/r1UramW9psN0tfTLkP9PdZ6LiuvlK277pdVa6slMTEpvDWajoGAiCiGJSQkSlp6hqSkpltvQVJyiv2cm1coK1dvlJ17H5KcvALp7rwpTfWXxa/FEa1sjLFj/H1qymWLxz1lhTMYDM01QE+Cz+cVb3hWvlufd+t6eAyvx3rYFl6H7WDBuhivDwna92j9o/cCQQTPY73Qe3ntPbCOc2hAGuuvyKWzx2R8dNjey+/3hbfzEayP5+uvntNjuSaZWbmyY/c+2bFnn36fY0tOboHs2vuwPPXN78n9jzxp6+gLrVcA5yZBw8D0YRxsE/uGXonIubBj0f0OzbtAj4quo9/jMew7jiN0HvzhdULbwWN4HucL3+PYQucqNkbmHc8999xfh78nIoo60TqHAH/sR0ZG5MVf/1pKylfL8qp1VohRdByOBNvvyDLfUKB6utqkt7tdklNSpaRsuRSVVohDw8LU1IQ0axAYcQ5KeeUaWb95p31/+vg78s6bv5Tj779h37dpyxxFEcEC2xjWIo0CfencMRtuOHP8XTn23us2Xo11UDjrrpyTwwdelmMHX7fWfXdHq7XYc/OLrHg2a5E/r614zHOIj3fIiSNv2/rXLp2yfc7IzLGW/AfvvynHdRs3m+u0Vd9hPQApqWlSrMcxHQJJe2uT9Qw4B3pkpbb2MUegZNmKD88zviYmJUlGRo4NIRSXVUh2Tr49h+GUGw3X7PuVazdJQVGp7UdbS6P85vkf2/HhXFy9cEIG+3skPSNTz0WaBYZePb84B0ffe033s17GRob1GN3idbslWfcVExovnTkmB996QRr1eDE8MzkxZsHA4XBIkoa1eYNQo78XvBfCFwLNpGvcwtNgX7f4vS65Z9dOqa6uDr9gduwhICJaglAgXOOjFhRwiR0KbFZOnhbMeLnReE0625qthY/CGaeloKWpXuqvXdAC3ajFtk9qLp+xbvnjWqxbGmttnkJxSYUVcVzR0K4BYqC/ywJQdl6BBIIBaW25LhdPH7Zu/8baS3Lmg4M2jn/84Gty9sTB8KV+fiu2CAld7TdsX9PSM3U7WjADPsnMzLZAkZqWbs9NN6WFDkHFOdhnvSGFxcus2GMC53QIH2kZGVJWvkJyC4rs2GeuAwgtQ4O90lR/0Y4pIyNb3z9Hi7tTzuq+Y4gFV3AgSLQ01UqvhhULQ64Jaai7qEHpmD2P89hYe9nWx/PxGgCu116wqxoQ0lCkYwEDARHREoGuarQIcUndlfMfyAUtzrVa2NFsX7FyvZRVrNRiFW8FCkMKGzffIzu/8JC2sndJXHycvRZj7uiyxyQ/TM5D8UaLe8vO+2T3/Y/ZnIURbf3WXjmnRbLOusgTExO1KHqlXwsmJvvd1OKJ12Gme293hwz0dVnhXLZ8paxat1mysvOsyOJ5BA1sc5nuW5p+v2rdFmv1F5aUhw5qGgxzTE1OWAsYvRgZWTnWOp8NQgGeQ8scBVqTUPiZj9hwgQYnrLt6/VbZufdh2bb7QSktW2Ez9Af0fGBCIlr/3V2tFmjKKqpsQYgJ+L2h+Qi6HYQBHBN6Z6pWb7Tn48JXmqCHIBYwEBARLREolN2drXLt4ik5efS3cv7UIeuCL9UCtnXXA7JcC69Di19ZeZVs3LpbqrfvlcpV662IoXBiyMDjdVuLOi+/ULJz87UFnifFpRWyvnqHrNOlsLjMhhxQ+JuvX7MW8NBAnxV8tLgxDwGz/lEQ8/KL7WqHjKw8WbFqg6zdsE1Wrd1k27Bx+0mXrVekxT9fW/spaZlWbJdXrbW5ALdCAQ/deCjBkWDzJ2Zr+d8tR0KChZOVazfLri98UUPBFilbVmnvjeCBxecLHZNnasomP0pA9JwUSPnyVbaf6B1ByEIwwvMILRmZ2Rp+Vkn5itWSX1hi4SUWMBAQES0RH85Z0P9zaJHKzM6R9Zt2yp4HvmQz7PMKiq3VWrl6vbViEQJuNl+XumvnLTggUKDIYmgBrfby5attLkJWTr4Vtcg4PYo/ehACAZ+tj1YyxuPxXmhloyfAXq8F0eYzlFXIpm17pECDQGjyY4rNb7Ad/RjQksflg5ijYYU6PFnxdhAcIgvCxEyJCUl2b4ZV6zZJiQYBDEXUXT0rzY1XNQyM6+tCEwbRi4FhDASmC2cOS62ug3OA84JJiw5HopSWV1pPBJ7HHAeM36ekpFk4wPBGLGAgICJaItDaRiv3i088LV//w39jy5ef/iPZsuM+u9Igoq+7QwvfeRtWaKi9IB03G2XU2a8F1h1e486ysnPtZkdPPPkt+dq3vm/v9ZWv/4ns3feEtYoRFD5rCCXoscDVBLgBT39ft/VGzAa9FcND/TLQ32PFG638mXx+n93BEJMEL5w+JLWXT9swCHo9PG5POEiInbs1G7bacAYCSFP9Ffng0H45oUtHa5NdEYEwVL1tt4asFLv3AeZfnDr2tjRfv2zhIBYwEBARLRHoPkfRtMvvtOWLBZPuMEEPreqIqxdPypF3X5HrNRftRj7bd++TylUbJS0zy66ewMx7j9v9YQt5puTkFOsVmJp02Trp6Vk2no87NKLbvLO9xa5CuFs2zq77jn3EVQwu3QbmMcyUoseGKwdKKyq14HultbnO7rGASYDTYf/R2m9uuCrdui8IDYFZAgG6+Xs6b8rJw2/LsffekCn3pKzbtEO237NPMjTwoEcCwQLbS0lNleotu+WxP/iG7Ln/cRtOwRUPCFU4D5gnUKXn8Imv/DN59Pe/br0hg/2YjFgn/b1d4XeMbgwEREQxDGPWaC3jMjMUURRi3MkPM+GtOz3cyp0O1/z3dLVa93tRSYWUlldJlhY49KpjAl1vDyYTYkLduBVDr2fKJtdFrrnPyS+UTC2Y2EaTFl1cyYAJeJg8iBa53eNA9yVyPT9+xutROHHpoAdzFXS7brf+rOsF9T9crZCcnKrFe1hb3Y1a0HvtvabDMIO11tdv0X1eYVc5oCDXXjlj+40FQxkY/sDljF0dNzVsiM038Af84f3BZxyE7oeAqzCw3w31lwWX7OXmFdn8CgyTROZUjAwN2JUXmC+B7eMSR1zuWFG52oLXsHPQXnujscbOAyZD4vmVq6ttfoLfH7DtxALeh4CIolpk3DraRMt9CIa0JYzL2xp06erQlrkWXrRsMVaP/UHXPeYNTHfq6G+1SHuslQuDA33akq2R0eEBa6Gjq7y/p9260vEYWv75BcXW22CteH0erfj2lkabYDg5OW4z7NFFH9TCi8sBXRpSmq5fsRY8WuJoMWPbuEESiiduUZyYkGwFPj7OYdf193S3Wvc7eicwsQ+vmQnvjx6JhKQkGR7sl27dDq6MwOWMuIyxq73FlmHngN2qGPcbSNOv+KyDhrrL0lh3yYIOxv9T9RxNTIzJjYZaydWQg54UHFdn2w27iRN6W1LTMq2Hoe1GvQaDJgs0OOfYRrqe34qqtbKsYpXNG8CliAga6J1AUMDkzKLS5Ta/AEMd80Z/H5/FfQgYCIgoqjEQzA2z/V/55f+SC2eOWGHER/v293VaUS1bHro8DrPppxsfHbF7BeCyxItnDluBHtYWuWt8RCa0+KGVjWKCkDCsxc0e1wKPcXIcH4YiMIcAxROT8HADIxRQ9CZECuTlc8dsgh3ud+DSwDCqBXJMt32jsdbmLeBGP2hxp6aE7o+AVnx3xw1pbqiR4tJyqVy9QfIKSsJ7/BF0zWOSHyZFFhThiocBuXj2qJw8vN9ugoT7IAw7+21S44OPfdWCxYTuPz4A6cyxA3ZJ5NioUyanJmyYo1hb9Lh50+njB+TCqcPhewe0idc9ofveYj0o2BbCwTXdxvH3Xtf1DlnoyC8sk6ef/YENn2A/mjUA4QOUTh97R7dzTgpKlsnWnffJ6nWbw3s/Tz6jQMBPOySiqBatgSBaPu0Qf/hxsx60wiPQtY7WLrr1cY+AmR/mg4l0mGiH16C1b5fu6VdA7wJej8fQ1Y1WPQIOrulHKxqXLeoGrfijwE9qUECrHr0Q6PJP1VCE4okeAly3j/VwDiK3VQ71AIQ+lhjbRWDB+DxKEQo3Chpa9hmZWbaduaDwofVuNzzC8Ajo6cbEPnzCIbr0cTyYUIi7Bo7jmPU1kKj7kq7vjf3COcT+opfBfm+6YHs4NziH2A/8jPfC8dg502CC/cTVFTh34/p67D/2CecMcF8FhI7U29wr4bOC97Nj/JSfdshAQERRjYHgDrQY3e6P+O3eGwXtk5i5vdttB+t90veY7m7O3VzvM/31n2Z/5jqeyHvc7X7Mh88qEHBSIRFRLNNig4Iz23I7s617N8tMs62DZa7nPs5yN2Z7XWSZbrbn73aZ6/URsz0XWWIFAwERERExEBAREREDARERESkGAiIiImIgICIiIgYCIiIiUgwERERExEBAREREDARERESkGAiIiIiIgYCIaL7g/vb4FLpgkAuX+VzwOQqf/LMaIvjhRkQU1aL1XvBzf7hRksTpf/hjrf8TfgXR/EHwnHJP8dMOiWjpisVAgH0O6p/WYMCPj6ILv4Jo/qCXwOf3i8s1oYFgiIGAiJaeWAoEeQVFkpySEvosfQ0D7CGghRTQf2sej0fGx0ZkaLCPgYCIlpZYCQR79/2epGdk6jNBCXi9mgP89j3RQvIHAjI5OSWjI07p62mXhpoLDAREtDTEQiDYdM+jsn33gxIf7xCfZ0qCfq+uwT+ttDi8Pr+GgklxOvuluf6qeF0MBES0BERzIGhr00Dw9DOysnq3rKveIX6fTwIaCIgWmy/gl/HxMWltaRL/5CADARHFvmgNBBir7erslGe//W1JzymWsvJKm9gVGiogWmRa2T1ej/T29kmqwyvf+ZM/lq88+WT4ydkxEBBRVIvWQOD1emVgYED++9/+rQTiHJKRmaOP8s8pRY+AP2BXHWSkJssTT3xJdu/ZHX5mdgwERBTVojUQ6N9O/WPrksuXLolP//A6EhLCz9AngfPp8/rE7XFLakqqJCTyfH5qQdwYyy/JSclSWVkpxSXF4Sdmx0BARFEtWgMBfbYwBDPsHJaOjnZZuWqV5OSgx4UWEm9dTEREiw6BoFPDwDsHDkhvb2/4UVpIDARERLTocNVGV3e3HDt+3OZm0MJjICAiokWHKzTcHo+Mjo2Jz+cLP0oLiYGAiIiIGAiIiIiIgYCIiIgUAwERERExEBAREREDARERESkGAiIiImIgICIiIgYCIiIiUgwERERExEBAREREDARERESkGAiIiIiIgYCIiIgYCIiIiEgxEBAREREDARERETEQEBERkWIgICIiIgYCIiIiYiAgIiIixUBAREREDARERETEQEBERESKgYCIiIgYCIiIaHEEg8HfWaY/Fgh89BgtDAYCIiJaFIFAQHw+n7jdHnFPucXn9VoI8Hi8+tiUfWUoWDgMBEREtOBQ6P0aBkZHRmSgv0/6dHE6R8SrocDpHJKenh776vcHwq+g+RanCY3xi4iiVlxcXPg7WkoQCLwejxw/dkze3L9fTp8+I8PDw9Le3iYrV66SoqIi2bZtq3zvu9+VsrIySUpO5r+FecYeAiIiWnAo7vEOh30dGxuTtrZWaWpqlImJCWlsbJSOzg4JBgKSjCAQz1K1EHiWiYhoUTg0EJSWlsq6tWuloqLChgvQcxCvAaCqskp27Ngh2Tk5kpCQwN6BBcBAQEREiwJFvmzZMtm2bZtUV1dbbwBCQo6GgC1btsjOnTslRR9DQKD5x7NMRESLJj0jU5YvXy4b16+XqqoqycjIkPXr1sqWzZulvKKCwwULiJMKiSiqRWtXMS6Zm5iYlEOnasXjE0lITAo/Qx8HhgiGnUNSX18nJ06dkYGBAZtU+IW9e2Xjhg0SH6+/fw4XfGrBYMAmcSYniDzx0A5JSrp1GIaBgIiiWrQGAq/XJ/2Dw/JffvyyxDmSpCA/T//IJoafpY/D6/HK+PiYDAwN2f0IMjIyJU/PZ1ZmRngN+jR8Pr+4XOPS39cjCUG3/Og//qme4zQGAiKKLdEaCHDTnI6eQfnTv/qxlORnycY1KyQ7O1viE5JC+xyl+02fI1rd0TMwNj4uHR2dUltbI57JEXnp538vWVmZod6XaRgIiCiqRXsg+P5f/p1sXZMvD96zXkpLyyQ1Mzc8Kz5eGAlosQTxn5Z3j8djl3BeulInH5w6K2MjTnnlhZ9pIMhiICCi2BIrgeChPdVSWblciktLJSU5RRLsGvvwykQLDHMzEAYGBgelpqZGzp+/IKfPXRGXO8BAQESxKVYCwf071kppWYkuZZKbkyNJSUkf3niHaCHZXSC9XhkdHZX2tja5dvWq1F1vkCs1DRoIgrcNBLyeg4joMxAIBuzDeVwTE+JyuUI32QnwPvy08Px+TCJ0ybDTKc6hIZmamrLH7oQ9BEQU1WKlh+De7aulsCDfJhZmZGZKWnq6pKSEhg6IFgoKutvttg+N6uvrk+6uLuns7JSW1japqW+es4eAgYCIolosBoLEpCRJTEwMLQkJ4VcQzT+t6dYjgM+HcDqdMjg0JD3d3XKzrZ2BgIhiW6wGAkd8POcP0ILD/AH0EGDIwELB8PBdBwLOISAimgdsadFiQCD4cAk/drcYCIiI5glDAS2WT/Jvj4GAiIiIGAiIiIiIgYCIiIgUAwERERExEBAREREDARERESkGAiIiImIgICIiIgYCIiIiUgwERERExEBAREQhHo9H+vv7pbauTi5evGgfjnM7Pp9PRkZG5Nq1a1JbW2sftev1ej/cxvnz56WhoUEmJibsvvoz4TFso6ury17f1NRkr51t3U8Km8I2m5ubbT/b29vtg38+y/dYShgIiIiWMHwc7uTkpAwODkonPhs/vODn8fFxe25Ki6RbC+fAwICcv3BBXnjhBfnF889Lb29veCu3QvHH84cOHZKjx47JzZs3bVtDQ0Ny6vRp+ek//IP89sABCwczC3AkDOC5I0ePyq9feknee/993Z/Zw8N0kY/3HXI6paenx46lu7vbAgnChx2PPo/98/t90tnZJa+/8Ya8+Otfy2ndr9HRUdsG3crx3HPP/XX4eyKiqBOtHyHs9wdkdHxS3jp4Wkry06SiNE/S09IkJSVFHA6H7bct4fUXy+jomFy+fFlee/11K/LvvvuuLSiiCALDw8NWJLGgpX7o8GH54ORJSUpMlHvvu08KCwrCW/pd8fHxkpqaKuXl5bJmzRopLSsTjxbhS5evahj4qbS1tUllZaVsrK6WnJyc3/k9+v1+K+gHDx6Ut956S7p0X0pLS2XL5s22zbl+5yj6169flzfffFNeevlleUO/HjlyRK5evSqJCQkWSHBMCATYx+ef/4W8r6EFQWH58uWyatUqSdXfE55bihCocH4jvTUIRwh+wyOj0j/gFK9f5BvPPCnJycm3nGf2EBARLUEoBq2trfLqa6/Km1p0URR+70tf+nApKiy0wopWfGR4IFcLd+WKFVKmxdmKxRyt9UggKNMgUFpSIlmZmZKmP5eUFMm2rVvt59u9Gq/FuitXrpTVWqBzc3Pv2DMA6IV4++235TcaBFD4t27ZYsfyxYcflg0bNkhj8w15c/9++eDECesBwfts2LhRlmlowb7Cnd/l84uBgIhoiUHrEAURPQNnz52zVuL69etl3759Hy6btDVeVFQkSUlJ1nr2+3ySnZ0ty5Ytk2J9fK5WOuB59ISgpYklQVvnSfoVPQoozukZGeE1b4XXoicFLfYVlZWSo+97J06n03owLl66ZN9XVVXJ3j177FgeeOAB2bVzpwWTlOQUO170eOB91q5ZI8s0tEQCAd0eAwER0RLj0gLf1t4uF7Tlj+5zFM+dO3ZYAY4sa1avlq3aksfjaOWnp6dbV3qmtuzxPVrsCAoYo0dPQmNTk/T3D9gwQ6RbGr0OnZ2dNn7vcrnEEe41yM/Pt6AxE16DYo6eixs3btjr48PB4k7QO1CjgQDzDjBMgd6B1XoMkePBMW7ZvEl237PLvk9MTLRAgN6HTA0n+Hk6hAbsNyYz4viw4Pv+gYHfmWOA84f9bWputjkT2GcseD2OB8eNY8FrMQyDnhY8jx6aWJurwEBARLSEoFiPa1FCkUIBzcrKkuqNG208fzr0BqD1vHv3btm8ebMUFxdr6zrZnsM20MuAsf1Tp07ZpLw333zLJhwODQ7acxjLv9HSYuPz6IVAoZ4LiiOuSqirq7MJhPvfftsm+bV3dFjwmAv253pDg10tgPCwUY8HRT9NAwzYEIR+j8f27NkjO3fulPKKig9DwUxB3ZcBPQ4Eprf277d5CDjGV197zYZPEKgi5wCF/vCRI3LgwAG7cgLHjH3GkAX2G9+/e/CgvP3b39pkSuwjAgR6KDBxMpYwEBARLSFotaIYoZgPDDqluKhYCgsLrVt/JhRMtKAxbwDDB+jGB78WTKe2jK9cuSItGizQkq6rq5VDh963VjBawLiE79ixY/LyK6/ImTNn5gwEKK5oUWPiH7r8MeEQLe8ebXFHehduJ/LaDi28eF9MUCxBeNF9nTkxED8j6CzXMIDldoEABR/7j/3BMASCCq5YwNUSxz84YceIyxPxnghW+IrnEbBOnjgh9fX11pOA5YKGJPSS4AoNhJ3Dhw/b1xH9HeB3EUsYCIiIlhAUIVxCiC7r1JQkyc/LnXP8HAUThdQKZ7h4ogWN1q9Xt7Ft2zZ56qmn7Cu6zXF1AJ4b0+KMYj405NTiOff9A7BP6G5H6xuF9gt798o/eeYZ2X3PPbp/ebcU9umwXRRwvC5BCzwKPoY0Ziv0EDme220T28O5wXoYanjs0Ufl288+K1/72tcsFA1qYe/u6rJz2NjYaD0hq1aulH0PPmhf8VrMl0BPBUIA7m+wbt06efSRR2yeBnoFEL4QRuY6rmjEQEBEtARFyqVDi9fHLUwodrjiAHMMqqurpaqyUkpKS22iIsIACnNBfr4NQxQWFtwyPj+Tdb1rmHBNuSU/v8Au/cP4Py5XxBUAGXNMQAQcC+LGbOHl48JrU1NSZIWGAUxE3LlrlxQUFtpVESjkgYDfeiQwxIHwgJY+eksQago1MKzToo/5FwgyWAfHht4DBAVMxsT5Wrt2rU2URHCIJQwERERLiM38T0qy4oYihtY17g9wuxY8ihpatVgXPQOAoouuebR80WrGNnFfArTSsR6+x8RBBAVcVZCUNHcgwPYj4/95+Xk2cREhAvMb8nLv3IOB4QEckx6E7QOWyL7OhOPE+6FQ3+6YsT0Mo2DeBI4FPQFnzp61Hg8LAroOzkGFhgZMjsSERswPwJABeg4iky8RmnDZZIO+Hpc64g6PUxp60IOB888eAiIiWjRoleKSPxR0FF10a0du1DMTih+KKybYYRwdwWE+IERYK9o9Feq5mNa6R/G1wq3LbAUcgQATBjHXAYEC+4kJfbPN4g/o6/E4jhe9GRZyZtkmzgW2gZBy6dIlmwdw4uRJmwuAgo/X4H3XaUsfoQjFHcX+lVdfk1dffdVeMzHhsqszcMkjAgBCxVv735YXX3rJhkawfU4qJCKiRYUCimvvcV1+Y0ODFSt0fU8vjfgelxBi8uHx48dtgp1Ti9h8QTHHJXljuh8o2nh/FF4UdUxi9Grx9moBRVGfDcbvEQq6NVjgEkEU/OkhB9vy6c+Y3HhWW/tHjx618f+ZgQA/41ycPnNG/u8vnpf/96sXJEH37d/9xV/IQ/v22dAB4koA+6Pbw3yHH/7wh/Jff/Qj+eY//YZNbDzwzjty7vw562nAsMl/+pu/kZ/85Cfy7Le+qc+Pya9efNHmFsz1WRDRiIGAiGiJyc7Kskvz0Hod16KIVi0uqUPLOVIgpyYnpV5bvbicDt3iKGwouPMB28d9A1Cgr2jwQLEc0MKN2fxolSOw4PbDz//iF9Kjj83Wm7FFX799+3bb/9feeMMuE2xpaQkNH+hj+Nqh28Itmvs1LOzRQj7b5EOsix4R9JxguAIh4PHHH5eCgtBcCKyPqx4QkHAXxxMnTkh7W5vdWRHh4GFdvzA/3y7txIc3/fznP7cJkwg8OManvvpVG0bBcEHkXMcKfpYBEUW1mX/Qo0U0f5YB3h9FGOPcegZlcmpS+rRo4Rr6q1qMcT39pStX7JMG7T4F1dWSocUTNzNC6xrX56NgAsbqUWjf0VYx7gWAn33aesbzWA8FHjcbQvFDSx/FFoUUl/OhsGI/SkpKJEeLL7r70YLHZYe40RHeD5f14XEUZ9w/ABPyMKdg5vi7zSNIDt0RcVK3Ozg0pK/v0Pepsy58LLhnANbD8aysqrIAgs9mOHHqlHToum6P23pPcAMl7H9Xd5d093Rb9/6ly5elpqbGtouhE0wKxDAHAgruK1B//bq9F1r9uOwRAQrlHr0rCAQIOTi32BauXsDdGhEycPwLyX4P4d4N9MRggiR6Ne7mswwYCIgoqjEQfDLYBxT7ZWXLJCMj00JBlxZ2DAugGKKFi4mBuPQPN/RBAcHwAUICJiLi8j5sA19RWBq02NolgvpYmoYH3GEQxS8YCEpySrJdKYBii+Otq79uM/lxPrAPuKoAVymglY3QgJ4KhAgUJRveKC+3OyY+9NBD9h4o+jN/7/gZ2yopLrHwgB4B57BTBvoHdD8GbRgAH250/333We8IhgFQCBFaxsfGQwFJ9xHHjA9Swnvgcdx9cWQktD+Ye4EQlZaWbtvAa1BgsR1MOOzrG5Dc3BzrrcDnMCBY4J4PwxpoejU8YBgDx3TvvffaOcU5WeiJhZ8mEMQFAvrbJCKKUjP/aEULj8crHT2D8v2//DvZuiZf7t2+WgoL8q2AJmohQSFYzEAQgcIwqsUfrXC0rCOwfyhYaMWiRY7igXsLTF8PRRPHg+OI9BgACieKJdaLdNkjCKWlZ1ghHhjoD03409chFNhNj/Q9cMniiIYBtLJRtCJFCcEDM/dR6PGec8FEPRQ420/dHrYDOB4cB94LIQPvj2NC6z2yHraNUIHjxnwFzGfAtiIi741LNRFM0BOCbdiix4n3xrYxtIL3ws+R/cA6eE+cF1y9YD0RelwL/e8X+4DfyYT+biwI6PlGL8fNtnapqW8Wlzsor7zwMzsP8fEMBEQUQxgIPj0U7Mgyne1feIHZ1pv+XMRsj0FkWxYGwiKPYZlr+3C3renZtgPT3wtmW2+252eDfbFnws9H1pv+ephtG5Hf/WL4NIGAkwqJiJY4FCcUKbRYpy8zC9ds6+Hnu3ks8ji2Mdtjd9o+lrs123Yi24q8F9zu/fD47bYRWez58DrT15v++tttA4/HIgYCIiIiYiAgIiIiBgIiIiJSDARERETEQEBEREQMBERERKQYCIiIiIiBgIiIiBgIiIiISDEQEBEREQMBEdG8wD3uAwH7UB0uXBZyud3nM9wJP9yIiKJatN4Xfq4PN4p8ah7+ME//oB+i+YZ/c/iURnzAET/tkIiWlFgLBPhDi31GEPg0rTWiTwr/9vCx1y6XKxQIenoYCIgo9sVSIMjPy5Xk5JRQGAj42TtAi8av//Y8breMjoxIb28vAwERxb5YCQS7N1VKWpqGgWBQ/D6ffSVaLCjtPp9fQ8GkDA4NSUdnl9Rev8FAQESxKxYCwaaqHNm8pkT3NaiPe8TvD3CogBYV/vmF5rD4xeWakN6+fqlvvMlAQESxK9oDwQ/+w/+QypJ0WV2eLX6fx8ZuOVJA0cTv84pzZFRutLSJ2+uXF5//qQaCTAYCIootURsIvD7p6h2Uf/uffyaZqQlSmp8mEvCGnyWKLq7JKenp6daiPyX/++//m2RmZjAQEFFsidZAgCsIhkfG5Se/fN/GatNSkkL9tERRyIYOJsYkJVHkz77zdUlNTb7l/7cYCIgoqkVrILDrvTUItPcMSVD/jMbH8z5vFL2C+l/A7xNHfJwsX1YsDset/14ZCIgoqkVrICBaahhpiYiIiIGAiIiIGAiIiIhIMRAQERERAwERERExEBAREZFiICAiIvrcE/n/uP7QWXD5ci4AAAAASUVORK5CYII=)\n"
   ]
  },
  {
   "cell_type": "code",
   "execution_count": 48,
   "metadata": {
    "colab": {
     "base_uri": "https://localhost:8080/",
     "height": 36
    },
    "executionInfo": {
     "elapsed": 438,
     "status": "ok",
     "timestamp": 1688360746097,
     "user": {
      "displayName": "naz nazira",
      "userId": "06694449877078577923"
     },
     "user_tz": -330
    },
    "id": "BIUN6eJEfAfz",
    "outputId": "4dedc6ad-2fe7-4e99-a6e4-f74ac9970b9a"
   },
   "outputs": [],
   "source": [
    "class Employee:\n",
    "  def __init__(self, name, salary):\n",
    "    self.name = name\n",
    "    self.salary = salary\n",
    "    self.bonus = 10000\n",
    "\n",
    "  def create_email_id(self):\n",
    "    self.email_id = self.name + \"@google.com\"\n",
    "\n",
    "class Developer(Employee):\n",
    "  pass\n",
    "\n",
    "dev1 = Developer(\"Johnny\", 80000)\n",
    "dev1.create_email_id()"
   ]
  },
  {
   "cell_type": "code",
   "execution_count": 49,
   "metadata": {},
   "outputs": [
    {
     "data": {
      "text/plain": [
       "{'name': 'Johnny',\n",
       " 'salary': 80000,\n",
       " 'bonus': 10000,\n",
       " 'email_id': 'Johnny@google.com'}"
      ]
     },
     "execution_count": 49,
     "metadata": {},
     "output_type": "execute_result"
    }
   ],
   "source": [
    "dev1.__dict__"
   ]
  },
  {
   "cell_type": "markdown",
   "metadata": {
    "id": "vcHtHOWtgU24"
   },
   "source": [
    "##### Multiple Inheritance\n",
    "In multiple inheritance, one child class can inherit from multiple parent classes. So here is one child class and multiple parent classes.\n",
    "![image.png](data:image/png;base64,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)"
   ]
  },
  {
   "cell_type": "code",
   "execution_count": 55,
   "metadata": {
    "colab": {
     "base_uri": "https://localhost:8080/"
    },
    "executionInfo": {
     "elapsed": 523,
     "status": "ok",
     "timestamp": 1688361393123,
     "user": {
      "displayName": "naz nazira",
      "userId": "06694449877078577923"
     },
     "user_tz": -330
    },
    "id": "UgZEVdQTgmvF",
    "outputId": "b9691e78-f781-4b55-8e1d-9ba2a99e2715"
   },
   "outputs": [
    {
     "name": "stdout",
     "output_type": "stream",
     "text": [
      "Inside Company class\n",
      "Name: ltimindtree location: chennai\n"
     ]
    }
   ],
   "source": [
    "# Parent class 1\n",
    "class Family:\n",
    "    def person_info(self, name, age):\n",
    "        print('Inside Family class')\n",
    "        print('Name:', name, 'Age:', age)\n",
    "\n",
    "# Parent class 2\n",
    "class Company:\n",
    "    def company_info(self, company_name, location):\n",
    "        print('Inside Company class')\n",
    "        print('Name:', company_name, 'location:', location)\n",
    "\n",
    "# Child class\n",
    "class Employee(Family, Company):\n",
    "    def Employee_info(self, salary, skill):\n",
    "        print('Inside Employee class')\n",
    "        print('Salary:', salary, 'Skill:', skill)\n",
    "\n",
    "# Create object of Employee\n",
    "emp = Employee()\n",
    "emp.company_info('ltimindtree', 'chennai')\n",
    "\n"
   ]
  },
  {
   "cell_type": "code",
   "execution_count": 70,
   "metadata": {},
   "outputs": [],
   "source": [
    "class A:\n",
    "    def info_of_A(self):\n",
    "        print(\"Info of A\")\n",
    "\n",
    "class B:\n",
    "    def info(self):\n",
    "        print(\"Info of B\")\n",
    "\n",
    "class C(B,A):\n",
    "    def info_of_c(self):\n",
    "        print(\"Info of C\")"
   ]
  },
  {
   "cell_type": "code",
   "execution_count": 71,
   "metadata": {},
   "outputs": [
    {
     "name": "stdout",
     "output_type": "stream",
     "text": [
      "Info of B\n"
     ]
    }
   ],
   "source": [
    "c1 = C()\n",
    "c1.info()"
   ]
  },
  {
   "cell_type": "code",
   "execution_count": 72,
   "metadata": {},
   "outputs": [
    {
     "data": {
      "text/plain": [
       "[__main__.C, __main__.B, __main__.A, object]"
      ]
     },
     "execution_count": 72,
     "metadata": {},
     "output_type": "execute_result"
    }
   ],
   "source": [
    "C.mro()"
   ]
  },
  {
   "cell_type": "code",
   "execution_count": 73,
   "metadata": {},
   "outputs": [
    {
     "name": "stdout",
     "output_type": "stream",
     "text": [
      "Help on class C in module __main__:\n",
      "\n",
      "class C(B, A)\n",
      " |  Method resolution order:\n",
      " |      C\n",
      " |      B\n",
      " |      A\n",
      " |      builtins.object\n",
      " |  \n",
      " |  Methods defined here:\n",
      " |  \n",
      " |  info_of_c(self)\n",
      " |  \n",
      " |  ----------------------------------------------------------------------\n",
      " |  Methods inherited from B:\n",
      " |  \n",
      " |  info(self)\n",
      " |  \n",
      " |  ----------------------------------------------------------------------\n",
      " |  Data descriptors inherited from B:\n",
      " |  \n",
      " |  __dict__\n",
      " |      dictionary for instance variables (if defined)\n",
      " |  \n",
      " |  __weakref__\n",
      " |      list of weak references to the object (if defined)\n",
      " |  \n",
      " |  ----------------------------------------------------------------------\n",
      " |  Methods inherited from A:\n",
      " |  \n",
      " |  info_of_A(self)\n",
      "\n"
     ]
    }
   ],
   "source": [
    "help(C)"
   ]
  },
  {
   "cell_type": "code",
   "execution_count": 80,
   "metadata": {},
   "outputs": [
    {
     "name": "stdout",
     "output_type": "stream",
     "text": [
      "Info of A\n"
     ]
    }
   ],
   "source": [
    "class A:\n",
    "    def info(self):\n",
    "        print(\"Info of A\")\n",
    "\n",
    "class B(A):\n",
    "    def info(self):\n",
    "        print(\"Info of B\")\n",
    "\n",
    "b1 = B()\n",
    "A.info(b1)                     # access parent class methods even when you have same method in your class"
   ]
  },
  {
   "cell_type": "code",
   "execution_count": 84,
   "metadata": {},
   "outputs": [
    {
     "name": "stdout",
     "output_type": "stream",
     "text": [
      "-------B---------\n",
      "B\n",
      "Info of B\n"
     ]
    }
   ],
   "source": [
    "class A:\n",
    "    def __init__(self):\n",
    "        self.obj = 'A'\n",
    "        print(\"-------A---------\")  \n",
    "    def info(self):\n",
    "        print(self.obj)\n",
    "        print(\"Info of A\")\n",
    "\n",
    "class B(A):\n",
    "    def __init__(self):\n",
    "        self.obj = 'B'\n",
    "        print(\"-------B---------\")   \n",
    "    def info(self):\n",
    "        print(self.obj)\n",
    "        print(\"Info of B\")\n",
    "\n",
    "b1 = B()\n",
    "b1.info()"
   ]
  },
  {
   "cell_type": "code",
   "execution_count": 85,
   "metadata": {},
   "outputs": [
    {
     "name": "stdout",
     "output_type": "stream",
     "text": [
      "B\n",
      "Info of A\n"
     ]
    }
   ],
   "source": [
    "A.info(b1)"
   ]
  },
  {
   "cell_type": "markdown",
   "metadata": {
    "id": "HrvwTrVVg6Uv"
   },
   "source": [
    "##### Multilevel inheritance\n",
    "- In multilevel inheritance, a class inherits from a child class or derived class. Suppose three classes A, B, C. A is the superclass, B is the child class of A, C is the child class of B. In other words, we can say a chain of classes is called multilevel inheritance.\n",
    "![image.png](data:image/png;base64,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)"
   ]
  },
  {
   "cell_type": "code",
   "execution_count": 89,
   "metadata": {
    "colab": {
     "base_uri": "https://localhost:8080/",
     "height": 52
    },
    "executionInfo": {
     "elapsed": 1142,
     "status": "ok",
     "timestamp": 1685695782657,
     "user": {
      "displayName": "naz nazira",
      "userId": "06694449877078577923"
     },
     "user_tz": -330
    },
    "id": "JsmTiA1LhKUW",
    "outputId": "f99074fa-eb92-433c-9413-76b20515591b"
   },
   "outputs": [
    {
     "data": {
      "text/plain": [
       "'Goa Bunglow'"
      ]
     },
     "execution_count": 89,
     "metadata": {},
     "output_type": "execute_result"
    }
   ],
   "source": [
    "# Base class\n",
    "class Grandparents:\n",
    "    def bunglow(self):\n",
    "        return 'Goa Bunglow'\n",
    "\n",
    "# Child class\n",
    "class Parents(Grandparents):\n",
    "    def car(self):\n",
    "        return 'BMW Car'\n",
    "\n",
    "# Child class\n",
    "class You(Parents):\n",
    "    def Phone(self):\n",
    "        return \"Iphone 12\"\n",
    "\n",
    "gokul = You()\n",
    "gokul.bunglow()"
   ]
  },
  {
   "cell_type": "code",
   "execution_count": 90,
   "metadata": {},
   "outputs": [
    {
     "name": "stdout",
     "output_type": "stream",
     "text": [
      "Help on class You in module __main__:\n",
      "\n",
      "class You(Parents)\n",
      " |  Method resolution order:\n",
      " |      You\n",
      " |      Parents\n",
      " |      Grandparents\n",
      " |      builtins.object\n",
      " |  \n",
      " |  Methods defined here:\n",
      " |  \n",
      " |  Phone(self)\n",
      " |  \n",
      " |  ----------------------------------------------------------------------\n",
      " |  Methods inherited from Parents:\n",
      " |  \n",
      " |  car(self)\n",
      " |  \n",
      " |  ----------------------------------------------------------------------\n",
      " |  Methods inherited from Grandparents:\n",
      " |  \n",
      " |  bunglow(self)\n",
      " |  \n",
      " |  ----------------------------------------------------------------------\n",
      " |  Data descriptors inherited from Grandparents:\n",
      " |  \n",
      " |  __dict__\n",
      " |      dictionary for instance variables (if defined)\n",
      " |  \n",
      " |  __weakref__\n",
      " |      list of weak references to the object (if defined)\n",
      "\n"
     ]
    }
   ],
   "source": [
    "help(You)"
   ]
  },
  {
   "cell_type": "code",
   "execution_count": 92,
   "metadata": {
    "colab": {
     "base_uri": "https://localhost:8080/",
     "height": 182
    },
    "executionInfo": {
     "elapsed": 384,
     "status": "error",
     "timestamp": 1675197339393,
     "user": {
      "displayName": "naz nazira",
      "userId": "06694449877078577923"
     },
     "user_tz": -330
    },
    "id": "khUjraw4isbb",
    "outputId": "4d22cc8e-f665-4fe7-fd8f-91b9c3637cff"
   },
   "outputs": [
    {
     "data": {
      "text/plain": [
       "'Goa Bunglow'"
      ]
     },
     "execution_count": 92,
     "metadata": {},
     "output_type": "execute_result"
    }
   ],
   "source": [
    "dad = Parents()\n",
    "dad.bunglow()"
   ]
  },
  {
   "cell_type": "markdown",
   "metadata": {
    "id": "JufSZI-ti0zL"
   },
   "source": [
    "##### Hierarchical Inheritance\n",
    "\n",
    "- one parent class and multiple child classes.\n",
    "\n",
    "![image.png](data:image/png;base64,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)"
   ]
  },
  {
   "cell_type": "code",
   "execution_count": 93,
   "metadata": {
    "colab": {
     "base_uri": "https://localhost:8080/"
    },
    "executionInfo": {
     "elapsed": 476,
     "status": "ok",
     "timestamp": 1675197450055,
     "user": {
      "displayName": "naz nazira",
      "userId": "06694449877078577923"
     },
     "user_tz": -330
    },
    "id": "shGAn6wtjDyd",
    "outputId": "19cc74a8-cbdd-4019-b08b-d1d0c61f0e7c"
   },
   "outputs": [
    {
     "name": "stdout",
     "output_type": "stream",
     "text": [
      "This is Vehicle\n",
      "Car name is: BMW\n",
      "This is Vehicle\n",
      "Truck name is: Ford\n"
     ]
    }
   ],
   "source": [
    "class Vehicle:\n",
    "    def info(self):\n",
    "        print(\"This is Vehicle\")\n",
    "\n",
    "class Car(Vehicle):\n",
    "    def car_info(self, name):\n",
    "        print(\"Car name is:\", name)\n",
    "\n",
    "class Truck(Vehicle):\n",
    "    def truck_info(self, name):\n",
    "        print(\"Truck name is:\", name)\n",
    "\n",
    "obj1 = Car()\n",
    "obj1.info()\n",
    "obj1.car_info('BMW')\n",
    "\n",
    "obj2 = Truck()\n",
    "obj2.info()\n",
    "obj2.truck_info('Ford')"
   ]
  },
  {
   "cell_type": "code",
   "execution_count": 94,
   "metadata": {},
   "outputs": [
    {
     "data": {
      "text/plain": [
       "[__main__.Vehicle, object]"
      ]
     },
     "execution_count": 94,
     "metadata": {},
     "output_type": "execute_result"
    }
   ],
   "source": [
    "Vehicle.mro()"
   ]
  },
  {
   "cell_type": "code",
   "execution_count": 95,
   "metadata": {},
   "outputs": [
    {
     "data": {
      "text/plain": [
       "[__main__.Car, __main__.Vehicle, object]"
      ]
     },
     "execution_count": 95,
     "metadata": {},
     "output_type": "execute_result"
    }
   ],
   "source": [
    "Car.mro()"
   ]
  },
  {
   "cell_type": "code",
   "execution_count": 96,
   "metadata": {},
   "outputs": [
    {
     "data": {
      "text/plain": [
       "[__main__.Truck, __main__.Vehicle, object]"
      ]
     },
     "execution_count": 96,
     "metadata": {},
     "output_type": "execute_result"
    }
   ],
   "source": [
    "Truck.mro()"
   ]
  },
  {
   "cell_type": "markdown",
   "metadata": {
    "id": "Iqb6ZXQbjLsk"
   },
   "source": [
    "##### Hybrid Inheritance\n",
    "- When inheritance is consists of multiple types or a combination of different inheritance is called hybrid inheritance.\n",
    "\n",
    "![image.png](data:image/png;base64,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)"
   ]
  },
  {
   "cell_type": "code",
   "execution_count": 97,
   "metadata": {
    "colab": {
     "base_uri": "https://localhost:8080/"
    },
    "executionInfo": {
     "elapsed": 386,
     "status": "ok",
     "timestamp": 1675197522509,
     "user": {
      "displayName": "naz nazira",
      "userId": "06694449877078577923"
     },
     "user_tz": -330
    },
    "id": "gxEP8MNajY6k",
    "outputId": "1ecbfe8b-6f47-48ed-d0ca-f2a737511856"
   },
   "outputs": [
    {
     "name": "stdout",
     "output_type": "stream",
     "text": [
      "Inside Vehicle class\n",
      "Inside Car class\n",
      "Inside SportsCar class\n"
     ]
    }
   ],
   "source": [
    "class Vehicle:\n",
    "    def vehicle_info(self):\n",
    "        print(\"Inside Vehicle class\")\n",
    "\n",
    "class Car(Vehicle):\n",
    "    def car_info(self):\n",
    "        print(\"Inside Car class\")\n",
    "\n",
    "class Truck(Vehicle):\n",
    "    def truck_info(self):\n",
    "        print(\"Inside Truck class\")\n",
    "\n",
    "# Sports Car can inherits properties of Vehicle and Car\n",
    "class SportsCar(Car, Vehicle):\n",
    "    def sports_car_info(self):\n",
    "        print(\"Inside SportsCar class\")\n",
    "\n",
    "# create object\n",
    "s_car = SportsCar()\n",
    "s_car.vehicle_info()\n",
    "s_car.car_info()\n",
    "s_car.sports_car_info()"
   ]
  },
  {
   "cell_type": "code",
   "execution_count": 98,
   "metadata": {},
   "outputs": [
    {
     "data": {
      "text/plain": [
       "[__main__.SportsCar, __main__.Car, __main__.Vehicle, object]"
      ]
     },
     "execution_count": 98,
     "metadata": {},
     "output_type": "execute_result"
    }
   ],
   "source": [
    "SportsCar.mro()"
   ]
  },
  {
   "cell_type": "markdown",
   "metadata": {
    "id": "xF-UAYpcjgzO"
   },
   "source": [
    "#### super()\n",
    "\n",
    "- In child class, we can refer to parent class by using the super() function.\n",
    "- The super function returns a temporary object of the parent class that allows us to call a parent class method inside a child class method."
   ]
  },
  {
   "cell_type": "code",
   "execution_count": 123,
   "metadata": {},
   "outputs": [
    {
     "name": "stdout",
     "output_type": "stream",
     "text": [
      "Constructor B\n",
      "Constructor C\n",
      "Constructor D\n"
     ]
    }
   ],
   "source": [
    "class A:\n",
    "    def __init__(self):\n",
    "        print(\"Constructor A\")\n",
    "    def play(self):\n",
    "        print(\"In A\")\n",
    "class B:\n",
    "    def __init__(self):\n",
    "        print(\"Constructor B\")\n",
    "class C:\n",
    "    def __init__(self):\n",
    "        super().__init__()\n",
    "        print(\"Constructor C\")\n",
    "class D(C):\n",
    "    def __init__(self):\n",
    "        super().__init__()\n",
    "        print(\"Constructor D\")\n",
    "    def play(self):\n",
    "        super().play()\n",
    "        print(\"In D\")\n",
    "\n",
    "d1 = D()"
   ]
  },
  {
   "cell_type": "code",
   "execution_count": 109,
   "metadata": {},
   "outputs": [
    {
     "name": "stdout",
     "output_type": "stream",
     "text": [
      "Help on class C in module __main__:\n",
      "\n",
      "class C(builtins.object)\n",
      " |  Methods defined here:\n",
      " |  \n",
      " |  __init__(self)\n",
      " |      Initialize self.  See help(type(self)) for accurate signature.\n",
      " |  \n",
      " |  ----------------------------------------------------------------------\n",
      " |  Data descriptors defined here:\n",
      " |  \n",
      " |  __dict__\n",
      " |      dictionary for instance variables (if defined)\n",
      " |  \n",
      " |  __weakref__\n",
      " |      list of weak references to the object (if defined)\n",
      "\n"
     ]
    }
   ],
   "source": [
    "help(C)"
   ]
  },
  {
   "cell_type": "code",
   "execution_count": null,
   "metadata": {},
   "outputs": [],
   "source": [
    "d1.play()"
   ]
  },
  {
   "cell_type": "code",
   "execution_count": null,
   "metadata": {
    "colab": {
     "base_uri": "https://localhost:8080/"
    },
    "executionInfo": {
     "elapsed": 497,
     "status": "ok",
     "timestamp": 1688204646640,
     "user": {
      "displayName": "naz nazira",
      "userId": "06694449877078577923"
     },
     "user_tz": -330
    },
    "id": "s9rwLfBOjZCR",
    "outputId": "717a3b42-589f-4eb0-9369-103bfec40a29"
   },
   "outputs": [],
   "source": [
    "class Company:\n",
    "    def company_name(self):\n",
    "        return 'Google'\n",
    "\n",
    "class Family:\n",
    "    ...\n",
    "\n",
    "class Employee(Family,Company):\n",
    "  def __init__(self, name):\n",
    "    self.name = name\n",
    "\n",
    "  def info(self):\n",
    "      # Calling the superclass method using super()function\n",
    "      c_name = super().company_name()\n",
    "      print(f\"{self.name} works at {c_name}\")\n",
    "\n",
    "# Creating object of child class\n",
    "emp = Employee(\"John\")\n",
    "emp.info()"
   ]
  },
  {
   "cell_type": "code",
   "execution_count": null,
   "metadata": {
    "colab": {
     "base_uri": "https://localhost:8080/"
    },
    "executionInfo": {
     "elapsed": 443,
     "status": "ok",
     "timestamp": 1687597018497,
     "user": {
      "displayName": "naz nazira",
      "userId": "06694449877078577923"
     },
     "user_tz": -330
    },
    "id": "TOis_2U0ntBu",
    "outputId": "0a351d93-8572-4242-a5cb-2119c9475321"
   },
   "outputs": [],
   "source": [
    "help(Employee)"
   ]
  },
  {
   "cell_type": "code",
   "execution_count": null,
   "metadata": {
    "colab": {
     "base_uri": "https://localhost:8080/"
    },
    "executionInfo": {
     "elapsed": 3,
     "status": "ok",
     "timestamp": 1688204649545,
     "user": {
      "displayName": "naz nazira",
      "userId": "06694449877078577923"
     },
     "user_tz": -330
    },
    "id": "7FGE2RoMnf27",
    "outputId": "e618ca82-29f7-42ce-cf3f-50156ab40c9a"
   },
   "outputs": [],
   "source": [
    "Employee.mro()"
   ]
  },
  {
   "cell_type": "code",
   "execution_count": null,
   "metadata": {
    "colab": {
     "base_uri": "https://localhost:8080/",
     "height": 35
    },
    "executionInfo": {
     "elapsed": 5,
     "status": "ok",
     "timestamp": 1685697042791,
     "user": {
      "displayName": "naz nazira",
      "userId": "06694449877078577923"
     },
     "user_tz": -330
    },
    "id": "3GFKunBzAo_P",
    "outputId": "8d408d25-d2b3-421f-b37c-fc5e576e0a9a"
   },
   "outputs": [],
   "source": [
    "class Employee(Family,Company):\n",
    "  def __init__(self, name,salary):\n",
    "    self.name = name\n",
    "\n",
    "  def info(self):\n",
    "      # Calling the superclass method using super()function\n",
    "      c_name = super().company_name()\n",
    "      print(f\"{self.name} works at {c_name}\")\n",
    "\n",
    "class Developer(Employee):\n",
    "  def __init__(self, dept, name,salary):\n",
    "    super().__init__(name,salary)\n",
    "    self.dept = dept\n",
    "\n",
    "  def info(self):\n",
    "      super().info()\n",
    "      print(\"Dev\")\n",
    "\n",
    "dev1 = Developer(\"IT\",\"John\", 50000)\n",
    "dev1.info()"
   ]
  },
  {
   "cell_type": "code",
   "execution_count": null,
   "metadata": {},
   "outputs": [],
   "source": [
    "class A:\n",
    "    def __init__(self):\n",
    "        print(\"Init\")\n",
    "    def __new__(cls):\n",
    "        print(\"New\")\n",
    "        return super().__new__(cls)\n",
    "\n",
    "obj = A()"
   ]
  },
  {
   "cell_type": "code",
   "execution_count": null,
   "metadata": {},
   "outputs": [],
   "source": [
    "class Demo:\n",
    "    def __new__(self):\n",
    "        self.__init__(self)\n",
    "        print(\"Demo's __new__() invoked\")\n",
    "    def __init__(self):\n",
    "        print(\"Demo's __init__() invoked\")\n",
    "class Derived_Demo(Demo):\n",
    "    def __new__(self):\n",
    "        print(\"Derived_Demo's __new__() invoked\")\n",
    "    def __init__(self):\n",
    "        print(\"Derived_Demo's __init__() invoked\")\n",
    "def main():\n",
    "    obj1 = Derived_Demo()\n",
    "    obj2 = Demo()\n",
    "main()"
   ]
  },
  {
   "cell_type": "markdown",
   "metadata": {},
   "source": [
    "# Closures\n",
    "function defined inside another function that remembers the variables from the enclosing (outer) function, even after the outer function has finished executing."
   ]
  },
  {
   "cell_type": "code",
   "execution_count": null,
   "metadata": {},
   "outputs": [],
   "source": [
    "def outer_function(msg):\n",
    "    def inner_function():\n",
    "        print(f\"Message: {msg}\")\n",
    "    return inner_function\n",
    "\n",
    "# Create a closure\n",
    "greet = outer_function(\"Hello!\")\n",
    "\n",
    "# Call the closure\n",
    "greet()  # Output: Message: Hello!"
   ]
  },
  {
   "cell_type": "code",
   "execution_count": 6,
   "metadata": {},
   "outputs": [
    {
     "name": "stdout",
     "output_type": "stream",
     "text": [
      "25\n",
      "8\n"
     ]
    }
   ],
   "source": [
    "def power_of(n):\n",
    "    def inner(x):\n",
    "        return x ** n\n",
    "    return inner\n",
    "\n",
    "square = power_of(2)\n",
    "cube = power_of(3)\n",
    "\n",
    "print(square(5))  # 25\n",
    "print(cube(2))    # 8"
   ]
  },
  {
   "cell_type": "code",
   "execution_count": null,
   "metadata": {},
   "outputs": [],
   "source": [
    "def counter():\n",
    "    count = 0\n",
    "    def increment():\n",
    "        nonlocal count\n",
    "        count += 1\n",
    "        return count\n",
    "    return increment\n",
    "\n",
    "c = counter()\n",
    "print(c())  # 1\n",
    "print(c())  # 2"
   ]
  },
  {
   "cell_type": "markdown",
   "metadata": {},
   "source": [
    "# Decorators\n",
    "\n",
    "A decorator in Python is a function that:\n",
    "\n",
    "- Takes another function as input\n",
    "- Adds extra behavior to it\n",
    "- Returns a new function"
   ]
  },
  {
   "cell_type": "code",
   "execution_count": 7,
   "metadata": {},
   "outputs": [],
   "source": [
    "def my_decorator(func):\n",
    "    def wrapper():\n",
    "        print(\"Before the function runs\")\n",
    "        func()\n",
    "        print(\"After the function runs\")\n",
    "    return wrapper"
   ]
  },
  {
   "cell_type": "code",
   "execution_count": 11,
   "metadata": {},
   "outputs": [],
   "source": [
    "@my_decorator\n",
    "def say_hello():\n",
    "    print(\"Hello!\")"
   ]
  },
  {
   "cell_type": "markdown",
   "metadata": {},
   "source": [
    "This is same as\n",
    "```\n",
    "def say_hello():\n",
    "    print(\"Hello!\")\n",
    "\n",
    "say_hello = my_decorator(say_hello)\n",
    "```"
   ]
  },
  {
   "cell_type": "code",
   "execution_count": null,
   "metadata": {},
   "outputs": [],
   "source": [
    "say_hello()"
   ]
  },
  {
   "cell_type": "code",
   "execution_count": 10,
   "metadata": {},
   "outputs": [
    {
     "name": "stdout",
     "output_type": "stream",
     "text": [
      "Task done!\n",
      "long_task took 1.0055 seconds\n"
     ]
    }
   ],
   "source": [
    "import time\n",
    "\n",
    "def timing(func):\n",
    "    def wrapper(*args, **kwargs):\n",
    "        start = time.time()\n",
    "        result = func(*args, **kwargs)\n",
    "        end = time.time()\n",
    "        print(f\"{func.__name__} took {end - start:.4f} seconds\")\n",
    "        return result\n",
    "    return wrapper\n",
    "\n",
    "@timing\n",
    "def long_task():\n",
    "    time.sleep(1)\n",
    "    print(\"Task done!\")\n",
    "\n",
    "long_task()"
   ]
  },
  {
   "cell_type": "code",
   "execution_count": null,
   "metadata": {},
   "outputs": [],
   "source": []
  }
 ],
 "metadata": {
  "colab": {
   "collapsed_sections": [
    "BgH0UIIGFYdz",
    "Y870IYV5CLrY",
    "NzJ1XgJJq898",
    "U-gQvJgBxox6",
    "6UAnxgNfSq_8",
    "rSbSQJHwSwE1",
    "k8vzVPClQlW0",
    "3rbSJNDRekAI",
    "jvitpdZGELcS",
    "8nAsEjgeS0E3",
    "l-O80MYZSmv9",
    "LbFg8_mPwaWF",
    "3bxcCfGJzlaH",
    "iMp3uyR0OzEl",
    "BR4gQCvPfYTe",
    "C-H7FDoIZxIA",
    "2t8QJ0BHZ5R-",
    "PMSBdeh-GwPs",
    "lQx0bB5oV_h6",
    "lgYlQP5GP4la",
    "BRhV_mMF2908",
    "Zq1H1SRz5KJZ",
    "h6f_bk0BdaSc"
   ],
   "provenance": [],
   "toc_visible": true
  },
  "kernelspec": {
   "display_name": "Python 3 (ipykernel)",
   "language": "python",
   "name": "python3"
  },
  "language_info": {
   "codemirror_mode": {
    "name": "ipython",
    "version": 3
   },
   "file_extension": ".py",
   "mimetype": "text/x-python",
   "name": "python",
   "nbconvert_exporter": "python",
   "pygments_lexer": "ipython3",
   "version": "3.10.11"
  }
 },
 "nbformat": 4,
 "nbformat_minor": 4
}
