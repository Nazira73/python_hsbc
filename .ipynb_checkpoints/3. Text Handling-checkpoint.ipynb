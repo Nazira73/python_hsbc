{
 "cells": [
  {
   "cell_type": "markdown",
   "metadata": {
    "id": "Rph5Xv6Sn08J"
   },
   "source": [
    "# String"
   ]
  },
  {
   "cell_type": "markdown",
   "metadata": {
    "id": "Rph5Xv6Sn08J"
   },
   "source": [
    "Anything written in single quote or double quote is a string"
   ]
  },
  {
   "cell_type": "markdown",
   "metadata": {
    "id": "7gPUDQyGZ7Il",
    "jp-MarkdownHeadingCollapsed": true
   },
   "source": [
    "## String Operations"
   ]
  },
  {
   "cell_type": "markdown",
   "metadata": {
    "id": "7gPUDQyGZ7Il"
   },
   "source": [
    "1. String Concatenation (+)\n",
    "2. String Replication (*)"
   ]
  },
  {
   "cell_type": "code",
   "execution_count": null,
   "metadata": {},
   "outputs": [],
   "source": [
    "\"hello\" + \"hi\""
   ]
  },
  {
   "cell_type": "code",
   "execution_count": null,
   "metadata": {},
   "outputs": [],
   "source": [
    "\"hello \"*3"
   ]
  },
  {
   "cell_type": "code",
   "execution_count": null,
   "metadata": {},
   "outputs": [],
   "source": [
    "# WAp to print a line\n",
    "print(\"_\"*100)"
   ]
  },
  {
   "cell_type": "markdown",
   "metadata": {
    "id": "PxLgwXkCy36D"
   },
   "source": [
    "## String Indexing"
   ]
  },
  {
   "cell_type": "code",
   "execution_count": null,
   "metadata": {},
   "outputs": [],
   "source": [
    "s = \"Nuvama Weal\"\n",
    "len(s)"
   ]
  },
  {
   "cell_type": "code",
   "execution_count": null,
   "metadata": {},
   "outputs": [],
   "source": [
    "s[0]"
   ]
  },
  {
   "cell_type": "code",
   "execution_count": null,
   "metadata": {},
   "outputs": [],
   "source": [
    "s[-11]"
   ]
  },
  {
   "cell_type": "code",
   "execution_count": null,
   "metadata": {},
   "outputs": [],
   "source": [
    "s[7]"
   ]
  },
  {
   "cell_type": "code",
   "execution_count": null,
   "metadata": {},
   "outputs": [],
   "source": [
    "s[1:3]"
   ]
  },
  {
   "cell_type": "code",
   "execution_count": null,
   "metadata": {},
   "outputs": [],
   "source": [
    "s[4:8]"
   ]
  },
  {
   "cell_type": "code",
   "execution_count": null,
   "metadata": {},
   "outputs": [],
   "source": [
    "s[-11:-8]"
   ]
  },
  {
   "cell_type": "code",
   "execution_count": null,
   "metadata": {},
   "outputs": [],
   "source": [
    "s[0:10]"
   ]
  },
  {
   "cell_type": "code",
   "execution_count": null,
   "metadata": {},
   "outputs": [],
   "source": [
    "s[0:10:2]"
   ]
  },
  {
   "cell_type": "code",
   "execution_count": null,
   "metadata": {},
   "outputs": [],
   "source": [
    "s[-11:-8:1]"
   ]
  },
  {
   "cell_type": "code",
   "execution_count": null,
   "metadata": {},
   "outputs": [],
   "source": [
    "s[-11:-8:-1]"
   ]
  },
  {
   "cell_type": "code",
   "execution_count": null,
   "metadata": {},
   "outputs": [],
   "source": [
    "s[0:8:-1]"
   ]
  },
  {
   "cell_type": "code",
   "execution_count": null,
   "metadata": {},
   "outputs": [],
   "source": [
    "s[0:1000]"
   ]
  },
  {
   "cell_type": "code",
   "execution_count": null,
   "metadata": {},
   "outputs": [],
   "source": [
    "s[0:len(s)]"
   ]
  },
  {
   "cell_type": "code",
   "execution_count": null,
   "metadata": {},
   "outputs": [],
   "source": [
    "# omit case\n",
    "s[:5]"
   ]
  },
  {
   "cell_type": "code",
   "execution_count": null,
   "metadata": {},
   "outputs": [],
   "source": [
    "s[2:]"
   ]
  },
  {
   "cell_type": "code",
   "execution_count": null,
   "metadata": {},
   "outputs": [],
   "source": [
    "s[:]"
   ]
  },
  {
   "cell_type": "code",
   "execution_count": null,
   "metadata": {},
   "outputs": [],
   "source": [
    "s[:8:2]"
   ]
  },
  {
   "cell_type": "code",
   "execution_count": null,
   "metadata": {},
   "outputs": [],
   "source": [
    "s[:5:-2]"
   ]
  },
  {
   "cell_type": "code",
   "execution_count": null,
   "metadata": {},
   "outputs": [],
   "source": [
    "s[:7:-1]"
   ]
  },
  {
   "cell_type": "code",
   "execution_count": null,
   "metadata": {},
   "outputs": [],
   "source": [
    "s[7::-1]"
   ]
  },
  {
   "cell_type": "code",
   "execution_count": null,
   "metadata": {},
   "outputs": [],
   "source": [
    "s[::-1]"
   ]
  },
  {
   "cell_type": "markdown",
   "metadata": {
    "id": "Ijuq9jKB0UFy"
   },
   "source": [
    "## Strings are immutable"
   ]
  },
  {
   "cell_type": "markdown",
   "metadata": {
    "id": "Ijuq9jKB0UFy",
    "jp-MarkdownHeadingCollapsed": true
   },
   "source": [
    "part of string cannot be modified"
   ]
  },
  {
   "cell_type": "code",
   "execution_count": null,
   "metadata": {},
   "outputs": [],
   "source": [
    "s"
   ]
  },
  {
   "cell_type": "code",
   "execution_count": null,
   "metadata": {},
   "outputs": [],
   "source": [
    "s[0]"
   ]
  },
  {
   "cell_type": "code",
   "execution_count": null,
   "metadata": {},
   "outputs": [],
   "source": [
    "s[0] = \"M\""
   ]
  },
  {
   "cell_type": "code",
   "execution_count": null,
   "metadata": {},
   "outputs": [],
   "source": [
    "s = \"abc\"\n",
    "s"
   ]
  },
  {
   "cell_type": "markdown",
   "metadata": {
    "id": "PI5lFaoV0uU3"
   },
   "source": [
    "## String Methods"
   ]
  },
  {
   "cell_type": "code",
   "execution_count": null,
   "metadata": {},
   "outputs": [],
   "source": [
    "dir(str)"
   ]
  },
  {
   "cell_type": "code",
   "execution_count": null,
   "metadata": {},
   "outputs": [],
   "source": [
    "help(str.zfill)"
   ]
  },
  {
   "cell_type": "markdown",
   "metadata": {
    "jp-MarkdownHeadingCollapsed": true
   },
   "source": [
    "#### upper,lower"
   ]
  },
  {
   "cell_type": "code",
   "execution_count": null,
   "metadata": {},
   "outputs": [],
   "source": [
    "s = \"Mumbai to Goa\"\n",
    "s"
   ]
  },
  {
   "cell_type": "code",
   "execution_count": null,
   "metadata": {},
   "outputs": [],
   "source": [
    "s.upper()"
   ]
  },
  {
   "cell_type": "code",
   "execution_count": null,
   "metadata": {},
   "outputs": [],
   "source": [
    "s.lower()"
   ]
  },
  {
   "cell_type": "code",
   "execution_count": null,
   "metadata": {},
   "outputs": [],
   "source": [
    "s.swapcase()"
   ]
  },
  {
   "cell_type": "code",
   "execution_count": null,
   "metadata": {},
   "outputs": [],
   "source": [
    "s.capitalize()"
   ]
  },
  {
   "cell_type": "markdown",
   "metadata": {
    "jp-MarkdownHeadingCollapsed": true
   },
   "source": [
    "#### find"
   ]
  },
  {
   "cell_type": "code",
   "execution_count": null,
   "metadata": {},
   "outputs": [],
   "source": [
    "help(str.find)"
   ]
  },
  {
   "cell_type": "code",
   "execution_count": null,
   "metadata": {},
   "outputs": [],
   "source": [
    "s"
   ]
  },
  {
   "cell_type": "code",
   "execution_count": null,
   "metadata": {},
   "outputs": [],
   "source": [
    "s.find(\"a\")"
   ]
  },
  {
   "cell_type": "code",
   "execution_count": null,
   "metadata": {},
   "outputs": [],
   "source": [
    "s.find(\"a\",5)"
   ]
  },
  {
   "cell_type": "code",
   "execution_count": null,
   "metadata": {},
   "outputs": [],
   "source": [
    "s.find(\"a\",13)"
   ]
  },
  {
   "cell_type": "code",
   "execution_count": null,
   "metadata": {},
   "outputs": [],
   "source": [
    "s.lower().find(\"goa\")"
   ]
  },
  {
   "cell_type": "markdown",
   "metadata": {
    "jp-MarkdownHeadingCollapsed": true
   },
   "source": [
    "#### count,replace"
   ]
  },
  {
   "cell_type": "code",
   "execution_count": null,
   "metadata": {},
   "outputs": [],
   "source": [
    "text = \"Hello How are you Hahaha hello, Hello Hello hello HEllO\"\n",
    "text"
   ]
  },
  {
   "cell_type": "code",
   "execution_count": null,
   "metadata": {},
   "outputs": [],
   "source": [
    "text.count(\"hello\")"
   ]
  },
  {
   "cell_type": "code",
   "execution_count": null,
   "metadata": {},
   "outputs": [],
   "source": [
    "text.upper().count(\"HELLO\")"
   ]
  },
  {
   "cell_type": "code",
   "execution_count": null,
   "metadata": {},
   "outputs": [],
   "source": [
    "text"
   ]
  },
  {
   "cell_type": "code",
   "execution_count": null,
   "metadata": {},
   "outputs": [],
   "source": [
    "text.lower().replace(\"hello\", \"hi\")"
   ]
  },
  {
   "cell_type": "code",
   "execution_count": null,
   "metadata": {
    "id": "BymH4bpk0AHV"
   },
   "outputs": [],
   "source": [
    "text = \"\"\"This article is about the German eszett. For the Greek letter that looks similar, see Beta. For the Chinese radical, see 阝. For the Malayalam script, see ഭ.\n",
    "Not to be confused with the Latin letter B.\n",
    "ẞ\n",
    "ẞ ß\n",
    "Latin letter eszett.svg\n",
    "Usage\n",
    "Writing system\tLatin script\n",
    "Type\tAlphabetic\n",
    "Language of origin\tEarly New High German\n",
    "Phonetic usage\t[s]\n",
    "Unicode codepoint\tU+1E9E, U+00DF\n",
    "History\n",
    "Development\n",
    "M40\t,\tZ4\n",
    "Proto-Sinaitic Shin, Proto-Sinaitic Zayin\n",
    "Phoenician Sin, Phoenician Zayin\n",
    "ς, ζ\n",
    "𐌔, 𐌆\n",
    "sz\n",
    "ſʒ\n",
    "ẞ ß\n",
    "Time period\t~1300s to present\n",
    "Descendants\tNone\n",
    "Sisters\tNone\n",
    "Transliteration equivalents\tss, sz\n",
    "Other\n",
    "Other letters commonly used with\tss, sz\n",
    "This article contains phonetic transcriptions in the International Phonetic Alphabet (IPA). For an introductory guide on IPA symbols, see Help:IPA. For the distinction between [ ], / / and ⟨ ⟩, see IPA § Brackets and transcription delimiters.\n",
    "\n",
    "\n",
    "\n",
    "\n",
    "Variant forms of Eszett (from top-left to bottom-right): Cambria (2004), Lucida Sans (1985), Theuerdank blackletter (1933, based on a 1517 type), handwritten Kurrent (1865)\n",
    "In German orthography, the letter ß, called Eszett (IPA: [ɛsˈtsɛt] ess-TSET) and scharfes S (IPA: [ˌʃaʁfəs ˈʔɛs], \"sharp S\"), represents the /s/ phoneme in Standard German when following long vowels and diphthongs. The letter-name Eszett combines the names of the letters of ⟨s⟩ (Es) and ⟨z⟩ (Zett) in German. The character's Unicode names in English are sharp s[1] and eszett.[1] The Eszett letter is used only in German, and can be typographically replaced with the double-s digraph ⟨ss⟩, if the ß-character is unavailable. In the 20th century, the ß-character was replaced with ss in the spelling of Swiss Standard German (Switzerland and Liechtenstein), while remaining Standard German spelling in other varieties of German language.[2]\n",
    "\n",
    "The letter originates as the ⟨sz⟩ digraph as used in late medieval and early modern German orthography, represented as a ligature of ⟨ſ⟩ (long s) and ⟨ʒ⟩ (tailed z) in blackletter typefaces, yielding ⟨ſʒ⟩.[a] This developed from an earlier usage of ⟨z⟩ in Old and Middle High German to represent a separate sibilant sound from ⟨s⟩; when the difference between the two sounds was lost in the 13th century, the two symbols came to be combined as ⟨sz⟩ in some situations.\n",
    "\n",
    "Traditionally, ⟨ß⟩ did not have a capital form, although some type designers introduced de facto capitalized variants. In 2017, the Council for German Orthography officially adopted a capital, ⟨ẞ⟩, into German orthography, ending a long orthographic debate.[3]\n",
    "\n",
    "⟨ß⟩ was encoded by ECMA-94 (1985) at position 223 ß(hexadecimal DF), inherited by Latin-1 and Unicode (U+00DF ß LATIN SMALL LETTER SHARP S).[4] The HTML entity &szlig; was introduced with HTML 2.0 (1995). The capital (U+1E9E ẞ LATIN CAPITAL LETTER SHARP S) was encoded by ISO 10646 in 2008.\n",
    "\"\"\""
   ]
  },
  {
   "cell_type": "code",
   "execution_count": null,
   "metadata": {},
   "outputs": [],
   "source": [
    "text.count('ß')"
   ]
  },
  {
   "cell_type": "code",
   "execution_count": null,
   "metadata": {},
   "outputs": [],
   "source": [
    "text.replace('ß', '..............')"
   ]
  },
  {
   "cell_type": "markdown",
   "metadata": {},
   "source": [
    "#### split"
   ]
  },
  {
   "cell_type": "code",
   "execution_count": null,
   "metadata": {},
   "outputs": [],
   "source": [
    "data = \"123,456,45,36\""
   ]
  },
  {
   "cell_type": "code",
   "execution_count": null,
   "metadata": {},
   "outputs": [],
   "source": [
    "data.split(\",\")"
   ]
  },
  {
   "cell_type": "code",
   "execution_count": null,
   "metadata": {},
   "outputs": [],
   "source": [
    "data1 = \"123.456.45.36\"\n",
    "data1"
   ]
  },
  {
   "cell_type": "code",
   "execution_count": null,
   "metadata": {},
   "outputs": [],
   "source": [
    "data1.split(\".\")"
   ]
  },
  {
   "cell_type": "code",
   "execution_count": null,
   "metadata": {},
   "outputs": [],
   "source": [
    "data2 = \"123,456.45.36,100,\"\n",
    "data2"
   ]
  },
  {
   "cell_type": "code",
   "execution_count": null,
   "metadata": {},
   "outputs": [],
   "source": [
    "data2.split(\",\")"
   ]
  },
  {
   "cell_type": "markdown",
   "metadata": {},
   "source": [
    "#### join\n",
    "- \"sep\".join(iterable)"
   ]
  },
  {
   "cell_type": "code",
   "execution_count": null,
   "metadata": {},
   "outputs": [],
   "source": [
    "data = ['45', '89', '75', '63']\n",
    "\" \".join(data)"
   ]
  },
  {
   "cell_type": "code",
   "execution_count": 1,
   "metadata": {},
   "outputs": [
    {
     "data": {
      "text/plain": [
       "'h#e#l#l#o'"
      ]
     },
     "execution_count": 1,
     "metadata": {},
     "output_type": "execute_result"
    }
   ],
   "source": [
    "\"#\".join('hello')"
   ]
  },
  {
   "cell_type": "code",
   "execution_count": 2,
   "metadata": {},
   "outputs": [
    {
     "data": {
      "text/plain": [
       "'h.e.l.l.o'"
      ]
     },
     "execution_count": 2,
     "metadata": {},
     "output_type": "execute_result"
    }
   ],
   "source": [
    "\".\".join('hello')"
   ]
  },
  {
   "cell_type": "code",
   "execution_count": 3,
   "metadata": {},
   "outputs": [
    {
     "data": {
      "text/plain": [
       "'hello'"
      ]
     },
     "execution_count": 3,
     "metadata": {},
     "output_type": "execute_result"
    }
   ],
   "source": [
    "\"\".join('hello')"
   ]
  },
  {
   "cell_type": "code",
   "execution_count": 4,
   "metadata": {},
   "outputs": [
    {
     "data": {
      "text/plain": [
       "'102030'"
      ]
     },
     "execution_count": 4,
     "metadata": {},
     "output_type": "execute_result"
    }
   ],
   "source": [
    "\"\".join(['10','20','30'])"
   ]
  },
  {
   "cell_type": "markdown",
   "metadata": {},
   "source": [
    "# Practice Programs"
   ]
  },
  {
   "cell_type": "code",
   "execution_count": 5,
   "metadata": {},
   "outputs": [
    {
     "data": {
      "text/plain": [
       "3"
      ]
     },
     "execution_count": 5,
     "metadata": {},
     "output_type": "execute_result"
    }
   ],
   "source": [
    "# 1. WAP to calculate the length of the string\n",
    "s = \"abc\"\n",
    "len(s)"
   ]
  },
  {
   "cell_type": "code",
   "execution_count": 6,
   "metadata": {},
   "outputs": [
    {
     "name": "stdin",
     "output_type": "stream",
     "text": [
      " heLLO\n"
     ]
    },
    {
     "data": {
      "text/plain": [
       "2"
      ]
     },
     "execution_count": 6,
     "metadata": {},
     "output_type": "execute_result"
    }
   ],
   "source": [
    "# 2. WAP to calculate number of times a word is present in a given text\n",
    "text = \"Hello how are you, hello\"\n",
    "query_text = input()\n",
    "text.lower().count(query_text.lower())"
   ]
  },
  {
   "cell_type": "code",
   "execution_count": 8,
   "metadata": {},
   "outputs": [
    {
     "data": {
      "text/plain": [
       "5"
      ]
     },
     "execution_count": 8,
     "metadata": {},
     "output_type": "execute_result"
    }
   ],
   "source": [
    "# 3. WAP to calculate number of words in a given text\n",
    "text = \"Hello how are you, hello\"\n",
    "len(text.split())"
   ]
  },
  {
   "cell_type": "code",
   "execution_count": 10,
   "metadata": {},
   "outputs": [
    {
     "data": {
      "text/plain": [
       "'txt'"
      ]
     },
     "execution_count": 10,
     "metadata": {},
     "output_type": "execute_result"
    }
   ],
   "source": [
    "# 4. WAP to find the extension of a given filename\n",
    "filename = 'abc.txt'\n",
    "filename.split(\".\")[-1]"
   ]
  },
  {
   "cell_type": "code",
   "execution_count": 11,
   "metadata": {},
   "outputs": [
    {
     "data": {
      "text/plain": [
       "'resta$t$'"
      ]
     },
     "execution_count": 11,
     "metadata": {},
     "output_type": "execute_result"
    }
   ],
   "source": [
    "# 5. Write a Python program to get a string from a given string where all occurrences of its \n",
    "# first char have been changed to '$', except the first char itself.\n",
    "# Sample String : 'restartr'\n",
    "# Expected Result : 'resta$t$'\n",
    "\n",
    "text = 'restartr'\n",
    "first = text[0]\n",
    "rest = text[1:]\n",
    "first + rest.replace(first, \"$\")"
   ]
  },
  {
   "cell_type": "code",
   "execution_count": null,
   "metadata": {},
   "outputs": [],
   "source": [
    "# 6. Write a Python program to find the first appearance of the substrings 'not' and 'poor' \n",
    "# in a given string. \n",
    "# If 'not' follows 'poor', replace the whole 'not'...'poor' substring with 'good'. \n",
    "# Return the resulting string.\n",
    "# Sample String : 'The lyrics is not that poor!'\n",
    "# 'The lyrics is poor!'\n",
    "# Expected Result : 'The lyrics is good!'\n",
    "\n",
    "text = 'The lyrics is not that poor and is bad!'\n"
   ]
  },
  {
   "cell_type": "code",
   "execution_count": 12,
   "metadata": {},
   "outputs": [
    {
     "name": "stdin",
     "output_type": "stream",
     "text": [
      "Enter the text to be found :  hello\n"
     ]
    },
    {
     "name": "stdout",
     "output_type": "stream",
     "text": [
      "hello occurs in the following positions: \n",
      "0 - 4\n",
      "25 - 29\n",
      "32 - 36\n",
      "38 - 42\n",
      "44 - 48\n",
      "50 - 54\n"
     ]
    }
   ],
   "source": [
    "# 7.WAP to find all occurences of a given substring in a given string\n",
    "text = \"Hello How are you Hahaha hello, Hello Hello hello HEllO\"\n",
    "substr = input(\"Enter the text to be found : \")\n",
    "print(f\"{substr} occurs in the following positions: \")\n",
    "flag = 0\n",
    "while True:\n",
    "    if flag == 0:\n",
    "        index = text.lower().find(substr.lower())\n",
    "        flag = 1\n",
    "    else:\n",
    "        index = text.lower().find(substr.lower(), end_index + 1)\n",
    "    start_index = index\n",
    "    end_index = index + len(substr) - 1\n",
    "    if index == -1:\n",
    "        break\n",
    "    print(f\"{start_index} - {end_index}\")"
   ]
  },
  {
   "cell_type": "code",
   "execution_count": 14,
   "metadata": {},
   "outputs": [
    {
     "name": "stdin",
     "output_type": "stream",
     "text": [
      "Enter the text to be found :  HellO\n"
     ]
    },
    {
     "name": "stdout",
     "output_type": "stream",
     "text": [
      "HellO occurs in the following positions: \n",
      "0 - 4\n",
      "25 - 29\n",
      "32 - 36\n",
      "38 - 42\n",
      "44 - 48\n",
      "50 - 54\n"
     ]
    }
   ],
   "source": [
    "text = \"Hello How are you Hahaha hello, Hello Hello hello HEllO\"\n",
    "substr = input(\"Enter the text to be found : \")\n",
    "flag = 0\n",
    "print(f\"{substr} occurs in the following positions: \")\n",
    "for i in range(text.lower().count(substr.lower())):\n",
    "    if flag == 0:\n",
    "        index = text.lower().find(substr.lower())\n",
    "        flag = 1\n",
    "    else:\n",
    "        index = text.lower().find(substr.lower(), end_index + 1)\n",
    "    start_index = index\n",
    "    end_index = index + len(substr) - 1 \n",
    "    print(f\"{start_index} - {end_index}\")"
   ]
  },
  {
   "cell_type": "code",
   "execution_count": null,
   "metadata": {},
   "outputs": [],
   "source": [
    "# 8. WAP that checks whether a passed string is palindrome or not.\n",
    "text = input()\n"
   ]
  },
  {
   "cell_type": "code",
   "execution_count": null,
   "metadata": {},
   "outputs": [],
   "source": [
    "# 9. Write a Python program to count the number of vowels in a given text\n",
    "text = input()\n"
   ]
  },
  {
   "cell_type": "code",
   "execution_count": null,
   "metadata": {},
   "outputs": [],
   "source": [
    "# 10. Hide initial digits of account number (show only last 4)\n",
    "# example : 00000123456789\n",
    "# output :  xxxxxxxxxx6789\n",
    "acc_no = '00000123456789'\n"
   ]
  },
  {
   "cell_type": "code",
   "execution_count": null,
   "metadata": {},
   "outputs": [],
   "source": [
    "# 11. Write a Python program to remove characters that have odd index values in a given string.\n"
   ]
  },
  {
   "cell_type": "code",
   "execution_count": null,
   "metadata": {},
   "outputs": [],
   "source": [
    "# 12. Write a Python program to remove a newline in a given text.\n"
   ]
  },
  {
   "cell_type": "code",
   "execution_count": null,
   "metadata": {},
   "outputs": [],
   "source": []
  }
 ],
 "metadata": {
  "colab": {
   "collapsed_sections": [
    "BgH0UIIGFYdz",
    "Y870IYV5CLrY",
    "NzJ1XgJJq898",
    "U-gQvJgBxox6",
    "6UAnxgNfSq_8",
    "rSbSQJHwSwE1",
    "k8vzVPClQlW0",
    "3rbSJNDRekAI",
    "jvitpdZGELcS",
    "8nAsEjgeS0E3",
    "l-O80MYZSmv9",
    "LbFg8_mPwaWF",
    "3bxcCfGJzlaH",
    "iMp3uyR0OzEl",
    "BR4gQCvPfYTe",
    "C-H7FDoIZxIA",
    "2t8QJ0BHZ5R-",
    "PMSBdeh-GwPs",
    "lQx0bB5oV_h6",
    "lgYlQP5GP4la",
    "BRhV_mMF2908",
    "Zq1H1SRz5KJZ",
    "h6f_bk0BdaSc"
   ],
   "provenance": [],
   "toc_visible": true
  },
  "kernelspec": {
   "display_name": "Python 3 (ipykernel)",
   "language": "python",
   "name": "python3"
  },
  "language_info": {
   "codemirror_mode": {
    "name": "ipython",
    "version": 3
   },
   "file_extension": ".py",
   "mimetype": "text/x-python",
   "name": "python",
   "nbconvert_exporter": "python",
   "pygments_lexer": "ipython3",
   "version": "3.10.11"
  }
 },
 "nbformat": 4,
 "nbformat_minor": 4
}
