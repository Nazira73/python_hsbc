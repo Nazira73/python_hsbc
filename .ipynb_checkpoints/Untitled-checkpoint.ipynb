{
 "cells": [
  {
   "cell_type": "code",
   "execution_count": 1,
   "id": "8f4fa35a-5ee9-457e-ad4a-aa3a4003e89c",
   "metadata": {},
   "outputs": [],
   "source": [
    "def add(x,y):\n",
    "    return x+y"
   ]
  },
  {
   "cell_type": "code",
   "execution_count": 2,
   "id": "8657a1f4-226c-4bec-9097-5e36ea91a187",
   "metadata": {},
   "outputs": [
    {
     "data": {
      "text/plain": [
       "<function __main__.add(x, y)>"
      ]
     },
     "execution_count": 2,
     "metadata": {},
     "output_type": "execute_result"
    }
   ],
   "source": [
    "add"
   ]
  },
  {
   "cell_type": "code",
   "execution_count": 3,
   "id": "fd02c065-b31e-45fc-82c5-da7afda76855",
   "metadata": {},
   "outputs": [
    {
     "data": {
      "text/plain": [
       "30"
      ]
     },
     "execution_count": 3,
     "metadata": {},
     "output_type": "execute_result"
    }
   ],
   "source": [
    "add(10,20)"
   ]
  },
  {
   "cell_type": "code",
   "execution_count": 4,
   "id": "d1ac24a0-377e-4342-968e-8f6f6b7b495e",
   "metadata": {},
   "outputs": [
    {
     "data": {
      "text/plain": [
       "<function __main__.temp(x, y)>"
      ]
     },
     "execution_count": 4,
     "metadata": {},
     "output_type": "execute_result"
    }
   ],
   "source": [
    "def temp(x,y):\n",
    "    return x-y\n",
    "\n",
    "a = temp\n",
    "a"
   ]
  },
  {
   "cell_type": "code",
   "execution_count": 6,
   "id": "2a8126f6-e97b-40aa-be12-7a8b4b2c6a06",
   "metadata": {},
   "outputs": [
    {
     "data": {
      "text/plain": [
       "2"
      ]
     },
     "execution_count": 6,
     "metadata": {},
     "output_type": "execute_result"
    }
   ],
   "source": [
    "a(10,8)"
   ]
  },
  {
   "cell_type": "code",
   "execution_count": 7,
   "id": "7e6f4f50-b754-4513-9f8e-7c73e96e2aa9",
   "metadata": {},
   "outputs": [
    {
     "name": "stdout",
     "output_type": "stream",
     "text": [
      "60\n",
      "None\n"
     ]
    }
   ],
   "source": [
    "def temp(x,y):\n",
    "    print(x+y)\n",
    "\n",
    "result = temp(10,50)\n",
    "print(result)"
   ]
  },
  {
   "cell_type": "code",
   "execution_count": 8,
   "id": "a5306e5f-5efd-4a26-b344-0529f2be6d4f",
   "metadata": {},
   "outputs": [
    {
     "name": "stdout",
     "output_type": "stream",
     "text": [
      "hello world\n",
      "None\n"
     ]
    }
   ],
   "source": [
    "a = print(\"hello world\")\n",
    "print(a)"
   ]
  },
  {
   "cell_type": "code",
   "execution_count": 9,
   "id": "fa1da7ca-3b11-412b-83df-57752ae571bd",
   "metadata": {},
   "outputs": [],
   "source": [
    "def add(x,y):\n",
    "    return x+y"
   ]
  },
  {
   "cell_type": "code",
   "execution_count": 12,
   "id": "adf90af7-0ef8-47cb-ae55-697eb057ca38",
   "metadata": {},
   "outputs": [
    {
     "data": {
      "text/plain": [
       "30"
      ]
     },
     "execution_count": 12,
     "metadata": {},
     "output_type": "execute_result"
    }
   ],
   "source": [
    "res = add(10,20)\n",
    "res"
   ]
  },
  {
   "cell_type": "code",
   "execution_count": 13,
   "id": "63315e2c-39d1-4cf2-ad4b-4807d267600d",
   "metadata": {},
   "outputs": [
    {
     "ename": "TypeError",
     "evalue": "add() takes 2 positional arguments but 3 were given",
     "output_type": "error",
     "traceback": [
      "\u001b[1;31m---------------------------------------------------------------------------\u001b[0m",
      "\u001b[1;31mTypeError\u001b[0m                                 Traceback (most recent call last)",
      "Cell \u001b[1;32mIn[13], line 1\u001b[0m\n\u001b[1;32m----> 1\u001b[0m \u001b[43madd\u001b[49m\u001b[43m(\u001b[49m\u001b[38;5;241;43m10\u001b[39;49m\u001b[43m,\u001b[49m\u001b[38;5;241;43m20\u001b[39;49m\u001b[43m,\u001b[49m\u001b[38;5;241;43m30\u001b[39;49m\u001b[43m)\u001b[49m\n",
      "\u001b[1;31mTypeError\u001b[0m: add() takes 2 positional arguments but 3 were given"
     ]
    }
   ],
   "source": [
    "add(10,20,30)"
   ]
  },
  {
   "cell_type": "code",
   "execution_count": 14,
   "id": "deb8396e-b228-41ed-b4bc-3e4187d0ca0e",
   "metadata": {},
   "outputs": [],
   "source": [
    "def add(*a):\n",
    "    print(a)"
   ]
  },
  {
   "cell_type": "code",
   "execution_count": 15,
   "id": "a010042b-f83b-4f94-a3e0-fb53d21e031a",
   "metadata": {},
   "outputs": [
    {
     "name": "stdout",
     "output_type": "stream",
     "text": [
      "()\n"
     ]
    }
   ],
   "source": [
    "add()"
   ]
  },
  {
   "cell_type": "code",
   "execution_count": 16,
   "id": "2d8f4b80-62d2-40a2-9095-13cce5603215",
   "metadata": {},
   "outputs": [
    {
     "name": "stdout",
     "output_type": "stream",
     "text": [
      "(10,)\n"
     ]
    }
   ],
   "source": [
    "add(10)"
   ]
  },
  {
   "cell_type": "code",
   "execution_count": 17,
   "id": "28a50501-6958-4957-8298-1a96774471c0",
   "metadata": {},
   "outputs": [
    {
     "name": "stdout",
     "output_type": "stream",
     "text": [
      "(10, 20)\n"
     ]
    }
   ],
   "source": [
    "add(10,20)"
   ]
  },
  {
   "cell_type": "code",
   "execution_count": 19,
   "id": "0a930be2-fea6-410d-88e3-df873cb2c286",
   "metadata": {},
   "outputs": [],
   "source": [
    "def temp(a,*b):\n",
    "    print(a)\n",
    "    print(b)"
   ]
  },
  {
   "cell_type": "code",
   "execution_count": 20,
   "id": "4f4f6b8b-e075-46de-a164-c32427030a79",
   "metadata": {},
   "outputs": [
    {
     "name": "stdout",
     "output_type": "stream",
     "text": [
      "10\n",
      "(20, 30, 40)\n"
     ]
    }
   ],
   "source": [
    "temp(10,20,30,40)"
   ]
  },
  {
   "cell_type": "code",
   "execution_count": 21,
   "id": "f01690af-9767-44c4-b039-87bc8b0f417f",
   "metadata": {},
   "outputs": [],
   "source": [
    "def temp(a,b,c):\n",
    "    print(f'a : {a}')\n",
    "    print(f'b : {b}')\n",
    "    print(f'c : {c}')"
   ]
  },
  {
   "cell_type": "code",
   "execution_count": 22,
   "id": "5f469f7e-c889-43ee-b21a-42a59b19e629",
   "metadata": {},
   "outputs": [
    {
     "name": "stdout",
     "output_type": "stream",
     "text": [
      "a : 10\n",
      "b : 50\n",
      "c : 70\n"
     ]
    }
   ],
   "source": [
    "temp(10,50,70)"
   ]
  },
  {
   "cell_type": "code",
   "execution_count": 23,
   "id": "d2a4f235-9c89-4db7-95f6-d866ad4b013c",
   "metadata": {},
   "outputs": [
    {
     "name": "stdout",
     "output_type": "stream",
     "text": [
      "a : 10\n",
      "b : 70\n",
      "c : 50\n"
     ]
    }
   ],
   "source": [
    "temp(a = 10,c = 50,b = 70)"
   ]
  },
  {
   "cell_type": "code",
   "execution_count": 24,
   "id": "cfd39136-05b9-4fa9-baed-608acc64be0f",
   "metadata": {},
   "outputs": [
    {
     "name": "stdout",
     "output_type": "stream",
     "text": [
      "a : 10\n",
      "b : 20\n",
      "c : 60\n"
     ]
    }
   ],
   "source": [
    "temp(10,b = 20,c = 60)"
   ]
  },
  {
   "cell_type": "code",
   "execution_count": 25,
   "id": "cbede514-c75b-416f-9785-877fb5f4f0de",
   "metadata": {},
   "outputs": [
    {
     "ename": "SyntaxError",
     "evalue": "positional argument follows keyword argument (4170804598.py, line 1)",
     "output_type": "error",
     "traceback": [
      "\u001b[1;36m  Cell \u001b[1;32mIn[25], line 1\u001b[1;36m\u001b[0m\n\u001b[1;33m    temp(b = 20,c = 60,10)\u001b[0m\n\u001b[1;37m                         ^\u001b[0m\n\u001b[1;31mSyntaxError\u001b[0m\u001b[1;31m:\u001b[0m positional argument follows keyword argument\n"
     ]
    }
   ],
   "source": [
    "temp(b = 20,c = 60,10)"
   ]
  },
  {
   "cell_type": "code",
   "execution_count": 26,
   "id": "5413b1c5-3dbf-4d9f-8a7f-1e3e8425b943",
   "metadata": {},
   "outputs": [],
   "source": [
    "def temp(**kwargs):\n",
    "    print(kwargs)"
   ]
  },
  {
   "cell_type": "code",
   "execution_count": 27,
   "id": "09b4d706-5bfd-482f-a6cb-7ad0d5ee19e7",
   "metadata": {},
   "outputs": [
    {
     "name": "stdout",
     "output_type": "stream",
     "text": [
      "{'name': 'nazira', 'age': 20, 'hobby': 'reading'}\n"
     ]
    }
   ],
   "source": [
    "temp(name = 'nazira', age = 20,hobby = 'reading')"
   ]
  },
  {
   "cell_type": "code",
   "execution_count": 28,
   "id": "56893fe1-98bd-466d-9434-b88911ae58ff",
   "metadata": {},
   "outputs": [
    {
     "name": "stdout",
     "output_type": "stream",
     "text": [
      "{'name': 'amrutha'}\n"
     ]
    }
   ],
   "source": [
    "temp(name = 'amrutha')"
   ]
  },
  {
   "cell_type": "code",
   "execution_count": 29,
   "id": "f2447d23-27bc-4aa8-815b-e549d28749cc",
   "metadata": {},
   "outputs": [
    {
     "name": "stdout",
     "output_type": "stream",
     "text": [
      "{}\n"
     ]
    }
   ],
   "source": [
    "temp()"
   ]
  },
  {
   "cell_type": "code",
   "execution_count": 30,
   "id": "8539215e-57d1-4d75-a5cb-2a5a46eda215",
   "metadata": {},
   "outputs": [
    {
     "ename": "TypeError",
     "evalue": "temp() takes 0 positional arguments but 3 were given",
     "output_type": "error",
     "traceback": [
      "\u001b[1;31m---------------------------------------------------------------------------\u001b[0m",
      "\u001b[1;31mTypeError\u001b[0m                                 Traceback (most recent call last)",
      "Cell \u001b[1;32mIn[30], line 1\u001b[0m\n\u001b[1;32m----> 1\u001b[0m \u001b[43mtemp\u001b[49m\u001b[43m(\u001b[49m\u001b[38;5;241;43m10\u001b[39;49m\u001b[43m,\u001b[49m\u001b[38;5;241;43m20\u001b[39;49m\u001b[43m,\u001b[49m\u001b[38;5;241;43m30\u001b[39;49m\u001b[43m)\u001b[49m\n",
      "\u001b[1;31mTypeError\u001b[0m: temp() takes 0 positional arguments but 3 were given"
     ]
    }
   ],
   "source": [
    "temp(10,20,30)"
   ]
  },
  {
   "cell_type": "code",
   "execution_count": 31,
   "id": "b092fc1f-093c-415c-9896-082357cb0c5a",
   "metadata": {},
   "outputs": [
    {
     "name": "stdout",
     "output_type": "stream",
     "text": [
      "(1, 2, 3)\n",
      "6\n",
      "(10, 20, 30, 40)\n",
      "100\n"
     ]
    }
   ],
   "source": [
    "# 5. \n",
    "def add_numbers(*args):\n",
    "    print(args)\n",
    "    return sum(args)\n",
    "\n",
    "print(add_numbers(1, 2, 3))\n",
    "print(add_numbers(10, 20, 30, 40))"
   ]
  },
  {
   "cell_type": "code",
   "execution_count": 32,
   "id": "1dcebf39-d520-46a5-b352-8ab0c872e349",
   "metadata": {},
   "outputs": [
    {
     "name": "stdout",
     "output_type": "stream",
     "text": [
      "a = 1, b = 2, c = 20\n",
      "args = (3, 4, 5)\n",
      "kwargs = {'x': 100, 'y': 200}\n"
     ]
    }
   ],
   "source": [
    "def complex_func(a, b, *args, c=10, **kwargs):\n",
    "    print(f\"a = {a}, b = {b}, c = {c}\")\n",
    "    print(f\"args = {args}\")\n",
    "    print(f\"kwargs = {kwargs}\")\n",
    "\n",
    "complex_func(1, 2, 3, 4, 5, c=20, x=100, y=200)"
   ]
  },
  {
   "cell_type": "code",
   "execution_count": 35,
   "id": "82388c66-d95b-4b7d-b885-0b6fd6d94545",
   "metadata": {},
   "outputs": [],
   "source": [
    "import random\n",
    "def play():\n",
    "    system_num = random.randint(1,10)\n",
    "    print(system_num)\n",
    "    attempts = 3\n",
    "    win = False\n",
    "    \n",
    "    while attempts >= 1:\n",
    "        user_num = int(input(\"Guess a number :\"))\n",
    "        attempts -= 1\n",
    "        if user_num == system_num:\n",
    "            win = True\n",
    "            break\n",
    "        else:\n",
    "            print(f\"Incorrect Guess. Try again! You have {attempts} attempts left\")\n",
    "    if win:\n",
    "        print(\"Congrats! You guessed it\")\n",
    "    else:\n",
    "        print(\"Sorry! You Lose\")"
   ]
  },
  {
   "cell_type": "code",
   "execution_count": 36,
   "id": "37ba2dd1-c36b-4b43-bb9f-185aceccb93f",
   "metadata": {},
   "outputs": [
    {
     "name": "stdout",
     "output_type": "stream",
     "text": [
      "4\n"
     ]
    },
    {
     "name": "stdin",
     "output_type": "stream",
     "text": [
      "Guess a number : 5\n"
     ]
    },
    {
     "name": "stdout",
     "output_type": "stream",
     "text": [
      "Incorrect Guess. Try again! You have 2 attempts left\n"
     ]
    },
    {
     "name": "stdin",
     "output_type": "stream",
     "text": [
      "Guess a number : 7\n"
     ]
    },
    {
     "name": "stdout",
     "output_type": "stream",
     "text": [
      "Incorrect Guess. Try again! You have 1 attempts left\n"
     ]
    },
    {
     "name": "stdin",
     "output_type": "stream",
     "text": [
      "Guess a number : 6\n"
     ]
    },
    {
     "name": "stdout",
     "output_type": "stream",
     "text": [
      "Incorrect Guess. Try again! You have 0 attempts left\n",
      "Sorry! You Lose\n"
     ]
    }
   ],
   "source": [
    "play()"
   ]
  },
  {
   "cell_type": "code",
   "execution_count": 37,
   "id": "e40f41f1-049d-40df-bf5b-a07307abf7c1",
   "metadata": {},
   "outputs": [
    {
     "name": "stdout",
     "output_type": "stream",
     "text": [
      "6\n"
     ]
    },
    {
     "name": "stdin",
     "output_type": "stream",
     "text": [
      "Guess a number : 6\n"
     ]
    },
    {
     "name": "stdout",
     "output_type": "stream",
     "text": [
      "Congrats! You guessed it\n"
     ]
    }
   ],
   "source": [
    "play()"
   ]
  },
  {
   "cell_type": "code",
   "execution_count": null,
   "id": "95557f5a-97bf-4603-b88d-4bc3e2c5fbd4",
   "metadata": {},
   "outputs": [],
   "source": [
    "# Write a Python program to sort a list of dictionaries based on marks\n",
    "subject_marks = [{'Subject':'English','Marks':80},\n",
    "                 {'Subject':'Maths','Marks':60},\n",
    "                 {'Subject':'Science','Marks':70}]"
   ]
  }
 ],
 "metadata": {
  "kernelspec": {
   "display_name": "Python (Anaconda)",
   "language": "python",
   "name": "anaconda_env"
  },
  "language_info": {
   "codemirror_mode": {
    "name": "ipython",
    "version": 3
   },
   "file_extension": ".py",
   "mimetype": "text/x-python",
   "name": "python",
   "nbconvert_exporter": "python",
   "pygments_lexer": "ipython3",
   "version": "3.10.11"
  }
 },
 "nbformat": 4,
 "nbformat_minor": 5
}
