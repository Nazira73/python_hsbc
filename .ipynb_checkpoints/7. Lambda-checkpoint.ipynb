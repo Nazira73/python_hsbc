{
 "cells": [
  {
   "cell_type": "markdown",
   "metadata": {},
   "source": [
    "# Lambda Functions/ Anonymous function\n",
    "\n",
    "One line function:\n",
    "- n no. of arguments\n",
    "- one expression\n",
    "\n",
    "**Syntax:**\n",
    "```\n",
    "  lambda arguments: expression\n",
    "```"
   ]
  },
  {
   "cell_type": "markdown",
   "metadata": {
    "jp-MarkdownHeadingCollapsed": true
   },
   "source": [
    "#### sorted()"
   ]
  },
  {
   "cell_type": "code",
   "execution_count": 2,
   "metadata": {},
   "outputs": [
    {
     "data": {
      "text/plain": [
       "[(30, 20), (10, 30), (3, 50)]"
      ]
     },
     "execution_count": 2,
     "metadata": {},
     "output_type": "execute_result"
    }
   ],
   "source": [
    "# 1. WAP to sort the given list by 2nd elements of the tuple\n",
    "# Conventional approach\n",
    "data = [(30, 20), (3, 50), (10, 30)]\n",
    "\n",
    "sorted(data,key = lambda x:x[-1])"
   ]
  },
  {
   "cell_type": "code",
   "execution_count": 4,
   "metadata": {},
   "outputs": [
    {
     "data": {
      "text/plain": [
       "[('John', 10, 50), ('Sara', 60, 30), ('xyz', 10, 20), ('Jim', 2, 10)]"
      ]
     },
     "execution_count": 4,
     "metadata": {},
     "output_type": "execute_result"
    }
   ],
   "source": [
    "# 2. WAP to sort the given data based on 3rd element\n",
    "data = [('John',10,50),('Sara',60,30),('Jim',2,10), ('xyz',10,20)]\n",
    "\n",
    "sorted(data, key = lambda x:x[-1], reverse = True)"
   ]
  },
  {
   "cell_type": "code",
   "execution_count": 6,
   "metadata": {},
   "outputs": [
    {
     "data": {
      "text/plain": [
       "{'Poojita': 90, 'Prasad': 60, 'Santosh': 45, 'Suraj': 50}"
      ]
     },
     "execution_count": 6,
     "metadata": {},
     "output_type": "execute_result"
    }
   ],
   "source": [
    "# 3. Write a Python program to sort the students based on name\n",
    "\n",
    "marks_dict = {'Suraj' : 50, 'Prasad' : 60, 'Santosh' : 45, 'Poojita' : 90}\n",
    "dict(sorted(marks_dict.items()))"
   ]
  },
  {
   "cell_type": "code",
   "execution_count": 7,
   "metadata": {},
   "outputs": [
    {
     "data": {
      "text/plain": [
       "{'Santosh': 45, 'Suraj': 50, 'Prasad': 60, 'Poojita': 90}"
      ]
     },
     "execution_count": 7,
     "metadata": {},
     "output_type": "execute_result"
    }
   ],
   "source": [
    "# 4. Write a Python program to sort the students based on marks\n",
    "\n",
    "marks_dict = {'Suraj' : 50, 'Prasad' : 60, 'Santosh' : 45, 'Poojita' : 90}\n",
    "dict(sorted(marks_dict.items(), key = lambda x: x[-1]))"
   ]
  },
  {
   "cell_type": "code",
   "execution_count": 8,
   "metadata": {},
   "outputs": [
    {
     "data": {
      "text/plain": [
       "{'Sachin': 560, 'John': 86, 'Danny': 78}"
      ]
     },
     "execution_count": 8,
     "metadata": {},
     "output_type": "execute_result"
    }
   ],
   "source": [
    "# 5. WAP to sort a dicionary by values in reverse order\n",
    "student_scores = {'John':86,\n",
    "                 'Sachin':560,\n",
    "                 'Danny':78}\n",
    "dict(sorted(student_scores.items(), key = lambda x:x[-1], reverse = True))"
   ]
  },
  {
   "cell_type": "code",
   "execution_count": 11,
   "metadata": {},
   "outputs": [
    {
     "data": {
      "text/plain": [
       "[{'Subject': 'English', 'Marks': 80},\n",
       " {'Subject': 'Science', 'Marks': 70},\n",
       " {'Subject': 'Maths', 'Marks': 60}]"
      ]
     },
     "execution_count": 11,
     "metadata": {},
     "output_type": "execute_result"
    }
   ],
   "source": [
    "# 6. Write a Python program to sort a list of dictionaries based on marks\n",
    "subject_marks = [{'Subject':'English','Marks':80},\n",
    "                 {'Subject':'Maths','Marks':60},\n",
    "                 {'Subject':'Science','Marks':70}]\n",
    "\n",
    "sorted(subject_marks, key = lambda x: x['Marks'], reverse=True)"
   ]
  },
  {
   "cell_type": "markdown",
   "metadata": {
    "jp-MarkdownHeadingCollapsed": true
   },
   "source": [
    "#### filter()"
   ]
  },
  {
   "cell_type": "code",
   "execution_count": 12,
   "metadata": {},
   "outputs": [
    {
     "name": "stdout",
     "output_type": "stream",
     "text": [
      "Help on class filter in module builtins:\n",
      "\n",
      "class filter(object)\n",
      " |  filter(function or None, iterable) --> filter object\n",
      " |  \n",
      " |  Return an iterator yielding those items of iterable for which function(item)\n",
      " |  is true. If function is None, return the items that are true.\n",
      " |  \n",
      " |  Methods defined here:\n",
      " |  \n",
      " |  __getattribute__(self, name, /)\n",
      " |      Return getattr(self, name).\n",
      " |  \n",
      " |  __iter__(self, /)\n",
      " |      Implement iter(self).\n",
      " |  \n",
      " |  __next__(self, /)\n",
      " |      Implement next(self).\n",
      " |  \n",
      " |  __reduce__(...)\n",
      " |      Return state information for pickling.\n",
      " |  \n",
      " |  ----------------------------------------------------------------------\n",
      " |  Static methods defined here:\n",
      " |  \n",
      " |  __new__(*args, **kwargs) from builtins.type\n",
      " |      Create and return a new object.  See help(type) for accurate signature.\n",
      "\n"
     ]
    }
   ],
   "source": [
    "help(filter)"
   ]
  },
  {
   "cell_type": "code",
   "execution_count": 14,
   "metadata": {},
   "outputs": [
    {
     "data": {
      "text/plain": [
       "[0, 2, 4, 6, 8, 10, 12, 14, 16, 18, 20]"
      ]
     },
     "execution_count": 14,
     "metadata": {},
     "output_type": "execute_result"
    }
   ],
   "source": [
    "# WAF to get all even numbers between 0 to 20\n",
    "list(filter(lambda x: x%2 == 0, range(21)))"
   ]
  },
  {
   "cell_type": "code",
   "execution_count": 17,
   "metadata": {},
   "outputs": [
    {
     "data": {
      "text/plain": [
       "[0, 3, 6, 9, 12, 15, 18, 21, 24, 27, 30]"
      ]
     },
     "execution_count": 17,
     "metadata": {},
     "output_type": "execute_result"
    }
   ],
   "source": [
    "# WAP to get all numbers that are divisible by 3 between 0 to 30\n",
    "list(filter(lambda x : x%3 == 0, range(31)))"
   ]
  },
  {
   "cell_type": "code",
   "execution_count": 16,
   "metadata": {},
   "outputs": [
    {
     "data": {
      "text/plain": [
       "['Sam', 'sarah']"
      ]
     },
     "execution_count": 16,
     "metadata": {},
     "output_type": "execute_result"
    }
   ],
   "source": [
    "# From the given students_list get all students whose name startswith s\n",
    "students_list = ['Sam','sarah','Joel']\n",
    "list(filter(lambda x:x[0].lower() == 's', students_list))"
   ]
  },
  {
   "cell_type": "code",
   "execution_count": 21,
   "metadata": {},
   "outputs": [
    {
     "data": {
      "text/plain": [
       "[True, 10, '.', 0.3, ' ']"
      ]
     },
     "execution_count": 21,
     "metadata": {},
     "output_type": "execute_result"
    }
   ],
   "source": [
    "# If function is None, return the items that are true.\n",
    "data = [True,10,'.','',0.3, ' ', 0, False]\n",
    "\n",
    "list(filter(None, data))"
   ]
  },
  {
   "cell_type": "markdown",
   "metadata": {},
   "source": [
    "#### map()"
   ]
  },
  {
   "cell_type": "markdown",
   "metadata": {},
   "source": [
    "![image.png](data:image/png;base64,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)"
   ]
  },
  {
   "cell_type": "code",
   "execution_count": 24,
   "metadata": {},
   "outputs": [
    {
     "data": {
      "text/plain": [
       "[1, 2, 3, 4, 8, 10]"
      ]
     },
     "execution_count": 24,
     "metadata": {},
     "output_type": "execute_result"
    }
   ],
   "source": [
    "# convert list of strings to list of numbers\n",
    "text = '1,2,3,4,8,10'\n",
    "numbers = text.split(\",\")\n",
    "list(map(int, numbers))"
   ]
  },
  {
   "cell_type": "code",
   "execution_count": 25,
   "metadata": {},
   "outputs": [
    {
     "data": {
      "text/plain": [
       "[1, 2, 3, 4, 8, 10]"
      ]
     },
     "execution_count": 25,
     "metadata": {},
     "output_type": "execute_result"
    }
   ],
   "source": [
    "list(map(lambda x:int(x), numbers))"
   ]
  },
  {
   "cell_type": "code",
   "execution_count": 29,
   "metadata": {},
   "outputs": [
    {
     "name": "stdin",
     "output_type": "stream",
     "text": [
      " 10,20,30,40\n"
     ]
    },
    {
     "data": {
      "text/plain": [
       "[10, 20, 30, 40]"
      ]
     },
     "execution_count": 29,
     "metadata": {},
     "output_type": "execute_result"
    }
   ],
   "source": [
    "# take numbers from user stdinput separated by spaces & and convert that to list of numbers \n",
    "list(map(int,input().split(\",\")))"
   ]
  },
  {
   "cell_type": "code",
   "execution_count": 30,
   "metadata": {},
   "outputs": [
    {
     "data": {
      "text/plain": [
       "[1, 4, 9, 16, 25, 36, 49, 64, 81, 100]"
      ]
     },
     "execution_count": 30,
     "metadata": {},
     "output_type": "execute_result"
    }
   ],
   "source": [
    "# WAF to find squares of the numbers till 10\n",
    "list(map(lambda x:x**2, range(1,11)))"
   ]
  },
  {
   "cell_type": "code",
   "execution_count": 27,
   "metadata": {},
   "outputs": [
    {
     "data": {
      "text/plain": [
       "['Stu Sam', 'Stu sarah', 'Stu Joel']"
      ]
     },
     "execution_count": 27,
     "metadata": {},
     "output_type": "execute_result"
    }
   ],
   "source": [
    "# get a newlist based on given list where add Student at the start of every student name\n",
    "students_list = ['Sam','sarah','Joel']\n",
    "\n",
    "list(map(lambda x: f\"Stu {x}\", students_list))"
   ]
  },
  {
   "cell_type": "code",
   "execution_count": null,
   "metadata": {},
   "outputs": [],
   "source": []
  }
 ],
 "metadata": {
  "colab": {
   "collapsed_sections": [
    "BgH0UIIGFYdz",
    "Y870IYV5CLrY",
    "NzJ1XgJJq898",
    "U-gQvJgBxox6",
    "6UAnxgNfSq_8",
    "rSbSQJHwSwE1",
    "k8vzVPClQlW0",
    "3rbSJNDRekAI",
    "jvitpdZGELcS",
    "8nAsEjgeS0E3",
    "l-O80MYZSmv9",
    "LbFg8_mPwaWF",
    "3bxcCfGJzlaH",
    "iMp3uyR0OzEl",
    "BR4gQCvPfYTe",
    "C-H7FDoIZxIA",
    "2t8QJ0BHZ5R-",
    "PMSBdeh-GwPs",
    "lQx0bB5oV_h6",
    "lgYlQP5GP4la",
    "BRhV_mMF2908",
    "Zq1H1SRz5KJZ",
    "h6f_bk0BdaSc"
   ],
   "provenance": [],
   "toc_visible": true
  },
  "kernelspec": {
   "display_name": "Python 3 (ipykernel)",
   "language": "python",
   "name": "python3"
  },
  "language_info": {
   "codemirror_mode": {
    "name": "ipython",
    "version": 3
   },
   "file_extension": ".py",
   "mimetype": "text/x-python",
   "name": "python",
   "nbconvert_exporter": "python",
   "pygments_lexer": "ipython3",
   "version": "3.10.11"
  }
 },
 "nbformat": 4,
 "nbformat_minor": 4
}
