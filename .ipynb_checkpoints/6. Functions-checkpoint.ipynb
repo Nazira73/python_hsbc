{
 "cells": [
  {
   "cell_type": "markdown",
   "metadata": {},
   "source": [
    "# Functions\n",
    "\n",
    "```\n",
    "A function is a group of statements that together perform a task.\n",
    "Declare once.\n",
    "Call as many times as you want\n",
    "```\n",
    "\n",
    "**Types of Functions**\n",
    "- built in\n",
    "- user defined"
   ]
  },
  {
   "cell_type": "markdown",
   "metadata": {},
   "source": [
    "## Built in function"
   ]
  },
  {
   "cell_type": "code",
   "execution_count": 1,
   "metadata": {},
   "outputs": [
    {
     "data": {
      "text/plain": [
       "['ArithmeticError',\n",
       " 'AssertionError',\n",
       " 'AttributeError',\n",
       " 'BaseException',\n",
       " 'BlockingIOError',\n",
       " 'BrokenPipeError',\n",
       " 'BufferError',\n",
       " 'BytesWarning',\n",
       " 'ChildProcessError',\n",
       " 'ConnectionAbortedError',\n",
       " 'ConnectionError',\n",
       " 'ConnectionRefusedError',\n",
       " 'ConnectionResetError',\n",
       " 'DeprecationWarning',\n",
       " 'EOFError',\n",
       " 'Ellipsis',\n",
       " 'EncodingWarning',\n",
       " 'EnvironmentError',\n",
       " 'Exception',\n",
       " 'False',\n",
       " 'FileExistsError',\n",
       " 'FileNotFoundError',\n",
       " 'FloatingPointError',\n",
       " 'FutureWarning',\n",
       " 'GeneratorExit',\n",
       " 'IOError',\n",
       " 'ImportError',\n",
       " 'ImportWarning',\n",
       " 'IndentationError',\n",
       " 'IndexError',\n",
       " 'InterruptedError',\n",
       " 'IsADirectoryError',\n",
       " 'KeyError',\n",
       " 'KeyboardInterrupt',\n",
       " 'LookupError',\n",
       " 'MemoryError',\n",
       " 'ModuleNotFoundError',\n",
       " 'NameError',\n",
       " 'None',\n",
       " 'NotADirectoryError',\n",
       " 'NotImplemented',\n",
       " 'NotImplementedError',\n",
       " 'OSError',\n",
       " 'OverflowError',\n",
       " 'PendingDeprecationWarning',\n",
       " 'PermissionError',\n",
       " 'ProcessLookupError',\n",
       " 'RecursionError',\n",
       " 'ReferenceError',\n",
       " 'ResourceWarning',\n",
       " 'RuntimeError',\n",
       " 'RuntimeWarning',\n",
       " 'StopAsyncIteration',\n",
       " 'StopIteration',\n",
       " 'SyntaxError',\n",
       " 'SyntaxWarning',\n",
       " 'SystemError',\n",
       " 'SystemExit',\n",
       " 'TabError',\n",
       " 'TimeoutError',\n",
       " 'True',\n",
       " 'TypeError',\n",
       " 'UnboundLocalError',\n",
       " 'UnicodeDecodeError',\n",
       " 'UnicodeEncodeError',\n",
       " 'UnicodeError',\n",
       " 'UnicodeTranslateError',\n",
       " 'UnicodeWarning',\n",
       " 'UserWarning',\n",
       " 'ValueError',\n",
       " 'Warning',\n",
       " 'WindowsError',\n",
       " 'ZeroDivisionError',\n",
       " '__IPYTHON__',\n",
       " '__build_class__',\n",
       " '__debug__',\n",
       " '__doc__',\n",
       " '__import__',\n",
       " '__loader__',\n",
       " '__name__',\n",
       " '__package__',\n",
       " '__spec__',\n",
       " 'abs',\n",
       " 'aiter',\n",
       " 'all',\n",
       " 'anext',\n",
       " 'any',\n",
       " 'ascii',\n",
       " 'bin',\n",
       " 'bool',\n",
       " 'breakpoint',\n",
       " 'bytearray',\n",
       " 'bytes',\n",
       " 'callable',\n",
       " 'chr',\n",
       " 'classmethod',\n",
       " 'compile',\n",
       " 'complex',\n",
       " 'copyright',\n",
       " 'credits',\n",
       " 'delattr',\n",
       " 'dict',\n",
       " 'dir',\n",
       " 'display',\n",
       " 'divmod',\n",
       " 'enumerate',\n",
       " 'eval',\n",
       " 'exec',\n",
       " 'execfile',\n",
       " 'filter',\n",
       " 'float',\n",
       " 'format',\n",
       " 'frozenset',\n",
       " 'get_ipython',\n",
       " 'getattr',\n",
       " 'globals',\n",
       " 'hasattr',\n",
       " 'hash',\n",
       " 'help',\n",
       " 'hex',\n",
       " 'id',\n",
       " 'input',\n",
       " 'int',\n",
       " 'isinstance',\n",
       " 'issubclass',\n",
       " 'iter',\n",
       " 'len',\n",
       " 'license',\n",
       " 'list',\n",
       " 'locals',\n",
       " 'map',\n",
       " 'max',\n",
       " 'memoryview',\n",
       " 'min',\n",
       " 'next',\n",
       " 'object',\n",
       " 'oct',\n",
       " 'open',\n",
       " 'ord',\n",
       " 'pow',\n",
       " 'print',\n",
       " 'property',\n",
       " 'range',\n",
       " 'repr',\n",
       " 'reversed',\n",
       " 'round',\n",
       " 'runfile',\n",
       " 'set',\n",
       " 'setattr',\n",
       " 'slice',\n",
       " 'sorted',\n",
       " 'staticmethod',\n",
       " 'str',\n",
       " 'sum',\n",
       " 'super',\n",
       " 'tuple',\n",
       " 'type',\n",
       " 'vars',\n",
       " 'zip']"
      ]
     },
     "execution_count": 1,
     "metadata": {},
     "output_type": "execute_result"
    }
   ],
   "source": [
    "dir(__builtins__)"
   ]
  },
  {
   "cell_type": "code",
   "execution_count": 2,
   "metadata": {},
   "outputs": [
    {
     "name": "stdout",
     "output_type": "stream",
     "text": [
      "Help on built-in function sum in module builtins:\n",
      "\n",
      "sum(iterable, /, start=0)\n",
      "    Return the sum of a 'start' value (default: 0) plus an iterable of numbers\n",
      "    \n",
      "    When the iterable is empty, return the start value.\n",
      "    This function is intended specifically for use with numeric values and may\n",
      "    reject non-numeric types.\n",
      "\n"
     ]
    }
   ],
   "source": [
    "help(sum)"
   ]
  },
  {
   "cell_type": "code",
   "execution_count": 3,
   "metadata": {},
   "outputs": [
    {
     "data": {
      "text/plain": [
       "60"
      ]
     },
     "execution_count": 3,
     "metadata": {},
     "output_type": "execute_result"
    }
   ],
   "source": [
    "nums = [10,20,30]\n",
    "sum(nums)"
   ]
  },
  {
   "cell_type": "code",
   "execution_count": 4,
   "metadata": {},
   "outputs": [
    {
     "data": {
      "text/plain": [
       "160"
      ]
     },
     "execution_count": 4,
     "metadata": {},
     "output_type": "execute_result"
    }
   ],
   "source": [
    "sum(nums, 100)"
   ]
  },
  {
   "cell_type": "code",
   "execution_count": 5,
   "metadata": {},
   "outputs": [
    {
     "data": {
      "text/plain": [
       "10"
      ]
     },
     "execution_count": 5,
     "metadata": {},
     "output_type": "execute_result"
    }
   ],
   "source": [
    "min(nums)"
   ]
  },
  {
   "cell_type": "code",
   "execution_count": 6,
   "metadata": {},
   "outputs": [
    {
     "data": {
      "text/plain": [
       "30"
      ]
     },
     "execution_count": 6,
     "metadata": {},
     "output_type": "execute_result"
    }
   ],
   "source": [
    "max(nums)"
   ]
  },
  {
   "cell_type": "code",
   "execution_count": 7,
   "metadata": {},
   "outputs": [
    {
     "data": {
      "text/plain": [
       "20.0"
      ]
     },
     "execution_count": 7,
     "metadata": {},
     "output_type": "execute_result"
    }
   ],
   "source": [
    "sum(nums)/len(nums)"
   ]
  },
  {
   "cell_type": "code",
   "execution_count": 8,
   "metadata": {},
   "outputs": [
    {
     "data": {
      "text/plain": [
       "64.25"
      ]
     },
     "execution_count": 8,
     "metadata": {},
     "output_type": "execute_result"
    }
   ],
   "source": [
    "numbers = [100,56,78,23]\n",
    "sum(numbers)/len(numbers)"
   ]
  },
  {
   "cell_type": "code",
   "execution_count": 9,
   "metadata": {},
   "outputs": [],
   "source": [
    "def avg(numbers):\n",
    "    return sum(numbers)/len(numbers)"
   ]
  },
  {
   "cell_type": "code",
   "execution_count": 11,
   "metadata": {},
   "outputs": [
    {
     "data": {
      "text/plain": [
       "(64.25, 20.0)"
      ]
     },
     "execution_count": 11,
     "metadata": {},
     "output_type": "execute_result"
    }
   ],
   "source": [
    "avg(numbers), avg(nums)"
   ]
  },
  {
   "cell_type": "markdown",
   "metadata": {},
   "source": [
    "## User defined Functions\n",
    "```\n",
    "Syntax:\n",
    "\n",
    "def name_of_function(argument):\n",
    "  ......\n",
    "  ......\n",
    "  ......\n",
    "  return something\n",
    "\n"
   ]
  },
  {
   "cell_type": "markdown",
   "metadata": {},
   "source": [
    "### Types of user defined functions\n",
    "\n",
    "1. Functions with no input argument and no return\n",
    "2. Functions with input argument and no return\n",
    "3. Functions with input argument and return\n",
    "4. Functions with variable length arguments (*args)\n",
    "5. Functions with keyworded variable length arguments (**kwargs)\n",
    "6. Functions with mandate positional arguments\n",
    "7. Functions with mandate keyworded arguments\n",
    "8. Functions with default value"
   ]
  },
  {
   "cell_type": "markdown",
   "metadata": {},
   "source": [
    "#### **1. Functions with no input argument and no return**"
   ]
  },
  {
   "cell_type": "code",
   "execution_count": 12,
   "metadata": {},
   "outputs": [],
   "source": [
    "def greet():\n",
    "    print('Hello')"
   ]
  },
  {
   "cell_type": "code",
   "execution_count": 13,
   "metadata": {},
   "outputs": [
    {
     "name": "stdout",
     "output_type": "stream",
     "text": [
      "Hello\n"
     ]
    }
   ],
   "source": [
    "greet()"
   ]
  },
  {
   "cell_type": "code",
   "execution_count": 14,
   "metadata": {},
   "outputs": [
    {
     "name": "stdout",
     "output_type": "stream",
     "text": [
      "Hello\n"
     ]
    }
   ],
   "source": [
    "greet()"
   ]
  },
  {
   "cell_type": "code",
   "execution_count": 15,
   "metadata": {},
   "outputs": [
    {
     "data": {
      "text/plain": [
       "<function __main__.greet()>"
      ]
     },
     "execution_count": 15,
     "metadata": {},
     "output_type": "execute_result"
    }
   ],
   "source": [
    "greet"
   ]
  },
  {
   "cell_type": "code",
   "execution_count": 16,
   "metadata": {},
   "outputs": [
    {
     "data": {
      "text/plain": [
       "<function __main__.greet()>"
      ]
     },
     "execution_count": 16,
     "metadata": {},
     "output_type": "execute_result"
    }
   ],
   "source": [
    "a = greet\n",
    "a"
   ]
  },
  {
   "cell_type": "code",
   "execution_count": 17,
   "metadata": {},
   "outputs": [
    {
     "name": "stdout",
     "output_type": "stream",
     "text": [
      "Hello\n"
     ]
    }
   ],
   "source": [
    "greet()"
   ]
  },
  {
   "cell_type": "code",
   "execution_count": 18,
   "metadata": {},
   "outputs": [
    {
     "name": "stdout",
     "output_type": "stream",
     "text": [
      "Hello\n"
     ]
    }
   ],
   "source": [
    "a()"
   ]
  },
  {
   "cell_type": "code",
   "execution_count": 19,
   "metadata": {},
   "outputs": [
    {
     "name": "stdout",
     "output_type": "stream",
     "text": [
      "Hello\n",
      "None\n"
     ]
    }
   ],
   "source": [
    "a = greet\n",
    "b = a\n",
    "c = b()\n",
    "print(c)"
   ]
  },
  {
   "cell_type": "markdown",
   "metadata": {},
   "source": [
    "#### **2. Functions with input argument and no return**"
   ]
  },
  {
   "cell_type": "code",
   "execution_count": 20,
   "metadata": {},
   "outputs": [],
   "source": [
    "def greet(name):\n",
    "    print(f'Hello {name}')"
   ]
  },
  {
   "cell_type": "code",
   "execution_count": 22,
   "metadata": {},
   "outputs": [
    {
     "name": "stdout",
     "output_type": "stream",
     "text": [
      "Hello nazira\n"
     ]
    }
   ],
   "source": [
    "greet('nazira')"
   ]
  },
  {
   "cell_type": "markdown",
   "metadata": {},
   "source": [
    "#### **3. Functions input argument and return**"
   ]
  },
  {
   "cell_type": "code",
   "execution_count": 23,
   "metadata": {},
   "outputs": [],
   "source": [
    "def add(a,b):\n",
    "    return a+b"
   ]
  },
  {
   "cell_type": "code",
   "execution_count": 24,
   "metadata": {},
   "outputs": [
    {
     "data": {
      "text/plain": [
       "30"
      ]
     },
     "execution_count": 24,
     "metadata": {},
     "output_type": "execute_result"
    }
   ],
   "source": [
    "add(10,20)"
   ]
  },
  {
   "cell_type": "code",
   "execution_count": 25,
   "metadata": {},
   "outputs": [
    {
     "data": {
      "text/plain": [
       "134"
      ]
     },
     "execution_count": 25,
     "metadata": {},
     "output_type": "execute_result"
    }
   ],
   "source": [
    "add(45,89)"
   ]
  },
  {
   "cell_type": "markdown",
   "metadata": {},
   "source": [
    "#### **4. Functions with variable length argument**"
   ]
  },
  {
   "cell_type": "code",
   "execution_count": 26,
   "metadata": {},
   "outputs": [],
   "source": [
    "def add(a,b):\n",
    "    return a+b"
   ]
  },
  {
   "cell_type": "code",
   "execution_count": 27,
   "metadata": {},
   "outputs": [
    {
     "data": {
      "text/plain": [
       "50"
      ]
     },
     "execution_count": 27,
     "metadata": {},
     "output_type": "execute_result"
    }
   ],
   "source": [
    "add(10,40)"
   ]
  },
  {
   "cell_type": "code",
   "execution_count": 28,
   "metadata": {},
   "outputs": [
    {
     "ename": "TypeError",
     "evalue": "add() takes 2 positional arguments but 3 were given",
     "output_type": "error",
     "traceback": [
      "\u001b[1;31m---------------------------------------------------------------------------\u001b[0m",
      "\u001b[1;31mTypeError\u001b[0m                                 Traceback (most recent call last)",
      "Cell \u001b[1;32mIn[28], line 1\u001b[0m\n\u001b[1;32m----> 1\u001b[0m \u001b[43madd\u001b[49m\u001b[43m(\u001b[49m\u001b[38;5;241;43m10\u001b[39;49m\u001b[43m,\u001b[49m\u001b[38;5;241;43m50\u001b[39;49m\u001b[43m,\u001b[49m\u001b[38;5;241;43m60\u001b[39;49m\u001b[43m)\u001b[49m\n",
      "\u001b[1;31mTypeError\u001b[0m: add() takes 2 positional arguments but 3 were given"
     ]
    }
   ],
   "source": [
    "add(10,50,60)"
   ]
  },
  {
   "cell_type": "code",
   "execution_count": 29,
   "metadata": {},
   "outputs": [],
   "source": [
    "def add(*a):\n",
    "    print(a)"
   ]
  },
  {
   "cell_type": "code",
   "execution_count": 30,
   "metadata": {},
   "outputs": [
    {
     "name": "stdout",
     "output_type": "stream",
     "text": [
      "(10, 20)\n"
     ]
    }
   ],
   "source": [
    "add(10,20)"
   ]
  },
  {
   "cell_type": "code",
   "execution_count": 31,
   "metadata": {},
   "outputs": [
    {
     "name": "stdout",
     "output_type": "stream",
     "text": [
      "(10, 50, 60)\n"
     ]
    }
   ],
   "source": [
    "add(10,50,60)"
   ]
  },
  {
   "cell_type": "code",
   "execution_count": 32,
   "metadata": {},
   "outputs": [
    {
     "name": "stdout",
     "output_type": "stream",
     "text": [
      "(40,)\n"
     ]
    }
   ],
   "source": [
    "add(40)"
   ]
  },
  {
   "cell_type": "code",
   "execution_count": 33,
   "metadata": {},
   "outputs": [
    {
     "name": "stdout",
     "output_type": "stream",
     "text": [
      "()\n"
     ]
    }
   ],
   "source": [
    "add()"
   ]
  },
  {
   "cell_type": "code",
   "execution_count": 40,
   "metadata": {},
   "outputs": [],
   "source": [
    "def add(*args):\n",
    "    return sum(args)"
   ]
  },
  {
   "cell_type": "code",
   "execution_count": 41,
   "metadata": {},
   "outputs": [
    {
     "data": {
      "text/plain": [
       "30"
      ]
     },
     "execution_count": 41,
     "metadata": {},
     "output_type": "execute_result"
    }
   ],
   "source": [
    "add(10,20)"
   ]
  },
  {
   "cell_type": "code",
   "execution_count": 42,
   "metadata": {},
   "outputs": [
    {
     "data": {
      "text/plain": [
       "120"
      ]
     },
     "execution_count": 42,
     "metadata": {},
     "output_type": "execute_result"
    }
   ],
   "source": [
    "add(10,50,60)"
   ]
  },
  {
   "cell_type": "code",
   "execution_count": 43,
   "metadata": {},
   "outputs": [
    {
     "data": {
      "text/plain": [
       "40"
      ]
     },
     "execution_count": 43,
     "metadata": {},
     "output_type": "execute_result"
    }
   ],
   "source": [
    "add(40)"
   ]
  },
  {
   "cell_type": "code",
   "execution_count": 44,
   "metadata": {},
   "outputs": [
    {
     "data": {
      "text/plain": [
       "0"
      ]
     },
     "execution_count": 44,
     "metadata": {},
     "output_type": "execute_result"
    }
   ],
   "source": [
    "add()"
   ]
  },
  {
   "cell_type": "markdown",
   "metadata": {},
   "source": [
    "#### **5. Functions with keyworded variable length argument**"
   ]
  },
  {
   "cell_type": "code",
   "execution_count": 45,
   "metadata": {},
   "outputs": [],
   "source": [
    "def survey(name,age, *args):\n",
    "    print(name)\n",
    "    print(age)\n",
    "    print(args)"
   ]
  },
  {
   "cell_type": "code",
   "execution_count": 46,
   "metadata": {},
   "outputs": [
    {
     "name": "stdout",
     "output_type": "stream",
     "text": [
      "Nazira\n",
      "50\n",
      "('cricket', 'black', 'black')\n"
     ]
    }
   ],
   "source": [
    "survey('Nazira', 50, 'cricket', 'black', 'black')"
   ]
  },
  {
   "cell_type": "code",
   "execution_count": 50,
   "metadata": {},
   "outputs": [],
   "source": [
    "def survey(name,age, **kwargs):\n",
    "    print(name)\n",
    "    print(age)\n",
    "    print(kwargs)"
   ]
  },
  {
   "cell_type": "code",
   "execution_count": 51,
   "metadata": {},
   "outputs": [
    {
     "name": "stdout",
     "output_type": "stream",
     "text": [
      "Nazira\n",
      "50\n",
      "{'like': 'cricket', 'eye_color': 'black', 'fav_color': 'black'}\n"
     ]
    }
   ],
   "source": [
    "survey('Nazira', 50, like = 'cricket',eye_color = 'black', fav_color = 'black')"
   ]
  },
  {
   "cell_type": "markdown",
   "metadata": {},
   "source": [
    "#### Argument matching:\n",
    "1. Positional matching\n",
    "2. Keyworded matching"
   ]
  },
  {
   "cell_type": "code",
   "execution_count": 52,
   "metadata": {},
   "outputs": [],
   "source": [
    "def temp(a,b,c):\n",
    "    print(f'a: {a}')\n",
    "    print(f'b: {b}')\n",
    "    print(f'c: {c}')"
   ]
  },
  {
   "cell_type": "code",
   "execution_count": 53,
   "metadata": {},
   "outputs": [
    {
     "name": "stdout",
     "output_type": "stream",
     "text": [
      "a: 10\n",
      "b: 50\n",
      "c: 60\n"
     ]
    }
   ],
   "source": [
    "temp(10,50,60)             # Positional matching"
   ]
  },
  {
   "cell_type": "code",
   "execution_count": 55,
   "metadata": {},
   "outputs": [
    {
     "name": "stdout",
     "output_type": "stream",
     "text": [
      "a: 10\n",
      "b: 50\n",
      "c: 60\n"
     ]
    }
   ],
   "source": [
    "temp(a = 10, b = 50, c = 60)      # Keyworded matching"
   ]
  },
  {
   "cell_type": "code",
   "execution_count": 56,
   "metadata": {},
   "outputs": [
    {
     "name": "stdout",
     "output_type": "stream",
     "text": [
      "a: 10\n",
      "b: 20\n",
      "c: 30\n"
     ]
    }
   ],
   "source": [
    "temp(10,20,c = 30)"
   ]
  },
  {
   "cell_type": "code",
   "execution_count": 58,
   "metadata": {},
   "outputs": [
    {
     "name": "stdout",
     "output_type": "stream",
     "text": [
      "a: 20\n",
      "b: 30\n",
      "c: 10\n"
     ]
    }
   ],
   "source": [
    "temp(c = 10,a = 20,b = 30)"
   ]
  },
  {
   "cell_type": "code",
   "execution_count": 57,
   "metadata": {},
   "outputs": [
    {
     "ename": "SyntaxError",
     "evalue": "positional argument follows keyword argument (1180321160.py, line 1)",
     "output_type": "error",
     "traceback": [
      "\u001b[1;36m  Cell \u001b[1;32mIn[57], line 1\u001b[1;36m\u001b[0m\n\u001b[1;33m    temp(a = 10, 20,30)\u001b[0m\n\u001b[1;37m                      ^\u001b[0m\n\u001b[1;31mSyntaxError\u001b[0m\u001b[1;31m:\u001b[0m positional argument follows keyword argument\n"
     ]
    }
   ],
   "source": [
    "temp(c = 10, 20,30)"
   ]
  },
  {
   "cell_type": "markdown",
   "metadata": {},
   "source": [
    "Note: In python poistional arguments folllowed by keyworded arguments are not allowed"
   ]
  },
  {
   "cell_type": "code",
   "execution_count": 59,
   "metadata": {},
   "outputs": [],
   "source": [
    "def temp(a, *args, b):\n",
    "    print(a)\n",
    "    print(args)\n",
    "    print(b)"
   ]
  },
  {
   "cell_type": "code",
   "execution_count": 60,
   "metadata": {},
   "outputs": [
    {
     "ename": "TypeError",
     "evalue": "temp() missing 1 required keyword-only argument: 'b'",
     "output_type": "error",
     "traceback": [
      "\u001b[1;31m---------------------------------------------------------------------------\u001b[0m",
      "\u001b[1;31mTypeError\u001b[0m                                 Traceback (most recent call last)",
      "Cell \u001b[1;32mIn[60], line 1\u001b[0m\n\u001b[1;32m----> 1\u001b[0m \u001b[43mtemp\u001b[49m\u001b[43m(\u001b[49m\u001b[38;5;241;43m10\u001b[39;49m\u001b[43m,\u001b[49m\u001b[38;5;241;43m230\u001b[39;49m\u001b[43m,\u001b[49m\u001b[38;5;241;43m56\u001b[39;49m\u001b[43m,\u001b[49m\u001b[38;5;241;43m47\u001b[39;49m\u001b[43m,\u001b[49m\u001b[38;5;241;43m53\u001b[39;49m\u001b[43m)\u001b[49m\n",
      "\u001b[1;31mTypeError\u001b[0m: temp() missing 1 required keyword-only argument: 'b'"
     ]
    }
   ],
   "source": [
    "temp(10,230,56,47,53)"
   ]
  },
  {
   "cell_type": "code",
   "execution_count": 61,
   "metadata": {},
   "outputs": [
    {
     "name": "stdout",
     "output_type": "stream",
     "text": [
      "10\n",
      "(230, 56, 47, 53)\n",
      "777\n"
     ]
    }
   ],
   "source": [
    "temp(10,230,56,47,53, b = 777)"
   ]
  },
  {
   "cell_type": "markdown",
   "metadata": {},
   "source": [
    "#### 6. Functions with mandate positional arguments"
   ]
  },
  {
   "cell_type": "code",
   "execution_count": 1,
   "metadata": {},
   "outputs": [],
   "source": [
    "def temp(a,b,c,/):\n",
    "    print(a,b,c)"
   ]
  },
  {
   "cell_type": "code",
   "execution_count": 2,
   "metadata": {},
   "outputs": [
    {
     "name": "stdout",
     "output_type": "stream",
     "text": [
      "1 2 3\n"
     ]
    }
   ],
   "source": [
    "temp(1,2,3)"
   ]
  },
  {
   "cell_type": "code",
   "execution_count": 3,
   "metadata": {},
   "outputs": [
    {
     "ename": "TypeError",
     "evalue": "temp() got some positional-only arguments passed as keyword arguments: 'a, b, c'",
     "output_type": "error",
     "traceback": [
      "\u001b[1;31m---------------------------------------------------------------------------\u001b[0m",
      "\u001b[1;31mTypeError\u001b[0m                                 Traceback (most recent call last)",
      "Cell \u001b[1;32mIn[3], line 1\u001b[0m\n\u001b[1;32m----> 1\u001b[0m \u001b[43mtemp\u001b[49m\u001b[43m(\u001b[49m\u001b[43ma\u001b[49m\u001b[43m \u001b[49m\u001b[38;5;241;43m=\u001b[39;49m\u001b[43m \u001b[49m\u001b[38;5;241;43m1\u001b[39;49m\u001b[43m,\u001b[49m\u001b[43mb\u001b[49m\u001b[43m \u001b[49m\u001b[38;5;241;43m=\u001b[39;49m\u001b[43m \u001b[49m\u001b[38;5;241;43m2\u001b[39;49m\u001b[43m,\u001b[49m\u001b[43mc\u001b[49m\u001b[43m \u001b[49m\u001b[38;5;241;43m=\u001b[39;49m\u001b[43m \u001b[49m\u001b[38;5;241;43m3\u001b[39;49m\u001b[43m)\u001b[49m\n",
      "\u001b[1;31mTypeError\u001b[0m: temp() got some positional-only arguments passed as keyword arguments: 'a, b, c'"
     ]
    }
   ],
   "source": [
    "temp(a = 1,b = 2,c = 3)"
   ]
  },
  {
   "cell_type": "markdown",
   "metadata": {},
   "source": [
    "#### 7. Functions with mandate keyworded argument"
   ]
  },
  {
   "cell_type": "code",
   "execution_count": 4,
   "metadata": {},
   "outputs": [],
   "source": [
    "def division(*,nr,dr):\n",
    "    return nr/dr"
   ]
  },
  {
   "cell_type": "code",
   "execution_count": 5,
   "metadata": {},
   "outputs": [
    {
     "ename": "TypeError",
     "evalue": "division() takes 0 positional arguments but 2 were given",
     "output_type": "error",
     "traceback": [
      "\u001b[1;31m---------------------------------------------------------------------------\u001b[0m",
      "\u001b[1;31mTypeError\u001b[0m                                 Traceback (most recent call last)",
      "Cell \u001b[1;32mIn[5], line 1\u001b[0m\n\u001b[1;32m----> 1\u001b[0m \u001b[43mdivision\u001b[49m\u001b[43m(\u001b[49m\u001b[38;5;241;43m10\u001b[39;49m\u001b[43m,\u001b[49m\u001b[38;5;241;43m20\u001b[39;49m\u001b[43m)\u001b[49m\n",
      "\u001b[1;31mTypeError\u001b[0m: division() takes 0 positional arguments but 2 were given"
     ]
    }
   ],
   "source": [
    "division(10,20)"
   ]
  },
  {
   "cell_type": "code",
   "execution_count": 6,
   "metadata": {},
   "outputs": [
    {
     "data": {
      "text/plain": [
       "0.5"
      ]
     },
     "execution_count": 6,
     "metadata": {},
     "output_type": "execute_result"
    }
   ],
   "source": [
    "division(nr = 10,dr = 20)"
   ]
  },
  {
   "cell_type": "code",
   "execution_count": 7,
   "metadata": {},
   "outputs": [
    {
     "data": {
      "text/plain": [
       "2.0"
      ]
     },
     "execution_count": 7,
     "metadata": {},
     "output_type": "execute_result"
    }
   ],
   "source": [
    "division(dr = 10,nr = 20)"
   ]
  },
  {
   "cell_type": "code",
   "execution_count": 8,
   "metadata": {},
   "outputs": [
    {
     "ename": "SyntaxError",
     "evalue": "invalid syntax (3440810420.py, line 1)",
     "output_type": "error",
     "traceback": [
      "\u001b[1;36m  Cell \u001b[1;32mIn[8], line 1\u001b[1;36m\u001b[0m\n\u001b[1;33m    def temp(*,a,b,c,d,/):\u001b[0m\n\u001b[1;37m                       ^\u001b[0m\n\u001b[1;31mSyntaxError\u001b[0m\u001b[1;31m:\u001b[0m invalid syntax\n"
     ]
    }
   ],
   "source": [
    "def temp(*,a,b,c,d,/):\n",
    "    print(a,b,c,d)"
   ]
  },
  {
   "cell_type": "code",
   "execution_count": 9,
   "metadata": {},
   "outputs": [],
   "source": [
    "def temp(a,b,/,*,c,d):\n",
    "    print(a,b,c,d)"
   ]
  },
  {
   "cell_type": "code",
   "execution_count": 11,
   "metadata": {},
   "outputs": [
    {
     "name": "stdout",
     "output_type": "stream",
     "text": [
      "10 20 45 50\n"
     ]
    }
   ],
   "source": [
    "temp(10,20,c = 45,d = 50)"
   ]
  },
  {
   "cell_type": "code",
   "execution_count": 12,
   "metadata": {},
   "outputs": [
    {
     "ename": "SyntaxError",
     "evalue": "positional argument follows keyword argument (4131520754.py, line 1)",
     "output_type": "error",
     "traceback": [
      "\u001b[1;36m  Cell \u001b[1;32mIn[12], line 1\u001b[1;36m\u001b[0m\n\u001b[1;33m    temp(c = 45,d = 50,10,20)\u001b[0m\n\u001b[1;37m                            ^\u001b[0m\n\u001b[1;31mSyntaxError\u001b[0m\u001b[1;31m:\u001b[0m positional argument follows keyword argument\n"
     ]
    }
   ],
   "source": [
    "temp(c = 45,d = 50,10,20)"
   ]
  },
  {
   "cell_type": "markdown",
   "metadata": {},
   "source": [
    "#### 8. Functions with default value"
   ]
  },
  {
   "cell_type": "code",
   "execution_count": 13,
   "metadata": {},
   "outputs": [],
   "source": [
    "def mul(a,b = 1):\n",
    "    return a*b"
   ]
  },
  {
   "cell_type": "code",
   "execution_count": 14,
   "metadata": {},
   "outputs": [
    {
     "data": {
      "text/plain": [
       "20"
      ]
     },
     "execution_count": 14,
     "metadata": {},
     "output_type": "execute_result"
    }
   ],
   "source": [
    "mul(10,2)"
   ]
  },
  {
   "cell_type": "code",
   "execution_count": 15,
   "metadata": {},
   "outputs": [
    {
     "data": {
      "text/plain": [
       "10"
      ]
     },
     "execution_count": 15,
     "metadata": {},
     "output_type": "execute_result"
    }
   ],
   "source": [
    "mul(10)"
   ]
  },
  {
   "cell_type": "code",
   "execution_count": 16,
   "metadata": {},
   "outputs": [
    {
     "ename": "TypeError",
     "evalue": "mul() missing 1 required positional argument: 'a'",
     "output_type": "error",
     "traceback": [
      "\u001b[1;31m---------------------------------------------------------------------------\u001b[0m",
      "\u001b[1;31mTypeError\u001b[0m                                 Traceback (most recent call last)",
      "Cell \u001b[1;32mIn[16], line 1\u001b[0m\n\u001b[1;32m----> 1\u001b[0m \u001b[43mmul\u001b[49m\u001b[43m(\u001b[49m\u001b[43m)\u001b[49m\n",
      "\u001b[1;31mTypeError\u001b[0m: mul() missing 1 required positional argument: 'a'"
     ]
    }
   ],
   "source": [
    "mul()"
   ]
  },
  {
   "cell_type": "code",
   "execution_count": 17,
   "metadata": {},
   "outputs": [
    {
     "name": "stdout",
     "output_type": "stream",
     "text": [
      "[1]\n",
      "[1, 2]\n"
     ]
    }
   ],
   "source": [
    "def func(x, y=[]):     # Note: the default value is only created once during function defination\n",
    "    y.append(x)\n",
    "    return y\n",
    "\n",
    "print(func(1))\n",
    "print(func(2))"
   ]
  },
  {
   "cell_type": "code",
   "execution_count": 18,
   "metadata": {},
   "outputs": [
    {
     "name": "stdout",
     "output_type": "stream",
     "text": [
      "[3]\n"
     ]
    }
   ],
   "source": [
    "print(func(3, []))"
   ]
  },
  {
   "cell_type": "code",
   "execution_count": 19,
   "metadata": {},
   "outputs": [
    {
     "name": "stdout",
     "output_type": "stream",
     "text": [
      "[1, 2, 4]\n"
     ]
    }
   ],
   "source": [
    "print(func(4))"
   ]
  },
  {
   "cell_type": "code",
   "execution_count": 20,
   "metadata": {},
   "outputs": [
    {
     "data": {
      "text/plain": [
       "[10]"
      ]
     },
     "execution_count": 20,
     "metadata": {},
     "output_type": "execute_result"
    }
   ],
   "source": [
    "a = func(10,[])\n",
    "a"
   ]
  },
  {
   "cell_type": "code",
   "execution_count": 21,
   "metadata": {},
   "outputs": [
    {
     "data": {
      "text/plain": [
       "[10, 20]"
      ]
     },
     "execution_count": 21,
     "metadata": {},
     "output_type": "execute_result"
    }
   ],
   "source": [
    "func(20,a)"
   ]
  },
  {
   "cell_type": "code",
   "execution_count": null,
   "metadata": {},
   "outputs": [],
   "source": [
    "# positional arguments, vla, keyworded arguments, default arguments, kwargs"
   ]
  },
  {
   "cell_type": "code",
   "execution_count": 22,
   "metadata": {},
   "outputs": [
    {
     "ename": "SyntaxError",
     "evalue": "invalid syntax (437598732.py, line 1)",
     "output_type": "error",
     "traceback": [
      "\u001b[1;36m  Cell \u001b[1;32mIn[22], line 1\u001b[1;36m\u001b[0m\n\u001b[1;33m    def temp(**a,*b):\u001b[0m\n\u001b[1;37m                 ^\u001b[0m\n\u001b[1;31mSyntaxError\u001b[0m\u001b[1;31m:\u001b[0m invalid syntax\n"
     ]
    }
   ],
   "source": [
    "def temp(**a,*b):\n",
    "    print(a,b)"
   ]
  },
  {
   "cell_type": "markdown",
   "metadata": {},
   "source": [
    "#### Quick Questions"
   ]
  },
  {
   "cell_type": "code",
   "execution_count": 23,
   "metadata": {},
   "outputs": [
    {
     "name": "stdout",
     "output_type": "stream",
     "text": [
      "a = 1, b = 2, c = 20\n",
      "args = (3, 4, 5)\n",
      "kwargs = {'x': 100, 'y': 200}\n"
     ]
    }
   ],
   "source": [
    "# 1. \n",
    "def mixed_function(a, b, *args, c=10, **kwargs):\n",
    "    print(f\"a = {a}, b = {b}, c = {c}\")\n",
    "    print(f\"args = {args}\")\n",
    "    print(f\"kwargs = {kwargs}\")\n",
    "\n",
    "mixed_function(1, 2, 3, 4, 5, c=20, x=100, y=200)"
   ]
  },
  {
   "cell_type": "code",
   "execution_count": 24,
   "metadata": {},
   "outputs": [
    {
     "name": "stdout",
     "output_type": "stream",
     "text": [
      "Hello, Alice! You are 25 years old.\n",
      "Hello, 25! You are Alice years old.\n"
     ]
    }
   ],
   "source": [
    "# 2. \n",
    "def greet(name, age):\n",
    "    print(f\"Hello, {name}! You are {age} years old.\")\n",
    "\n",
    "greet(\"Alice\", 25)\n",
    "greet(25, \"Alice\")"
   ]
  },
  {
   "cell_type": "code",
   "execution_count": 25,
   "metadata": {},
   "outputs": [
    {
     "name": "stdout",
     "output_type": "stream",
     "text": [
      "Hello, Bob! You are 30 years old.\n"
     ]
    }
   ],
   "source": [
    "# 3. \n",
    "def greet(name, age):\n",
    "    print(f\"Hello, {name}! You are {age} years old.\")\n",
    "\n",
    "greet(age=30, name=\"Bob\")"
   ]
  },
  {
   "cell_type": "code",
   "execution_count": 26,
   "metadata": {},
   "outputs": [
    {
     "name": "stdout",
     "output_type": "stream",
     "text": [
      "Hello, Guest! You are 18 years old.\n",
      "Hello, Charlie! You are 18 years old.\n",
      "Hello, Guest! You are 40 years old.\n"
     ]
    }
   ],
   "source": [
    "# 4. \n",
    "def greet(name=\"Guest\", age=18):\n",
    "    print(f\"Hello, {name}! You are {age} years old.\")\n",
    "\n",
    "greet()\n",
    "greet(\"Charlie\")\n",
    "greet(age=40)"
   ]
  },
  {
   "cell_type": "code",
   "execution_count": 27,
   "metadata": {},
   "outputs": [
    {
     "name": "stdout",
     "output_type": "stream",
     "text": [
      "(1, 2, 3)\n",
      "6\n",
      "(10, 20, 30, 40)\n",
      "100\n"
     ]
    }
   ],
   "source": [
    "# 5. \n",
    "def add_numbers(*args):\n",
    "    print(args)\n",
    "    return sum(args)\n",
    "\n",
    "print(add_numbers(1, 2, 3))\n",
    "print(add_numbers(10, 20, 30, 40))"
   ]
  },
  {
   "cell_type": "code",
   "execution_count": 28,
   "metadata": {},
   "outputs": [
    {
     "name": "stdout",
     "output_type": "stream",
     "text": [
      "{'name': 'David', 'age': 35, 'city': 'New York'}\n"
     ]
    }
   ],
   "source": [
    "# 6. \n",
    "def user_info(**kwargs):\n",
    "    print(kwargs)\n",
    "\n",
    "user_info(name=\"David\", age=35, city=\"New York\")"
   ]
  },
  {
   "cell_type": "code",
   "execution_count": 29,
   "metadata": {},
   "outputs": [
    {
     "name": "stdout",
     "output_type": "stream",
     "text": [
      "2 3 4\n",
      "24\n"
     ]
    }
   ],
   "source": [
    "# 7.\n",
    "def multiply(a, b, c):\n",
    "    print(a,b,c)\n",
    "    return a * b * c\n",
    "\n",
    "numbers = (2, 3, 4)\n",
    "print(multiply(*numbers))         # argument unpacking"
   ]
  },
  {
   "cell_type": "code",
   "execution_count": 31,
   "metadata": {},
   "outputs": [
    {
     "name": "stdout",
     "output_type": "stream",
     "text": [
      "2,3,4\n"
     ]
    }
   ],
   "source": [
    "numbers = (2, 3, 4)\n",
    "print(*numbers, sep = \",\")"
   ]
  },
  {
   "cell_type": "code",
   "execution_count": 32,
   "metadata": {},
   "outputs": [
    {
     "name": "stdout",
     "output_type": "stream",
     "text": [
      "2 3 4\n",
      "24\n"
     ]
    }
   ],
   "source": [
    "# 8.\n",
    "values = { \"b\": 3, \"c\": 4, \"a\": 2}\n",
    "print(multiply(**values))         # argument unpacking"
   ]
  },
  {
   "cell_type": "code",
   "execution_count": 33,
   "metadata": {},
   "outputs": [
    {
     "ename": "SyntaxError",
     "evalue": "invalid syntax (3284953156.py, line 2)",
     "output_type": "error",
     "traceback": [
      "\u001b[1;36m  Cell \u001b[1;32mIn[33], line 2\u001b[1;36m\u001b[0m\n\u001b[1;33m    def func(*,a,b,c,d,/):\u001b[0m\n\u001b[1;37m                       ^\u001b[0m\n\u001b[1;31mSyntaxError\u001b[0m\u001b[1;31m:\u001b[0m invalid syntax\n"
     ]
    }
   ],
   "source": [
    "# 9.\n",
    "def func(*,a,b,c,d,/):\n",
    "    print(f'a : {a}')\n",
    "    print(f'b : {b}')\n",
    "    print(f'c : {c}')\n",
    "    print(f'd : {d}')\n",
    "func(a = 10,b = 20,30,40)"
   ]
  },
  {
   "cell_type": "code",
   "execution_count": 34,
   "metadata": {},
   "outputs": [
    {
     "name": "stdout",
     "output_type": "stream",
     "text": [
      "a : 10\n",
      "b : 20\n",
      "c : 30\n",
      "d : 40\n"
     ]
    }
   ],
   "source": [
    "# 10. guess the ouput\n",
    "def func(a,b,/,*,c,d):\n",
    "    print(f'a : {a}')\n",
    "    print(f'b : {b}')\n",
    "    print(f'c : {c}')\n",
    "    print(f'd : {d}')\n",
    "func(10,20,c = 30,d = 40)"
   ]
  },
  {
   "cell_type": "code",
   "execution_count": 35,
   "metadata": {},
   "outputs": [
    {
     "ename": "TypeError",
     "evalue": "func() takes 2 positional arguments but 4 were given",
     "output_type": "error",
     "traceback": [
      "\u001b[1;31m---------------------------------------------------------------------------\u001b[0m",
      "\u001b[1;31mTypeError\u001b[0m                                 Traceback (most recent call last)",
      "Cell \u001b[1;32mIn[35], line 1\u001b[0m\n\u001b[1;32m----> 1\u001b[0m \u001b[43mfunc\u001b[49m\u001b[43m(\u001b[49m\u001b[38;5;241;43m10\u001b[39;49m\u001b[43m,\u001b[49m\u001b[38;5;241;43m20\u001b[39;49m\u001b[43m,\u001b[49m\u001b[38;5;241;43m30\u001b[39;49m\u001b[43m,\u001b[49m\u001b[38;5;241;43m40\u001b[39;49m\u001b[43m)\u001b[49m\n",
      "\u001b[1;31mTypeError\u001b[0m: func() takes 2 positional arguments but 4 were given"
     ]
    }
   ],
   "source": [
    "func(10,20,30,40)"
   ]
  },
  {
   "cell_type": "code",
   "execution_count": 36,
   "metadata": {},
   "outputs": [
    {
     "ename": "TypeError",
     "evalue": "func() got some positional-only arguments passed as keyword arguments: 'a, b'",
     "output_type": "error",
     "traceback": [
      "\u001b[1;31m---------------------------------------------------------------------------\u001b[0m",
      "\u001b[1;31mTypeError\u001b[0m                                 Traceback (most recent call last)",
      "Cell \u001b[1;32mIn[36], line 1\u001b[0m\n\u001b[1;32m----> 1\u001b[0m \u001b[43mfunc\u001b[49m\u001b[43m(\u001b[49m\u001b[43ma\u001b[49m\u001b[43m \u001b[49m\u001b[38;5;241;43m=\u001b[39;49m\u001b[43m \u001b[49m\u001b[38;5;241;43m10\u001b[39;49m\u001b[43m,\u001b[49m\u001b[43mb\u001b[49m\u001b[43m \u001b[49m\u001b[38;5;241;43m=\u001b[39;49m\u001b[43m \u001b[49m\u001b[38;5;241;43m20\u001b[39;49m\u001b[43m,\u001b[49m\u001b[43mc\u001b[49m\u001b[43m \u001b[49m\u001b[38;5;241;43m=\u001b[39;49m\u001b[43m \u001b[49m\u001b[38;5;241;43m30\u001b[39;49m\u001b[43m,\u001b[49m\u001b[43md\u001b[49m\u001b[43m \u001b[49m\u001b[38;5;241;43m=\u001b[39;49m\u001b[43m \u001b[49m\u001b[38;5;241;43m40\u001b[39;49m\u001b[43m)\u001b[49m\n",
      "\u001b[1;31mTypeError\u001b[0m: func() got some positional-only arguments passed as keyword arguments: 'a, b'"
     ]
    }
   ],
   "source": [
    "func(a = 10,b = 20,c = 30,d = 40)"
   ]
  },
  {
   "cell_type": "code",
   "execution_count": 37,
   "metadata": {},
   "outputs": [
    {
     "name": "stdout",
     "output_type": "stream",
     "text": [
      "a : 10\n",
      "b : 20\n",
      "c : 40\n",
      "d : 30\n"
     ]
    }
   ],
   "source": [
    "func(10,20,d = 30,c = 40)"
   ]
  },
  {
   "cell_type": "code",
   "execution_count": 38,
   "metadata": {},
   "outputs": [
    {
     "name": "stdout",
     "output_type": "stream",
     "text": [
      "Item: Shoes, Quantity: 2, Discount: 10%\n",
      "Total Price: $18.0\n"
     ]
    }
   ],
   "source": [
    "# 11. \n",
    "def order(item, quantity, *, discount=0):\n",
    "    total = quantity * 10\n",
    "    total -= total * (discount / 100)\n",
    "    print(f\"Item: {item}, Quantity: {quantity}, Discount: {discount}%\")\n",
    "    print(f\"Total Price: ${total}\")\n",
    "\n",
    "order(\"Shoes\", 2, discount=10)"
   ]
  },
  {
   "cell_type": "code",
   "execution_count": 39,
   "metadata": {},
   "outputs": [
    {
     "ename": "TypeError",
     "evalue": "order() takes 2 positional arguments but 3 were given",
     "output_type": "error",
     "traceback": [
      "\u001b[1;31m---------------------------------------------------------------------------\u001b[0m",
      "\u001b[1;31mTypeError\u001b[0m                                 Traceback (most recent call last)",
      "Cell \u001b[1;32mIn[39], line 2\u001b[0m\n\u001b[0;32m      1\u001b[0m \u001b[38;5;66;03m# 12. \u001b[39;00m\n\u001b[1;32m----> 2\u001b[0m \u001b[43morder\u001b[49m\u001b[43m(\u001b[49m\u001b[38;5;124;43m\"\u001b[39;49m\u001b[38;5;124;43mShoes\u001b[39;49m\u001b[38;5;124;43m\"\u001b[39;49m\u001b[43m,\u001b[49m\u001b[43m \u001b[49m\u001b[38;5;241;43m2\u001b[39;49m\u001b[43m,\u001b[49m\u001b[43m \u001b[49m\u001b[38;5;241;43m10\u001b[39;49m\u001b[43m)\u001b[49m\n",
      "\u001b[1;31mTypeError\u001b[0m: order() takes 2 positional arguments but 3 were given"
     ]
    }
   ],
   "source": [
    "# 12. \n",
    "order(\"Shoes\", 2, 10)"
   ]
  },
  {
   "cell_type": "code",
   "execution_count": null,
   "metadata": {},
   "outputs": [],
   "source": [
    "# 13. \n",
    "def complex_func(a, b, /, *args, c=10, **kwargs):\n",
    "    print(f\"a = {a}, b = {b}, c = {c}\")\n",
    "    print(f\"args = {args}\")\n",
    "    print(f\"kwargs = {kwargs}\")\n",
    "\n",
    "complex_func(1, 2, 3, 4, 5, c=20, x=100, y=200)"
   ]
  },
  {
   "cell_type": "code",
   "execution_count": null,
   "metadata": {},
   "outputs": [],
   "source": [
    "# 14. \n",
    "complex_func(a=1, b=2)"
   ]
  },
  {
   "cell_type": "code",
   "execution_count": null,
   "metadata": {},
   "outputs": [],
   "source": [
    "complex_func(1,2)"
   ]
  },
  {
   "cell_type": "code",
   "execution_count": null,
   "metadata": {},
   "outputs": [],
   "source": [
    "# 15. \n",
    "def func(a, b):\n",
    "    return a * b\n",
    "\n",
    "print(func(2, \"Hello\"))"
   ]
  },
  {
   "cell_type": "code",
   "execution_count": 42,
   "metadata": {},
   "outputs": [
    {
     "name": "stdout",
     "output_type": "stream",
     "text": [
      "[0]\n",
      "[0, 1]\n",
      "[0]\n",
      "[0, 1, 2]\n",
      "[0]\n"
     ]
    }
   ],
   "source": [
    "# 16. \n",
    "def example(x=[]):      # default arguments are created only during function defination\n",
    "    x.append(len(x))\n",
    "    return x\n",
    "\n",
    "print(example())\n",
    "print(example())\n",
    "print(example([]))\n",
    "print(example())\n",
    "print(example([]))"
   ]
  },
  {
   "cell_type": "code",
   "execution_count": 41,
   "metadata": {},
   "outputs": [
    {
     "name": "stdout",
     "output_type": "stream",
     "text": [
      "[0]\n",
      "[0]\n"
     ]
    }
   ],
   "source": [
    "# 16. \n",
    "def example(x=()):      # default arguments are created only during function defination\n",
    "    x = list(x)\n",
    "    x.append(len(x))\n",
    "    return x\n",
    "\n",
    "print(example())\n",
    "print(example())"
   ]
  },
  {
   "cell_type": "code",
   "execution_count": null,
   "metadata": {},
   "outputs": [],
   "source": [
    "# 17. \n",
    "def check_value(key, data={1: \"A\", 2: \"B\"}):\n",
    "    data[key] = \"C\"\n",
    "    return data\n",
    "\n",
    "print(check_value(3))"
   ]
  },
  {
   "cell_type": "code",
   "execution_count": null,
   "metadata": {},
   "outputs": [],
   "source": [
    "print(check_value(4))"
   ]
  },
  {
   "cell_type": "code",
   "execution_count": null,
   "metadata": {},
   "outputs": [],
   "source": [
    "print(check_value(2, {}))"
   ]
  },
  {
   "cell_type": "code",
   "execution_count": null,
   "metadata": {},
   "outputs": [],
   "source": [
    "print(check_value(5))"
   ]
  },
  {
   "cell_type": "code",
   "execution_count": null,
   "metadata": {},
   "outputs": [],
   "source": [
    "# 18. \n",
    "def modify_list(lst):\n",
    "    lst.append(100)\n",
    "    return lst\n",
    "\n",
    "numbers = [1, 2, 3]\n",
    "print(modify_list(numbers))\n",
    "print(numbers)"
   ]
  },
  {
   "cell_type": "code",
   "execution_count": null,
   "metadata": {},
   "outputs": [],
   "source": [
    "# 19.\n",
    "def modify_list(lst):\n",
    "    lst = lst.copy()  \n",
    "    lst.append(100)\n",
    "    return lst\n",
    "\n",
    "numbers = [1, 2, 3]\n",
    "print(modify_list(numbers))  \n",
    "print(numbers)  "
   ]
  },
  {
   "cell_type": "markdown",
   "metadata": {},
   "source": [
    "# pass\n",
    "\n",
    "- occupies a space\n",
    "- does nothing"
   ]
  },
  {
   "cell_type": "code",
   "execution_count": 46,
   "metadata": {},
   "outputs": [],
   "source": [
    "def load_data():\n",
    "    pass"
   ]
  },
  {
   "cell_type": "code",
   "execution_count": 48,
   "metadata": {},
   "outputs": [
    {
     "data": {
      "text/plain": [
       "<function __main__.load_data()>"
      ]
     },
     "execution_count": 48,
     "metadata": {},
     "output_type": "execute_result"
    }
   ],
   "source": [
    "load_data"
   ]
  },
  {
   "cell_type": "code",
   "execution_count": 49,
   "metadata": {},
   "outputs": [],
   "source": [
    "load_data()"
   ]
  },
  {
   "cell_type": "code",
   "execution_count": 50,
   "metadata": {},
   "outputs": [],
   "source": [
    "def load_data():\n",
    "    ..."
   ]
  },
  {
   "cell_type": "code",
   "execution_count": 51,
   "metadata": {},
   "outputs": [],
   "source": [
    "for i in range(10):\n",
    "    ..."
   ]
  },
  {
   "cell_type": "markdown",
   "metadata": {},
   "source": [
    "# Docstring:\n",
    "The string statement followed by the function name is called the docstring\n",
    "(shortform for documentation string). It provides a convenient way of associating documentation with Python modules, functions, classes.\n",
    "It is specified in the source code that is used like a comment, in order to document a specific segment of code."
   ]
  },
  {
   "cell_type": "code",
   "execution_count": 52,
   "metadata": {},
   "outputs": [
    {
     "name": "stdout",
     "output_type": "stream",
     "text": [
      "Help on built-in function max in module builtins:\n",
      "\n",
      "max(...)\n",
      "    max(iterable, *[, default=obj, key=func]) -> value\n",
      "    max(arg1, arg2, *args, *[, key=func]) -> value\n",
      "    \n",
      "    With a single iterable argument, return its biggest item. The\n",
      "    default keyword-only argument specifies an object to return if\n",
      "    the provided iterable is empty.\n",
      "    With two or more arguments, return the largest argument.\n",
      "\n"
     ]
    }
   ],
   "source": [
    "help(max)"
   ]
  },
  {
   "cell_type": "code",
   "execution_count": 53,
   "metadata": {},
   "outputs": [
    {
     "data": {
      "text/plain": [
       "40"
      ]
     },
     "execution_count": 53,
     "metadata": {},
     "output_type": "execute_result"
    }
   ],
   "source": [
    "max(10,20,40,5)"
   ]
  },
  {
   "cell_type": "code",
   "execution_count": 64,
   "metadata": {},
   "outputs": [],
   "source": [
    "def my_max(*args):\n",
    "    \"\"\"\n",
    "    Accepts any no of arguments\n",
    "    Returns maximum of the given numbers\n",
    "    \"\"\"\n",
    "    max_no = args[0]\n",
    "    for num in args[1:]:\n",
    "        if num > max_no:\n",
    "            max_no = num\n",
    "    return max_no"
   ]
  },
  {
   "cell_type": "code",
   "execution_count": 59,
   "metadata": {},
   "outputs": [
    {
     "data": {
      "text/plain": [
       "40"
      ]
     },
     "execution_count": 59,
     "metadata": {},
     "output_type": "execute_result"
    }
   ],
   "source": [
    "my_max(10,20,40,5)"
   ]
  },
  {
   "cell_type": "code",
   "execution_count": 60,
   "metadata": {},
   "outputs": [
    {
     "name": "stdout",
     "output_type": "stream",
     "text": [
      "Help on built-in function max in module builtins:\n",
      "\n",
      "max(...)\n",
      "    max(iterable, *[, default=obj, key=func]) -> value\n",
      "    max(arg1, arg2, *args, *[, key=func]) -> value\n",
      "    \n",
      "    With a single iterable argument, return its biggest item. The\n",
      "    default keyword-only argument specifies an object to return if\n",
      "    the provided iterable is empty.\n",
      "    With two or more arguments, return the largest argument.\n",
      "\n"
     ]
    }
   ],
   "source": [
    "help(max)"
   ]
  },
  {
   "cell_type": "code",
   "execution_count": 65,
   "metadata": {},
   "outputs": [
    {
     "name": "stdout",
     "output_type": "stream",
     "text": [
      "Help on function my_max in module __main__:\n",
      "\n",
      "my_max(*args)\n",
      "    Accepts any no of arguments\n",
      "    Returns maximum of the given numbers\n",
      "\n"
     ]
    }
   ],
   "source": [
    "help(my_max)"
   ]
  },
  {
   "cell_type": "code",
   "execution_count": 67,
   "metadata": {},
   "outputs": [
    {
     "name": "stdout",
     "output_type": "stream",
     "text": [
      "\n",
      "    Accepts any no of arguments\n",
      "    Returns maximum of the given numbers\n",
      "    \n"
     ]
    }
   ],
   "source": [
    "print(my_max.__doc__)"
   ]
  },
  {
   "cell_type": "markdown",
   "metadata": {},
   "source": [
    "# Practice programs"
   ]
  },
  {
   "cell_type": "code",
   "execution_count": 68,
   "metadata": {},
   "outputs": [
    {
     "data": {
      "text/plain": [
       "157366"
      ]
     },
     "execution_count": 68,
     "metadata": {},
     "output_type": "execute_result"
    }
   ],
   "source": [
    "# 1. WAP to sum all the elements sales\n",
    "sales = [78000,65000,9800,4566]\n",
    "sum(sales)"
   ]
  },
  {
   "cell_type": "code",
   "execution_count": 69,
   "metadata": {},
   "outputs": [
    {
     "data": {
      "text/plain": [
       "(78000, 4566, 39341.5)"
      ]
     },
     "execution_count": 69,
     "metadata": {},
     "output_type": "execute_result"
    }
   ],
   "source": [
    "# 2. WAP to find the maximum and minimum sales, average sales\n",
    "\n",
    "sales = [78000,65000,9800,4566]\n",
    "max(sales), min(sales), sum(sales)/len(sales)"
   ]
  },
  {
   "cell_type": "code",
   "execution_count": 72,
   "metadata": {},
   "outputs": [
    {
     "data": {
      "text/plain": [
       "[40, 10, 50, 20, 60, 30]"
      ]
     },
     "execution_count": 72,
     "metadata": {},
     "output_type": "execute_result"
    }
   ],
   "source": [
    "# 3.Write a Python function that takes a list and returns a new list with\n",
    "# unique elements of the first list.\n",
    "numbers = [10,20,10,40,50,60,30,20]\n",
    "\n",
    "def get_unique(elements_list):\n",
    "    return list(set(elements_list))\n",
    "\n",
    "get_unique(numbers)"
   ]
  },
  {
   "cell_type": "code",
   "execution_count": 74,
   "metadata": {},
   "outputs": [
    {
     "data": {
      "text/plain": [
       "'olleh'"
      ]
     },
     "execution_count": 74,
     "metadata": {},
     "output_type": "execute_result"
    }
   ],
   "source": [
    "# 4. WAF that accepts a string and returns the reverse of the string\n",
    "def reverse_string(text):\n",
    "    return text[::-1]\n",
    "\n",
    "reverse_string('hello')"
   ]
  },
  {
   "cell_type": "code",
   "execution_count": 80,
   "metadata": {},
   "outputs": [],
   "source": [
    "# 5. WAF to test if a given string is pallindrome\n",
    "def is_pallindrome(text):\n",
    "    return text.lower() == reverse_string(text).lower()"
   ]
  },
  {
   "cell_type": "code",
   "execution_count": 81,
   "metadata": {},
   "outputs": [
    {
     "data": {
      "text/plain": [
       "True"
      ]
     },
     "execution_count": 81,
     "metadata": {},
     "output_type": "execute_result"
    }
   ],
   "source": [
    "is_pallindrome('Mom')"
   ]
  },
  {
   "cell_type": "markdown",
   "metadata": {},
   "source": [
    "# Scope\n",
    "**Q) Suppose you refer to the name x in your code, and x exists in several scope. How does Python know which one you mean?**\n",
    "\n",
    "Python searches for x in the following namespaces in the order shown\n",
    "1. Local: If you refer to x inside a function, then the interpreter first searches for it in the innermost scope that’s local to that function.\n",
    "2. Enclosing: If x isn’t in the local scope but appears in a function that resides inside another function, then the interpreter searches in the enclosing function’s scope.\n",
    "3. Global: If neither of the above searches is fruitful, then the interpreter looks in the global scope next.\n",
    "4. Built-in: If it can’t find x anywhere else, then the interpreter tries the built-in scope.\n",
    "\n",
    "LEGB rule (Local,enclosing,global,builtins)\n",
    "\n",
    "![image.png](data:image/png;base64,iVBORw0KGgoAAAANSUhEUgAAAT0AAAEyCAYAAACIzQdIAAAAAXNSR0IArs4c6QAAAARnQU1BAACxjwv8YQUAAAAJcEhZcwAAEnQAABJ0Ad5mH3gAACgUSURBVHhe7d0HfFzFoS7wT1u0q1XvsootV9yNi7DBmG56DaEkIaEkwEuBCyEEkptgevIuaTdcSAjJIwRuCASCaaFjY+O449hyt2VLttV7XW3VO7M7ZrXF9kra1e7Z8/35nZ9nRjIIe/fbmTkzc5IGFCAi0gid/JWISBMYekSkKQw9ItIUhh4RaQpDj4g0haFHRJrC0CMiTWHoEZGmMPSISFMYekSkKQw9ItIUhh4RaYrqDhzo7LGhprEbjW19nqupvQ89ViesdgdsdhccTrf8TiKKJqNBB1OyHinJRqSlGFCQbUFhjvcaV5iOzDST/M74oorQq67vxLaqVuw42Iq6ll7ZSkTxrDgvFTPG52L2xFyUj8mUrbEXt6HX2WvD57ubsGJLLdq7+2UrEalRdroJZ88vw7wp+chMjW0PMO5Cr6PbhtXbavHBhkOyhYgSyfmnjMWS2SXIUoIwFuIm9MRc3OqttXh9VZVsOTGDQQ+TUQ+j8qtOl+S9kpLkV4komtxKdLjd3svhdMHmcMGp/Bquq86YiCVzSjxzg6MpLkKvur4Lf3hzO7r77LIltGQl4FLMRkwtL8TMiUVItSTLrxBRPOhV3sPbqxqwu7oR1n4H7EoQHk+68h6+7YqZKC/KkC3RF9PQcymfEO+vr8G766plS7AkpeeWmpKMsysmYnxJrmwlIjU4WNuKFRur0Gu143hRc9GiclywcBz0ymgt2mIaej9/cRNqm3tkLVhJQSauPGem8gfB5YREauZyu7H8k+2obeqULcFK8tNw/w0LZC16YhJ6osv7+Asb0doZ+q5sVloKvnLxXM9cHRElDjH399I/t6Cjxypb/OVmmvHjr1d4prKiZdRDr00Jul+8/Dm6e4Pn7wwGHS5aPA3lxTnKsFY2ElFCEYlTXdeGd9fsgjPEZoL01GT84Lp5yFECMBpGNfRED++h59ajK0Tg5WRa8KVzZ8Fi5s0JIi3o67fjHx9XKh2hPtnik6EE37KbF0alxzeqoffgn9ahtSt4SDt9QiHOWjDJ09MjIu0QPb2Vm/Zj54FG2eKTm2HGg99cJGuRM2qh97MXNobcQnbKrLFYOHOs5y5tpHT01aK97zB6+pthd/V5roGB8NcPEcVGEvS6ZCQbUpCstyDLUoYc5UpJzpJfT0wigtZvP4QNlcEbEsbkpeJHX69Q/mQiZ1RC783PDuDDjcH/QyLwFs0aJ2vD19y9H4faNqO1t1oJvMNwD/DQAUocZkM6slPLUJA+BeV5C5FijJ99rJG0rrImZPAtrSjD5adPlLWRi3roHazrxK9e3iJrPjMmFeGciknD7uHZnD3Y17QKNa0b0N3fJFuJEpsuSY/89MmYVLAEZdlzZWtiEFH0ycb92LG/Qbb4fP+6uRhfHJmwj2roiRsXy/64ThlmOmSLV352Gr68dPawlqSIsNvT8LEn8Byu0Le9ibQgM6UYM0suSajwE0taXv1wG5rb/dfvppmNeOhbiyJyYyOqdw4+/XdtUOCJH/qyM6cPK/BqWjfi3e2PYGf9+ww80rxOax3W7H8WK/f8VinXy1Z1E7kg8iEw3ESOiDyJhKj19MRxUA8ovbxAl54xHRNKh7adzD3gxMbql3CwZa1sCS3ZYEa6ORs5aUXIshQgJTkVGeZc5Q/SpAwLeGeY4p/T7VB6Ozb02jrR0deC1p46dFlblTd9x3HnqpOUf8466U4UZkzx1NTuwJFWvL1qp6z5PKz09rLTR7Z+L2qht3xVFT7efFjWvPKzU3H9hXOHNI/X7+jGij3/7flUC0XMcWSnFmBi4WyU5ZwkW4kSi83Rh32NW3CkbZ8SiF2yNdisksswbcz5nveFmolY+tt7W5Rhrv+Kj3Pnl+HKM0Z2UyMqodfRY8NPnw3uld169SKkmIyydmK9tjb8c/tDcCmffoFEzy0vvQRzx52tjPcT+5Y+0WBHWvdi25HPYLWH3rcu5vgWTbgJel3477V4ZLU58OxrwaPFR249FVkjOIo+KmO+TbuDFxqOK84eUuBZ7Z14a9tPQwaeyZCCs6ZdgyUnXcXAI80pzZ2Ci+fcgqnFC0L26A63b/HM87lVvjZV5MW44hxZ89m0KzhfhiLioSc6jis+PyJrXmIwe8mS6d5KGOzOPryx9UdKKbgTmp9Rikvn3qoMaQtlC5E2zSg5DRfM+kbI4GvuqcLmmr8p76CoLc4YFZcsmRY0Q7liyxFPzgxXxEPvQF1n0N5as9kIgz68/5T4dHp/x+Oy5m9S4RyccdKXZI2ILKZ0XD7vNlnzV9W8BlVNq2VNnURuiPwYTOSLyJnhinjobd3fIks+F542VZZObP3Bv6DX3iZrPvPKz8acsWfIGhEdJeburlrwXaSZghfvbj70Chq6dsuaOoXKj8qq4JwJV8RDTzymcTCx7qasKLx5tyMdWz1r8QJNKZqH8vyZSkn9t+KJokEMcc+b+TUY9f4T/AMDbqypehZOt022qI/Ij8B1vZUH/HNmKCJ697atqx/L/uR/tyU91YSbrzhF1o5N7LR4e9uyoEXHYg5vyZQrkTSCdXb2dgPq38pB69oMuKw6uG06uPqT4LZHPPMpDumMA9CZ3J5LbxpA+vQ+lFzVitTyxHu0aL+jD+9X/gVOl/8U04S803DK+BtkTX2ee2MDunv9g/uhby5CTsbQ1+xF9F1/qLFblnxmThwjS8e3r3FlUOCJ9XyLJ18x7MCrebEAm2+djI03TsHhl/PRd8gEW7MRji49A09D3I4kOHv0sLcaYa1LRtNHWdjy3YnY8I0p2PPLEjg6DfI71c9stOC0SZfKmk916wZ0WYP3tKpFqBwJlTfhiOg7v6Et+DDAWZOLZOnY+h1d2N3wsax5iRXm5834GvS6IS6yVPqtDf/MwcablKB7Kd/zIh9wcVhMwUQINn+SpXwwTsLBZ4vg6kuMD0IxOirJ9l/AK3Y1ba97W9bUJ1SOhMqbcET0b7kx4Ifw3HkJY23ewZb1QXMOYitZRkrwGp3jEZ/mW743CfufGuPp0RGFw9mrR+3yXGy6bTI6Ky2yVd3mjjsnaH6vtqPS08FQI5EjgStAAvMmXBGd03vir5v9upwWsxHf+tKJTz59p3IZuvubZU1MyupwwewbYUlOly0n1rk9FbsfK/MMXY9FjJIzxztgznXBlO2GKYMHi2qBo1cHW4cO/e16dOwzwu08ds9fzPuVf6MJxVcOf6I8Xmyu/hjVzTtkzWvamAswp/QKWVOXP/5jHfoGHWAytjAd9351vqyFL6Kh9+D/W4/WTt+8XEaqGTddUSFroYkDQD/e/StZ8xI9vKUzw590bVmdgd0/L5O1YFmTHSg9sw+F82wwpvGAUa1r+tyEI6tS0FJp8sz3hVJ8eSsm3K7eOTDB6ujFe1uf8zuoIMNciItnLZM1dfnzGxvR1eu7+ZSbmYIHb1koa+GL6PDWZnfKkpcujAf31nf6fxIJU4tPfLf3qK6dlmMGnujVVdzXhkU/bUXpGVYGHnkUKB9+8+7qwOLHWlC4oB+h9ubXvZmLI3/PkzV1SjGmIifN/wZAt837CAU1CsyTwLwJV0RDr9/m/0OEc5pKU/c+WfIy6pNRliOOxzkxe5sBux4NHXgTL+/FogdbkTsj+MlrREJqkQtz7+zAyd/rgMESPOARd/+7d6fImjoF3tAQ6/ZCrYVVg8A8CcybcEU09Jxu/xfOiTJPbDkTz7UYzKx8OoVjwJmEnQ+PC15uoPw353ynA5O/3H3C/z6RUDi/Hwt/3AqjxX8kIF5jlf9Z7lnXqVZFmcHPoBHPk1GjwPdzYN6EK6Z/m2LdkPjkGSywO34sLasz0bPPf2Gi+EM5WQm8MYsSb9EpRVf6WCcW/qQNerP/G8ndr8PeX5bImvqkmbNhTvbvSIgzKrUspqEX6ojr3DBCT3wC17yYL2uSEnjjLuhF0UIGHg1PWqkT8+5q99zlH6x1bbqq1/Clmfy3gTpUOqcXKTH9m7Q6OmTJRxzxfiJ1b+WgvyFZ1rxScl2Y+lVtf4LRyOVOt6PsHP9QGHAnYdv942VNfZID1usFblHTmoguWbnj1ytlySsn04IbLjn2OprK2rewo+5dWfO69ORvwWQ8/gLRf981QRna+k8wn3J/G3KUF+ywOJ3o/d0v4dy13XO5W/hIyRPRjymFYdpMGOefgpRv3C5bE0N/mw4r7yqQNZ9TX90FfYr6VgBsPfQp9jdulTWlp5NkwLULfitr6vHiO5vR1un/gfTk3WfJUvhi2tNzuIKHouLp7scjtg717Pf/Hkuhc1iBZ33+GbRUTELz3HHo+/1vYP/0I7ibGgC38sLmddzLVXsIto/+iZ7/+yCaZ5Wi5bRpsL33pvyTVTdzjhtl5wYPAXuq1Hkn16DzHxWp/UTlkYpp6AXexBBOtMyl6dMM5TfKilR65tAeB+ncuQ2tp89Ez389iIG+Xu8bmYbP7cJAZwe67rkdrWedjIGu4R/wGC/GhQi9mhcC5pHVIugtFbHBnSqpbna2899psuQlJp3HLQ1/Yrbv+T+g44bL4W5X/zajeORubkTrOfNg++Q92aJOqWOc0Bv9w6Freypc/ap7y1AA1f0NOjr9l89bCpQXpym8Ty7rS8+h97+WYcCm3gMV1WDA2oeuO26Gff1nskV9xC6NwlOCp1/c9uOPRCj+xfRGxuaal7Gv6VNZ87q64k5ZCm3TLVPQ3+g7QSVrogOLlp241+bYtBadt38NA/3BQ+HU+fORd9ONME+eDH1mBnSm4T9eTivcViuc7e3o27oNrX95AdY9e+RXfJLSM5D9yvvQjy2XLepy4K1U7P27/6EXFc/vhSkv+Al98WxH7VrsrvPfhXF9xdOypB4JcSNjOBzd/j09Q8Aq+mPpeeRHQYGnS7Wg/Kn/wfhnn0H64tNgLMhn4IVJl5KC5OJiZF10ISa88DxKH31EfsVnoLsLPY+Kp9qpU2px8IQ/e3rqp7rQC1wkaghYQR+K9aU/w7nfvyeiT0vD2CeeQNqpJz76io4vyWBA1sUXKcH3sPKK8v/7sa9ZCcf6NbKmLik5waEnFsaTuqku9Iaj/9UXZclnzA/vRdqioR9LQ8eWdfHFKLj1Vlnzsf7tz7KkMsy3hJTwoSeWUjir9sqal3nyJGRdeomsUSQV3H6rpxc9mH3VxxjoC/8OO1E0JXzo9b//JuDwn3jOvOgiWaJoSDt9sSx5iblUx9ZNskYUWwkfeu6ag7Lkk3EGHxoeTbnXXStLPu4W3+MAiGIp4UPPdcj/vD7BOObET2ij4TNNmCBLPgOtDD2KD4nf0+vrkSUfsdyCokefHvxApwEbj/yi+JDwoUdENBhDj4g0haFHRJrC0CMiTWHoEZGmMPSISFMYekSkKQw9ItIUhh4RaQpDj4g0haFHRJrC0CMiTWHoEZGmMPSISFMYekSkKQw9ItIUhh4RaQpDj4g0haFHRJrC0CMiTWHoEZGmMPSISFMYekSkKQw9ItIUhh4RaQpDj4g0haFHRJrC0CMiTWHoEZGmMPSISFMYekSkKQw9ItIUhh4RaQpDj4g0haFHRJrC0CMiTWHoEZGmMPSISFMYehrS9uqraPzd7/2u7s8+k18l0gaGnobYDhxE87N/9Lt61q6TXyXSBoaexunT0mSJSBsYehpnyM+XJSJtYOhpSJKef91EfBdoiGnSZFki0i6GHhFpCkOPiDSFoUdEmsLQIyJNYegRkaYw9IhIUxh6GpdcWiJLRNrA0CMiTWHoEZGmMPSISFMYekSkKQw9ItIUhp7GJekNskSkDQw9DbHXVMuSjyEvV5aItIGhpyHufpss+dgPHUL//v2+a89etL32mt9V/4tfof315fJ3EKkbQ0/jau6+B/uvvd53feWrqHvsZ35X61//it7Nn8vfQaRuDD0KT5L8lUjlGHoUluTSUlkiUjeGnoYU3H4bpn74/rCuvK/fIP8tROrG0NMQfWYmDLm5w7p0Fov8txCpG0OPiDSFoUdEmsLQIyJNYegRkaYw9IhIUxh6RKQpDD0i0pSED70kg1GWfAZcLlmiaBhwOGRpEJ1eFohiK+FDT186TpZ8HA0NskTRYDt4UJZ8dLl5skQUW4kfemPLZcmnd8sWWaJo6ProY1ny0eUVyBJRbCV86CUvOVcZ4/ofEdLx+huyRNHQ+uprsiQpf/6GqTNkhSi2Er+nN2FS0BBX9PTEYZkUeb2bNsPV0SFrXsZ5C6ErKJI1othK+NATks9QensBau65R5YoUgacTlR/93uy5mO+lie0UPzQROil3vsAdNn+z4Jw1NVjzyWXyhqNlKunBzsXLwm6cyt62eaLrpQ1otjTROglGZNh+fbdsubjqG/AziVnovGpp2ULDZWrqwt1jz6GPUsvCLlUJf3BJ5Tk43IVih9JAwpZHrE7fr1SlrxyMi244ZL5shZsc83L2Nf0qax5XV1xpyyF9tkl/hPiRRX9OPkO/zmkY+l+4B70v/ZXWfOnM5thHDMGOktKyLV95G/Aboert9ez/EeUQ0n94YOw3Hi7rKlPV7UR/3rAf4Qw73f7YRkb/ICleLajdi12122UNa/rK9T3Qf/iO5vR1tkna15P3n2WLIVPU6E3YLWi+/7vwvbRu7KFoiXlhm8h7d4HABV/gDD04kukQk8Tw9ujklJSkPHLZ5B6z09lC0VDxq+eQdp9D6k68ChxaSr0PJQ3ouWW7yD7tQ+RfOZ5spFGTKeD+fIvI+e9tTBdcLmnThSPNPvKNEydicynX0D28hWenp9x/kLox41HkiVVfgcdT1J6BvTjJyF58VlI+8/HkfPPfyH9Z09CXxa8A4YonmhqTo9oKDinF184p0dENAwMPSLSFIYeEWkKQ49Uo3VnMt77RtGwrn2vpst/C2kdQ49Uw2CO2D030jCGHmmCzsjAJC+GHmlCSr5TlkjrGHqkalOu68aFf2n44rrguQYsfbbxi+u8Z5Tr900oOkVda+soehh6pBp6U/AQdSCgA5ek937f0cuQolwWN3QGDm/Ji6FH6uH/qBOiYWHokar1NRhkiSg8DD1SNbeT3T8aGoYeJZy2PclfXO3KRTQYQ49UrX69OWj3xYbHcr64djyfIb+TyIuhR0SawtAjIk1h6JGqmbLcyD/Z5ndljHMgrdTpuVILuROD/DH0SNVyTrJj/vfb/a7THmnF6Y+3eK65/8FTtckfQ4+INIWhR0SawtAjIk1h6JFquO3cfUEjx9Aj1Rhwy8IgvY16WSIKD0OPVK2n1oDPfpznd316dz5W3FnwxfXxt71X7ZoU+btIyxh6pGpuRxJ6jhj8LmurHrYO3ReXo9d7BZ69R9rE0CPNMGWGGB+T5jD0SDWc/SO7kSF2axAx9Eg1cqfb/Z6HMdSLSGDoEZGmqC70kvT+D3gZcHPtFkWHyxbitcWXm+qpLvQM6S5Z8nL08lVI0dFbH7wGUJfMmyFqp7rQM2YEhF4fR+gUHb31wQ8d0iXzUZJqp/qenr2ToUfR0b4v+PkaDD31U11imAvtsuRlU0KvbRcf/kKRJV5XHfuNsuYlAk9v5vBW7VQXevlndcqST82HFlkiiozuw8FD29IvtwTdSCP1UV3oZc/vCZrXa9ut9PT4WqQI2vf3dFnyGXNZqyyRmqlyQixzTq8seTl6dKh8NlPWiEamdUcyOg/6D20Fg4VD20SgytATw4xA9RvMcI1wmxKR2wls/1PwB+jku+qQZOBwIhGoMvTSJllRcLb/3J44YHLVffmyRjQ8236fBWuL//o8cQOj8Lx2WSO1U2XoCWNvaJIlH1u7Dqvvy8OA/5QfUVjEFEmDMmIINH1ZDXdiJBDVhp65yI6J36mXNR+xoHTNT/JCbyEiOoZtz2SidnXwIaM5Fd3IOtl/DpnUTbWhJ4y5uA1FFwYPO8RpuqvuzUfTFpNsIQqt+4gB6x/JRV2IU5XNY+yY9tPDskaJQtWhJ4Yc429tQMa0PtngI07M/fzX2djwsxy0bGP4kb+uaiMq/5CJtQ/kon1f8J1aY6YTs35ezXV5CUjdoacQK+RnPFTjWb8XititsekX2Vj9wzzsfikdzVtN6D5kgL1L9f/rFCaxP7u3zoBW5bVw4O1UrHs4F2uX5aL2sxS4ncHTIGLqRASeKc8hWyiRJA0oZHnE7vj1Slnyysm04IZL5stasM01L2Nf06ey5nV1xZ2yNDQDriTUvFCAI3/Pky1EQyfm8Kb8oBaGtMS5G7ajdi12122UNa/rK56WJfV48Z3NaOv0H9U9efdZshS+hOnuiGFI+U2NmHJPreeTmmgoxEEWpde0YPqDhxIq8ChYwo3xCs7pwII/7fMEoDGLj7+i49OZ3Sg8X3nNPOt9zVDiS9iJLfGpvfB/9yg9vyPImNEXtF+XtEuf4oZlnA3lNzZi4Qt7MPk/lOFswJFllLgSZk4vHL3VZvRWmdF3yOS5rHU8kkoLTLlOpIy1wVLWD8tYOzJn9mpqsTHn9PxpKvSItIih54/rNohIUxh6RKQpDD2iOPBB3Qd4vPJxfHXVV3HOB+d+cX133ffw8LaH8VrNP9Bg5QPLI4GhRxQjm1o34YpPrsSCtytw98bv438P/BVb27eh0dr4xbWycSVePvgKHvj3A2i18eTmSGDoEY2yFlsLblpzM25ecwv2d++H1WWVXzm+iekTZYlGgqFHNIp2de7Cl1deg40tG+EeCP/4+TJLGcz64LP+aOgYekSjpLavFrev/T9o7m+WLV5FKUX4yeyfYPk5r2PjJRuw44rtnuvj8z/CG+csx19Ofx6PzXtUfjeNFEOPaJTcteGuoHm5q8ZehbfPfQtfGX89JqdPhsXge5ypCMNJ6ZMwP3e+56LIYOgRjYKn9zyNncrQdrAzCpfg0bmPIEUffIApRQ9Dj2gUvFD1oix5pRnSPENaGn0MPaIoe27/n9Hl6JI1rwtKLkCJpUTWaDQx9Iii7Pmq52XJ5/zipbJEo42hRxRlfc7gZ7hMz5wuSzTaGHpEUWZz22TJK9WQihxTjqzRaGPoEUWZ0+1/gne+OV+Wjs/utqPN1uZ3Bc4N0tAx9IhGWb01+CH1oWxq2YQl753hd3177XfkV2m4GHpEo8zmsuFI3xFZO7ZTC06VJR+j3iBLNFwMPaIoC7VnVhw0cCJJyj9iPd9gmcZMWaLhYugRRVmoHRev1yyXpeNLStLQwzxGCUOPKMrOGhP8HIeVDSuwp3OPrNFoYugRRdnd0+6CSW+SNS/ngAsPbXtY1o5Nn6SXJYoUhh5RlOWacnFqfvBNia1tW3HXxrtkLbTAsKSRi2no6XTBd6Jcbj50mRKPOE0l1Pq8D+s+wldXfw2bWjfLFn8m3chDbyDgsFJxg0TLYhp6xhB3tezO8I7OJlKT7ORsPL3wKaQb02WLj+jx3bTmJly36jrct/k+PLP3Gc8lymJB8mAOt0OWwud0+f+eUJ0NLYlt6OmC72p1WltkiSixTM+ajqcW/g/GpBTJFh/xzP3t7Tvw9pF38NtdT3ouUe5x9sjv8Oq0D31HRp+9W5a8dBqfJ4xp6KWZ82TJp9vaLktEiUecgPz3s/6OK8de6dmDO1S6YSxh6Xf4H3hg0PizNmIaepkpxbLk09JTK0tEiUkMdR+b+yg+Ov9D3DntDszKnuk5Wy/DmCG/w0vURbvoIV4z7hr8quKXeObUZ+RXwyN6kD39HbLmlaz3HUmvRUnKH8qALI/YHb9eKUteOZkW3HDJ8c/2f3Xz3XAOOoUi1ZSJC2ffKGtENBJtPQ1YsesVWfMqzpqJMyarbw/vi+9sRlunf6/1ybuD10CeSEx7ekJ++iRZ8up39MI9wDu4RJHQ0FktSz7j84KXz2hJzEOvMGOKLHm53E7srQ99+56Ihqau44AseYk7t2XZc2VNm2IeesVZs2TJp6qpUpaIaLg6+prQ2ee/GiIrxDy61sQ89DLMRSGHuC09dbJGRMNReXiNLPlMyDtNlrQr5qEnTMpfIks+6/a9I0tENFSih9fc7X9mn8mQhgn5i2VNu+Ii9Mpy5sKSnC1rXjanFdUtO2WNiIZi08EPPctVBhuft0jzC5OFuAg9XZIBs0uvkDWfzQc/gsPp/1AVIjq+nbXr0NHXLGteyQYLZhRfLGvaFhehJ4g7StmWUlnz+WDHi3C47LJGRMdT33EAe+o3yZrP9DEXhtzrrkVxE3p6nREV5V+TNZ9+ey9W7/mHZykLER2b2Hmxbv+7cAecqiI6E1MKz5Y1ipvQE3JSx4UMvvbeJs8chWsYJ0wQaYEIPLHzInBhv8mYjsWTbuNc3iBxFXrChLxTQ64YP9K2T+nxLQ/aPE2kdWLXxfuVf4Hd2S9bfE6bcAvSTMEHe2hZ3IVeUpIOC8Z9RemSl8kWn9aeeqxUPs0CF1wSaZE4HPRAUyXW7H1TtvgT76PCjJNkjY6Ku9AT9DoDlk6/N+QnVK+tCx/veMkzWcsbHKRV3f3t+GzvG9hSs0K2+JtWdD4mFQSvf6U4DT1BLGO5dPbDyE0bL1t8BpR/th/5l6dLL9byOVxc1kLa0GPrxJbqFfig8gU0dR2Wrf7mll2NOWVXyhoFitvQO2rptHs9c3xi2BvI5ujzrOV7e8sf8W/lE6/L2sp1fZRQxAJjq73HM2+3YucreH/b8zjQHHpvuliScs7Uu3FS0bmyhUKJ+Xl64apqXoPPD70c1tKVNHMW8tNLkWrKQE5aEUwGi9JzjPt8J4LTbUe/w+r5AG/trkNj16GwXvNmYwYun/NYQt+ljdR5eqoJPcHu6sPK3b9Fe99hzxCXSOtEyIn5u1mll8mWxJUwh4gOhTjm+vwZ93uu1OQc2UqkRUkoy56Haxc8qYnAiyRVjvnEcpZL5zyCS2c/gpIQ5/ERJSqDLhlzyq7CNfN/g8WTviVbaShUNbw9FqfLBqujE1XNn2Ff06fcuUEJRWwjm1x4JoozZyHZkKrZ3RWanNMLl8PVrwShcrntGBhwefYicg6Q4p3n4Y5JOs9NNxFsBp3Zc0dW7Esnhh4RaYwmb2QQEY0UQ4+INIXDWyIKW6/djeX/bpM1n/pOO9z+x/ghJ9WA3DQDZhRbMKVg5AeYck6PiEZdU7cDpz+xQ9bCN60oBbcsLsBls7Oh89yxGTrO6RHRqNMlDS+xdjVYce9rNVj21hG43LFdScHQI6JR8/KmFuyos8pabDD0iGhEbj29AM/dOBF7Hz7Zc627fyaeuHocTi5Lld/h709rmmQpNhh6RBQ2fYjEqChPw+KJ6bIG5FgMuGJONl65dTLOnJIhW30Otcf2+DeGHhGFLdSc3sbqHlkK9v1zx8iST4Y5ttvoGHpEFDW6EAlz6azYnpDE0COiqHlxvf9DvEQ/8eKZWd5KjDD0iCjiem0u3PlyNV7Z1CpblMBTEm/9/bOQaopt7HBxMhGFrdPqQsXP/J/RkW7WfzFP53ANwOZ0o8/u9pQFkyEJt55eiG+dXgBL8vADj4uTiSgudPe7UNth91xix4YIxqOBJyQpXbx3d3Tg3e0dsiW2GHpEFFX9Djeqmvvxo+WHcN5vdmF/U7/8SmxENPQMAZvqIjdwJqJ4deqEdDx5ffkX121LCrB0WiayLQb5HT6H2mz48h/2or5z6KebB+ZJYN6EK6KhZzb5/09GcLqQiOLUzOIUXDA964vrB0uL8dRXxmPVD2bgN9eWw2Twjxkx3/f4e7WyFr7APAnMm3BFNPRMyf4/hDvGG4uJKHbEDQyxPOWPX58gW3ze39HhmQscisA8CcybcEU09FLN/j+E0zW0/ykiUh+b8/idm2ljUmTJn+jxDUVgngTmTbgiGnoF2RZZ8rI7GHpEie5E83PDm3kLFpgngXkTroiGXmGO/w/hdLnRb+PjGIkSxXCm6Zt7nLLko9clDWnNnsgRkSeDBeZNuCIaekUhfojKfQ2yRERq5xzCPL04LHR3gxU3PrdftvicNzXTs6g5XKFyJFTehCOioTe20He8zFHbq+pliYgSUV2HDWuqulFZ2+e5/rax1XNC8tL/3oXLn96Dxm7/0Z44qeW+C4tlLTyhciRU3oQjoqGXk2FWxtn+k5b9tuCuLREljh31Vtz8fBWufmav53rgrcN4aWMLjrTb5Xf4GPVJeOLqsSjNSpYt4QnMEZEzIm+GI6KhJ8wYnytLXg6nC4cb4mP7CRHFhjhsQAxn3/zOSZ6HAw2FyA+RI4PNmuCfM0MR8dCbMylPlnze+9duWSIiNbMH3Ew4EbEw+ao5Odjz0MnY/ONZmJg/9N5ZqPyYNTE4Z8IV0VNWBPGv+8mza9HV6+vailvW375uMQyhzpomItUQadHncHve58e6p6FXunWiZyfe7mKrmLhTO1ziju3vXl6Dwf+pjNRkPHrrqZ6DDIYj4ikkfpCz55bKmpf4gd9ZvctbISLVEjmTmqxDmsl7nFSoS5yXJ5ajiF7eSAJPeGf1Tr/AE86eVzrswBOi0vVaMK1Qlnxq6tpg5Zo9IgqTyIuaunZZ81kwNThfhiIqoZeVZsK588tkzWf5J5VBm4aJiAKJnBB5EUjkisiXkYjaJNuZc0tkyae5vRcHa9tkjYgoNJETIi8ChcqVoYpa6GWnm3H56cGnK3ywdg96+mL73Esiil8iH0ROBBJ5InJlpKIWesKZJ5cgzWyUNS+xafitT3cGrbshIhK5IPIh8HABkSMiTyIhqqGXbNTj9qtmy5pPc3sPVn1+gPN7RPQFkQciF0Q+BBI5IvIkEqIaekJ5UTqWVoyVNZ8d+xuwfvshWSMirRN5IHIh0NKKMk+ORErUQ08QY/HivFRZ89lQeQjrKmvY4yPSMPH+Fzkg8iDQGCU3Ljt9oqxFRsR3ZBzPg39ah9au4CchTZ9QiLMWTIIh4Cx9IkpsTqcbKzftx84DjbLFJzfDjAe/uUjWImdUQ09MTj703Hq/LWpHiQeDf+ncWbCYh3b6AhGpU1+/Hf/4uDLoAd6C2Gq27OaFEZvHG2xUQ09o6+zHL17+HN0hgk/09C5aPA3lxTme7S5ElHhE4lTXteHdNbs8Pb1A6Urg/eC6eUpHaOTLU0IZ9dATRI/v8Rc2olUJwFCy0lLwlYvnwmiIfMoTUeyIJSkv/XMLOnqsssVfrhJ0P/56RVR6eEfFJPSO+vmLm1DbHHx7+qiSgkxcec5M6HWc6yNSM5fbjeWfbEdtU6dsCVaSn4b7b1gga9ET09ATZ+i/v74G766rli3BxGkKqSnJOLtiIsaXDP/gQCIafQdrW7FiYxV6rfbjrtK4aFE5Llg4bsSnsoQjpqF3VHV9F/7w5nZ09wXP8w0murwpZiOmlhdi5sQipFp404MonvQq7+HtVQ3YXd0Ia78jaGdFoHTlPXzbFTNRXpQhW6IvLkJPcDjdWL21Fq+vqpItJ2Yw6GFSglDM/emUTwjPxTsgRKPCrUSHWxmtiUvM1dmUgHMOYXvpVWdMxJI5Jcr7d3Snr+Im9I7q6LZh9bZafLCBuzWIEtH5p4zFktklyEof2RFRwxV3oXdUZ68Nn+9txorNh9GuBCERqZc4HeXsuSWYN7UAmamxCbuj4jb0Bquu70RlVSu2H2xFXUvwGVtEFH/E1tOZ43Mxa2IuysdkytbYU0XoDdbZY0NNYzca2/o8V1N7H3qsTljtDtjsLs/cIBFFn5iLMyXrkZJsRFqKAQXZFhTmeK9xhenIHOEJx9GiutAjIhoJrvolIk1h6BGRpjD0iEhTGHpEpCkMPSLSFIYeEWkKQ4+INIWhR0QaAvx/l6ryB4ZwUV8AAAAASUVORK5CYII=)"
   ]
  },
  {
   "cell_type": "code",
   "execution_count": 84,
   "metadata": {},
   "outputs": [
    {
     "name": "stdout",
     "output_type": "stream",
     "text": [
      "outer\n"
     ]
    }
   ],
   "source": [
    "def outer():\n",
    "    print('outer')\n",
    "    def inner():\n",
    "        print('inner')\n",
    "\n",
    "outer()"
   ]
  },
  {
   "cell_type": "code",
   "execution_count": 85,
   "metadata": {},
   "outputs": [
    {
     "ename": "NameError",
     "evalue": "name 'inner' is not defined",
     "output_type": "error",
     "traceback": [
      "\u001b[1;31m---------------------------------------------------------------------------\u001b[0m",
      "\u001b[1;31mNameError\u001b[0m                                 Traceback (most recent call last)",
      "Cell \u001b[1;32mIn[85], line 1\u001b[0m\n\u001b[1;32m----> 1\u001b[0m \u001b[43minner\u001b[49m()\n",
      "\u001b[1;31mNameError\u001b[0m: name 'inner' is not defined"
     ]
    }
   ],
   "source": [
    "inner()"
   ]
  },
  {
   "cell_type": "code",
   "execution_count": 89,
   "metadata": {},
   "outputs": [
    {
     "name": "stdout",
     "output_type": "stream",
     "text": [
      "outer\n"
     ]
    }
   ],
   "source": [
    "def outer():\n",
    "    print('outer')\n",
    "    def inner():\n",
    "        print('inner')\n",
    "        print(\"I am here\")\n",
    "    return inner\n",
    "a = outer()"
   ]
  },
  {
   "cell_type": "code",
   "execution_count": 90,
   "metadata": {},
   "outputs": [
    {
     "name": "stdout",
     "output_type": "stream",
     "text": [
      "inner\n",
      "I am here\n"
     ]
    }
   ],
   "source": [
    "a()"
   ]
  },
  {
   "cell_type": "code",
   "execution_count": 95,
   "metadata": {},
   "outputs": [],
   "source": [
    "def add(a,b):\n",
    "    return a+b\n",
    "\n",
    "def sub(a,b):\n",
    "    return a-b"
   ]
  },
  {
   "cell_type": "code",
   "execution_count": 97,
   "metadata": {},
   "outputs": [],
   "source": [
    "def temp(c, d, operation):\n",
    "    return operation(c,d)"
   ]
  },
  {
   "cell_type": "code",
   "execution_count": 98,
   "metadata": {},
   "outputs": [
    {
     "data": {
      "text/plain": [
       "30"
      ]
     },
     "execution_count": 98,
     "metadata": {},
     "output_type": "execute_result"
    }
   ],
   "source": [
    "temp(10,20,add)"
   ]
  },
  {
   "cell_type": "code",
   "execution_count": 99,
   "metadata": {},
   "outputs": [
    {
     "data": {
      "text/plain": [
       "-10"
      ]
     },
     "execution_count": 99,
     "metadata": {},
     "output_type": "execute_result"
    }
   ],
   "source": [
    "temp(10,20,sub)"
   ]
  },
  {
   "cell_type": "markdown",
   "metadata": {},
   "source": [
    "#### Local"
   ]
  },
  {
   "cell_type": "code",
   "execution_count": 82,
   "metadata": {},
   "outputs": [
    {
     "name": "stdout",
     "output_type": "stream",
     "text": [
      "inner:  50\n",
      "outer x:  10\n"
     ]
    }
   ],
   "source": [
    "# Local\n",
    "def outer():\n",
    "  x = 10\n",
    "  def inner():\n",
    "    x = 50\n",
    "    print(\"inner: \",x)\n",
    "  inner()\n",
    "  print(\"outer x: \",x)\n",
    "\n",
    "outer()"
   ]
  },
  {
   "cell_type": "markdown",
   "metadata": {},
   "source": [
    "#### Enclosing"
   ]
  },
  {
   "cell_type": "code",
   "execution_count": 100,
   "metadata": {},
   "outputs": [
    {
     "name": "stdout",
     "output_type": "stream",
     "text": [
      "inner:  10\n",
      "outer:  10\n"
     ]
    }
   ],
   "source": [
    "def outer():\n",
    "  x = 10\n",
    "  def inner():\n",
    "    print(\"inner: \",x)\n",
    "  inner()\n",
    "  print(\"outer: \",x)\n",
    "\n",
    "outer()"
   ]
  },
  {
   "cell_type": "code",
   "execution_count": 101,
   "metadata": {},
   "outputs": [
    {
     "ename": "UnboundLocalError",
     "evalue": "local variable 'x' referenced before assignment",
     "output_type": "error",
     "traceback": [
      "\u001b[1;31m---------------------------------------------------------------------------\u001b[0m",
      "\u001b[1;31mUnboundLocalError\u001b[0m                         Traceback (most recent call last)",
      "Cell \u001b[1;32mIn[101], line 11\u001b[0m\n\u001b[0;32m      8\u001b[0m   inner()\n\u001b[0;32m      9\u001b[0m   \u001b[38;5;28mprint\u001b[39m(\u001b[38;5;124m\"\u001b[39m\u001b[38;5;124mouter: \u001b[39m\u001b[38;5;124m\"\u001b[39m,x)\n\u001b[1;32m---> 11\u001b[0m \u001b[43mouter\u001b[49m\u001b[43m(\u001b[49m\u001b[43m)\u001b[49m\n",
      "Cell \u001b[1;32mIn[101], line 8\u001b[0m, in \u001b[0;36mouter\u001b[1;34m()\u001b[0m\n\u001b[0;32m      6\u001b[0m   x \u001b[38;5;241m+\u001b[39m\u001b[38;5;241m=\u001b[39m \u001b[38;5;241m1\u001b[39m\n\u001b[0;32m      7\u001b[0m   \u001b[38;5;28mprint\u001b[39m(\u001b[38;5;124m\"\u001b[39m\u001b[38;5;124minner: \u001b[39m\u001b[38;5;124m\"\u001b[39m,x)\n\u001b[1;32m----> 8\u001b[0m \u001b[43minner\u001b[49m\u001b[43m(\u001b[49m\u001b[43m)\u001b[49m\n\u001b[0;32m      9\u001b[0m \u001b[38;5;28mprint\u001b[39m(\u001b[38;5;124m\"\u001b[39m\u001b[38;5;124mouter: \u001b[39m\u001b[38;5;124m\"\u001b[39m,x)\n",
      "Cell \u001b[1;32mIn[101], line 6\u001b[0m, in \u001b[0;36mouter.<locals>.inner\u001b[1;34m()\u001b[0m\n\u001b[0;32m      5\u001b[0m \u001b[38;5;28;01mdef\u001b[39;00m\u001b[38;5;250m \u001b[39m\u001b[38;5;21minner\u001b[39m():\n\u001b[1;32m----> 6\u001b[0m   x \u001b[38;5;241m+\u001b[39m\u001b[38;5;241m=\u001b[39m \u001b[38;5;241m1\u001b[39m\n\u001b[0;32m      7\u001b[0m   \u001b[38;5;28mprint\u001b[39m(\u001b[38;5;124m\"\u001b[39m\u001b[38;5;124minner: \u001b[39m\u001b[38;5;124m\"\u001b[39m,x)\n",
      "\u001b[1;31mUnboundLocalError\u001b[0m: local variable 'x' referenced before assignment"
     ]
    }
   ],
   "source": [
    "#Note: Althought we will be able to access x in the scope of inner but will not be able to modify it\n",
    "\n",
    "def outer():\n",
    "  x = 10\n",
    "  def inner():\n",
    "    x += 1\n",
    "    print(\"inner: \",x)\n",
    "  inner()\n",
    "  print(\"outer: \",x)\n",
    "\n",
    "outer()"
   ]
  },
  {
   "cell_type": "code",
   "execution_count": 108,
   "metadata": {},
   "outputs": [
    {
     "name": "stdout",
     "output_type": "stream",
     "text": [
      "inner:  11\n",
      "outer:  10\n"
     ]
    }
   ],
   "source": [
    "# To make modifications use \"nonlocal\" keyword\n",
    "\n",
    "def outer():\n",
    "  x = 10\n",
    "  def inner():\n",
    "    nonlocal x\n",
    "    y = x\n",
    "    y += 1\n",
    "    print(\"inner: \",y)\n",
    "  inner()\n",
    "  print(\"outer: \",x)\n",
    "\n",
    "outer()"
   ]
  },
  {
   "cell_type": "markdown",
   "metadata": {},
   "source": [
    "#### Global"
   ]
  },
  {
   "cell_type": "code",
   "execution_count": 109,
   "metadata": {},
   "outputs": [
    {
     "name": "stdout",
     "output_type": "stream",
     "text": [
      "50\n"
     ]
    }
   ],
   "source": [
    "x = 50\n",
    "\n",
    "def outer():\n",
    "  def inner():\n",
    "    print(x)\n",
    "  inner()\n",
    "\n",
    "outer()"
   ]
  },
  {
   "cell_type": "code",
   "execution_count": 110,
   "metadata": {},
   "outputs": [
    {
     "ename": "UnboundLocalError",
     "evalue": "local variable 'x' referenced before assignment",
     "output_type": "error",
     "traceback": [
      "\u001b[1;31m---------------------------------------------------------------------------\u001b[0m",
      "\u001b[1;31mUnboundLocalError\u001b[0m                         Traceback (most recent call last)",
      "Cell \u001b[1;32mIn[110], line 8\u001b[0m\n\u001b[0;32m      5\u001b[0m     x\u001b[38;5;241m+\u001b[39m\u001b[38;5;241m=\u001b[39m\u001b[38;5;241m1\u001b[39m\n\u001b[0;32m      6\u001b[0m     \u001b[38;5;28mprint\u001b[39m(x)\n\u001b[1;32m----> 8\u001b[0m \u001b[43mouter\u001b[49m\u001b[43m(\u001b[49m\u001b[43m)\u001b[49m\n",
      "Cell \u001b[1;32mIn[110], line 5\u001b[0m, in \u001b[0;36mouter\u001b[1;34m()\u001b[0m\n\u001b[0;32m      4\u001b[0m \u001b[38;5;28;01mdef\u001b[39;00m\u001b[38;5;250m \u001b[39m\u001b[38;5;21mouter\u001b[39m():\n\u001b[1;32m----> 5\u001b[0m     x\u001b[38;5;241m+\u001b[39m\u001b[38;5;241m=\u001b[39m\u001b[38;5;241m1\u001b[39m\n\u001b[0;32m      6\u001b[0m     \u001b[38;5;28mprint\u001b[39m(x)\n",
      "\u001b[1;31mUnboundLocalError\u001b[0m: local variable 'x' referenced before assignment"
     ]
    }
   ],
   "source": [
    "# Access is allowed but modification is not allowed\n",
    "\n",
    "x = 10\n",
    "def outer():\n",
    "    x+=1\n",
    "    print(x)\n",
    "\n",
    "outer()"
   ]
  },
  {
   "cell_type": "code",
   "execution_count": 113,
   "metadata": {},
   "outputs": [
    {
     "name": "stdout",
     "output_type": "stream",
     "text": [
      "20\n"
     ]
    },
    {
     "data": {
      "text/plain": [
       "20"
      ]
     },
     "execution_count": 113,
     "metadata": {},
     "output_type": "execute_result"
    }
   ],
   "source": [
    "# use \"global\" keyword\n",
    "\n",
    "x = 10\n",
    "def outer():\n",
    "    def inner():\n",
    "        global x\n",
    "        x+=10\n",
    "        print(x)\n",
    "    inner()\n",
    "\n",
    "outer()\n",
    "x"
   ]
  },
  {
   "cell_type": "code",
   "execution_count": 114,
   "metadata": {},
   "outputs": [
    {
     "name": "stdout",
     "output_type": "stream",
     "text": [
      "11\n"
     ]
    }
   ],
   "source": [
    "# ANother example\n",
    "x = 10\n",
    "def outer():\n",
    "    def inner():\n",
    "        global x\n",
    "        x+=1\n",
    "        print(x)\n",
    "    inner()\n",
    "\n",
    "outer()"
   ]
  },
  {
   "cell_type": "code",
   "execution_count": 120,
   "metadata": {},
   "outputs": [
    {
     "name": "stdout",
     "output_type": "stream",
     "text": [
      "12\n"
     ]
    },
    {
     "data": {
      "text/plain": [
       "11"
      ]
     },
     "execution_count": 120,
     "metadata": {},
     "output_type": "execute_result"
    }
   ],
   "source": [
    "# Another example\n",
    "x = 10\n",
    "def outer():\n",
    "    global x\n",
    "    y = x\n",
    "    y+=1\n",
    "    x += 1\n",
    "    def inner():\n",
    "        nonlocal y         \n",
    "        y+=1\n",
    "        print(y)\n",
    "    inner()\n",
    "\n",
    "outer()\n",
    "x"
   ]
  },
  {
   "cell_type": "markdown",
   "metadata": {},
   "source": [
    "#### Builtins"
   ]
  },
  {
   "cell_type": "code",
   "execution_count": 1,
   "metadata": {},
   "outputs": [
    {
     "ename": "NameError",
     "evalue": "name 'my_max' is not defined",
     "output_type": "error",
     "traceback": [
      "\u001b[1;31m---------------------------------------------------------------------------\u001b[0m",
      "\u001b[1;31mNameError\u001b[0m                                 Traceback (most recent call last)",
      "Cell \u001b[1;32mIn[1], line 6\u001b[0m\n\u001b[0;32m      3\u001b[0m     \u001b[38;5;28mprint\u001b[39m(my_max(\u001b[38;5;241m*\u001b[39mx))\n\u001b[0;32m      4\u001b[0m   inner(x)\n\u001b[1;32m----> 6\u001b[0m \u001b[43mouter\u001b[49m\u001b[43m(\u001b[49m\u001b[43m[\u001b[49m\u001b[38;5;241;43m1\u001b[39;49m\u001b[43m,\u001b[49m\u001b[38;5;241;43m5\u001b[39;49m\u001b[43m,\u001b[49m\u001b[38;5;241;43m4\u001b[39;49m\u001b[43m,\u001b[49m\u001b[38;5;241;43m7\u001b[39;49m\u001b[43m,\u001b[49m\u001b[38;5;241;43m0\u001b[39;49m\u001b[43m]\u001b[49m\u001b[43m)\u001b[49m\n",
      "Cell \u001b[1;32mIn[1], line 4\u001b[0m, in \u001b[0;36mouter\u001b[1;34m(x)\u001b[0m\n\u001b[0;32m      2\u001b[0m \u001b[38;5;28;01mdef\u001b[39;00m\u001b[38;5;250m \u001b[39m\u001b[38;5;21minner\u001b[39m(x):\n\u001b[0;32m      3\u001b[0m   \u001b[38;5;28mprint\u001b[39m(my_max(\u001b[38;5;241m*\u001b[39mx))\n\u001b[1;32m----> 4\u001b[0m \u001b[43minner\u001b[49m\u001b[43m(\u001b[49m\u001b[43mx\u001b[49m\u001b[43m)\u001b[49m\n",
      "Cell \u001b[1;32mIn[1], line 3\u001b[0m, in \u001b[0;36mouter.<locals>.inner\u001b[1;34m(x)\u001b[0m\n\u001b[0;32m      2\u001b[0m \u001b[38;5;28;01mdef\u001b[39;00m\u001b[38;5;250m \u001b[39m\u001b[38;5;21minner\u001b[39m(x):\n\u001b[1;32m----> 3\u001b[0m   \u001b[38;5;28mprint\u001b[39m(\u001b[43mmy_max\u001b[49m(\u001b[38;5;241m*\u001b[39mx))\n",
      "\u001b[1;31mNameError\u001b[0m: name 'my_max' is not defined"
     ]
    }
   ],
   "source": [
    "def outer(x):\n",
    "  def inner(x):\n",
    "    print(my_max(*x))\n",
    "  inner(x)\n",
    "\n",
    "outer([1,5,4,7,0])"
   ]
  },
  {
   "cell_type": "code",
   "execution_count": 4,
   "metadata": {},
   "outputs": [
    {
     "name": "stdout",
     "output_type": "stream",
     "text": [
      "7\n"
     ]
    }
   ],
   "source": [
    "def outer(x):\n",
    "  def inner(x):\n",
    "    print(max(*x))\n",
    "  inner(x)\n",
    "\n",
    "outer([1,5,4,7,0])"
   ]
  },
  {
   "cell_type": "markdown",
   "metadata": {},
   "source": [
    "### Quick Questions"
   ]
  },
  {
   "cell_type": "code",
   "execution_count": 5,
   "metadata": {},
   "outputs": [
    {
     "name": "stdout",
     "output_type": "stream",
     "text": [
      "inner:  1020\n",
      "outer:  1020\n"
     ]
    },
    {
     "data": {
      "text/plain": [
       "10"
      ]
     },
     "execution_count": 5,
     "metadata": {},
     "output_type": "execute_result"
    }
   ],
   "source": [
    "x = 10\n",
    "def outer():\n",
    "  x = 20\n",
    "  def inner():\n",
    "    nonlocal x\n",
    "    x += 1000\n",
    "    print(\"inner: \",x)\n",
    "  inner()\n",
    "  print(\"outer: \",x)\n",
    "\n",
    "outer()\n",
    "x"
   ]
  },
  {
   "cell_type": "code",
   "execution_count": 6,
   "metadata": {},
   "outputs": [
    {
     "name": "stdout",
     "output_type": "stream",
     "text": [
      "588\n"
     ]
    },
    {
     "data": {
      "text/plain": [
       "676"
      ]
     },
     "execution_count": 6,
     "metadata": {},
     "output_type": "execute_result"
    }
   ],
   "source": [
    "x = 666\n",
    "def f():\n",
    "  x = 588\n",
    "  def g():\n",
    "    global x\n",
    "    x += 10\n",
    "\n",
    "  g()\n",
    "  print(x)\n",
    "\n",
    "f()\n",
    "x"
   ]
  },
  {
   "cell_type": "code",
   "execution_count": null,
   "metadata": {},
   "outputs": [],
   "source": []
  }
 ],
 "metadata": {
  "colab": {
   "collapsed_sections": [
    "BgH0UIIGFYdz",
    "Y870IYV5CLrY",
    "NzJ1XgJJq898",
    "U-gQvJgBxox6",
    "6UAnxgNfSq_8",
    "rSbSQJHwSwE1",
    "k8vzVPClQlW0",
    "3rbSJNDRekAI",
    "jvitpdZGELcS",
    "8nAsEjgeS0E3",
    "l-O80MYZSmv9",
    "LbFg8_mPwaWF",
    "3bxcCfGJzlaH",
    "iMp3uyR0OzEl",
    "BR4gQCvPfYTe",
    "C-H7FDoIZxIA",
    "2t8QJ0BHZ5R-",
    "PMSBdeh-GwPs",
    "lQx0bB5oV_h6",
    "lgYlQP5GP4la",
    "BRhV_mMF2908",
    "Zq1H1SRz5KJZ",
    "h6f_bk0BdaSc"
   ],
   "provenance": [],
   "toc_visible": true
  },
  "kernelspec": {
   "display_name": "Python 3 (ipykernel)",
   "language": "python",
   "name": "python3"
  },
  "language_info": {
   "codemirror_mode": {
    "name": "ipython",
    "version": 3
   },
   "file_extension": ".py",
   "mimetype": "text/x-python",
   "name": "python",
   "nbconvert_exporter": "python",
   "pygments_lexer": "ipython3",
   "version": "3.10.11"
  }
 },
 "nbformat": 4,
 "nbformat_minor": 4
}
