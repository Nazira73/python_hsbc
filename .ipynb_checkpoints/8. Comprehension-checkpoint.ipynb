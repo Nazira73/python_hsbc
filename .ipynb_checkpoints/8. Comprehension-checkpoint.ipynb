{
 "cells": [
  {
   "cell_type": "markdown",
   "metadata": {
    "jp-MarkdownHeadingCollapsed": true
   },
   "source": [
    "# List Comprehension:\n",
    "List comprehension offers a shorter syntax when you want to create a new list based on the values of an existing iterable.\n",
    "```\n",
    "Syntax\n",
    "\n",
    "[expresssion for item in iterable]\n",
    "\n",
    "[expression for item in iterable if condition == True]\n",
    "\n",
    "[exp1 if cond else exp2 for item in iterable]\n",
    "```"
   ]
  },
  {
   "cell_type": "code",
   "execution_count": null,
   "metadata": {},
   "outputs": [],
   "source": [
    "# WAP using list comprehension which adds Mr. at the start of every name in the students list\n",
    "student_list = ['Sudarshan', 'sam', 'Joel', 'Sarah']\n"
   ]
  },
  {
   "cell_type": "code",
   "execution_count": null,
   "metadata": {},
   "outputs": [],
   "source": [
    "# convert every element in the list to integer\n",
    "numbers = ['10','20','30']\n"
   ]
  },
  {
   "cell_type": "code",
   "execution_count": null,
   "metadata": {},
   "outputs": [],
   "source": [
    "# make every name in list as upper case\n",
    "name_list = ['Jane','Sam','Tom','Danny','Guido','Sara']\n"
   ]
  },
  {
   "cell_type": "code",
   "execution_count": null,
   "metadata": {},
   "outputs": [],
   "source": [
    "# using comprehension get all even numbers from a given list\n",
    "numbers = [5,9,7,6,1,4,8,3,2,0]"
   ]
  },
  {
   "cell_type": "code",
   "execution_count": null,
   "metadata": {},
   "outputs": [],
   "source": [
    "# get list of all odd numbers between 1 to 20\n"
   ]
  },
  {
   "cell_type": "code",
   "execution_count": null,
   "metadata": {},
   "outputs": [],
   "source": [
    "# Get those name which startswith s and ends with a\n",
    "name_list = ['Jane','Sam','Tom','Danny','Sana','Guido','Sara','Savio']\n"
   ]
  },
  {
   "cell_type": "code",
   "execution_count": null,
   "metadata": {},
   "outputs": [],
   "source": [
    "# WAP which multiplies every even element by 10, and odd elements by 5\n",
    "\n",
    "numbers = [10,21,36,57,45]\n"
   ]
  },
  {
   "cell_type": "code",
   "execution_count": null,
   "metadata": {},
   "outputs": [],
   "source": [
    "# WAP to get a list of all students whose name starts with 's'\n",
    "student_list = ['Sudarshan', 'sam', 'Joel', 'Sarah']\n"
   ]
  },
  {
   "cell_type": "code",
   "execution_count": null,
   "metadata": {},
   "outputs": [],
   "source": [
    "# WAP to get status list from scores_list, if score >= 80 then good,else bad\n",
    "scores = [80,65,72,56,23,98,62]\n"
   ]
  },
  {
   "cell_type": "code",
   "execution_count": null,
   "metadata": {},
   "outputs": [],
   "source": [
    "# Add 5 for every even index and add 10 for every odd index\n",
    "numbers = [10,20,30,40,50]\n",
    "# output = [15,30,35,50,55]\n",
    "\n"
   ]
  },
  {
   "cell_type": "code",
   "execution_count": null,
   "metadata": {},
   "outputs": [],
   "source": [
    "# nested loops in comprehension\n",
    "\n",
    "[(i,j) for i in range(5) for j in range(3)]"
   ]
  },
  {
   "cell_type": "code",
   "execution_count": null,
   "metadata": {},
   "outputs": [],
   "source": [
    "[(i,j) for i in range(5) for j in range(3) if i+j == 3]"
   ]
  },
  {
   "cell_type": "code",
   "execution_count": null,
   "metadata": {},
   "outputs": [],
   "source": [
    "[(i,j,k) for i in range(3) for j in range(4) for k in range(5) if i+j+k == 2]"
   ]
  },
  {
   "cell_type": "code",
   "execution_count": null,
   "metadata": {},
   "outputs": [],
   "source": [
    "# Create a set where every element is square of numbers\n",
    "numbers = [10,20,30,40,50]\n"
   ]
  },
  {
   "cell_type": "code",
   "execution_count": null,
   "metadata": {},
   "outputs": [],
   "source": [
    "# Dictionary comprehension\n",
    "\n",
    "# Create a new dictionary from the existing one such that {'a': 1,'b':4,'c':16}\n",
    "data_dict = {'a': 1,'b':2,'c':4}\n",
    "\n"
   ]
  },
  {
   "cell_type": "code",
   "execution_count": null,
   "metadata": {},
   "outputs": [],
   "source": [
    "# Create a new dictionary from the existing one such that {'a_1': 1,'b_2':4,'c_3':16}\n",
    "data_dict = {'a': 1,'b':2,'c':4}\n"
   ]
  },
  {
   "cell_type": "code",
   "execution_count": null,
   "metadata": {},
   "outputs": [],
   "source": []
  }
 ],
 "metadata": {
  "colab": {
   "collapsed_sections": [
    "BgH0UIIGFYdz",
    "Y870IYV5CLrY",
    "NzJ1XgJJq898",
    "U-gQvJgBxox6",
    "6UAnxgNfSq_8",
    "rSbSQJHwSwE1",
    "k8vzVPClQlW0",
    "3rbSJNDRekAI",
    "jvitpdZGELcS",
    "8nAsEjgeS0E3",
    "l-O80MYZSmv9",
    "LbFg8_mPwaWF",
    "3bxcCfGJzlaH",
    "iMp3uyR0OzEl",
    "BR4gQCvPfYTe",
    "C-H7FDoIZxIA",
    "2t8QJ0BHZ5R-",
    "PMSBdeh-GwPs",
    "lQx0bB5oV_h6",
    "lgYlQP5GP4la",
    "BRhV_mMF2908",
    "Zq1H1SRz5KJZ",
    "h6f_bk0BdaSc"
   ],
   "provenance": [],
   "toc_visible": true
  },
  "kernelspec": {
   "display_name": "Python 3 (ipykernel)",
   "language": "python",
   "name": "python3"
  },
  "language_info": {
   "codemirror_mode": {
    "name": "ipython",
    "version": 3
   },
   "file_extension": ".py",
   "mimetype": "text/x-python",
   "name": "python",
   "nbconvert_exporter": "python",
   "pygments_lexer": "ipython3",
   "version": "3.10.11"
  }
 },
 "nbformat": 4,
 "nbformat_minor": 4
}
