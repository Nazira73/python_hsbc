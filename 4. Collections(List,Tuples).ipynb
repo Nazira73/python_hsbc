{
 "cells": [
  {
   "cell_type": "markdown",
   "metadata": {
    "id": "BgH0UIIGFYdz"
   },
   "source": [
    "# Collection Datatypes\n",
    "- List\n",
    "- Tuple\n",
    "- Set\n",
    "- Dictionary"
   ]
  },
  {
   "cell_type": "markdown",
   "metadata": {
    "id": "LIz0Ii4IFzyB"
   },
   "source": [
    "## List\n",
    "  - created using [ ]\n",
    "  - contains multiple data of different datatypes\n",
    "  - list indexing is same as string indexing\n",
    "  - list are mutable\n",
    "  - List supports concatenation and replication"
   ]
  },
  {
   "cell_type": "code",
   "execution_count": null,
   "metadata": {},
   "outputs": [],
   "source": [
    "numbers = [10,20,30,40,50]"
   ]
  },
  {
   "cell_type": "code",
   "execution_count": null,
   "metadata": {},
   "outputs": [],
   "source": [
    "numbers"
   ]
  },
  {
   "cell_type": "code",
   "execution_count": null,
   "metadata": {},
   "outputs": [],
   "source": [
    "type(numbers)"
   ]
  },
  {
   "cell_type": "code",
   "execution_count": null,
   "metadata": {},
   "outputs": [],
   "source": [
    "mixed_list = [10,2.3,'abc',True,5+6j,None,[1,2,3]]"
   ]
  },
  {
   "cell_type": "code",
   "execution_count": null,
   "metadata": {},
   "outputs": [],
   "source": [
    "mixed_list"
   ]
  },
  {
   "cell_type": "code",
   "execution_count": null,
   "metadata": {},
   "outputs": [],
   "source": [
    "mixed_list[0]"
   ]
  },
  {
   "cell_type": "code",
   "execution_count": null,
   "metadata": {},
   "outputs": [],
   "source": [
    "mixed_list[::2]"
   ]
  },
  {
   "cell_type": "code",
   "execution_count": null,
   "metadata": {},
   "outputs": [],
   "source": [
    "mixed_list[-1]"
   ]
  },
  {
   "cell_type": "code",
   "execution_count": null,
   "metadata": {},
   "outputs": [],
   "source": [
    "mixed_list[-1][2]"
   ]
  },
  {
   "cell_type": "code",
   "execution_count": null,
   "metadata": {},
   "outputs": [],
   "source": [
    "mixed_list[0][0]"
   ]
  },
  {
   "cell_type": "code",
   "execution_count": null,
   "metadata": {},
   "outputs": [],
   "source": [
    "mixed_list[0] = 555\n",
    "mixed_list"
   ]
  },
  {
   "cell_type": "markdown",
   "metadata": {
    "id": "uUZL3x7EarQn"
   },
   "source": [
    "### List Operations\n",
    "\n",
    "1. List Concatenation\n",
    "2. List Replication"
   ]
  },
  {
   "cell_type": "code",
   "execution_count": null,
   "metadata": {},
   "outputs": [],
   "source": [
    "l1 = [10,20,30]\n",
    "l2 = [78,45,33]\n",
    "l1 + l2"
   ]
  },
  {
   "cell_type": "code",
   "execution_count": null,
   "metadata": {},
   "outputs": [],
   "source": [
    "l1 * 3"
   ]
  },
  {
   "cell_type": "code",
   "execution_count": null,
   "metadata": {},
   "outputs": [],
   "source": [
    "# create a list of 0's of size 10\n",
    "[0] * 10"
   ]
  },
  {
   "cell_type": "code",
   "execution_count": null,
   "metadata": {},
   "outputs": [],
   "source": [
    "import numpy as np"
   ]
  },
  {
   "cell_type": "code",
   "execution_count": null,
   "metadata": {},
   "outputs": [],
   "source": [
    "zeros = np.array([0] * 10)\n",
    "type(zeros)"
   ]
  },
  {
   "cell_type": "code",
   "execution_count": null,
   "metadata": {},
   "outputs": [],
   "source": [
    "zeros.reshape(-1,1)"
   ]
  },
  {
   "cell_type": "markdown",
   "metadata": {
    "id": "9X6Lfy6QhqRI"
   },
   "source": [
    "### List methods"
   ]
  },
  {
   "cell_type": "code",
   "execution_count": null,
   "metadata": {},
   "outputs": [],
   "source": [
    "dir(list)"
   ]
  },
  {
   "cell_type": "markdown",
   "metadata": {
    "id": "r6DcCiEC7MaG",
    "jp-MarkdownHeadingCollapsed": true
   },
   "source": [
    "#### insert()"
   ]
  },
  {
   "cell_type": "code",
   "execution_count": null,
   "metadata": {},
   "outputs": [],
   "source": [
    "mixed_list"
   ]
  },
  {
   "cell_type": "code",
   "execution_count": null,
   "metadata": {},
   "outputs": [],
   "source": [
    "# mixed_list = mixed_list.insert(1,500)"
   ]
  },
  {
   "cell_type": "code",
   "execution_count": null,
   "metadata": {},
   "outputs": [],
   "source": [
    "mixed_list.insert(1,500)"
   ]
  },
  {
   "cell_type": "code",
   "execution_count": null,
   "metadata": {},
   "outputs": [],
   "source": [
    "mixed_list"
   ]
  },
  {
   "cell_type": "markdown",
   "metadata": {
    "id": "0eztlkN97PWG",
    "jp-MarkdownHeadingCollapsed": true
   },
   "source": [
    "#### append()"
   ]
  },
  {
   "cell_type": "code",
   "execution_count": null,
   "metadata": {},
   "outputs": [],
   "source": [
    "mixed_list.append(1000)\n",
    "mixed_list"
   ]
  },
  {
   "cell_type": "code",
   "execution_count": null,
   "metadata": {},
   "outputs": [],
   "source": []
  },
  {
   "cell_type": "markdown",
   "metadata": {
    "id": "TucqI-3W7SvJ"
   },
   "source": [
    "#### extend()"
   ]
  },
  {
   "cell_type": "code",
   "execution_count": null,
   "metadata": {},
   "outputs": [],
   "source": [
    "mixed_list.extend([44,55,66])\n",
    "mixed_list"
   ]
  },
  {
   "cell_type": "code",
   "execution_count": null,
   "metadata": {},
   "outputs": [],
   "source": []
  },
  {
   "cell_type": "code",
   "execution_count": null,
   "metadata": {},
   "outputs": [],
   "source": []
  },
  {
   "cell_type": "code",
   "execution_count": null,
   "metadata": {},
   "outputs": [],
   "source": []
  },
  {
   "cell_type": "markdown",
   "metadata": {},
   "source": [
    "##### Quick Questions"
   ]
  },
  {
   "cell_type": "code",
   "execution_count": 1,
   "metadata": {
    "colab": {
     "base_uri": "https://localhost:8080/"
    },
    "executionInfo": {
     "elapsed": 19,
     "status": "ok",
     "timestamp": 1681554706501,
     "user": {
      "displayName": "naz nazira",
      "userId": "06694449877078577923"
     },
     "user_tz": -330
    },
    "id": "ZNiea8tmdffw",
    "outputId": "044d7b5c-c1ca-48de-dce1-c8eeab234422"
   },
   "outputs": [
    {
     "data": {
      "text/plain": [
       "[1, 2, 'c', 'a', 't']"
      ]
     },
     "execution_count": 1,
     "metadata": {},
     "output_type": "execute_result"
    }
   ],
   "source": [
    "a = [1,2]\n",
    "a.extend(\"cat\")\n",
    "a"
   ]
  },
  {
   "cell_type": "code",
   "execution_count": 2,
   "metadata": {
    "id": "U_J1CUnTYWNN"
   },
   "outputs": [
    {
     "data": {
      "text/plain": [
       "[1, 2, 3, 1000]"
      ]
     },
     "execution_count": 2,
     "metadata": {},
     "output_type": "execute_result"
    }
   ],
   "source": [
    "a = [1,2,3]\n",
    "a.append(1000)\n",
    "a"
   ]
  },
  {
   "cell_type": "code",
   "execution_count": 3,
   "metadata": {
    "colab": {
     "base_uri": "https://localhost:8080/",
     "height": 200
    },
    "executionInfo": {
     "elapsed": 399,
     "status": "error",
     "timestamp": 1681554895368,
     "user": {
      "displayName": "naz nazira",
      "userId": "06694449877078577923"
     },
     "user_tz": -330
    },
    "id": "JsW2h_tCYo-b",
    "outputId": "6be11d5d-d811-49b2-96c2-dc32fa0f9e7a"
   },
   "outputs": [
    {
     "ename": "TypeError",
     "evalue": "'int' object is not iterable",
     "output_type": "error",
     "traceback": [
      "\u001b[1;31m---------------------------------------------------------------------------\u001b[0m",
      "\u001b[1;31mTypeError\u001b[0m                                 Traceback (most recent call last)",
      "Cell \u001b[1;32mIn[3], line 2\u001b[0m\n\u001b[0;32m      1\u001b[0m a \u001b[38;5;241m=\u001b[39m [\u001b[38;5;241m1\u001b[39m,\u001b[38;5;241m2\u001b[39m,\u001b[38;5;241m3\u001b[39m]\n\u001b[1;32m----> 2\u001b[0m \u001b[43ma\u001b[49m\u001b[38;5;241;43m.\u001b[39;49m\u001b[43mextend\u001b[49m\u001b[43m(\u001b[49m\u001b[38;5;241;43m1000\u001b[39;49m\u001b[43m)\u001b[49m\n\u001b[0;32m      3\u001b[0m a\n",
      "\u001b[1;31mTypeError\u001b[0m: 'int' object is not iterable"
     ]
    }
   ],
   "source": [
    "a = [1,2,3]\n",
    "a.extend(1000)\n",
    "a"
   ]
  },
  {
   "cell_type": "code",
   "execution_count": 4,
   "metadata": {},
   "outputs": [
    {
     "data": {
      "text/plain": [
       "[1, 2, 3, 1000]"
      ]
     },
     "execution_count": 4,
     "metadata": {},
     "output_type": "execute_result"
    }
   ],
   "source": [
    "a = [1,2,3]\n",
    "a.extend([1000])\n",
    "a"
   ]
  },
  {
   "cell_type": "code",
   "execution_count": 5,
   "metadata": {
    "colab": {
     "base_uri": "https://localhost:8080/"
    },
    "executionInfo": {
     "elapsed": 19,
     "status": "ok",
     "timestamp": 1681554981323,
     "user": {
      "displayName": "naz nazira",
      "userId": "06694449877078577923"
     },
     "user_tz": -330
    },
    "id": "XjLCXugDYaYX",
    "outputId": "5708dd65-772c-4e9c-b5c6-2c29e22c69e8"
   },
   "outputs": [
    {
     "data": {
      "text/plain": [
       "[1, 2, 3, 2000]"
      ]
     },
     "execution_count": 5,
     "metadata": {},
     "output_type": "execute_result"
    }
   ],
   "source": [
    "a = [1,2,3]\n",
    "a.extend([2000])\n",
    "a"
   ]
  },
  {
   "cell_type": "code",
   "execution_count": 6,
   "metadata": {
    "colab": {
     "base_uri": "https://localhost:8080/"
    },
    "executionInfo": {
     "elapsed": 21,
     "status": "ok",
     "timestamp": 1681554977369,
     "user": {
      "displayName": "naz nazira",
      "userId": "06694449877078577923"
     },
     "user_tz": -330
    },
    "id": "5RHmZpQifIV4",
    "outputId": "8be9f58b-647d-4a64-b757-7077e042b04d"
   },
   "outputs": [
    {
     "data": {
      "text/plain": [
       "[1, 2, 3, 2000]"
      ]
     },
     "execution_count": 6,
     "metadata": {},
     "output_type": "execute_result"
    }
   ],
   "source": [
    "a = [1,2,3]\n",
    "a.append(2000)\n",
    "a"
   ]
  },
  {
   "cell_type": "code",
   "execution_count": 7,
   "metadata": {
    "colab": {
     "base_uri": "https://localhost:8080/"
    },
    "executionInfo": {
     "elapsed": 409,
     "status": "ok",
     "timestamp": 1681555039750,
     "user": {
      "displayName": "naz nazira",
      "userId": "06694449877078577923"
     },
     "user_tz": -330
    },
    "id": "PnC0uiJ8XqRY",
    "outputId": "91d10073-589b-4e4e-850e-529cd4ecc47b"
   },
   "outputs": [
    {
     "data": {
      "text/plain": [
       "[1, 2, 3, [500, 600, 700]]"
      ]
     },
     "execution_count": 7,
     "metadata": {},
     "output_type": "execute_result"
    }
   ],
   "source": [
    "a = [1,2,3]\n",
    "a.append([500,600,700])\n",
    "a"
   ]
  },
  {
   "cell_type": "code",
   "execution_count": 8,
   "metadata": {
    "colab": {
     "base_uri": "https://localhost:8080/"
    },
    "executionInfo": {
     "elapsed": 404,
     "status": "ok",
     "timestamp": 1681555078557,
     "user": {
      "displayName": "naz nazira",
      "userId": "06694449877078577923"
     },
     "user_tz": -330
    },
    "id": "oCUWJg99YEO7",
    "outputId": "e150a7f5-fbe7-4ec1-9b98-30b09940e477"
   },
   "outputs": [
    {
     "data": {
      "text/plain": [
       "[1, 2, 3, 500, 600, 700]"
      ]
     },
     "execution_count": 8,
     "metadata": {},
     "output_type": "execute_result"
    }
   ],
   "source": [
    "a = [1,2,3]\n",
    "a.extend([500,600,700])\n",
    "a"
   ]
  },
  {
   "cell_type": "markdown",
   "metadata": {
    "id": "0lCDH1oZ7V1T",
    "jp-MarkdownHeadingCollapsed": true
   },
   "source": [
    "#### count()"
   ]
  },
  {
   "cell_type": "code",
   "execution_count": null,
   "metadata": {},
   "outputs": [],
   "source": [
    "numbers_list = [100,200,500,100,300,200,400]\n",
    "numbers_list"
   ]
  },
  {
   "cell_type": "code",
   "execution_count": null,
   "metadata": {},
   "outputs": [],
   "source": [
    "numbers_list.count(200)"
   ]
  },
  {
   "cell_type": "markdown",
   "metadata": {
    "jp-MarkdownHeadingCollapsed": true
   },
   "source": [
    "#### remove()"
   ]
  },
  {
   "cell_type": "code",
   "execution_count": null,
   "metadata": {},
   "outputs": [],
   "source": [
    "numbers_list"
   ]
  },
  {
   "cell_type": "code",
   "execution_count": null,
   "metadata": {},
   "outputs": [],
   "source": [
    "numbers_list.remove(500)"
   ]
  },
  {
   "cell_type": "code",
   "execution_count": null,
   "metadata": {},
   "outputs": [],
   "source": [
    "numbers_list"
   ]
  },
  {
   "cell_type": "code",
   "execution_count": null,
   "metadata": {},
   "outputs": [],
   "source": [
    "numbers_list.remove(200)"
   ]
  },
  {
   "cell_type": "code",
   "execution_count": null,
   "metadata": {},
   "outputs": [],
   "source": [
    "numbers_list"
   ]
  },
  {
   "cell_type": "code",
   "execution_count": null,
   "metadata": {},
   "outputs": [],
   "source": [
    "help(list.remove)"
   ]
  },
  {
   "cell_type": "code",
   "execution_count": null,
   "metadata": {},
   "outputs": [],
   "source": [
    "numbers_list.remove(200)\n",
    "numbers_list"
   ]
  },
  {
   "cell_type": "code",
   "execution_count": null,
   "metadata": {},
   "outputs": [],
   "source": [
    "numbers_list.remove(200)"
   ]
  },
  {
   "cell_type": "code",
   "execution_count": null,
   "metadata": {},
   "outputs": [],
   "source": [
    "num_list = [100, 200, 500, 100, 300, 200, 400]\n",
    "element_to_remove = int(input())\n",
    "for i in range(num_list.count(element_to_remove)):\n",
    "    num_list.remove(element_to_remove)\n",
    "\n",
    "num_list"
   ]
  },
  {
   "cell_type": "code",
   "execution_count": null,
   "metadata": {},
   "outputs": [],
   "source": [
    "help(list.count)"
   ]
  },
  {
   "cell_type": "markdown",
   "metadata": {
    "id": "XRgSQjMV7kZY",
    "jp-MarkdownHeadingCollapsed": true
   },
   "source": [
    "#### sort()"
   ]
  },
  {
   "cell_type": "code",
   "execution_count": null,
   "metadata": {},
   "outputs": [],
   "source": [
    "numbers_list = [100,200,5,6,47,23]\n",
    "numbers_list"
   ]
  },
  {
   "cell_type": "code",
   "execution_count": null,
   "metadata": {},
   "outputs": [],
   "source": [
    "numbers_list.sort()"
   ]
  },
  {
   "cell_type": "code",
   "execution_count": null,
   "metadata": {},
   "outputs": [],
   "source": [
    "numbers_list"
   ]
  },
  {
   "cell_type": "code",
   "execution_count": null,
   "metadata": {},
   "outputs": [],
   "source": [
    "numbers_list.sort(reverse = True)"
   ]
  },
  {
   "cell_type": "code",
   "execution_count": null,
   "metadata": {},
   "outputs": [],
   "source": [
    "numbers_list"
   ]
  },
  {
   "cell_type": "code",
   "execution_count": null,
   "metadata": {},
   "outputs": [],
   "source": [
    "mixed_list"
   ]
  },
  {
   "cell_type": "code",
   "execution_count": null,
   "metadata": {},
   "outputs": [],
   "source": [
    "mixed_list.sort()\n",
    "mixed_list"
   ]
  },
  {
   "cell_type": "code",
   "execution_count": null,
   "metadata": {},
   "outputs": [],
   "source": [
    "emp_list = ['Sara','John','Santosh','Pam','David']\n",
    "emp_list.sort()\n",
    "emp_list"
   ]
  },
  {
   "cell_type": "code",
   "execution_count": null,
   "metadata": {},
   "outputs": [],
   "source": [
    "l1 = [10,'Sara']\n",
    "l1.sort()"
   ]
  },
  {
   "cell_type": "markdown",
   "metadata": {
    "jp-MarkdownHeadingCollapsed": true
   },
   "source": [
    "#### index"
   ]
  },
  {
   "cell_type": "code",
   "execution_count": null,
   "metadata": {},
   "outputs": [],
   "source": [
    "numbers_list = [200, 100, 47, 23, 6, 5,23,56,23,100]"
   ]
  },
  {
   "cell_type": "code",
   "execution_count": null,
   "metadata": {},
   "outputs": [],
   "source": [
    "help(list.index)"
   ]
  },
  {
   "cell_type": "code",
   "execution_count": null,
   "metadata": {},
   "outputs": [],
   "source": [
    "numbers_list.index(100)"
   ]
  },
  {
   "cell_type": "code",
   "execution_count": null,
   "metadata": {},
   "outputs": [],
   "source": [
    "numbers_list.index(100,2)"
   ]
  },
  {
   "cell_type": "code",
   "execution_count": null,
   "metadata": {},
   "outputs": [],
   "source": [
    "numbers_list.index(100,10)"
   ]
  },
  {
   "cell_type": "code",
   "execution_count": null,
   "metadata": {},
   "outputs": [],
   "source": [
    "# index_to_remove = [1,3,5]\n",
    "# result_list = []\n",
    "# for i in range(len(numbers_list)):\n",
    "#     if i == "
   ]
  },
  {
   "cell_type": "markdown",
   "metadata": {
    "jp-MarkdownHeadingCollapsed": true
   },
   "source": [
    "#### pop"
   ]
  },
  {
   "cell_type": "code",
   "execution_count": null,
   "metadata": {},
   "outputs": [],
   "source": [
    "num_list"
   ]
  },
  {
   "cell_type": "code",
   "execution_count": null,
   "metadata": {},
   "outputs": [],
   "source": [
    "num_list.pop(1)"
   ]
  },
  {
   "cell_type": "code",
   "execution_count": null,
   "metadata": {},
   "outputs": [],
   "source": [
    "num_list"
   ]
  },
  {
   "cell_type": "code",
   "execution_count": null,
   "metadata": {},
   "outputs": [],
   "source": [
    "help(list.pop)"
   ]
  },
  {
   "cell_type": "markdown",
   "metadata": {
    "jp-MarkdownHeadingCollapsed": true
   },
   "source": [
    "#### reverse"
   ]
  },
  {
   "cell_type": "code",
   "execution_count": null,
   "metadata": {},
   "outputs": [],
   "source": [
    "emp_list"
   ]
  },
  {
   "cell_type": "code",
   "execution_count": null,
   "metadata": {},
   "outputs": [],
   "source": [
    "emp_list.reverse()\n",
    "emp_list"
   ]
  },
  {
   "cell_type": "markdown",
   "metadata": {
    "jp-MarkdownHeadingCollapsed": true
   },
   "source": [
    "#### clear "
   ]
  },
  {
   "cell_type": "code",
   "execution_count": null,
   "metadata": {},
   "outputs": [],
   "source": [
    "num_list.clear()\n",
    "num_list"
   ]
  },
  {
   "cell_type": "markdown",
   "metadata": {},
   "source": [
    "#### copy"
   ]
  },
  {
   "cell_type": "code",
   "execution_count": 9,
   "metadata": {},
   "outputs": [],
   "source": [
    "a = [10,20,30]\n",
    "b = a"
   ]
  },
  {
   "cell_type": "code",
   "execution_count": 10,
   "metadata": {},
   "outputs": [
    {
     "data": {
      "text/plain": [
       "([10, 20, 30], [10, 20, 30])"
      ]
     },
     "execution_count": 10,
     "metadata": {},
     "output_type": "execute_result"
    }
   ],
   "source": [
    "a, b"
   ]
  },
  {
   "cell_type": "code",
   "execution_count": 11,
   "metadata": {},
   "outputs": [
    {
     "data": {
      "text/plain": [
       "([500, 20, 30], [500, 20, 30])"
      ]
     },
     "execution_count": 11,
     "metadata": {},
     "output_type": "execute_result"
    }
   ],
   "source": [
    "b[0] = 500\n",
    "a, b"
   ]
  },
  {
   "cell_type": "code",
   "execution_count": 12,
   "metadata": {},
   "outputs": [
    {
     "data": {
      "text/plain": [
       "(2150901769280, 2150901769280)"
      ]
     },
     "execution_count": 12,
     "metadata": {},
     "output_type": "execute_result"
    }
   ],
   "source": [
    "id(a), id(b)"
   ]
  },
  {
   "cell_type": "code",
   "execution_count": 13,
   "metadata": {},
   "outputs": [],
   "source": [
    "a = [10,20,50]\n",
    "b = a.copy()"
   ]
  },
  {
   "cell_type": "code",
   "execution_count": 14,
   "metadata": {},
   "outputs": [
    {
     "data": {
      "text/plain": [
       "([10, 20, 50], [10, 20, 50])"
      ]
     },
     "execution_count": 14,
     "metadata": {},
     "output_type": "execute_result"
    }
   ],
   "source": [
    "a,b"
   ]
  },
  {
   "cell_type": "code",
   "execution_count": 15,
   "metadata": {},
   "outputs": [
    {
     "data": {
      "text/plain": [
       "(2150880005952, 2150899517504)"
      ]
     },
     "execution_count": 15,
     "metadata": {},
     "output_type": "execute_result"
    }
   ],
   "source": [
    "id(a), id(b)"
   ]
  },
  {
   "cell_type": "code",
   "execution_count": null,
   "metadata": {},
   "outputs": [],
   "source": [
    "a,b"
   ]
  },
  {
   "cell_type": "code",
   "execution_count": 16,
   "metadata": {},
   "outputs": [
    {
     "data": {
      "text/plain": [
       "([10, 20, 50], [555, 20, 50])"
      ]
     },
     "execution_count": 16,
     "metadata": {},
     "output_type": "execute_result"
    }
   ],
   "source": [
    "b[0] = 555\n",
    "a,b"
   ]
  },
  {
   "cell_type": "code",
   "execution_count": null,
   "metadata": {},
   "outputs": [],
   "source": []
  },
  {
   "cell_type": "markdown",
   "metadata": {
    "id": "klHg2sZDUNRe"
   },
   "source": [
    "## Tuples\n",
    "- Created using ( )\n",
    "- Tuples indexing is same as string indexing\n",
    "- Tuples are immutable\n",
    "- Tuple supports concatenation and replication"
   ]
  },
  {
   "cell_type": "code",
   "execution_count": null,
   "metadata": {
    "colab": {
     "base_uri": "https://localhost:8080/"
    },
    "executionInfo": {
     "elapsed": 394,
     "status": "ok",
     "timestamp": 1681556073936,
     "user": {
      "displayName": "naz nazira",
      "userId": "06694449877078577923"
     },
     "user_tz": -330
    },
    "id": "BHBdpuvXU8m3",
    "outputId": "6610fb1f-61c9-4f52-f8eb-259d13217351"
   },
   "outputs": [],
   "source": [
    "salary_list = [1000,2000,3000]\n",
    "salary_list[0] = 0\n",
    "salary_list"
   ]
  },
  {
   "cell_type": "code",
   "execution_count": null,
   "metadata": {
    "colab": {
     "base_uri": "https://localhost:8080/"
    },
    "executionInfo": {
     "elapsed": 390,
     "status": "ok",
     "timestamp": 1681556226918,
     "user": {
      "displayName": "naz nazira",
      "userId": "06694449877078577923"
     },
     "user_tz": -330
    },
    "id": "u5dF-aABVeyr",
    "outputId": "23865cdf-43ed-4a31-aa2c-a507c93bf82f"
   },
   "outputs": [],
   "source": [
    "salary_tuple = (1000,2000,3000)\n",
    "salary_tuple[0]"
   ]
  },
  {
   "cell_type": "code",
   "execution_count": null,
   "metadata": {
    "colab": {
     "base_uri": "https://localhost:8080/",
     "height": 165
    },
    "executionInfo": {
     "elapsed": 54,
     "status": "error",
     "timestamp": 1681556236281,
     "user": {
      "displayName": "naz nazira",
      "userId": "06694449877078577923"
     },
     "user_tz": -330
    },
    "id": "IXEJq1m9VqwC",
    "outputId": "de1e9b63-7631-447b-fd5d-5a3e9e35a9d0"
   },
   "outputs": [],
   "source": [
    "salary_tuple[0] = 0"
   ]
  },
  {
   "cell_type": "markdown",
   "metadata": {
    "id": "gt5KLoA3kFPL"
   },
   "source": [
    "### Tuple Operations\n",
    "1. Tuple Concatenation\n",
    "2. Tuple Replication\n"
   ]
  },
  {
   "cell_type": "code",
   "execution_count": null,
   "metadata": {
    "colab": {
     "base_uri": "https://localhost:8080/"
    },
    "executionInfo": {
     "elapsed": 398,
     "status": "ok",
     "timestamp": 1681556303166,
     "user": {
      "displayName": "naz nazira",
      "userId": "06694449877078577923"
     },
     "user_tz": -330
    },
    "id": "YG4ATDIpEk1f",
    "outputId": "d0c8f97b-f814-4488-a2db-80d887c83d80"
   },
   "outputs": [],
   "source": [
    "(1,2) + (30,50)"
   ]
  },
  {
   "cell_type": "code",
   "execution_count": null,
   "metadata": {
    "colab": {
     "base_uri": "https://localhost:8080/"
    },
    "executionInfo": {
     "elapsed": 386,
     "status": "ok",
     "timestamp": 1681556315263,
     "user": {
      "displayName": "naz nazira",
      "userId": "06694449877078577923"
     },
     "user_tz": -330
    },
    "id": "rmPnX9qBkPSK",
    "outputId": "a2e3cf47-e177-4a09-e895-ae92b2e80604"
   },
   "outputs": [],
   "source": [
    "(10,20) * 3"
   ]
  },
  {
   "cell_type": "markdown",
   "metadata": {
    "id": "0Tg5DI8I8Fom"
   },
   "source": [
    "### Tuple methods"
   ]
  },
  {
   "cell_type": "code",
   "execution_count": null,
   "metadata": {},
   "outputs": [],
   "source": [
    "dir(tuple)"
   ]
  },
  {
   "cell_type": "markdown",
   "metadata": {
    "id": "0DAyD4zv8KA7"
   },
   "source": [
    "#### count()"
   ]
  },
  {
   "cell_type": "code",
   "execution_count": null,
   "metadata": {
    "colab": {
     "base_uri": "https://localhost:8080/"
    },
    "executionInfo": {
     "elapsed": 361,
     "status": "ok",
     "timestamp": 1659190661664,
     "user": {
      "displayName": "naz nazira",
      "userId": "06694449877078577923"
     },
     "user_tz": -330
    },
    "id": "-sOEYkozrNoA",
    "outputId": "a0374cd1-cc87-45cd-d37c-315386b4139c"
   },
   "outputs": [],
   "source": [
    "salary_tuple.count(1000)"
   ]
  },
  {
   "cell_type": "markdown",
   "metadata": {
    "id": "QT7XB65T8MbW"
   },
   "source": [
    "#### index()"
   ]
  },
  {
   "cell_type": "code",
   "execution_count": null,
   "metadata": {
    "colab": {
     "base_uri": "https://localhost:8080/"
    },
    "executionInfo": {
     "elapsed": 387,
     "status": "ok",
     "timestamp": 1659190666223,
     "user": {
      "displayName": "naz nazira",
      "userId": "06694449877078577923"
     },
     "user_tz": -330
    },
    "id": "76aH2RHPrcPr",
    "outputId": "c01f4f41-2e4b-4fac-89f9-f55036c8a6dd"
   },
   "outputs": [],
   "source": [
    "salary_tuple.index(1000)"
   ]
  },
  {
   "cell_type": "code",
   "execution_count": null,
   "metadata": {},
   "outputs": [],
   "source": [
    "a = (1,2,(4,5,6),[10,20,30])"
   ]
  },
  {
   "cell_type": "code",
   "execution_count": null,
   "metadata": {},
   "outputs": [],
   "source": [
    "a"
   ]
  },
  {
   "cell_type": "code",
   "execution_count": null,
   "metadata": {},
   "outputs": [],
   "source": [
    "a[3][0] = 100"
   ]
  },
  {
   "cell_type": "code",
   "execution_count": null,
   "metadata": {},
   "outputs": [],
   "source": [
    "a"
   ]
  },
  {
   "cell_type": "code",
   "execution_count": null,
   "metadata": {},
   "outputs": [],
   "source": [
    "a[2][0] = 78"
   ]
  },
  {
   "cell_type": "markdown",
   "metadata": {},
   "source": [
    "# Practice Programs"
   ]
  },
  {
   "cell_type": "code",
   "execution_count": 20,
   "metadata": {},
   "outputs": [
    {
     "data": {
      "text/plain": [
       "65000"
      ]
     },
     "execution_count": 20,
     "metadata": {},
     "output_type": "execute_result"
    }
   ],
   "source": [
    "# 1. WAP to find the 2nd maximum sales\n",
    "\n",
    "sales = [78000,9800,4566,65000]\n",
    "# sales.sort()\n",
    "# print(sales[-2])\n",
    "\n",
    "sales.sort()\n",
    "sales[-2]"
   ]
  },
  {
   "cell_type": "code",
   "execution_count": 21,
   "metadata": {},
   "outputs": [
    {
     "data": {
      "text/plain": [
       "{'Sam', 'Tim'}"
      ]
     },
     "execution_count": 21,
     "metadata": {},
     "output_type": "execute_result"
    }
   ],
   "source": [
    "# 2. WAP to remove the employees from the given list\n",
    "employees = ['Sara','Sam','David','Tim']\n",
    "blacklisted_employees = ['Sara','David','Tom']\n",
    "\n",
    "set(employees).difference(set(blacklisted_employees))"
   ]
  },
  {
   "cell_type": "code",
   "execution_count": 23,
   "metadata": {},
   "outputs": [
    {
     "name": "stdout",
     "output_type": "stream",
     "text": [
      "Client with maximum sales : HP\n"
     ]
    }
   ],
   "source": [
    "# 3. WAP to find client with maximum sales\n",
    "\n",
    "sales = [['ABC Corp',65000],\n",
    "         ['Dell',7800],\n",
    "         ['HP',98000],\n",
    "         ['Asus',4566]]\n",
    "max_sale = 0\n",
    "max_sale_client = ''\n",
    "for client,sale in sales:\n",
    "    if sale > max_sale:\n",
    "        max_sale = sale\n",
    "        max_sale_client = client\n",
    "print(f'Client with maximum sales : {max_sale_client}')"
   ]
  },
  {
   "cell_type": "code",
   "execution_count": 24,
   "metadata": {},
   "outputs": [
    {
     "data": {
      "text/plain": [
       "[['ABC Corp', 78000], ['Dell', 65000]]"
      ]
     },
     "execution_count": 24,
     "metadata": {},
     "output_type": "execute_result"
    }
   ],
   "source": [
    "# 4. WAP to find clients with sales > 10000\n",
    "\n",
    "sales = [['ABC Corp',78000],\n",
    "         ['Dell',65000],\n",
    "         ['HP',9800],\n",
    "         ['Asus',4566]]\n",
    "\n",
    "# expected output: [['ABC Corp',78000],['Dell',65000]]\n",
    "res = []\n",
    "for client,sale in sales:\n",
    "    if sale > 10000:\n",
    "        res.append([client,sale])\n",
    "\n",
    "res"
   ]
  },
  {
   "cell_type": "code",
   "execution_count": null,
   "metadata": {},
   "outputs": [],
   "source": [
    "# 5. Get the sales figure for Dell\n",
    "\n",
    "sales = [['ABC Corp',78000],\n",
    "         ['Dell',65000],\n",
    "         ['HP',9800],\n",
    "         ['Asus',4566]]\n"
   ]
  },
  {
   "cell_type": "code",
   "execution_count": 25,
   "metadata": {},
   "outputs": [
    {
     "data": {
      "text/plain": [
       "['Mr. Guido', 'Mr. Sam', 'Mr. Ron', 'Mr. Tim', 'Mr. Danny']"
      ]
     },
     "execution_count": 25,
     "metadata": {},
     "output_type": "execute_result"
    }
   ],
   "source": [
    "# 6. WAP to insert Mr. at the start of every customer name\n",
    "\n",
    "customers = ['Guido', 'Sam', 'Ron', 'Tim', 'Danny']\n",
    "\n",
    "for i in range(len(customers)):\n",
    "    customers[i] = \"Mr. \" + customers[i]\n",
    "\n",
    "customers"
   ]
  },
  {
   "cell_type": "code",
   "execution_count": null,
   "metadata": {},
   "outputs": [],
   "source": [
    "# 7. WAP to add a new sales record as the first record of the list\n",
    "\n",
    "sales = [['ABC Corp',78000],\n",
    "         ['Dell',65000],\n",
    "         ['HP',9800],\n",
    "         ['Asus',4566]]"
   ]
  },
  {
   "cell_type": "code",
   "execution_count": null,
   "metadata": {},
   "outputs": [],
   "source": [
    "# 8. WAP to filter all female employees from the given list\n",
    "\n",
    "employees = ['Ms. Sara', 'Mr Jose', 'Miss Rose', \n",
    "             'Mr. Tom', 'Mrs. Dan', 'Mr David',\n",
    "             'Miss Clara', 'Mrs Farah']\n",
    "female_employees = []\n"
   ]
  },
  {
   "cell_type": "code",
   "execution_count": null,
   "metadata": {},
   "outputs": [],
   "source": [
    "# 9. WAP to add a 10000 bonus for the clients making sales > 50000\n",
    "\n",
    "sales = [['ABC Corp',78000],\n",
    "         ['Dell',65000],\n",
    "         ['HP',9800],\n",
    "         ['Asus',4566]]\n"
   ]
  },
  {
   "cell_type": "code",
   "execution_count": null,
   "metadata": {},
   "outputs": [],
   "source": [
    "# 10. WAP to find index numbers for all occurences of a given element\n",
    "\n",
    "numbers_list = [200, 100, 47, 23, 6, 5,23,56,23,100]\n",
    "num_to_find = int(input(\"Which number to find : \"))\n"
   ]
  },
  {
   "cell_type": "code",
   "execution_count": 26,
   "metadata": {},
   "outputs": [
    {
     "data": {
      "text/plain": [
       "[('ABC Corp', 78000), ('Dell', 65000), ('HP', 9800), ('Asus', 4566)]"
      ]
     },
     "execution_count": 26,
     "metadata": {},
     "output_type": "execute_result"
    }
   ],
   "source": [
    "# 11. WAP to combine details into 1 list from 2 list\n",
    "\n",
    "client = ['ABC Corp', 'Dell', 'HP', 'Asus']\n",
    "sales = [78000, 65000, 9800, 4566]\n",
    "# expected output: [['ABC Corp',78000],\n",
    "#                  ['Dell',65000],\n",
    "#                  ['HP',9800],\n",
    "#                  ['Asus',4566]]\n",
    "\n",
    "list(zip(client,sales))"
   ]
  },
  {
   "cell_type": "code",
   "execution_count": null,
   "metadata": {},
   "outputs": [],
   "source": [
    "# 12. WAP to add 2 marks of grace to the students scoring less than 40\n",
    "student_details = [('Greyson', 56, 99), ('Brady', 17, 96), ('Knott', 38, 94), ('Ben', 94, 88)]"
   ]
  }
 ],
 "metadata": {
  "colab": {
   "collapsed_sections": [
    "BgH0UIIGFYdz",
    "Y870IYV5CLrY",
    "NzJ1XgJJq898",
    "U-gQvJgBxox6",
    "6UAnxgNfSq_8",
    "rSbSQJHwSwE1",
    "k8vzVPClQlW0",
    "3rbSJNDRekAI",
    "jvitpdZGELcS",
    "8nAsEjgeS0E3",
    "l-O80MYZSmv9",
    "LbFg8_mPwaWF",
    "3bxcCfGJzlaH",
    "iMp3uyR0OzEl",
    "BR4gQCvPfYTe",
    "C-H7FDoIZxIA",
    "2t8QJ0BHZ5R-",
    "PMSBdeh-GwPs",
    "lQx0bB5oV_h6",
    "lgYlQP5GP4la",
    "BRhV_mMF2908",
    "Zq1H1SRz5KJZ",
    "h6f_bk0BdaSc"
   ],
   "provenance": [],
   "toc_visible": true
  },
  "kernelspec": {
   "display_name": "Python 3 (ipykernel)",
   "language": "python",
   "name": "python3"
  },
  "language_info": {
   "codemirror_mode": {
    "name": "ipython",
    "version": 3
   },
   "file_extension": ".py",
   "mimetype": "text/x-python",
   "name": "python",
   "nbconvert_exporter": "python",
   "pygments_lexer": "ipython3",
   "version": "3.10.11"
  }
 },
 "nbformat": 4,
 "nbformat_minor": 4
}
