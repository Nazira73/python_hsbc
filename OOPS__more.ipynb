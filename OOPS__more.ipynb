{
 "cells": [
  {
   "cell_type": "markdown",
   "metadata": {
    "id": "mb7T30dJb6RQ"
   },
   "source": [
    "# OOPs (Object-oriented programming)\n",
    "- Most modern programming languages use OOPs, so does python\n",
    "- OOP is a programming pattern based on the concept of objects.\n",
    "- We will build **Employee management System** for understanding each building blocks of oops"
   ]
  },
  {
   "cell_type": "markdown",
   "metadata": {
    "id": "dNcE4IgYb6RS"
   },
   "source": [
    "## Class :\n",
    "- Is a blueprint for creating instances (objects)\n",
    "- Class is also said to be a user-defined datatype"
   ]
  },
  {
   "cell_type": "code",
   "execution_count": null,
   "metadata": {},
   "outputs": [],
   "source": [
    "class Car():\n",
    "    '''Doc for Car'''\n",
    "    pass"
   ]
  },
  {
   "cell_type": "code",
   "execution_count": null,
   "metadata": {},
   "outputs": [],
   "source": [
    "help(Car)"
   ]
  },
  {
   "cell_type": "code",
   "execution_count": null,
   "metadata": {},
   "outputs": [],
   "source": [
    "c1 = Car()"
   ]
  },
  {
   "cell_type": "code",
   "execution_count": null,
   "metadata": {},
   "outputs": [],
   "source": [
    "c1"
   ]
  },
  {
   "cell_type": "code",
   "execution_count": null,
   "metadata": {},
   "outputs": [],
   "source": [
    "c2 = Car()\n",
    "c2"
   ]
  },
  {
   "cell_type": "code",
   "execution_count": null,
   "metadata": {},
   "outputs": [],
   "source": [
    "help(Car)"
   ]
  },
  {
   "cell_type": "code",
   "execution_count": null,
   "metadata": {},
   "outputs": [],
   "source": [
    "Car.__dict__"
   ]
  },
  {
   "cell_type": "code",
   "execution_count": null,
   "metadata": {},
   "outputs": [],
   "source": [
    "Car.__doc__"
   ]
  },
  {
   "cell_type": "code",
   "execution_count": null,
   "metadata": {},
   "outputs": [],
   "source": [
    "Car.__weakref__"
   ]
  },
  {
   "cell_type": "markdown",
   "metadata": {
    "colab": {
     "base_uri": "https://localhost:8080/"
    },
    "executionInfo": {
     "elapsed": 430,
     "status": "ok",
     "timestamp": 1685679030946,
     "user": {
      "displayName": "naz nazira",
      "userId": "06694449877078577923"
     },
     "user_tz": -330
    },
    "id": "LkQbEnugkkne",
    "outputId": "65d1b773-5642-4047-ef83-86afe691b47c"
   },
   "source": [
    "### Attributes and methods\n",
    "- Every class has its own attributes (Variables) and methods (Functions)"
   ]
  },
  {
   "cell_type": "code",
   "execution_count": null,
   "metadata": {},
   "outputs": [],
   "source": [
    "class Employee():\n",
    "    pass"
   ]
  },
  {
   "cell_type": "code",
   "execution_count": null,
   "metadata": {},
   "outputs": [],
   "source": [
    "emp1 = Employee()\n",
    "emp1"
   ]
  },
  {
   "cell_type": "code",
   "execution_count": null,
   "metadata": {},
   "outputs": [],
   "source": [
    "l1 = list()"
   ]
  },
  {
   "cell_type": "code",
   "execution_count": null,
   "metadata": {},
   "outputs": [],
   "source": [
    "l2 = list((10,20,30))\n",
    "l2"
   ]
  },
  {
   "cell_type": "code",
   "execution_count": null,
   "metadata": {},
   "outputs": [],
   "source": [
    "emp2 = Employee('vishnu')"
   ]
  },
  {
   "cell_type": "code",
   "execution_count": null,
   "metadata": {},
   "outputs": [],
   "source": [
    "l1 = list([10,20])\n",
    "l2 = list([100,200])"
   ]
  },
  {
   "cell_type": "code",
   "execution_count": null,
   "metadata": {},
   "outputs": [],
   "source": [
    "l1.sort(reverse = True)\n",
    "l1"
   ]
  },
  {
   "cell_type": "code",
   "execution_count": null,
   "metadata": {},
   "outputs": [],
   "source": [
    "l2"
   ]
  },
  {
   "cell_type": "markdown",
   "metadata": {},
   "source": [
    "- **Constructor:** A better way of passing attributes"
   ]
  },
  {
   "cell_type": "code",
   "execution_count": null,
   "metadata": {},
   "outputs": [],
   "source": [
    "class Employee():\n",
    "    def __init__(self,name,salary,email = None):   # constructor is a function which is automatically called when object is created\n",
    "        self.name = name\n",
    "        self.salary = salary\n",
    "        if email:\n",
    "            self.email = email\n",
    "        else:\n",
    "            self.email = f'{name}@ltimindtree.com'"
   ]
  },
  {
   "cell_type": "code",
   "execution_count": null,
   "metadata": {},
   "outputs": [],
   "source": [
    "emp1 = Employee('vishnu',25000)"
   ]
  },
  {
   "cell_type": "code",
   "execution_count": null,
   "metadata": {},
   "outputs": [],
   "source": [
    "emp1.name, emp1.salary, emp1.email"
   ]
  },
  {
   "cell_type": "code",
   "execution_count": null,
   "metadata": {},
   "outputs": [],
   "source": [
    "emp2 = Employee('gokul',26000)"
   ]
  },
  {
   "cell_type": "code",
   "execution_count": null,
   "metadata": {},
   "outputs": [],
   "source": [
    "emp2.name, emp2.salary, emp2.email"
   ]
  },
  {
   "cell_type": "code",
   "execution_count": null,
   "metadata": {},
   "outputs": [],
   "source": [
    "emp3 = Employee('jeyanth',30000, 'jy@gmail.com')"
   ]
  },
  {
   "cell_type": "code",
   "execution_count": null,
   "metadata": {},
   "outputs": [],
   "source": [
    "emp3.name, emp3.salary, emp3.email"
   ]
  },
  {
   "cell_type": "markdown",
   "metadata": {
    "colab": {
     "base_uri": "https://localhost:8080/"
    },
    "executionInfo": {
     "elapsed": 4,
     "status": "ok",
     "timestamp": 1685679469241,
     "user": {
      "displayName": "naz nazira",
      "userId": "06694449877078577923"
     },
     "user_tz": -330
    },
    "id": "zfpHB3vay454",
    "outputId": "ba2c0b37-c0bf-4424-fe67-2405c2cd5aa5"
   },
   "source": [
    "- Every class has its own methods (Functions)"
   ]
  },
  {
   "cell_type": "code",
   "execution_count": null,
   "metadata": {},
   "outputs": [],
   "source": [
    "fn = 'abc'\n",
    "assert fn == 'abc', f\"fn should be abc but got {fn}\"\n",
    "print(\"hello\")"
   ]
  },
  {
   "cell_type": "code",
   "execution_count": null,
   "metadata": {
    "colab": {
     "base_uri": "https://localhost:8080/",
     "height": 35
    },
    "executionInfo": {
     "elapsed": 4,
     "status": "ok",
     "timestamp": 1685679470633,
     "user": {
      "displayName": "naz nazira",
      "userId": "06694449877078577923"
     },
     "user_tz": -330
    },
    "id": "91Iq6pUvuGwo",
    "outputId": "56af6b2d-1f1e-42ae-e9cb-be5c7b4c298e"
   },
   "outputs": [],
   "source": [
    "from typing import Union\n",
    "class Employee:\n",
    "  def __init__(self, firstname:str,lastname:str, salary:Union[int,float]) -> None:   # Type hinting\n",
    "      \n",
    "    # Validation Checks\n",
    "    assert isinstance(firstname,str), f\"firstname expected to be a string, received {type(firstname)}\"\n",
    "    assert isinstance(lastname,str), f\"lastname expected to be a string, received {type(lastname)}\"\n",
    "    assert type(salary) in (int,float), f\"Salary expected to be a Integer/Float, received {type(salary)}\"\n",
    "\n",
    "    # Instanciating attributes\n",
    "    self.firstname = firstname\n",
    "    self.lastname = lastname\n",
    "    self.name = self.firstname + ' ' + self.lastname\n",
    "    self.salary = salary\n",
    "\n",
    "  def create_email_id(self):\n",
    "    self.email_id = self.name + \"@ltimindtree.com\"\n",
    "\n"
   ]
  },
  {
   "cell_type": "code",
   "execution_count": null,
   "metadata": {},
   "outputs": [],
   "source": [
    "emp1 = Employee(\"Deepak\",10000, '10000')"
   ]
  },
  {
   "cell_type": "code",
   "execution_count": null,
   "metadata": {},
   "outputs": [],
   "source": [
    "\n",
    "\n",
    "emp2 = Employee('Kartik','Khanna', 100000)"
   ]
  },
  {
   "cell_type": "code",
   "execution_count": null,
   "metadata": {},
   "outputs": [],
   "source": [
    "emp1.__dict__"
   ]
  },
  {
   "cell_type": "code",
   "execution_count": null,
   "metadata": {},
   "outputs": [],
   "source": [
    "emp2.__dict__"
   ]
  },
  {
   "cell_type": "code",
   "execution_count": null,
   "metadata": {},
   "outputs": [],
   "source": [
    "emp1.create_email_id()"
   ]
  },
  {
   "cell_type": "code",
   "execution_count": null,
   "metadata": {},
   "outputs": [],
   "source": [
    "emp1.email_id"
   ]
  },
  {
   "cell_type": "markdown",
   "metadata": {
    "colab": {
     "base_uri": "https://localhost:8080/",
     "height": 35
    },
    "executionInfo": {
     "elapsed": 6,
     "status": "ok",
     "timestamp": 1685679646004,
     "user": {
      "displayName": "naz nazira",
      "userId": "06694449877078577923"
     },
     "user_tz": -330
    },
    "id": "7aryWlT04EqZ",
    "outputId": "720a8a41-f85a-4b89-ec4d-80f11354465a"
   },
   "source": [
    "Note: Every method in a class should have atleast 1 argument to receive the instance\n"
   ]
  },
  {
   "cell_type": "markdown",
   "metadata": {
    "colab": {
     "base_uri": "https://localhost:8080/"
    },
    "executionInfo": {
     "elapsed": 3,
     "status": "ok",
     "timestamp": 1685679933440,
     "user": {
      "displayName": "naz nazira",
      "userId": "06694449877078577923"
     },
     "user_tz": -330
    },
    "id": "Mgzp-FDHwLwS",
    "outputId": "c66db70a-f234-453d-f651-66e40963f684"
   },
   "source": [
    "### Types of Attributes\n",
    "\n",
    "1. **Class variable:** variables which are class specific\n",
    "2. **Instance variable:** Object /instance specific"
   ]
  },
  {
   "cell_type": "code",
   "execution_count": null,
   "metadata": {},
   "outputs": [],
   "source": [
    "class Employee:\n",
    "    hike_percentage = 0.3                  # class variable\n",
    "    \n",
    "    def __init__(self,name,salary,dept):\n",
    "        self.name = name                  # Instance variables\n",
    "        self.salary = salary\n",
    "        self.department = dept"
   ]
  },
  {
   "cell_type": "code",
   "execution_count": null,
   "metadata": {},
   "outputs": [],
   "source": [
    "employee1 = Employee('Suraj',35000,'IT')\n",
    "employee2 = Employee('Pratham',500,'Customer Care')"
   ]
  },
  {
   "cell_type": "code",
   "execution_count": null,
   "metadata": {},
   "outputs": [],
   "source": [
    "employee1.__dict__"
   ]
  },
  {
   "cell_type": "code",
   "execution_count": null,
   "metadata": {},
   "outputs": [],
   "source": [
    "employee2.__dict__"
   ]
  },
  {
   "cell_type": "code",
   "execution_count": null,
   "metadata": {},
   "outputs": [],
   "source": [
    "Employee.__dict__"
   ]
  },
  {
   "cell_type": "code",
   "execution_count": null,
   "metadata": {},
   "outputs": [],
   "source": [
    "employee1.hike_percentage"
   ]
  },
  {
   "cell_type": "code",
   "execution_count": null,
   "metadata": {},
   "outputs": [],
   "source": [
    "employee2.hike_percentage"
   ]
  },
  {
   "cell_type": "code",
   "execution_count": null,
   "metadata": {},
   "outputs": [],
   "source": [
    "Employee.hike_percentage"
   ]
  },
  {
   "cell_type": "code",
   "execution_count": null,
   "metadata": {},
   "outputs": [],
   "source": [
    "employee1.__dict__"
   ]
  },
  {
   "cell_type": "code",
   "execution_count": null,
   "metadata": {},
   "outputs": [],
   "source": [
    "employee1.hike_percentage = 0.5"
   ]
  },
  {
   "cell_type": "code",
   "execution_count": null,
   "metadata": {},
   "outputs": [],
   "source": [
    "employee1.__dict__"
   ]
  },
  {
   "cell_type": "code",
   "execution_count": null,
   "metadata": {},
   "outputs": [],
   "source": [
    "employee1.hike_percentage"
   ]
  },
  {
   "cell_type": "code",
   "execution_count": null,
   "metadata": {},
   "outputs": [],
   "source": [
    "employee2.hike_percentage"
   ]
  },
  {
   "cell_type": "code",
   "execution_count": null,
   "metadata": {},
   "outputs": [],
   "source": [
    "Employee.hike_percentage"
   ]
  },
  {
   "cell_type": "code",
   "execution_count": null,
   "metadata": {},
   "outputs": [],
   "source": [
    "employee2.hike_percentage = 0.1"
   ]
  },
  {
   "cell_type": "code",
   "execution_count": null,
   "metadata": {},
   "outputs": [],
   "source": [
    "employee2.hike_percentage"
   ]
  },
  {
   "cell_type": "code",
   "execution_count": null,
   "metadata": {},
   "outputs": [],
   "source": [
    "Employee.hike_percentage"
   ]
  },
  {
   "cell_type": "markdown",
   "metadata": {},
   "source": [
    "- Class variables can only be modified via Class\n",
    "- If you try to modify the class variable via an Instance then a new instance variable is added to that specific instance with the same name\n",
    "- Class variables are also known as Static Variables"
   ]
  },
  {
   "cell_type": "markdown",
   "metadata": {
    "id": "-5M6iSUwBbF5"
   },
   "source": [
    "## Types of methods\n",
    "- Instance method:  which takes instance as first element by default (self)\n",
    "- Class method:\n",
    "    - which takes class as first element by default (cls).\n",
    "    - has decorator @classmethod\n",
    "    - The class method can only access the class attributes but not the instance attributes.\n",
    "    - The class method can be called using ClassName.MethodName() and also using instance.\n",
    "- Static method:\n",
    "  - A method that has nothing to do with class variabl;e or instance variable.\n",
    "  - It should have a @staticmethod decorator at the top of the function\n",
    "  - If you put @staticmethod  then that method can be called via Instnces as well as class\n",
    "  - If you dont put @staticmethod then you can call that method only via class"
   ]
  },
  {
   "cell_type": "code",
   "execution_count": null,
   "metadata": {
    "colab": {
     "base_uri": "https://localhost:8080/"
    },
    "executionInfo": {
     "elapsed": 439,
     "status": "ok",
     "timestamp": 1685681530209,
     "user": {
      "displayName": "naz nazira",
      "userId": "06694449877078577923"
     },
     "user_tz": -330
    },
    "id": "a5JnDjCcb6R0",
    "outputId": "85f967ca-cebf-4aac-c246-793d6b4320bc"
   },
   "outputs": [],
   "source": [
    "class Employee:\n",
    "    hike_percentage = 0.3                  # class variable\n",
    "    \n",
    "    def __init__(self,name,salary,dept):\n",
    "        self.name = name                  # Instance variables\n",
    "        self.salary = salary\n",
    "        self.department = dept\n",
    "\n",
    "    # Instance method\n",
    "    def create_emailid(self):\n",
    "        self.email = self.name + \"@ltimindtree.com\"\n"
   ]
  },
  {
   "cell_type": "code",
   "execution_count": null,
   "metadata": {},
   "outputs": [],
   "source": [
    "employee1 = Employee('Suraj',35000,'IT')\n",
    "employee2 = Employee('Pratham',500,'Customer Care')"
   ]
  },
  {
   "cell_type": "code",
   "execution_count": null,
   "metadata": {},
   "outputs": [],
   "source": [
    "employee1.create_emailid()\n",
    "employee2.create_emailid()"
   ]
  },
  {
   "cell_type": "code",
   "execution_count": null,
   "metadata": {},
   "outputs": [],
   "source": [
    "employee1.__dict__"
   ]
  },
  {
   "cell_type": "code",
   "execution_count": null,
   "metadata": {},
   "outputs": [],
   "source": [
    "employee2.__dict__"
   ]
  },
  {
   "cell_type": "code",
   "execution_count": null,
   "metadata": {},
   "outputs": [],
   "source": [
    "Employee.__dict__"
   ]
  },
  {
   "cell_type": "code",
   "execution_count": null,
   "metadata": {},
   "outputs": [],
   "source": [
    "class Employee:\n",
    "    hike_percentage = 0.3                  # class variable\n",
    "    \n",
    "    def __init__(self,name,salary,dept):\n",
    "        self.name = name                  # Instance variables\n",
    "        self.salary = salary\n",
    "        self.department = dept\n",
    "\n",
    "    # Instance method\n",
    "    def create_emailid(self):\n",
    "        self.email = self.name + \"@ltimindtree.com\"\n",
    "\n",
    "    # class method\n",
    "    @classmethod\n",
    "    def change_hike_percentage(cls, new_hike_percent):\n",
    "        cls.hike_percentage = new_hike_percent\n"
   ]
  },
  {
   "cell_type": "code",
   "execution_count": null,
   "metadata": {},
   "outputs": [],
   "source": [
    "Employee.hike_percentage"
   ]
  },
  {
   "cell_type": "code",
   "execution_count": null,
   "metadata": {},
   "outputs": [],
   "source": [
    "Employee.change_hike_percentage(0.1)"
   ]
  },
  {
   "cell_type": "code",
   "execution_count": null,
   "metadata": {},
   "outputs": [],
   "source": [
    "Employee.hike_percentage"
   ]
  },
  {
   "cell_type": "code",
   "execution_count": null,
   "metadata": {},
   "outputs": [],
   "source": [
    "Employee.change_hike_percentage(0.4)"
   ]
  },
  {
   "cell_type": "code",
   "execution_count": null,
   "metadata": {},
   "outputs": [],
   "source": [
    "Employee.hike_percentage"
   ]
  },
  {
   "cell_type": "code",
   "execution_count": null,
   "metadata": {},
   "outputs": [],
   "source": [
    "employee1 = Employee('Suraj',35000,'IT')\n",
    "employee2 = Employee('Pratham',500,'Customer Care')"
   ]
  },
  {
   "cell_type": "code",
   "execution_count": null,
   "metadata": {},
   "outputs": [],
   "source": [
    "employee1.hike_percentage"
   ]
  },
  {
   "cell_type": "code",
   "execution_count": null,
   "metadata": {},
   "outputs": [],
   "source": [
    "# The class method can be called using ClassName.MethodName() and also using object.\n",
    "\n",
    "Employee.change_hike_percentage(0.5)    # preferrable\n",
    "employee1.change_hike_percentage(0.7)"
   ]
  },
  {
   "cell_type": "code",
   "execution_count": null,
   "metadata": {},
   "outputs": [],
   "source": [
    "class Employee:\n",
    "    hike_percentage = 0.3                  # class variable\n",
    "    \n",
    "    def __init__(self,name,salary,dept):\n",
    "        self.name = name                  # Instance variables\n",
    "        self.salary = salary\n",
    "        self.department = dept\n",
    "\n",
    "    # Instance method\n",
    "    def create_emailid(self):\n",
    "        self.email = self.name + \"@ltimindtree.com\"\n",
    "\n",
    "    # class method\n",
    "    @classmethod\n",
    "    def change_hike_percentage(cls, new_hike_percent):\n",
    "        cls.hike_percentage = new_hike_percent\n",
    "\n",
    "    @staticmethod\n",
    "    def add(a,b):\n",
    "        return a+b"
   ]
  },
  {
   "cell_type": "code",
   "execution_count": null,
   "metadata": {},
   "outputs": [],
   "source": [
    "employee1 = Employee('Suraj',35000,'IT')\n",
    "employee2 = Employee('Pratham',500,'Customer Care')"
   ]
  },
  {
   "cell_type": "code",
   "execution_count": null,
   "metadata": {},
   "outputs": [],
   "source": [
    "Employee.add(10,20)"
   ]
  },
  {
   "cell_type": "code",
   "execution_count": null,
   "metadata": {},
   "outputs": [],
   "source": [
    "employee1.add(10,20), employee2.add(20,30)   # This is not supported when @staticmethod is missing"
   ]
  },
  {
   "cell_type": "code",
   "execution_count": null,
   "metadata": {},
   "outputs": [],
   "source": [
    "Employee.__dict__"
   ]
  },
  {
   "cell_type": "code",
   "execution_count": null,
   "metadata": {},
   "outputs": [],
   "source": [
    "employee1.__dict__"
   ]
  },
  {
   "cell_type": "markdown",
   "metadata": {},
   "source": [
    "# Quick Questions"
   ]
  },
  {
   "cell_type": "code",
   "execution_count": null,
   "metadata": {},
   "outputs": [],
   "source": [
    "class Student:\n",
    "\tdef __init__(self,name,id):\n",
    "\t\tself.name=name\n",
    "\t\tself.id=id\n",
    "\t\tprint(self.id)\n",
    "\n",
    "std=Student(\"Simon\",1)\n",
    "std.id=2\n",
    "print(std.id)"
   ]
  },
  {
   "cell_type": "code",
   "execution_count": null,
   "metadata": {},
   "outputs": [],
   "source": [
    "class A():\n",
    "\tdef __init__(self,count=100):\n",
    "\t\tself.count=count\n",
    "\n",
    "obj1=A()\n",
    "obj2=A(102)\n",
    "print(obj1.count)\n",
    "print(obj2.count)"
   ]
  },
  {
   "cell_type": "code",
   "execution_count": null,
   "metadata": {},
   "outputs": [],
   "source": [
    "class A:\n",
    "\tdef __init__(self):\n",
    "\t\tself.count=5\n",
    "\t\tself.count=count+1\n",
    "\n",
    "a=A()\n",
    "print(a.count)"
   ]
  },
  {
   "cell_type": "code",
   "execution_count": null,
   "metadata": {},
   "outputs": [],
   "source": [
    "class A:\n",
    "    def __init__(self,name):\n",
    "        self.name=name\n",
    "a1=A(\"john\")\n",
    "a2=A(\"john\")\n",
    "# A. id(a1) and id(a2) will have same value.\n",
    "# B. id(a1) and id(a2) will have different values.\n",
    "# C. Two objects with same value of attribute cannot be created.\n",
    "# D. None of the above\n",
    "id(a1), id(a2)"
   ]
  },
  {
   "cell_type": "code",
   "execution_count": null,
   "metadata": {},
   "outputs": [],
   "source": [
    "a1=A(\"john\")\n",
    "a2 = a1\n",
    "id(a1),id(a2)"
   ]
  },
  {
   "cell_type": "code",
   "execution_count": null,
   "metadata": {},
   "outputs": [],
   "source": [
    "class Book:\n",
    "\tdef __init__(self,author):\n",
    "\t\tself.author=author\n",
    "book1=Book(\"V.M.Shah\")\n",
    "book2=book1\n",
    "book2.author = 'Dennis'\n",
    "\n",
    "id(book1) == id(book2)"
   ]
  },
  {
   "cell_type": "code",
   "execution_count": null,
   "metadata": {},
   "outputs": [],
   "source": [
    "book1.author"
   ]
  },
  {
   "cell_type": "code",
   "execution_count": null,
   "metadata": {},
   "outputs": [],
   "source": [
    "# 9. In python, what is method inside class?\n",
    "\n",
    "# A. attribute\n",
    "# B. object\n",
    "# C. argument\n",
    "# D. function"
   ]
  },
  {
   "cell_type": "code",
   "execution_count": null,
   "metadata": {},
   "outputs": [],
   "source": [
    "class A:\n",
    "\tdef __init__(self,num):\n",
    "\t\tnum=3\n",
    "\t\tself.num=num\n",
    "        \n",
    "\tdef change(self):\n",
    "\t\tself.num=7\n",
    "\n",
    "a=A(5)\n",
    "print(a.num)\n",
    "a.change()\n",
    "print(a.num)\n"
   ]
  },
  {
   "cell_type": "code",
   "execution_count": null,
   "metadata": {},
   "outputs": [],
   "source": [
    "class A:\n",
    "    def __init__(self,b):\n",
    "        self.b=b\n",
    "    def display(self):\n",
    "        print(self.b)\n",
    "obj=A(\"Hello\")\n",
    "del obj\n",
    "print(obj)"
   ]
  },
  {
   "cell_type": "code",
   "execution_count": null,
   "metadata": {},
   "outputs": [],
   "source": [
    "class test:\n",
    "    def __init__(self):\n",
    "        self.variable = 'Old'\n",
    "        self.Change(self.variable)\n",
    "    def Change(self, var):\n",
    "        var = 'New'"
   ]
  },
  {
   "cell_type": "code",
   "execution_count": null,
   "metadata": {},
   "outputs": [],
   "source": [
    "obj=test()\n",
    "print(obj.variable)"
   ]
  },
  {
   "cell_type": "code",
   "execution_count": null,
   "metadata": {},
   "outputs": [],
   "source": [
    "class fruits:\n",
    "    def __init__(self, price):\n",
    "        self.price = price\n",
    "obj=fruits(50)\n",
    " \n",
    "obj.quantity=10\n",
    "obj.bags=2\n",
    " \n",
    "print(obj.quantity+len(obj.__dict__))"
   ]
  },
  {
   "cell_type": "code",
   "execution_count": null,
   "metadata": {},
   "outputs": [],
   "source": [
    "class Demo:\n",
    "    def __init__(self):\n",
    "        pass\n",
    "    \n",
    "    def test(self):\n",
    "        print(__name__)\n",
    " \n",
    "obj = Demo()\n",
    "obj.test()"
   ]
  },
  {
   "cell_type": "code",
   "execution_count": null,
   "metadata": {},
   "outputs": [],
   "source": [
    "def add(c,k):\n",
    "    c.test=c.test+1    # c.test = 2\n",
    "    k=k+1              # k = 1\n",
    "class A:\n",
    "    def __init__(self):\n",
    "        self.test = 0\n",
    "def main():\n",
    "    Count=A()\n",
    "    k=0\n",
    "    for i in range(0,5,2):\n",
    "        add(Count,k)\n",
    "    print(\"Count.test=\", Count.test)\n",
    "    print(\"k =\", k)\n",
    "main()"
   ]
  },
  {
   "cell_type": "code",
   "execution_count": 1,
   "metadata": {},
   "outputs": [
    {
     "name": "stdout",
     "output_type": "stream",
     "text": [
      "First method called\n"
     ]
    }
   ],
   "source": [
    "# is this valid  (************************)\n",
    "class B(object):\n",
    "  def first(self):\n",
    "    print(\"First method called\")\n",
    "  def second():\n",
    "    print(\"Second method called\")\n",
    "ob = B()\n",
    "B.first(ob)"
   ]
  },
  {
   "cell_type": "code",
   "execution_count": null,
   "metadata": {},
   "outputs": [],
   "source": [
    "B.__dict__"
   ]
  },
  {
   "cell_type": "code",
   "execution_count": null,
   "metadata": {},
   "outputs": [],
   "source": [
    "help(hasattr)"
   ]
  },
  {
   "cell_type": "code",
   "execution_count": null,
   "metadata": {},
   "outputs": [],
   "source": [
    "class stud:\n",
    "   def __init__(self, roll_no, grade):\n",
    "      self.roll_no = roll_no\n",
    "      self.grade = grade\n",
    "   def display (self):\n",
    "      print(\"Roll no : \", self.roll_no,  \", Grade: \", self.grade)\n",
    "stud1 = stud(34, 'S')\n",
    "stud1.age=7\n",
    "print(hasattr(stud1, 'age'))"
   ]
  },
  {
   "cell_type": "code",
   "execution_count": null,
   "metadata": {},
   "outputs": [],
   "source": [
    "class stud:\n",
    "   'Base class for all students'\n",
    "   def __init__(self, roll_no, grade):\n",
    "      self.roll_no = roll_no\n",
    "      self.grade = grade\n",
    "   def display (self):\n",
    "      print(\"Roll no : \", self.roll_no,  \", Grade: \", self.grade)\n",
    "print(stud.__doc__)"
   ]
  },
  {
   "cell_type": "code",
   "execution_count": null,
   "metadata": {},
   "outputs": [],
   "source": [
    "class rectangle():\n",
    "    def __init__(self,breadth,length):\n",
    "        self.breadth=breadth\n",
    "        self.length=length\n",
    "    def area(self):\n",
    "        return self.breadth*self.length\n",
    "a=int(input(\"Enter length of rectangle: \"))\n",
    "b=int(input(\"Enter breadth of rectangle: \"))\n",
    "obj=rectangle(a,b)\n",
    "obj1=rectangle(a+b,b*b)\n",
    "print(\"Area of rectangle:\",obj.area())\n",
    "print(\"Area of rectangle:\",obj1.area())"
   ]
  },
  {
   "cell_type": "markdown",
   "metadata": {
    "id": "0iNKc3GgPZNR"
   },
   "source": [
    "### Using classmethods as alternative constructors\n",
    "i.e to provide multiple ways of creating a class object"
   ]
  },
  {
   "cell_type": "code",
   "execution_count": 2,
   "metadata": {},
   "outputs": [],
   "source": [
    "class Employee:\n",
    "    hike_percentage = 0.3                  # class variable\n",
    "    \n",
    "    def __init__(self,firstname,lastname,salary):\n",
    "        self.firstname = firstname                  \n",
    "        self.lastname = lastname\n",
    "        self.salary = salary\n",
    "        self.name = self.firstname + \" \" + self.lastname\n",
    "\n",
    "    # Instance method\n",
    "    def create_emailid(self):\n",
    "        self.email = self.firstname + \"@ltimindtree.com\"\n",
    "\n",
    "    # class method\n",
    "    @classmethod\n",
    "    def change_hike_percentage(cls, new_hike_percent):\n",
    "        cls.hike_percentage = new_hike_percent\n"
   ]
  },
  {
   "cell_type": "code",
   "execution_count": 3,
   "metadata": {},
   "outputs": [
    {
     "data": {
      "text/plain": [
       "<__main__.Employee at 0x1d4c81f2aa0>"
      ]
     },
     "execution_count": 3,
     "metadata": {},
     "output_type": "execute_result"
    }
   ],
   "source": [
    "emp1 = Employee('Gokul' , 'G', 25000)\n",
    "emp1"
   ]
  },
  {
   "cell_type": "code",
   "execution_count": 4,
   "metadata": {},
   "outputs": [
    {
     "ename": "TypeError",
     "evalue": "Employee.__init__() missing 2 required positional arguments: 'lastname' and 'salary'",
     "output_type": "error",
     "traceback": [
      "\u001b[1;31m---------------------------------------------------------------------------\u001b[0m",
      "\u001b[1;31mTypeError\u001b[0m                                 Traceback (most recent call last)",
      "Cell \u001b[1;32mIn[4], line 2\u001b[0m\n\u001b[0;32m      1\u001b[0m emp_str \u001b[38;5;241m=\u001b[39m \u001b[38;5;124m\"\u001b[39m\u001b[38;5;124mDavid-Mathew-70000\u001b[39m\u001b[38;5;124m\"\u001b[39m\n\u001b[1;32m----> 2\u001b[0m emp2 \u001b[38;5;241m=\u001b[39m \u001b[43mEmployee\u001b[49m\u001b[43m(\u001b[49m\u001b[43memp_str\u001b[49m\u001b[43m)\u001b[49m\n",
      "\u001b[1;31mTypeError\u001b[0m: Employee.__init__() missing 2 required positional arguments: 'lastname' and 'salary'"
     ]
    }
   ],
   "source": [
    "emp_str = \"David-Mathew-70000\"\n",
    "emp2 = Employee(emp_str)"
   ]
  },
  {
   "cell_type": "code",
   "execution_count": 5,
   "metadata": {
    "id": "M2osZipBcxua"
   },
   "outputs": [],
   "source": [
    "# Although this worked but involves preprocessing, lets make it better\n",
    "\n",
    "class Employee:\n",
    "\n",
    "  raise_amount = 1.04\n",
    "\n",
    "  def __init__(self, firstname:str,lastname:str, salary:int | float) -> None: \n",
    "      \n",
    "    # Instanciating attributes\n",
    "    self.firstname = firstname\n",
    "    self.lastname = lastname\n",
    "    self.name = self.firstname + ' ' + self.lastname\n",
    "    self.salary = salary\n",
    "\n",
    "  def create_email_id(self):\n",
    "    self.email_id = self.name  + \"@company.com\"\n",
    "\n",
    "  def get_revised_salary(self):\n",
    "    self.salary = self.salary * self.raise_amount\n",
    "\n",
    "  @classmethod\n",
    "  def set_raise_amount(cls, amount):\n",
    "    cls.raise_amount = amount\n",
    "\n",
    "  @classmethod\n",
    "  def from_params_seperated_with_hyphens(cls, emp_param):    # a general convention starts with from\n",
    "    firstname,lastname, salary = emp_param.split(\"-\")\n",
    "    salary = int(salary)\n",
    "    return cls(firstname,lastname, salary)                   # Employee(firstname,lastname, salary)\n",
    "\n",
    "  @classmethod\n",
    "  def from_params_seperated_with_commas(cls, emp_param):    # a general convention starts with from\n",
    "    firstname,lastname, salary = emp_param.split(\",\")\n",
    "    salary = int(salary)\n",
    "    return cls(firstname,lastname, salary)"
   ]
  },
  {
   "cell_type": "code",
   "execution_count": 6,
   "metadata": {},
   "outputs": [
    {
     "data": {
      "text/plain": [
       "<__main__.Employee at 0x1d4c97f6f20>"
      ]
     },
     "execution_count": 6,
     "metadata": {},
     "output_type": "execute_result"
    }
   ],
   "source": [
    "emp_str = \"David-Mathew-70000\"\n",
    "emp2 = Employee.from_params_seperated_with_hyphens(emp_str)\n",
    "emp2"
   ]
  },
  {
   "cell_type": "code",
   "execution_count": 7,
   "metadata": {},
   "outputs": [
    {
     "data": {
      "text/plain": [
       "{'firstname': 'David',\n",
       " 'lastname': 'Mathew',\n",
       " 'name': 'David Mathew',\n",
       " 'salary': 70000}"
      ]
     },
     "execution_count": 7,
     "metadata": {},
     "output_type": "execute_result"
    }
   ],
   "source": [
    "emp2.__dict__"
   ]
  },
  {
   "cell_type": "code",
   "execution_count": 8,
   "metadata": {
    "colab": {
     "base_uri": "https://localhost:8080/",
     "height": 35
    },
    "executionInfo": {
     "elapsed": 610,
     "status": "ok",
     "timestamp": 1685683499029,
     "user": {
      "displayName": "naz nazira",
      "userId": "06694449877078577923"
     },
     "user_tz": -330
    },
    "id": "xOrVc3ChkDD5",
    "outputId": "e421670e-1d4d-4ba5-92d5-37b2ba32efdf"
   },
   "outputs": [
    {
     "data": {
      "text/plain": [
       "<__main__.Employee at 0x1d4c9c8dc90>"
      ]
     },
     "execution_count": 8,
     "metadata": {},
     "output_type": "execute_result"
    }
   ],
   "source": [
    "emp_str = \"David,Mathew,70000\"\n",
    "emp3 = Employee.from_params_seperated_with_commas(emp_str)\n",
    "emp3"
   ]
  },
  {
   "cell_type": "code",
   "execution_count": 9,
   "metadata": {},
   "outputs": [
    {
     "data": {
      "text/plain": [
       "{'firstname': 'David',\n",
       " 'lastname': 'Mathew',\n",
       " 'name': 'David Mathew',\n",
       " 'salary': 70000}"
      ]
     },
     "execution_count": 9,
     "metadata": {},
     "output_type": "execute_result"
    }
   ],
   "source": [
    "emp3.__dict__"
   ]
  },
  {
   "cell_type": "code",
   "execution_count": 10,
   "metadata": {},
   "outputs": [
    {
     "name": "stdout",
     "output_type": "stream",
     "text": [
      "Help on class datetime in module datetime:\n",
      "\n",
      "class datetime(date)\n",
      " |  datetime(year, month, day[, hour[, minute[, second[, microsecond[,tzinfo]]]]])\n",
      " |  \n",
      " |  The year, month and day arguments are required. tzinfo may be None, or an\n",
      " |  instance of a tzinfo subclass. The remaining arguments may be ints.\n",
      " |  \n",
      " |  Method resolution order:\n",
      " |      datetime\n",
      " |      date\n",
      " |      builtins.object\n",
      " |  \n",
      " |  Methods defined here:\n",
      " |  \n",
      " |  __add__(self, value, /)\n",
      " |      Return self+value.\n",
      " |  \n",
      " |  __eq__(self, value, /)\n",
      " |      Return self==value.\n",
      " |  \n",
      " |  __ge__(self, value, /)\n",
      " |      Return self>=value.\n",
      " |  \n",
      " |  __getattribute__(self, name, /)\n",
      " |      Return getattr(self, name).\n",
      " |  \n",
      " |  __gt__(self, value, /)\n",
      " |      Return self>value.\n",
      " |  \n",
      " |  __hash__(self, /)\n",
      " |      Return hash(self).\n",
      " |  \n",
      " |  __le__(self, value, /)\n",
      " |      Return self<=value.\n",
      " |  \n",
      " |  __lt__(self, value, /)\n",
      " |      Return self<value.\n",
      " |  \n",
      " |  __ne__(self, value, /)\n",
      " |      Return self!=value.\n",
      " |  \n",
      " |  __radd__(self, value, /)\n",
      " |      Return value+self.\n",
      " |  \n",
      " |  __reduce__(...)\n",
      " |      __reduce__() -> (cls, state)\n",
      " |  \n",
      " |  __reduce_ex__(...)\n",
      " |      __reduce_ex__(proto) -> (cls, state)\n",
      " |  \n",
      " |  __repr__(self, /)\n",
      " |      Return repr(self).\n",
      " |  \n",
      " |  __rsub__(self, value, /)\n",
      " |      Return value-self.\n",
      " |  \n",
      " |  __str__(self, /)\n",
      " |      Return str(self).\n",
      " |  \n",
      " |  __sub__(self, value, /)\n",
      " |      Return self-value.\n",
      " |  \n",
      " |  astimezone(...)\n",
      " |      tz -> convert to local time in new timezone tz\n",
      " |  \n",
      " |  ctime(...)\n",
      " |      Return ctime() style string.\n",
      " |  \n",
      " |  date(...)\n",
      " |      Return date object with same year, month and day.\n",
      " |  \n",
      " |  dst(...)\n",
      " |      Return self.tzinfo.dst(self).\n",
      " |  \n",
      " |  isoformat(...)\n",
      " |      [sep] -> string in ISO 8601 format, YYYY-MM-DDT[HH[:MM[:SS[.mmm[uuu]]]]][+HH:MM].\n",
      " |      sep is used to separate the year from the time, and defaults to 'T'.\n",
      " |      The optional argument timespec specifies the number of additional terms\n",
      " |      of the time to include. Valid options are 'auto', 'hours', 'minutes',\n",
      " |      'seconds', 'milliseconds' and 'microseconds'.\n",
      " |  \n",
      " |  replace(...)\n",
      " |      Return datetime with new specified fields.\n",
      " |  \n",
      " |  time(...)\n",
      " |      Return time object with same time but with tzinfo=None.\n",
      " |  \n",
      " |  timestamp(...)\n",
      " |      Return POSIX timestamp as float.\n",
      " |  \n",
      " |  timetuple(...)\n",
      " |      Return time tuple, compatible with time.localtime().\n",
      " |  \n",
      " |  timetz(...)\n",
      " |      Return time object with same time and tzinfo.\n",
      " |  \n",
      " |  tzname(...)\n",
      " |      Return self.tzinfo.tzname(self).\n",
      " |  \n",
      " |  utcoffset(...)\n",
      " |      Return self.tzinfo.utcoffset(self).\n",
      " |  \n",
      " |  utctimetuple(...)\n",
      " |      Return UTC time tuple, compatible with time.localtime().\n",
      " |  \n",
      " |  ----------------------------------------------------------------------\n",
      " |  Class methods defined here:\n",
      " |  \n",
      " |  combine(...) from builtins.type\n",
      " |      date, time -> datetime with same date and time fields\n",
      " |  \n",
      " |  fromisoformat(...) from builtins.type\n",
      " |      string -> datetime from datetime.isoformat() output\n",
      " |  \n",
      " |  fromtimestamp(...) from builtins.type\n",
      " |      timestamp[, tz] -> tz's local time from POSIX timestamp.\n",
      " |  \n",
      " |  now(tz=None) from builtins.type\n",
      " |      Returns new datetime object representing current time local to tz.\n",
      " |      \n",
      " |        tz\n",
      " |          Timezone object.\n",
      " |      \n",
      " |      If no tz is specified, uses local timezone.\n",
      " |  \n",
      " |  strptime(...) from builtins.type\n",
      " |      string, format -> new datetime parsed from a string (like time.strptime()).\n",
      " |  \n",
      " |  utcfromtimestamp(...) from builtins.type\n",
      " |      Construct a naive UTC datetime from a POSIX timestamp.\n",
      " |  \n",
      " |  utcnow(...) from builtins.type\n",
      " |      Return a new datetime representing UTC day and time.\n",
      " |  \n",
      " |  ----------------------------------------------------------------------\n",
      " |  Static methods defined here:\n",
      " |  \n",
      " |  __new__(*args, **kwargs) from builtins.type\n",
      " |      Create and return a new object.  See help(type) for accurate signature.\n",
      " |  \n",
      " |  ----------------------------------------------------------------------\n",
      " |  Data descriptors defined here:\n",
      " |  \n",
      " |  fold\n",
      " |  \n",
      " |  hour\n",
      " |  \n",
      " |  microsecond\n",
      " |  \n",
      " |  minute\n",
      " |  \n",
      " |  second\n",
      " |  \n",
      " |  tzinfo\n",
      " |  \n",
      " |  ----------------------------------------------------------------------\n",
      " |  Data and other attributes defined here:\n",
      " |  \n",
      " |  max = datetime.datetime(9999, 12, 31, 23, 59, 59, 999999)\n",
      " |  \n",
      " |  min = datetime.datetime(1, 1, 1, 0, 0)\n",
      " |  \n",
      " |  resolution = datetime.timedelta(microseconds=1)\n",
      " |  \n",
      " |  ----------------------------------------------------------------------\n",
      " |  Methods inherited from date:\n",
      " |  \n",
      " |  __format__(...)\n",
      " |      Formats self with strftime.\n",
      " |  \n",
      " |  isocalendar(...)\n",
      " |      Return a named tuple containing ISO year, week number, and weekday.\n",
      " |  \n",
      " |  isoweekday(...)\n",
      " |      Return the day of the week represented by the date.\n",
      " |      Monday == 1 ... Sunday == 7\n",
      " |  \n",
      " |  strftime(...)\n",
      " |      format -> strftime() style string.\n",
      " |  \n",
      " |  toordinal(...)\n",
      " |      Return proleptic Gregorian ordinal.  January 1 of year 1 is day 1.\n",
      " |  \n",
      " |  weekday(...)\n",
      " |      Return the day of the week represented by the date.\n",
      " |      Monday == 0 ... Sunday == 6\n",
      " |  \n",
      " |  ----------------------------------------------------------------------\n",
      " |  Class methods inherited from date:\n",
      " |  \n",
      " |  fromisocalendar(...) from builtins.type\n",
      " |      int, int, int -> Construct a date from the ISO year, week number and weekday.\n",
      " |      \n",
      " |      This is the inverse of the date.isocalendar() function\n",
      " |  \n",
      " |  fromordinal(...) from builtins.type\n",
      " |      int -> date corresponding to a proleptic Gregorian ordinal.\n",
      " |  \n",
      " |  today(...) from builtins.type\n",
      " |      Current date or datetime:  same as self.__class__.fromtimestamp(time.time()).\n",
      " |  \n",
      " |  ----------------------------------------------------------------------\n",
      " |  Data descriptors inherited from date:\n",
      " |  \n",
      " |  day\n",
      " |  \n",
      " |  month\n",
      " |  \n",
      " |  year\n",
      "\n"
     ]
    }
   ],
   "source": [
    "import datetime\n",
    "help(datetime.datetime)"
   ]
  },
  {
   "cell_type": "code",
   "execution_count": 16,
   "metadata": {},
   "outputs": [
    {
     "data": {
      "text/plain": [
       "datetime.datetime(2025, 5, 6, 3, 15, 2)"
      ]
     },
     "execution_count": 16,
     "metadata": {},
     "output_type": "execute_result"
    }
   ],
   "source": [
    "datetime.datetime(2025, 5, 6, 3,15,2)"
   ]
  },
  {
   "cell_type": "code",
   "execution_count": 20,
   "metadata": {},
   "outputs": [
    {
     "data": {
      "text/plain": [
       "datetime.datetime(2025, 6, 23, 0, 0)"
      ]
     },
     "execution_count": 20,
     "metadata": {},
     "output_type": "execute_result"
    }
   ],
   "source": [
    "datetime.datetime.fromisoformat('2025-06-23')"
   ]
  },
  {
   "cell_type": "markdown",
   "metadata": {
    "id": "VkoZIN7D7iBX"
   },
   "source": [
    "## Fundamentals of OOPS in Python\n",
    "There are four fundamental concepts of Object-oriented programming –\n",
    "\n",
    "- Encapsulation\n",
    "- Inheritance\n",
    "- Polymorphism\n",
    "- Data abstraction"
   ]
  },
  {
   "cell_type": "markdown",
   "metadata": {
    "id": "0LHOvP4EKlf8"
   },
   "source": [
    "### 1.Encapsulation\n",
    "\n",
    "- Encapsulation is the concept of **bundling data and methods within a single unit** (i.e. class) in such a way that any object other than that class itself will not be able to access the data members of that class.\n",
    "\n",
    "![image.png](data:image/png;base64,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)\n",
    "\n",
    "\n"
   ]
  },
  {
   "cell_type": "markdown",
   "metadata": {
    "id": "IoaJTP8wP1jf"
   },
   "source": [
    "##### Why encapsulation is needed"
   ]
  },
  {
   "cell_type": "code",
   "execution_count": 21,
   "metadata": {
    "colab": {
     "base_uri": "https://localhost:8080/"
    },
    "executionInfo": {
     "elapsed": 501,
     "status": "ok",
     "timestamp": 1688358858336,
     "user": {
      "displayName": "naz nazira",
      "userId": "06694449877078577923"
     },
     "user_tz": -330
    },
    "id": "sMCtzKMlP_ee",
    "outputId": "cca297d0-3303-4ed5-98bc-080346551e3b"
   },
   "outputs": [
    {
     "name": "stdout",
     "output_type": "stream",
     "text": [
      "1000000\n"
     ]
    }
   ],
   "source": [
    "class Finance:\n",
    "\n",
    "  def __init__(self):\n",
    "    self.revenue = 1000000\n",
    "    self.no_of_sales = 150\n",
    "\n",
    "gokul = Finance()\n",
    "\n",
    "class HR:\n",
    "  def __init__(self):\n",
    "    print(gokul.revenue)\n",
    "\n",
    "shehan = HR()\n",
    "\n",
    "# HR class is able to access data member (revenue) of Finance class with the help of f1 object, which is not right"
   ]
  },
  {
   "cell_type": "code",
   "execution_count": 22,
   "metadata": {
    "colab": {
     "base_uri": "https://localhost:8080/"
    },
    "executionInfo": {
     "elapsed": 432,
     "status": "ok",
     "timestamp": 1687589746661,
     "user": {
      "displayName": "naz nazira",
      "userId": "06694449877078577923"
     },
     "user_tz": -330
    },
    "id": "G_I5nenWRIB3",
    "outputId": "f7eccc01-24d9-4928-f09b-0455268a2df5"
   },
   "outputs": [],
   "source": [
    "# Furthermore we can modify it as well\n",
    "\n",
    "class Finance:\n",
    "\n",
    "  def __init__(self):\n",
    "    self.revenue = 1000000\n",
    "    self.no_of_sales = 150\n",
    "\n",
    "gokul = Finance()\n",
    "\n",
    "class HR:\n",
    "  def __init__(self):\n",
    "    gokul.revenue = 0\n",
    "\n",
    "shehan = HR()"
   ]
  },
  {
   "cell_type": "code",
   "execution_count": 23,
   "metadata": {},
   "outputs": [
    {
     "data": {
      "text/plain": [
       "{'revenue': 0, 'no_of_sales': 150}"
      ]
     },
     "execution_count": 23,
     "metadata": {},
     "output_type": "execute_result"
    }
   ],
   "source": [
    "gokul.__dict__"
   ]
  },
  {
   "cell_type": "markdown",
   "metadata": {
    "id": "XEFq8q4uRqmW"
   },
   "source": [
    "- To avoid this we need Encapsulation (i.e information hiding)\n",
    "- Encapsulation can be achieved by declaring data members and methods of the class as **private**, which can be done with the help of Access modifers\n",
    "- Access modifers makes the data/method public, private or protected\n",
    "    1. Public Member: accesible anywhere using object reference\n",
    "    2. Private Member: accessible within the current class\n",
    "    3. Protected Member: Accessible within the class and its sub-classes\n",
    "- But in Python, we don’t have direct access modifiers like public, private, and protected. We can achieve this by using single underscore and double underscores.\n",
    "    1. Public Member: Normal\n",
    "    2. Private Member: starts with __\n",
    "    3. Protected Member: starts with _"
   ]
  },
  {
   "cell_type": "markdown",
   "metadata": {
    "id": "hz-vIs2aV4CX"
   },
   "source": [
    "#### Public Member\n",
    "Public data members arenaccesible anywhere using object reference. All member variables of the class are by default public."
   ]
  },
  {
   "cell_type": "code",
   "execution_count": 24,
   "metadata": {
    "colab": {
     "base_uri": "https://localhost:8080/"
    },
    "executionInfo": {
     "elapsed": 381,
     "status": "ok",
     "timestamp": 1675193999044,
     "user": {
      "displayName": "naz nazira",
      "userId": "06694449877078577923"
     },
     "user_tz": -330
    },
    "id": "pDPrh1cdV3GN",
    "outputId": "ea0905fd-5157-4808-a09e-07a854e00d72"
   },
   "outputs": [
    {
     "name": "stdout",
     "output_type": "stream",
     "text": [
      "1000000\n"
     ]
    }
   ],
   "source": [
    "class Finance:\n",
    "\n",
    "  def __init__(self):\n",
    "    self.revenue = 1000000            # public member\n",
    "    self.no_of_sales = 150              # public member\n",
    "\n",
    "gokul = Finance()\n",
    "\n",
    "class HR:\n",
    "  def __init__(self):\n",
    "    print(gokul.revenue)\n",
    "\n",
    "shehan = HR()"
   ]
  },
  {
   "cell_type": "markdown",
   "metadata": {
    "id": "cg4PvQbcWF54"
   },
   "source": [
    "#### Private Member\n",
    "\n",
    "- A private member means that only that class has direct access\n",
    "- starts with __"
   ]
  },
  {
   "cell_type": "code",
   "execution_count": 28,
   "metadata": {},
   "outputs": [
    {
     "name": "stdout",
     "output_type": "stream",
     "text": [
      "150\n"
     ]
    },
    {
     "ename": "AttributeError",
     "evalue": "'Finance' object has no attribute '_HR__revenue'",
     "output_type": "error",
     "traceback": [
      "\u001b[1;31m---------------------------------------------------------------------------\u001b[0m",
      "\u001b[1;31mAttributeError\u001b[0m                            Traceback (most recent call last)",
      "Cell \u001b[1;32mIn[28], line 14\u001b[0m\n\u001b[0;32m     11\u001b[0m     \u001b[38;5;28mprint\u001b[39m(gokul\u001b[38;5;241m.\u001b[39m__revenue)\n\u001b[0;32m     13\u001b[0m \u001b[38;5;28mprint\u001b[39m(gokul\u001b[38;5;241m.\u001b[39mno_of_sales)\n\u001b[1;32m---> 14\u001b[0m shehan \u001b[38;5;241m=\u001b[39m \u001b[43mHR\u001b[49m\u001b[43m(\u001b[49m\u001b[43m)\u001b[49m\n",
      "Cell \u001b[1;32mIn[28], line 11\u001b[0m, in \u001b[0;36mHR.__init__\u001b[1;34m(self)\u001b[0m\n\u001b[0;32m     10\u001b[0m \u001b[38;5;28;01mdef\u001b[39;00m\u001b[38;5;250m \u001b[39m\u001b[38;5;21m__init__\u001b[39m(\u001b[38;5;28mself\u001b[39m):\n\u001b[1;32m---> 11\u001b[0m   \u001b[38;5;28mprint\u001b[39m(\u001b[43mgokul\u001b[49m\u001b[38;5;241;43m.\u001b[39;49m\u001b[43m__revenue\u001b[49m)\n",
      "\u001b[1;31mAttributeError\u001b[0m: 'Finance' object has no attribute '_HR__revenue'"
     ]
    }
   ],
   "source": [
    "class Finance:\n",
    "    def __init__(self):\n",
    "        self.__revenue = 1000000            # private member\n",
    "        self.no_of_sales = 150         # public member\n",
    "\n",
    "gokul = Finance()\n",
    "\n",
    "class HR:\n",
    "  def __init__(self):\n",
    "    print(gokul.__revenue)\n",
    "\n",
    "print(gokul.no_of_sales)\n",
    "shehan = HR()"
   ]
  },
  {
   "cell_type": "code",
   "execution_count": 29,
   "metadata": {},
   "outputs": [],
   "source": [
    "# No modification is done to revenue of Finance class. rather a new private member is created named as revenue for HR class\n",
    "class Finance:\n",
    "\n",
    "    def __init__(self):\n",
    "        self.__revenue = 1000000            # private member\n",
    "        self.no_of_sales = 150         # public member\n",
    "gokul = Finance()\n",
    "\n",
    "class HR:\n",
    "  def __init__(self):\n",
    "    gokul.__revenue = 100\n",
    "\n",
    "shehan = HR()\n"
   ]
  },
  {
   "cell_type": "code",
   "execution_count": 30,
   "metadata": {},
   "outputs": [
    {
     "data": {
      "text/plain": [
       "{'_Finance__revenue': 1000000, 'no_of_sales': 150, '_HR__revenue': 100}"
      ]
     },
     "execution_count": 30,
     "metadata": {},
     "output_type": "execute_result"
    }
   ],
   "source": [
    "gokul.__dict__"
   ]
  },
  {
   "cell_type": "code",
   "execution_count": 34,
   "metadata": {},
   "outputs": [
    {
     "data": {
      "text/plain": [
       "800"
      ]
     },
     "execution_count": 34,
     "metadata": {},
     "output_type": "execute_result"
    }
   ],
   "source": [
    "gokul._Finance__revenue"
   ]
  },
  {
   "cell_type": "markdown",
   "metadata": {
    "id": "hNNDZeX3WinK"
   },
   "source": [
    "- We can access private members from outside of a class using the following two approaches\n",
    "\n",
    "  1. Create public method to access private members\n",
    "  2. Use name mangling"
   ]
  },
  {
   "cell_type": "code",
   "execution_count": 33,
   "metadata": {},
   "outputs": [
    {
     "data": {
      "text/plain": [
       "800"
      ]
     },
     "execution_count": 33,
     "metadata": {},
     "output_type": "execute_result"
    }
   ],
   "source": [
    "class Finance:\n",
    "    def __init__(self):\n",
    "        self.__revenue = 1000000            # private member\n",
    "        self.no_of_sales = 150              # public member\n",
    "\n",
    "    def show_revenue(self):                 # getter method\n",
    "        return self.__revenue\n",
    "\n",
    "    def set_revenue(self,new_revenue):      # setter method\n",
    "        self.__revenue = new_revenue\n",
    "        \n",
    "gokul = Finance()\n",
    "gokul.show_revenue()\n",
    "gokul.set_revenue(800)\n",
    "gokul.show_revenue()"
   ]
  },
  {
   "cell_type": "markdown",
   "metadata": {
    "id": "Jseh7IOQW32f"
   },
   "source": [
    "Name Mangling to access private members\n",
    "- We can directly access private and protected variables from outside of a class through name mangling.\n",
    "- Syntax:  `_classname__dataMember`"
   ]
  },
  {
   "cell_type": "code",
   "execution_count": 35,
   "metadata": {},
   "outputs": [
    {
     "name": "stdout",
     "output_type": "stream",
     "text": [
      "1000000\n"
     ]
    }
   ],
   "source": [
    "class Finance:\n",
    "\n",
    "    def __init__(self):\n",
    "        self.__revenue = 1000000            # private member\n",
    "        self.no_of_sales = 150              # public member\n",
    "        \n",
    "gokul = Finance()\n",
    "\n",
    "class HR:\n",
    "  def __init__(self):\n",
    "    print(gokul._Finance__revenue)\n",
    "\n",
    "shehan = HR()\n"
   ]
  },
  {
   "cell_type": "markdown",
   "metadata": {},
   "source": [
    "- This shows that there is no pure encapsulation in python. Via name mangling its still possible to access private data members of a class\n",
    "- We can also make methods as private, but it doesnt make sense to make methods private as no one will be able to use it. Still putting down one example"
   ]
  },
  {
   "cell_type": "code",
   "execution_count": 37,
   "metadata": {
    "colab": {
     "base_uri": "https://localhost:8080/"
    },
    "executionInfo": {
     "elapsed": 1137,
     "status": "ok",
     "timestamp": 1675246585398,
     "user": {
      "displayName": "naz nazira",
      "userId": "06694449877078577923"
     },
     "user_tz": -330
    },
    "id": "JvRr4l_VXPo2",
    "outputId": "0386539e-67da-4cd6-e91f-c3f623569e91"
   },
   "outputs": [
    {
     "name": "stdout",
     "output_type": "stream",
     "text": [
      "0\n",
      "Count.test= 17\n",
      "k = 0\n",
      "0\n",
      "{'_A__test': 0, '__test': 17}\n"
     ]
    }
   ],
   "source": [
    "def add(c,k):\n",
    "    c.__test=c.__test+1\n",
    "    k=k+1\n",
    "class A:\n",
    "    def __init__(self):\n",
    "        self.__test = 0\n",
    "    def get_test(self):\n",
    "        print(self.__test)\n",
    "def main():\n",
    "    Count=A()\n",
    "    Count.get_test()\n",
    "    k=0\n",
    "    Count.__test = 15  \n",
    "    for i in range(0,2):\n",
    "        add(Count,k)\n",
    "    print(\"Count.test=\", Count.__test)\n",
    "    print(\"k =\", k)\n",
    "    Count.get_test()\n",
    "    print(Count.__dict__)\n",
    "main()"
   ]
  },
  {
   "cell_type": "code",
   "execution_count": 38,
   "metadata": {
    "colab": {
     "base_uri": "https://localhost:8080/",
     "height": 200
    },
    "executionInfo": {
     "elapsed": 16,
     "status": "error",
     "timestamp": 1676117777198,
     "user": {
      "displayName": "naz nazira",
      "userId": "06694449877078577923"
     },
     "user_tz": -330
    },
    "id": "VQVyJk11eK8W",
    "outputId": "08c4d51c-4790-42b2-f707-cd59a6afb816"
   },
   "outputs": [],
   "source": [
    "class Employee:\n",
    "    # constructor\n",
    "    def __init__(self, name, salary):\n",
    "        self.name = name\n",
    "        self.__salary = salary\n",
    "\n",
    "    # private instance methods\n",
    "    def __show(self):\n",
    "        # private members are accessible from a class\n",
    "        print(\"Name: \", self.name, 'Salary:', self.__salary)\n",
    "\n",
    "emp = Employee('Jessa', 10000)"
   ]
  },
  {
   "cell_type": "code",
   "execution_count": 39,
   "metadata": {},
   "outputs": [
    {
     "ename": "AttributeError",
     "evalue": "'Employee' object has no attribute '__show'",
     "output_type": "error",
     "traceback": [
      "\u001b[1;31m---------------------------------------------------------------------------\u001b[0m",
      "\u001b[1;31mAttributeError\u001b[0m                            Traceback (most recent call last)",
      "Cell \u001b[1;32mIn[39], line 1\u001b[0m\n\u001b[1;32m----> 1\u001b[0m \u001b[43memp\u001b[49m\u001b[38;5;241;43m.\u001b[39;49m\u001b[43m__show\u001b[49m()\n",
      "\u001b[1;31mAttributeError\u001b[0m: 'Employee' object has no attribute '__show'"
     ]
    }
   ],
   "source": [
    "emp.__show()"
   ]
  },
  {
   "cell_type": "code",
   "execution_count": 40,
   "metadata": {},
   "outputs": [
    {
     "data": {
      "text/plain": [
       "mappingproxy({'__module__': '__main__',\n",
       "              '__init__': <function __main__.Employee.__init__(self, name, salary)>,\n",
       "              '_Employee__show': <function __main__.Employee.__show(self)>,\n",
       "              '__dict__': <attribute '__dict__' of 'Employee' objects>,\n",
       "              '__weakref__': <attribute '__weakref__' of 'Employee' objects>,\n",
       "              '__doc__': None})"
      ]
     },
     "execution_count": 40,
     "metadata": {},
     "output_type": "execute_result"
    }
   ],
   "source": [
    "Employee.__dict__"
   ]
  },
  {
   "cell_type": "code",
   "execution_count": 41,
   "metadata": {
    "colab": {
     "base_uri": "https://localhost:8080/"
    },
    "executionInfo": {
     "elapsed": 377,
     "status": "ok",
     "timestamp": 1676117782790,
     "user": {
      "displayName": "naz nazira",
      "userId": "06694449877078577923"
     },
     "user_tz": -330
    },
    "id": "_Z0gPvrneSr5",
    "outputId": "e8f5d2f9-f77f-41a8-f1c0-c42eec93b2b0"
   },
   "outputs": [
    {
     "name": "stdout",
     "output_type": "stream",
     "text": [
      "Name:  Jessa Salary: 10000\n"
     ]
    }
   ],
   "source": [
    "emp._Employee__show()"
   ]
  },
  {
   "cell_type": "markdown",
   "metadata": {
    "id": "isC62B3LXZVm"
   },
   "source": [
    "#### Protected Member (Just to touch)\n",
    "- Protected means **that class and its subclasses** have access to the variable, but not any other classes\n",
    "\n",
    "- starts with single _"
   ]
  },
  {
   "cell_type": "code",
   "execution_count": 42,
   "metadata": {
    "colab": {
     "base_uri": "https://localhost:8080/",
     "height": 36
    },
    "executionInfo": {
     "elapsed": 1094,
     "status": "ok",
     "timestamp": 1675247386874,
     "user": {
      "displayName": "naz nazira",
      "userId": "06694449877078577923"
     },
     "user_tz": -330
    },
    "id": "bvFmWKE9hQFp",
    "outputId": "7fc2e228-faa3-42d3-ab36-6bbfb7f97000"
   },
   "outputs": [
    {
     "data": {
      "text/plain": [
       "'NLP'"
      ]
     },
     "execution_count": 42,
     "metadata": {},
     "output_type": "execute_result"
    }
   ],
   "source": [
    "# base class\n",
    "class Company:\n",
    "    def __init__(self):\n",
    "        # Protected member\n",
    "        self._project = \"NLP\"\n",
    "\n",
    "c1 = Company()\n",
    "# Direct access protected data member is allowed\n",
    "c1._project"
   ]
  },
  {
   "cell_type": "code",
   "execution_count": null,
   "metadata": {
    "colab": {
     "base_uri": "https://localhost:8080/"
    },
    "executionInfo": {
     "elapsed": 528,
     "status": "ok",
     "timestamp": 1675247391889,
     "user": {
      "displayName": "naz nazira",
      "userId": "06694449877078577923"
     },
     "user_tz": -330
    },
    "id": "yDnA-Z5LhnKR",
    "outputId": "bf87de59-3d76-4fb2-e75b-7988a0bb98c9"
   },
   "outputs": [],
   "source": [
    "c1.__dict__"
   ]
  },
  {
   "cell_type": "code",
   "execution_count": null,
   "metadata": {
    "colab": {
     "base_uri": "https://localhost:8080/",
     "height": 36
    },
    "executionInfo": {
     "elapsed": 575,
     "status": "ok",
     "timestamp": 1675247367905,
     "user": {
      "displayName": "naz nazira",
      "userId": "06694449877078577923"
     },
     "user_tz": -330
    },
    "id": "yp__LJh9hdCM",
    "outputId": "b8b82f1f-7356-4b0a-fb31-9cdc9a04945e"
   },
   "outputs": [],
   "source": [
    "# Direct modification to protected data member is also allowed\n",
    "c1._project = 'Computer Vision'\n",
    "c1._project"
   ]
  },
  {
   "cell_type": "code",
   "execution_count": null,
   "metadata": {},
   "outputs": [],
   "source": [
    "c1.__dict__"
   ]
  },
  {
   "cell_type": "markdown",
   "metadata": {
    "id": "IMgRMjqBiVQ8"
   },
   "source": [
    "So _ doesn't actually do anything in python, its just an indication to the developer that this must be overridden only by the child class."
   ]
  },
  {
   "cell_type": "code",
   "execution_count": null,
   "metadata": {
    "colab": {
     "base_uri": "https://localhost:8080/"
    },
    "executionInfo": {
     "elapsed": 688,
     "status": "ok",
     "timestamp": 1675247776749,
     "user": {
      "displayName": "naz nazira",
      "userId": "06694449877078577923"
     },
     "user_tz": -330
    },
    "id": "yJF6bgy0Xowy",
    "outputId": "92d5382e-7bbe-439b-9fd6-d32af31b1f9f"
   },
   "outputs": [],
   "source": [
    "# base class\n",
    "class Company:\n",
    "    def __init__(self):\n",
    "        # Protected member\n",
    "        self._project = \"NLP\"\n",
    "\n",
    "# child class\n",
    "class Employee(Company):\n",
    "    def __init__(self, name):\n",
    "        self.name = name\n",
    "        Company.__init__(self)\n",
    "        self._project = 'Computer Vision'\n",
    "\n",
    "    def show(self):\n",
    "        print(\"Employee name :\", self.name)\n",
    "        # Accessing protected member in child class\n",
    "        print(\"Working on project :\", self._project)\n",
    "\n",
    "c = Employee(\"Jessa\")"
   ]
  },
  {
   "cell_type": "code",
   "execution_count": null,
   "metadata": {},
   "outputs": [],
   "source": [
    "c._project"
   ]
  },
  {
   "cell_type": "code",
   "execution_count": null,
   "metadata": {
    "colab": {
     "base_uri": "https://localhost:8080/"
    },
    "executionInfo": {
     "elapsed": 16,
     "status": "ok",
     "timestamp": 1675247777562,
     "user": {
      "displayName": "naz nazira",
      "userId": "06694449877078577923"
     },
     "user_tz": -330
    },
    "id": "A570pj7GjBA3",
    "outputId": "9adc5409-e967-403d-9962-b9d33d7c4610"
   },
   "outputs": [],
   "source": [
    "c.show()"
   ]
  },
  {
   "cell_type": "markdown",
   "metadata": {
    "id": "JSx_s8we7zYR"
   },
   "source": [
    "### 2.Inheritance:\n",
    "- Allows one class to inherit Attributes and methods from its parents class\n",
    "We can create Subclasses (child class) and get all the functionality of Baseclass (parent class), also can overwrite/add add completely new functionality without affecting the parent class in any way\n",
    "- The main purpose of inheritance is the reusability of code because we can use the existing class to create a new class instead of creating it from scratch."
   ]
  },
  {
   "cell_type": "markdown",
   "metadata": {
    "id": "duKpTqCfe1Xr"
   },
   "source": [
    "#### Types of Inheritance\n",
    "1. Single inheritance\n",
    "2. Multiple Inheritance\n",
    "3. Multilevel inheritance\n",
    "4. Hierarchical Inheritance\n",
    "5. Hybrid Inheritance"
   ]
  },
  {
   "cell_type": "markdown",
   "metadata": {
    "id": "GSJE0KxlfEc0"
   },
   "source": [
    "##### Single Inheritance\n",
    "- In single inheritance, a child class inherits from a single-parent class. Here is one child class and one parent class.\n",
    "\n",
    "\n",
    "![image.png](data:image/png;base64,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)\n"
   ]
  },
  {
   "cell_type": "code",
   "execution_count": 51,
   "metadata": {},
   "outputs": [
    {
     "name": "stdout",
     "output_type": "stream",
     "text": [
      "Help on class Developer in module __main__:\n",
      "\n",
      "class Developer(Employee)\n",
      " |  Developer(name, salary)\n",
      " |  \n",
      " |  Method resolution order:\n",
      " |      Developer\n",
      " |      Employee\n",
      " |      builtins.object\n",
      " |  \n",
      " |  Methods inherited from Employee:\n",
      " |  \n",
      " |  __init__(self, name, salary)\n",
      " |      Initialize self.  See help(type(self)) for accurate signature.\n",
      " |  \n",
      " |  create_email_id(self)\n",
      " |  \n",
      " |  ----------------------------------------------------------------------\n",
      " |  Data descriptors inherited from Employee:\n",
      " |  \n",
      " |  __dict__\n",
      " |      dictionary for instance variables (if defined)\n",
      " |  \n",
      " |  __weakref__\n",
      " |      list of weak references to the object (if defined)\n",
      "\n"
     ]
    }
   ],
   "source": [
    "help(Developer)"
   ]
  },
  {
   "cell_type": "code",
   "execution_count": 52,
   "metadata": {},
   "outputs": [
    {
     "name": "stdout",
     "output_type": "stream",
     "text": [
      "Help on class Employee in module __main__:\n",
      "\n",
      "class Employee(builtins.object)\n",
      " |  Employee(name, salary)\n",
      " |  \n",
      " |  Methods defined here:\n",
      " |  \n",
      " |  __init__(self, name, salary)\n",
      " |      Initialize self.  See help(type(self)) for accurate signature.\n",
      " |  \n",
      " |  create_email_id(self)\n",
      " |  \n",
      " |  ----------------------------------------------------------------------\n",
      " |  Data descriptors defined here:\n",
      " |  \n",
      " |  __dict__\n",
      " |      dictionary for instance variables (if defined)\n",
      " |  \n",
      " |  __weakref__\n",
      " |      list of weak references to the object (if defined)\n",
      "\n"
     ]
    }
   ],
   "source": [
    "help(Employee)"
   ]
  },
  {
   "cell_type": "code",
   "execution_count": 48,
   "metadata": {
    "colab": {
     "base_uri": "https://localhost:8080/",
     "height": 36
    },
    "executionInfo": {
     "elapsed": 438,
     "status": "ok",
     "timestamp": 1688360746097,
     "user": {
      "displayName": "naz nazira",
      "userId": "06694449877078577923"
     },
     "user_tz": -330
    },
    "id": "BIUN6eJEfAfz",
    "outputId": "4dedc6ad-2fe7-4e99-a6e4-f74ac9970b9a"
   },
   "outputs": [],
   "source": [
    "class Employee:\n",
    "  def __init__(self, name, salary):\n",
    "    self.name = name\n",
    "    self.salary = salary\n",
    "    self.bonus = 10000\n",
    "\n",
    "  def create_email_id(self):\n",
    "    self.email_id = self.name + \"@google.com\"\n",
    "\n",
    "class Developer(Employee):\n",
    "  pass\n",
    "\n",
    "dev1 = Developer(\"Johnny\", 80000)\n",
    "dev1.create_email_id()"
   ]
  },
  {
   "cell_type": "code",
   "execution_count": 49,
   "metadata": {},
   "outputs": [
    {
     "data": {
      "text/plain": [
       "{'name': 'Johnny',\n",
       " 'salary': 80000,\n",
       " 'bonus': 10000,\n",
       " 'email_id': 'Johnny@google.com'}"
      ]
     },
     "execution_count": 49,
     "metadata": {},
     "output_type": "execute_result"
    }
   ],
   "source": [
    "dev1.__dict__"
   ]
  },
  {
   "cell_type": "markdown",
   "metadata": {
    "id": "vcHtHOWtgU24"
   },
   "source": [
    "##### Multiple Inheritance\n",
    "In multiple inheritance, one child class can inherit from multiple parent classes. So here is one child class and multiple parent classes.\n",
    "![image.png](data:image/png;base64,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)"
   ]
  },
  {
   "cell_type": "code",
   "execution_count": 55,
   "metadata": {
    "colab": {
     "base_uri": "https://localhost:8080/"
    },
    "executionInfo": {
     "elapsed": 523,
     "status": "ok",
     "timestamp": 1688361393123,
     "user": {
      "displayName": "naz nazira",
      "userId": "06694449877078577923"
     },
     "user_tz": -330
    },
    "id": "UgZEVdQTgmvF",
    "outputId": "b9691e78-f781-4b55-8e1d-9ba2a99e2715"
   },
   "outputs": [
    {
     "name": "stdout",
     "output_type": "stream",
     "text": [
      "Inside Company class\n",
      "Name: ltimindtree location: chennai\n"
     ]
    }
   ],
   "source": [
    "# Parent class 1\n",
    "class Family:\n",
    "    def person_info(self, name, age):\n",
    "        print('Inside Family class')\n",
    "        print('Name:', name, 'Age:', age)\n",
    "\n",
    "# Parent class 2\n",
    "class Company:\n",
    "    def company_info(self, company_name, location):\n",
    "        print('Inside Company class')\n",
    "        print('Name:', company_name, 'location:', location)\n",
    "\n",
    "# Child class\n",
    "class Employee(Family, Company):\n",
    "    def Employee_info(self, salary, skill):\n",
    "        print('Inside Employee class')\n",
    "        print('Salary:', salary, 'Skill:', skill)\n",
    "\n",
    "# Create object of Employee\n",
    "emp = Employee()\n",
    "emp.company_info('ltimindtree', 'chennai')\n",
    "\n"
   ]
  },
  {
   "cell_type": "code",
   "execution_count": 70,
   "metadata": {},
   "outputs": [],
   "source": [
    "class A:\n",
    "    def info_of_A(self):\n",
    "        print(\"Info of A\")\n",
    "\n",
    "class B:\n",
    "    def info(self):\n",
    "        print(\"Info of B\")\n",
    "\n",
    "class C(B,A):\n",
    "    def info_of_c(self):\n",
    "        print(\"Info of C\")"
   ]
  },
  {
   "cell_type": "code",
   "execution_count": 71,
   "metadata": {},
   "outputs": [
    {
     "name": "stdout",
     "output_type": "stream",
     "text": [
      "Info of B\n"
     ]
    }
   ],
   "source": [
    "c1 = C()\n",
    "c1.info()"
   ]
  },
  {
   "cell_type": "code",
   "execution_count": 72,
   "metadata": {},
   "outputs": [
    {
     "data": {
      "text/plain": [
       "[__main__.C, __main__.B, __main__.A, object]"
      ]
     },
     "execution_count": 72,
     "metadata": {},
     "output_type": "execute_result"
    }
   ],
   "source": [
    "C.mro()"
   ]
  },
  {
   "cell_type": "code",
   "execution_count": 73,
   "metadata": {},
   "outputs": [
    {
     "name": "stdout",
     "output_type": "stream",
     "text": [
      "Help on class C in module __main__:\n",
      "\n",
      "class C(B, A)\n",
      " |  Method resolution order:\n",
      " |      C\n",
      " |      B\n",
      " |      A\n",
      " |      builtins.object\n",
      " |  \n",
      " |  Methods defined here:\n",
      " |  \n",
      " |  info_of_c(self)\n",
      " |  \n",
      " |  ----------------------------------------------------------------------\n",
      " |  Methods inherited from B:\n",
      " |  \n",
      " |  info(self)\n",
      " |  \n",
      " |  ----------------------------------------------------------------------\n",
      " |  Data descriptors inherited from B:\n",
      " |  \n",
      " |  __dict__\n",
      " |      dictionary for instance variables (if defined)\n",
      " |  \n",
      " |  __weakref__\n",
      " |      list of weak references to the object (if defined)\n",
      " |  \n",
      " |  ----------------------------------------------------------------------\n",
      " |  Methods inherited from A:\n",
      " |  \n",
      " |  info_of_A(self)\n",
      "\n"
     ]
    }
   ],
   "source": [
    "help(C)"
   ]
  },
  {
   "cell_type": "code",
   "execution_count": 80,
   "metadata": {},
   "outputs": [
    {
     "name": "stdout",
     "output_type": "stream",
     "text": [
      "Info of A\n"
     ]
    }
   ],
   "source": [
    "class A:\n",
    "    def info(self):\n",
    "        print(\"Info of A\")\n",
    "\n",
    "class B(A):\n",
    "    def info(self):\n",
    "        print(\"Info of B\")\n",
    "\n",
    "b1 = B()\n",
    "A.info(b1)                     # access parent class methods even when you have same method in your class"
   ]
  },
  {
   "cell_type": "code",
   "execution_count": 84,
   "metadata": {},
   "outputs": [
    {
     "name": "stdout",
     "output_type": "stream",
     "text": [
      "-------B---------\n",
      "B\n",
      "Info of B\n"
     ]
    }
   ],
   "source": [
    "class A:\n",
    "    def __init__(self):\n",
    "        self.obj = 'A'\n",
    "        print(\"-------A---------\")  \n",
    "    def info(self):\n",
    "        print(self.obj)\n",
    "        print(\"Info of A\")\n",
    "\n",
    "class B(A):\n",
    "    def __init__(self):\n",
    "        self.obj = 'B'\n",
    "        print(\"-------B---------\")   \n",
    "    def info(self):\n",
    "        print(self.obj)\n",
    "        print(\"Info of B\")\n",
    "\n",
    "b1 = B()\n",
    "b1.info()"
   ]
  },
  {
   "cell_type": "code",
   "execution_count": 85,
   "metadata": {},
   "outputs": [
    {
     "name": "stdout",
     "output_type": "stream",
     "text": [
      "B\n",
      "Info of A\n"
     ]
    }
   ],
   "source": [
    "A.info(b1)"
   ]
  },
  {
   "cell_type": "markdown",
   "metadata": {
    "id": "HrvwTrVVg6Uv"
   },
   "source": [
    "##### Multilevel inheritance\n",
    "- In multilevel inheritance, a class inherits from a child class or derived class. Suppose three classes A, B, C. A is the superclass, B is the child class of A, C is the child class of B. In other words, we can say a chain of classes is called multilevel inheritance.\n",
    "![image.png](data:image/png;base64,iVBORw0KGgoAAAANSUhEUgAAAigAAAEnCAYAAACDs7jNAAAAAXNSR0IArs4c6QAAAARnQU1BAACxjwv8YQUAAAAJcEhZcwAAEnQAABJ0Ad5mH3gAAEHQSURBVHhe7d0JcF3XfSb4j9j3fSMBgjvBBeC+iaI225JiKXG0WJFkx5btTic1XVNTne7prnRPdSmTmq70TFW6pzzpdNppJ6m07bY7tmTtIiXuC7ivAMEFILET+76+BzzM+f58V4ZpgqIoPOBS/H6uawDv3Xc30D4f/ufcc+eEQqEJiIiIiPhIVPiriIiIiG8ooIiIiIjvKKCIiIiI7yigiIiIiO8ooIiIiIjvKKCIiIiI7yigiIiIiO8ooIiIiIjvKKCIiIiI7yigiIiIiO8ooIiIiIjv6Fk8IiIRMmfOnPB3IvJZqYIiIiIivqOAIiIiIr6jgCIiIiK+o4AiIiIivqOAIiIiIr6jgCIiIiK+o4AiIiIivqN5UEREImSm5kEJjo1jdDSAYHDc/dkZHX5VxF9C42OIj4tBYkIcoqM//d+pAoqISITMVEDp6OpDXWMbOrsHEJuQGn5VxB8m3H8wMYHBgR4U5qVj6aJ5SEtNCb87NQUUEZEImamAcupCDX656yTOXm7F3MLi8KsiPjERQnB0ELXVFdixcSm++eJXsGLZovCbU1NAERGJkJkKKMfOXMabHx5FdUMPNm7ajIzMTERFaYih+MGECydDqKmuxrFDu/DQ+qX47jdfQOmq5eH3p6aAIiISITMWUE5fwlu7jqKhpQ+PPbYD84sLkZqWhJhYjUeR2RMan8Dw4DBuNLfizMljOLRvJ7ZtXIV/8u2XUbp6RXitqSmgiIhEyMwHlF586bGHULygEHMLs5CWmoDY6Jk5BpHJxlyyGBkaRUtzJy5UXEXl2WM4euQQHt66Hn/wnVcVUEREZtPMB5QePLpjK7Jz8lA8Pxfz8pKQkRQ9Y8ch4hkIhNDe1oua6nqcrahCU10NTh4/ih3bNiigiIjMtlkJKA9vRXpWDjIzs5CTnYTM9FgkxEchOlpjUmRmjI+7cNI5iMbGdjTUN6G5qR4tjdddQDmmgCIi4gezGVDS0jKQkpKExKRwQOGgWVVSJIImJibgMgVGR0Po6e5BR3sH2tva0N7ahJYmBRQREd+YzYCSmpqBhIQExMbFIDZW3TwSeQworJ4EAkH09/Wir6cb3V0d6GhrVkAREfGT2Q4ocfE3Z+y8m1k7RT4vl08QCo0jGAhgcKDfQkpvT+c9BxR1SoqIfMHx71AtWiK/hD5ZGFY+LwUUERER8R0FFBEREfEdBRQRERHxHQUUERER8R0FFBEREfEdBRQRERHxHQUUERER8R0FFBEREfEdBRQRERHxHQUUERER8R0FFBEREfEdBRQREZEZMhEKYWR4CDVXKrBv15s4f+ow+vt6wu/KZHqasYhIhPjlacZz5kT+b9GxYADXXKPb39+LoPv+1qfFxcbFIz0jG/nzipGSkoY5UV+cv4/HgkELGW0tDejt7gSf6EtJyWkoKFxg1yI2Ph4JCUkYHx9Dc8N1HD24E0111VhRtgkPP/Es8gqK7DP3swl3nt7TjIcGBzHg/i3oacYiIjKrxsbGUFtdhTPH9uPQx29j74c/R/n+D3Dm+AGcOLzbff8hThzZjZpLF6zhGh+/2Yj7iTWw7rhGRobcMfYhMDoSfmdqrIa0NNfj4oUTOFm+B2dOHMDZE4dsqThTjqtV53D+9BFcv1KJ7s5W13D3WZC5XHka9devoKer/Wagk9+ggCIiIp8bq0WJyanWyLe3NqKx9gqGhwaRnJKGmJhYdLW3oPLsMZQf+BANtdUYdSHAb6z7ZWQYbTea0FhXjZ7uzvA7t8cw09bSiLMnD+CoO6+6a5eRmJiMtPRMW9xFwfXqSpxyweVS5SmrJIyNBREXn2DrRUfHhLckt6OAIiIin1t8QgIeevyreOQrv4uVa7di4bIybH/8Gbzwzf8Fz736h9j08JcRHROD0+W7rbLQ39sd/qR/MDx0d3Wg6vxxXLl4xioeUwm5MNPf143LFadx8vBuNNVexYrVG/DcK3+Il779v9ryxNMvuKCShUBgBIMDfRgaHEBsbBwWL1uNNRsftvdkatGvv/76n4a/FxGRaTRTY1CabnTgck0j+gZGsKC4CAmJSYh3f6VHx0QjKipqho5jjttXNHq6O9BUV4OhoQEUL1qG+QuXITkl3b0/ge6OFlRXnUFiUhqWrVyH9IwsDPT32FiM9rYb6Gy/gb6eLoyOjtgYFTbmrFIM9veiy4WFzvYWCwUdrc2use+3CkVUdIx1s/C99pYmdLjt9LttBMcC7vPx7v0oCwgcG9Le2oSJiZBtr+1Go9tnMwIjw24zURgfG7P9X7pwEieO7LGuGO4/PiHJqkC8jh5WiYKBUVRfvmDdOt1d7e581uK3nvsW0jOzrWLE6khCQiJy8uYiKzsf2bkFyMjKRUpqul2npvoaNNZWIys3H0tKym5WXJyWpjq0NNfZeXR2tKLPBTleA44linEBj11jw0P9th7XYcXHznGU53Hz98zrwWpNe0ujXSeeW2hi3H0N2rFF8t+D100WDAbddR/FqDs+HgN/z81NTSgumosN68qQl5cT/sTUFFBERCLkwQooN3V1trmG9yoGXaNUVLwEhfMXW6M4MNCLG421qL12CVk5BVi5drMdIxv5vR/+wsZkXKo4hevVF9HT1WHvpaVnWAN99dJ5nD66D+dPHkCHCxFVLkQwyMS7AMBG+4Zr0C+ePY4LZ464gHECtTVVVqFJy8hEtAsZDC5nju/HycO7MDY2bsdx9uRBVJw+gu7Odju+YHDUxoQc2fe+HUdfTye6u9ttUOvCpasQE/urhp0DQTkY+IL7PNdlEFmzYTvKNjzk1vlVkGFISUxKcceR7UJKrg0SZuBhYGAXUoO7ThZQlpdZcGFjfuCjt2ysDq9H9cUz7npU2SDc5JRUJLhtsQpT587v2MFduOTW6elqYyqwYMiByDzelqZanHbny0oVQwzDIsfTMFSlpGX+WtiabtMZUNTFIyIi047jOThwlgNAe3u7rOrRa6EiGZk5eYh1oaCjvQW1LpDcrGxM2J1AvMOFY1WqXSjpcuGBoeH0sX04+PFbOFW+2wILqwkcx2HrN16zwbldHS22Ly7cxs1G/gwarl+17pp9O3/hljdweN971uiz0eQAVYYdhiQeGwMFG2825KzgxMcn2n5uDXisYjAocFzN6MgIMjJzprwLh9tjpSgnb55VUHgnz2+asAa9qf4a6muv2LHQ6OiwHTuPsdmFqoG+XqsUXak6a+swuLASxFDF8+TAXgYSjoVhKAsEAjfXd9uw0OWuHX8v9wsFFBERmVahiRCG3V/trFQwaHCuj3MnD6HZNcCZrpFmxSApJc01uD3WTfPok8/h9//wX+Hl7/4xyjZst7EgjXU11riyu4PVBnbHxMYlYsvDT+KV7/5zfPW530dOfiGuXjyP61cqkJicgrUbd2DLjqfsVmY29OdPHXH7P2ddSNeuVKKnp8cacgaGLz/7Mp746kuIiY2z8BTlQs/qdVvx+FPPY978xVi76RE898of4dkXXkNiUvKvhRQ28gwxY9aNFIuU9Eykhrto7sWvwtk1FC1Yhq8+/21864/+BF//1v+GuUULXbAIB7zuDnS6MMeuoVVrN+OZ57+FlWWbLOQxCLHKw9DEu4oK3DV48ndeQak7Jwavvp5uG5g7J2rmqmmflwKKiIhMq8DICK5Wncff/ed/jz/5Zy/iz//NP8XOt3+COdFRePJrr+Khx75qYzJWrtmEZ198zQbWssKQlZOPjKwc66LiuIrM7DwLLDu+9DvYsO0J5BbMR/GiEhvTwq4Ujke5cPowdr//M/zw+3+GP/vfX8P/9a+/h7d++jfodIGmq+MG0lwYeejxZ/DU177hPrvcBux++Znfw9zChbadxMQUCyezidWaJBewtrnr8swL38a6zTvs+rAqk5KaYV1QHoY/di9drjhjc69sf+JZvP4XP8KXnnkZ84oWWTfPYH8frrpgxnEqJaWb8Oo/+Rdu+WMsXLr617bldwooIiIyreLi47FwyQp8/ff/Gf7Vn/0X/Nv/8Lf4l6//f/jmH/xLrNv0iFUk+Bc//7KPcw3qRGgcp458jJ/93X/CB2/+dxtDQgwhMTFxNliV6/LnmxPPhasAExOIdg3umo078Op3/zn++N/9v25fP8T/8f/8Hf7k3/8NXvnuH6Nk9QarkrBh5me5LVYavO3c3NRnqyrw2Nn1E5eQZHfzcFAq5075PHgsrMbExd2s6Oz54Of46//47+z2ZVZOiMGtsHiJVUWuXbmAv/3L/xP/4d/+U/zDX//f1rXD8Scc87N0RZmFlDd+9J/x/T//F/iH//LnOHv8oLsGsxvEPisFFBERmVa8S4VdHmwoN257HJu3fwnrNj/ifl6DrOw8Cwe8m4aN6ulj+/H+m/+Aa1cvWtjgQFJ2RXgm9azcdMvPrD5wEOrCZavs1l3ua+O2J2xfvK2Zs5p+4rPlkCnxzqHk5FQ7l5jYGBcommz8yO2wO4gDdpsaruFGUy36+28zrb3XxdN43aa/P7zvfRuXk5mVYxUgBiriV1aVStdtw7ZHn3ZfH7LXThzehUO737GusPjERLtDausjT2H91sds8G3d9cs4fugjVJ47bmN07hcKKCIiMu3YbXJzQrIkq5jwr/+4uIRPulNYeWisu+oa14/tbpPY+ESsLNuMFWUbkZ07l222CxcjGBron3JGV1ZGUl0DzDuGeFcPbyfmXT0xLrRw3pHW5nobv3G35vBWaVZZ4uKsosFxNHbb88iwHa+HFRSeU2HxYuTmF9o6FafL7W4jDlz1sKLBWXNray7Z5HS8Y4hjV27FMSiswFSd52y0e23sTk5uAbbseBILl6y0bihui9eCd+vw4rDL6+mvfdMFkaftFuWqC8dtvA67vRjalq9ej688+woeevSryJ9b7PbdZtv/tcDmcwooIiLyuVmlwDWObKx5W+vo8KBVDjhOgvOaTG7gaSLEGWebbUAn74LJzZ9nDS3vnCHO9cF5PJoaauwOHc48y8ad85nw9lU20pyfpHhxid1Rc+1qJWouX0BjfbVtk3exjLlGnbcEc0Zbhg1WKRhcOA8K7+Lhwu2ODA9g2G2D2411oSo1LdO+Z0WD1QfeHcOAwCBBN7tj4jB/wTILVanpGTYYd+dbP7IqCedT4cI7bHhHTfXl87afpKQUOz8eiwUvF6jYPcQQM+h+5kBezlXCW5IZ0pKSUz+5dZhBi1UY3tHDxwfwVuyomFjk5BdhzaZH7ZZrHl5rc4NNHseQw2vOW7oXLCpxIWV+OOjdP4/f0zwoIiIR8slYiQjzwzwobGg5boJdCZddI8oGsqO9zaogPBbOB8KxKZ6Qa03bbjS4QFFjgYLVDlYa2Jjzta6OVmvIWXXgbcTXqivR39OJEdfI5rlGmV0fHLORkJiMPhdaWm/UW0i5cvEs6muvWhjJnzffNe7j1qhz3pCO1ka7nTfoQgBvMWblpupcudtHhzXbrIqwIsO7aXh7M2/LZRdJ0cKlFgB+7Vq6r6wIpaZlIDk1zYWNgN2uzM9dcNvlXUvcL6fCZzVkwZJVyHJfGaYunC3H4T3vhR8HMGBdW1yHc8g0N9RaJYRzyXCek9qai+5atNncIgwrrBBVX66w4FR14QQunj8BTsq2YtU6LF2x1qo9Ne59zqPChbPi8v20zCyUrX/IHl7I8TyRMp3zoCigiIhEyIMUUNgotbrAwW6SjOxczC1aZH+157mQkJdfaA05u05+ZcKOi8fJhj4lLd1u/83KybMuibmuIZ07fxFyC9xn0zNtvAfvwsnNK8SCxSVW5eDA15vnmoiklFQbF8LblzMycjDPfbao2AULt33OssruIFZbOIiUx8XPe+NXeKyFbv0893p2ToGNXeGEalyP1QceC8PQ5EnYeOy8ttw/Z4/leBFOpMafrVvLBacUd868E4fdLQXuOvA9BqfhgX6Mh8YtLBS6Y+TdN/OKl1glhgEkKcmdiws9KW7h7cI8vqIFS92yxNZlWOJ8KjbTbWKi3fHD26K5PV7LGA4+dmGQgYYBLjtvrk02t9yFGFZlIvnvYToDypxQKHT/1HtERO4jMxVQjp2+hLd2HUVDSw8efXgr0l1jmZqa4Rop3v3Cu1Ui35vPbghWQYaGBq2bgnj+SclpVu3gbbSTb3G1cRfDQ9YlxO4LdsVwcC0/w66JCfcfBg+GGnbtsKGzu3pcUMgvmG+BxFuX86mwe2l4eNAaR+6H4YAhxLpH3D74PrF6wDlT2LizmsHJ0BiqrHriPsNKj3VV9XJCuBh7Xg4DCMPIVHi+7KJhBYTbs74Wh+NZGFR4+zQDBY+X3V08X96Zw2PnOTM0cPArt8Np80fceXjdSV61g2GD6zHksIuKY1Y4nsSum9tPgQt1PC++dvO5PzfH7rCCxHDFc8t04YsBKFIsnLjj4TEMDQ5a11VvT6dVcFqaruPk8WPYsW0D/uA7r6J09Yrwp6amgCIiEiEPUkARme6Aon+1IiIi4jsKKCIiIuI7CigiIiLiOwooIiIi4jsKKCIiIuI7CigiIiLiOwooIiIi4jsKKCIiIuI7CigiIiLiOwooIiJfYJwxnTN8atES6cX9S7v5j26aKKCIiHyBTUyEEAqNadES+WV8HBN8jtI0hRU9i0dEJEJm+1k8fEgcA8qEazxEZsrYeAgjIyMY7O/TwwJFRPxoNgNKUlKy7T80HrS/akVmyoT7TzA4huGhQRdQuhVQRET8ZsYDyo0ePPLwZiSlpNpj/F06wcTEOPt5wmuKzAxGi0BgFAMD/ejqbENrUx1OnlBAERHxhZkOKHXNXXho8xpERUdjPBh0jcQ45iicyCwZd//+RkcZUvrQ0drkAspxBRQRET+YyYDyy53lqKlrxbrSpQgGRzHm/nplQBGZTczH7O7hWJTTp064gLIef/DaKwooIiKzaSYDys/fO4iKy3VYtng+giODNjhWxA8YUgIupFSeP40dW8vwvW+9pIAiIjKbZiqgnK64hrd2ncTZqnrkZmfZuBP9H7v4hvvHyFuPm5vqsGNTCV7+3cexfElx+M2pKaCIiETITAWU9s5eXG9sR3vXAOLj4sOvivjL8NAA5uVnYOnCuUhPSwm/OjUFFBGRCJmpgMLbiPn/5BoPK342gRCi3P8moqOi+D+O8KtTU0AREYmQmQooIl9EmupeREREfEcBRURERHxHAUVERER8R2NQREQiRGNQ/I23vvKhduPj44iJjkFsXCyio6PD78psUwVFREQeSAwmra2tqK+vR3t7u03LLv6hgCIiIg+k8bExXK+pQcX586irq8XQ0FD4HfEDBRQREXkgjYdCuNHairqGBqugBFRB8RUFFBEReSBxDEogELCunWAwaBPeiX8ooIiIiIjvKKCIiIiI7yigiIiIiO8ooIiIiIjvKKCIiIiI7yigiIjIAysUCtndPFFRUYjSLLK+ooAiIiIPLM4my9uLGU6iY2LCr4ofKKCIiMgDiZWTkAsorKIQqyjiH/ptiIiIiO8ooIiIiIjvKKCIiIiI7yigiIiIiO8ooIiIiIjvKKCIiIiI7yigiIiIiO8ooIiIyANrjBO1TUwgOirKFvEP/TZEROSBxGAyNjZmE7VxkrYYzSTrKwooIiIi4jsKKCIiIuI7CigiIiLiOwooIiIi4jsKKCIiIuI7CigiIiLiOwooIiIi4jsKKCIi8sAIBoPo7upGQ309aq9fR1tbG7p7etDR0YHmpia03LiBwcEhjI+Phz8hs2VOKBSaCH8vIiLTaM6cOeHvxC+GhoZQfeUqqi5Vobm5GQcOHMDI6ChKSkqwbu1azJs7F6tKy5Cbm4v4+Ljwp2Q2qIIiIiIPlBstN1BeXo5333sfZ8+dw8WLVSg/Uo6PP/4YZ86exfDwECYmQuG1ZbYooIiIyAMjKSkJcfHx6O3tw8Wqy2hsbEJDQwMqL1aioqLCvd6L1JRUxMbGhj8hs0UBRUREHiiLFi7E1q1bUDy/ENHR0fZaamoalixZgvXr1yM1LfWT12X2KKCIiMgDJb+gAKWlpVi0aCGSk5ORkJCAeXMLsGbNGmzcuAnx8fHhNWU2KaCIiMgDJTExEfPnz8emjRstpBQVFWJ5SQnKSstQWPirqorMLgUUERF54GRmZWH7Q9uxYf16q5ysX7cOJSXLERcfp7uvfEK3GYuIRMhMNHRj4yGbs2NC/0/+mfCacT6UN958wwbGMqBs3bYNqamp4TVkuk24f6TR0VGIiY5GVNSn/29DAUVEJEIiHVACwTGcu1iLE+evoqc/gOjYxPA7cjc4adu1a9cw5r7m5GTZ3CdR0bp7J1L6u1tRurwQj25dg3lzc8KvTk0BRUQkQiIdUIZHAti5/xQ+OnAWIUShcF4+4mI1wPNu8S/6oeFhm/MkLjYWcXGcmE3dO9NtPBRCR2cXLp4/gW3rV+CVrz+LkqULwu9OTQFFRCRCIh1QhoZH8dbOI9h98DQy0xKxdtUSpGVkIyYm2jWzamjvxoT7j0fXbPqxK61/YBAXqyqxb88ebNm4Bt977RWsXrksvMbUFFBERCJkpgLKofIzKMpNxvZNK5E/bz5SkpPtTpQZGAIjclscExUKjdtzjRqbbuD40UP44KMD2LhhPb73nW+gdPWK8JpTU0AREYmQmQ4oD29egaKiIuTm5CI+MQHRUbpRU2aHyxYunAyirbUVV65cwcmTJ7H7wAls3rz5rgOK/vWKiHwBhCZCCIyOor+vzzUMAwgGx1xCirJKihYtM7VEuYWCY2MYGBiwp0RzCQSDNubns1AFRUQkQmaygjIvOxFb1i5GZmamLekZGUhKTrZnyqinR2YKAwXDMYNya2srGhsaUF9fh7r6ehwsP4stW7aoi0dEZLbNdEDZvGaRhRPO5cGH4iXwwXhxcYjSYBSZCRMTCLllNBBAb3c32js60NrSihs3mtHY1KSAIiLiF7MVUFJSUhATG2vVE35VX77MBIYJjj0ZHR1FX2+vTYDX1dWFlpYWBRQRET+Z7YDCykmkj0HE4wWUYCBgA2T7+vrQ09NzzwFFwVpERER8RwFFREREfEcBRURERHxHAUVERER8RwFFREREfEcBRURERHxHAUVERER8RwFFREREfEcBRURERHxHAUVERER8RwFFREREfEcBRUREZhyf2zI8PGzPaunv70cwGMTExO0fDec9gM57+FwgEPi1B9N1d3d/so2pcNvcH7fB58SMjY2F35k+PB7uo6Ojw55Dw5/l3imgiIjItBkfH7egwODgLfyZr3NhMGBY4APlLl++jI8+/hhHyssteEwVGhhIbty4gSNHjmDvvn1obW21bQ0NDaGmpgbvvvcejh07hra2tvAnfh2DwsjICCorK3HgwAFUVFRYoLkb/Cz3P/l8+DOPlcfA90PufMbc9wMDA6i6dAk//8UvcPToMdvnbOD19X4P/DpV8PO76Ndff/1Pw9+LiMg0ivSThINj47hc04D6xhakJsWiMD8TiYmJiIuLQ1R0tO1/pp9m3NzcjKvV1bhy5aoLD9W4fv06enp7rbFkw86KSXx8vD3dluGEgWPYBY3FixcjLS0NsbGx4S39SsB9tqOzEzXXrlkFpLi42M6zyW2Dn3/r7bdtvaLCQhQUFNj3HgaIgcFBXHefff+DD3Dm7FnExMRg/vz5SE9PD681NR7v+fPnUe3O6ZrbBs+nrb3d3mMoYdAJua8MLHV1dXj//ffxy1++haSkRKxfv96Oc6YxGPH3UFdfjyF37jzfhISE8LuRxTDE6+GFVB4Lg1ufu078d1rofkfr15UhLy8n/ImpKaCIiETIgxJQvL/Y2Vjv/OgjvPHGm3jnnXexZ+8eHDh40IIEuz66urtx+coVzJs7F+XhakjzjRvWaJWVlSEjI+O2ASXGvZadnY3S1aut0ef37EI568LGW++848JDDZYuWYJVq1b9RkBhcGhx+9jn9sVKCxtNhqHly5ZNGVC882GF5uy5c/jLv/xLfLBzpx3v/gMHrPLD68vzraut5S8aUW45c+YMfvKT/4HWtjasW7sWmzdtmvGAwhDIoPThrl0WyDq7upCVmfkb1yVSFFBERO4DD0JAYecBGyI2in/xF39h3SfLli7F7730El55+WX89rPPusYoz7o+DrqwwgrIhg0bsGjRImvMOB4kOyvLwsVUAYVnwPOIior65Jy4XnJysp1ve3s7FhQXY5kLHbc2xPxMYlIS5rrX7bPuNTaSDCm3Cyg8Jjau7Dr6Hz/7n3jn3ffctufjW9/8Jl588UX87te+hpUrVuCSCylv/vKXVh1auHAhli9fjtTUVKtUsHqx2J3fbASUo0eP4r//6EdWnWIwmO/O9XbXJVKmM6BoDIqIiNwzNkYcH/Lx7t24VluLpS6cPLx9O9atX2eNNpcN69fj0UcewXb3OrtW2GgxXDCQsEH/LCHKW5fdFikpKcjJzkayCyDRLpDdDtePd4Et04Wg3NxcCwysdkyFDWxvXx8OHT6MixcrkZWVgaeeesoqNwwmPJ81a9bgsUcftaXYnQ9DECs1DCj5+fmIj5+Z7pTbKSoqsuu8ZcsWCyUMq/crBRQREbknHN/BCsi169dxpPyohY5VK1daSGG3AsMHF1ZQ1rpG/VHXoG/ZvNkaclZAGCoYFtidcqOlBSdPnsSujz7C7j17rOLCLhZvkCrfP3HiBC5UVFgVhhgMol1QiXZfJ2PIYJcSj+vQoUN47/33sXfvXnvtTrgv7pNjNy5cuIBxFzrYrcQlywWcJBeEeD6Z7txKS0vx5S99yc6H1RkeCxee1+QAxGNhBeFiVZUdwzvvvmvHs2//fly9etW6ibyqDQf/lpeXW7cYu5Y47oUDf3lMDHW8O4jHxetz6tQp62pi95l3nYgBaU1ZmVWkeMzsHrtfKaCIiMg9YbDgINLa2lpcd8uC4gUoCg8+ZYXDw7/iOW6EXT+sPrCS4XXlsPLA24Sra2psACvHijCknHBhhQ0yG18OSj175oyNIeGdPJ2dnZ80yLfi6wwibLg5RqX86FG7S+jY8eM2MNcacxcIbofHwrEtHAzLQMQKDwMXv/J8JldveI4lJSU2dobdFlNVKniNmpqbLVDsd8GD41h2796NDz/80LpjuB8vUPH8ebwMYlx4rgwxPCYuvMZHjx2zcznhtsd1Oe6F7/HYuR0GKB5bmguB1tV3h2qR3ymgiIjIPWEY4NgCBonRkWEsWFCMzHBjfiu+xgoL/6rnV69LxqtYtLe1ISM8mJONamNDg3Ud8fZjVhKOukb5pGuUG9zrkysGt2K1paW1FecuXLDtMlxs3bLFggQHtN7pdmYv3PBYWLFgqGKXFI/11m4o/uydD7uaWD25He6LlRxWfVhVWuFCDe9C4nU7d/68nQ+DBc9p//79Fip4DXgeFZWVqA+fL4NggzsfVlkWLVxo63GczIULFRgdDUx5Pe5nCigiInJP2LCOBYPWPcEGOyU5xRrOWxvzO2Hjn+Iaeg5y3bxxIzZv3oxFixdbg8tKCRv4xIQE616ZapzJZAwWjY2NuHzpkgUHbu/pp57CE48/bl1NcfHxdzw+7pfhgKN/ExISkeSO7bOcz60YXHJzcmwMC7uEeCwcj8OxKzZ4tK/PriOPu/LiRcS6IMc7jNavW2eDiTkAl+fB99vDE8Atcddn3Zo12OjeX7GiBKmpKTe7cj7HcfqRAoqIiNwTNtwxMbGfdNcEx8dcA//ZJgVjlwTnL/HuNGH3RIILEV6jzTlTCouKrFFmtWKqSgWx64bVBlYZ2C2Ul5uLgvx8JCQmWiPPsTFW4blD0OE52fm4tp7dMxyHwmO5V6wc8dxWr1qFHBdU+l0o4R1PDBs8P6/ywfV4/g0uXHHeFd6ZxPXzXahKdsfOc+C14GdYSeJ8LBzwu3DRIqSkpto4nC9WPFFAERGRe8SwkJychPS0dPd9tHWNDAwOWMN+KzbEvO2Ug0I5sNZbh1URNsCcpI1hZXJ3Cj9j7ycl2ftsoO9UzeA22UXD7pABtx9ujw078Vg/bRtcxxsEy/329vZY9xWP49aQwp95PqyCMBRN1W1E3BvX4ViUy5ev2C3K7L7i5+nmdUzGIzt2IJZdN9eu4dy5c7h06ZKNUeH1YpWJXUMc78KAw+4h6wKqr7dz5bl/niDlRwooIiJyT9iIs+LBv/wz3FdOmNbY0GghZHJIYQPPv/zZZcMxF6wOWDfKNON+GBQ4jT63PzQ49Ml+2HizK4o/e/Nz3BoqeD6stHDcCe80YiWGYcI7Hy8AeNvieBYOxuX5DLvt3Q4/x8DBwa0ctNvW3mYVGrvd2e1vwh0zj5tdY+wG4h04nMiOs+dyan7ezcN98NgWLFiAtevW2RwyrLhwMO/x48dtgDGDmQKKiIiI41UlFi5aiJKS5ai+dt0aVHY/eI06F4YBViJq3V/+V6qr0d3TYw0wG2c2ql6Fwr6Gv/d+nrxMfn3y+2yW+TOx4WbVhD+zutDmQga7aRgoeLcQqyscRNvcfMMqE/y8hyGAwYSTrDEMcF0+44ez33LsB7fB82HA4bbs7iV3ruyuCbjXPjk2ty3ve67LO3L27NljgYLjUTgehpO4cV+jLjDxOFiJ4deHtm3DK6+8gq985StWVWGg48Rv3D/HpyxeuBCvuveff+45C1ItLS2oqqqygGL7nnxd+P2kn+83CigiInLP2Kiz64EzrBbOzbdbXznNOufr4F/+XNiQX3GNPAMD79BhAGDjyfEYbFjZ/cEGmHe6eF1A1mi7ha8xDPB9Bp1Bty7X4cJGne+PuBDAn/ncGVYiFrpwkZaejmMnjlvlgg18U2OjHdOVq1dx+swZHHfvsXG/teFm9w+rQl9yIWLZ8uV2m++Pf/xj+yy7VrzzYXWDP/P8OVkcKy88Zh4nBw4PDAzacTOg8DMMI5zkjaGC4YznzHPnPCcMLqzU/Ncf/ACHw7dRc3ulZWVYsmSJhUAGPN4u/fY771j3EIMYB9OuXbvWts3j4LHzGvGa8Di4D14X6/Jy1+p+o6nuRUQi5E7jJaaDH6a65/bZZcFbclevXm3dKrz99fiJEzh46JBNSMbGnI0y70jh3SlsTD/mgwL37rUHC7JBZmWCDS+nyufcHnzda1w5FsMmJnMhhw31uAsVbIh5G/Eetw3uj90x3Ic3bT7v+mHFhtvj5Gc8HlYk+DqP4bHHHrPG/9YxKfyejT9nni1xgSI9I8MmezvvtsN5SfgsHh4fG3xOl8+5UDhmhcfFSgkDBJ8v1NHZYYGFYazfhYUGF1Iq3TY4v8vZc+ddKLnuwkkrRlxIYRhZuXIlzp87Z+NKDh8+bMfb6gIUb0vmXCz8nTLg8XWGGC48b95G/VtPP31zUjZ33KymfPDhTuw7cNBuq2Y44oMWLdC484k0q9q43yWrTV5XGq/VvUx1P8elxy9Wp5WIiE9EOhwMDY/irZ1HcKj8DOZlJ2LzmkXWWLLB422nrFZE+hhuxeoEqw6sHjB0UKo7Hk7gxrto5hcVWeWAXUGsHPAvfXYVcYp2hgf+1d/lGlRWSlgZYOBglYNBhc+94bps5Djuha9zjhQGGX7PsRsMJ9wPu11Onz5tDTTHnTBEsbLCLo+5bj2O4+BkZp+GXSycxn/yGA+GQN55xHDCmVsZuHi+7O45f+HCJ+Ne5s2bh4ceegid7lg4FwqrJXyPv5voqGh3fcYsNDEo8S4fdidxIC2DDX9vrJzwoYPsbmKDz8oNwxq7yIjHwQDEqe0ZQIhVHd6uzEnpgoGge2XC/k3wWHlbciTx6vD3wDFAXjXJutRc0OLxHCw/a1Pwf+8730Dp6hU3P3QHCigiIhHyIAYUNlDeMhmDhdcN4Y2T8L56709+z8PX6dbXvPPyQhDxNe6D73M7fO92n7OF34dfvxN+/tbBtPy8bcstvMY25sStx3Un78+OxwUH7z0v4EzG7XiLd7zeet758CvxvcnnS/ycF07IOwYuHm87XDeSpjugaAyKiIhMG6/BZJfE5IWveQ2t12BOXo/f3/qa9/rtXuO6XCa/ziqJ1whzH1N9juvcbWzjupO3wYX7se145xNe79b92fGEz5XfT37PW/gZ75hvXc87H56Ld80mf5YLPz/ZlMcR3sf9RAFFREREfEcBRURERHxHAUVERER8RwFFREREfEcBRURERHxHAUVERER8RwFFREREfEcBRURERHxHAUVERER8RwFFREREfEcBRURERHxHDwsUEYkQ79kzkfJpDwskPqhOZKbwQYd8uCIfFsinTOtpxiIiPjSbAYX7HnfhRAFFZpL3FOnR0VEMDAwooIiI+NFsBJT09HQkJiZaI+E9vl9kJoUYUsbGMDw8bAGltbVVAUVExE9mMqDMdQFlU+kCJCUl2V+xDCZc9H/wMhtCLhwHAgGronR0dqKpsREHj55TQBER8YOZDCh5GXFYvTTfunTYMKhyIrON/wYtpAwOWhXlkAKKiIg/zFRA2X/kLNISxrF4XgoCo6MIBkNWRRGZTfwXyJASDAbR3dOLo8fPYevWzQooIiKzLdIBZdgFlPd2H8fug6cQNRFAQXYSglY9mVDXjviD+4cYmghhZGQU5y5cxLbN6/Gtb7yAlSVLwitMTQFFRCRCIh1QRkcDOHyiEgePV2LEfZ+ekojQ+Fj4Xblb/As/ODaOqKg5SIiPD78q08WrpNTV1WNd6XI8+9QjWLRg3s0370ABRUQkQiIdUMZco1rf2Ibq+lYMjYwhJiY6/I58Fh0d7ejp7UNcXDyK5xeFX5XpNtDfj8KCLKxaVozsrLTwq1NTQBERiZBIBxTiX6bj/L9xG3MS+f19EZ06eQLV1TU2h8xTTz8dflWmGzseo9z/JqKjo+7qfxsKKCIiETITAUU+v/feew8nT57E3IIC/OEf/VH4VZltehaPiIg80EZGRqz7YWhoKPyK+IECioiIiPiOAoqIiIj4jgKKiIiI+I4CioiIiPiOAoqIiIj4jgKKiIiI+I4CioiIiPiOAoqIiIj4jgKKiIiI+I4CioiIiPiOAoqIiIj4jgKKiIiI+I4CioiIiPiOAoqIiIj4jgKKiIiI+I4CioiIiPiOAoqIiIj4jgKKiIiI+I4CioiIiPiOAoqIiIj4jgKKiIiI+I4CioiIiPiOAoqIiIj4jgKKiIiI+I4CioiIiPiOAoqIiIj4jgKKiIiI+I4CioiIiPiOAoqIiIj4zpxQKDQR/l5ERKbRnDlzwt+JnwwPD6OtrQ0N9fXo6+/H4cOHUVVVheysLDz//PNISEjA0qVLkZefb9/L7FBAERGJEAUUfxocHMSVy5fx0a5dqLp0CdXV1Whvb0diUhJKS0tRUFCAF194AWVr1iA5OTn8KZlp6uIREZEHSmJCglVGunt6cObMGVysqkJtfT1qrl3D0WPH0dDQAPfHO2Kio8OfkNmggCIiIg+UKBc8MjIyUFJSgpycHGACCIwGEBofd+ElHuvXr0d+QQFi4+LCn5DZoIAiIiIPnLT0dKxbuxarV69GVlYW4uLjkJKaikULF2Lzpk02HiUqSk3kbNLVFxGRBw67eOYXF2PNmjVYvGQxCvLzUVRYiHXr1mHJkiVI0tiTWaeAIiIiD5zo6GikpqVhdWkp1pSVWXfPyhUrsGnjRmRnZyM2Nja8pswWBRQREXkgxcTEWLVkgwslmzZtwvp161HmwkpCYqLuwPIB3WYsIhIhauTuD1UXL6K+rs66dbZs3Ya4uFj97nxAAUVEJELUyN0fBgYGMTIyYt0+GRnp+r35hAKKiEiERLqhm5iYwOhoACOjQYRCbn+66+SesBnkteSvS3fuRE4oNI74uBgkJsRZGPw0CigiIhES6YASHBvHlZomXKxuwkggpGnZxdd6u9uxsDAba0uXIjc7M/zq1BRQREQiJNIBZWh4FG9/dAJvfXQSI0GgID/nrv4yFZlJExMhe/5R5fnTeGRzCb776rNYvWJp+N2pKaCIiETITASUt3Yewb7DZ91fpOnYtLYEmRnp4XdF/CEQGEFFRSXeff8jrC0rwfe+9RJKV68Ivzs1BRQRkQiZqYByqPwMCnNT8fCWVSgsLERaahqioiK7b5FPE5qYwMDAAGqv1eDI0aPYtfsINm3agO+99qoCiojIbJrZgJKMhzcux9y5c5GXl2dP5o2KUnePzA6XLTA4OIDm5mZcrKzEhYoK7D14Clu2bMb3vvMNBRQRkdk0kwFlXk4itq5dgtzcXAsofNZMfHy83ZUS6eMQmYzhZHhkBB1tbaitrcWVK1dw3X09WH7WBZQtdx1QdD+ViMgXgftTkw1DIBDA4PAwBoeGMDI6irGxMYyPj2vRMiML/72Nun+Dfb296OzqQq/7GgwG7Tbuz1oNUQVFRCRCZrSCkp2IzWsWITMzEykpKdbFw9uO42JjNbeHzBgGkREXULo7O9HR0YH29na0tLSgobERB4+ew9bPUEFRQBERiZDZDCixcXH2rBnedhylLh6ZAQwTHBgbGB21CkpPTw+6u7sVUERE/GY2A0pMuHJiY1DC64tEEqsnXkDh3Tt9fX0WUu41oKjuJyLyRcV+/1DIxqZo0RLxhQHFfWVQmQ4KKCIiIuI7CigiIiLiOwooIiIi4jsKKCIiIuI7CigiIiLiOwooIiIi4jsKKCIiIuI7CigiIiLiOwooIiIi4jsKKCIiIuI7CigiIjIrAoEAevv60NnZidHRUZsm/XY4dTof5T80NGTPdRkcHLSf+Tof788H0vGZL8PDw1Nug/gZrseF+5uuKdk93F4wGLTz4THx/KZ7Hw8SBRQREZk2bJAZEhgGJi/eM1q8hT+3tbfj9OnT2L13L1pbW61xvx2uy1By7dp1vP3OO7haXY3hkRELJwwbhw8fxrFjx1BXV4cR9/rteNsoLy/H8ePHLejw83cTILjOp50PFx5/V1cXPt69G0eOlKOtrf2u9zFduC8e2+2O9X4T/frrr/9p+HsREZlGkX6acXBsHJdrGlDf2ILUpFgU5mciMTERcXFxiIqOtv1H+hhuxQa6pqYGlRcv4tKlS6h2YaKtre2TQDHgQsLI6Ch6XbA4efIkPv74Y1ysrETJihXIzsqyY78VG1dWPNpdoLl8+TIK581DTnY2+vv7UX70KN5++22rWGSkpyM/P9+ugYfN8rjbb29vLw4cPIi33LoMNfPcNvLy8hATE3PHa8SqTUNDAy5UVNj5XL16FY2NjfY6z4dfGUz4PZ/e+9FHH+GNX/4Sw8NDWLRwIbLdcX7aPqYTj4FBrcJdUx4vnyI8MDCI6OgYJCcnhdeKHAtILhTxmvB3xsDoPdm4vrEVRYWFWL+uzF37nPAnpqYKioiIfG78S72+vh7HT5zAocOHcdQFhxPuey6skpxxy8lTpyyUNLj1WF1oampCnfu+04WLYCA45V/5UVFRSEpKwkLX4H/1t34LS5YssRAyNDxsAajeBYgeF0BGAwGrFvwat81x9xobyYsuNHHfbCw/rbLB7TAQnTt3Dnv27sWRI0es8sLz4TmccufD70+5c+IxMCDZPqqq0NzUbN/PdPWE+2xsbLJwyGt+zB0vQ9mBgwdw7vw5C2m/cX18TAFFREQ+lzEXTrp7erB7zx7s27/fum4KCgpQVlpqC78fHBpClWs4z549aw1/XFysVRcyMzMRHcVqT3hjt8HqAysrXH/16tXIyclBbGwsklxIKXR/kaenp1uV4rbcZ6NdwGGgWbRoEdIzMhAdHR1+8/bYiLOxP33mDN7/4EPXuJ+36s6KkhI7H25njttmdU2NVVZq6+qskmL7cCEqOTk5vKWZxeva3tFu12v+/PkoWb4cKe5YWPE5487l2vXr9ru6XyigiIjIPWOFYNA15ux62blrF5qbmzG/qAhPPvkkvv71r9vypSeewNIlS5CQkGBVBZb+s1yDv3TpUmvs411Y4Xb4HgeWshLCLoLJf+1Pft97PcOFjU2bNtn+EuLj7bXJuN6Y2w6rO8kpKdjx8MMocuverhvJw/1wH6wGsRJ07MQJpKWm4gl3Ds8995ydzzPPPIO1ZWUWjNwHMDoyYvvgOT366KMWoG7F971uD2+53TnyNe6fX73xI1z43uRrwIXff/K++zwrJMx5vNZPuev/wvPP46Ft25Dqjp/VqstXrtj1uF8ooIiIyD1j43ijpcXGknDgKRtENtLz5s4NrwEb67F9+3a89NJL1rjHuTAxueOD3wdcY8vxK00u4DS5v/g7Jt3ZY6HBNaxsgFkNYDWGr91JyL3Pz3M77Ebi59i1Ewi4UHCHz3K7rJ6wq4pjOOYW5OO1b3/bKhLx4RCU6sLOmjVr8OILL9j5LF682F6/Ew7Q5Vgcjgnh8XBcCwcGs/JC3C9DSUdHh4UJvscxNnyfYYRhhdeA58Bz4bXm9eCdS1yH4z5SXBBhAGNXGCtTrOjMdb+HBQsWIC0tzbbN63m/0CBZEZEIifTASD8MkuVf8ezm+Nu//3urHOzYsQPLly1DimvEJ++b3So8tly3DisefJ8Nds21a7hx44YLAgU2zuPnP/85drmw0+oaYA565V//bFTZoH/kXv/+97+PYhcW2LVDbLA5FoRdPAwRXLifEddw826fn/7sZ/ivP/gB9h84YCGA41BSU1OwcuVKa7xvHcDKIMDj+tk//qN93bhhAx5zgYvdNhwL4+FneJ0ZBNiFxe4nYmjYv/+Arb/WhRiGM/4u9u/fj5/+9Kf48U9+gnfee88G03LALc+vuLjYzpFdND/8u7/Hz/7nP+JCZaUdC7fHgML9dbmwtXffPvzVX/2VjYcZcqGHn2Ooy8zKQpY7FlaVWKnyzolhi8GP2+AxrnLnze6xSOE11iBZERGZVWwc+dc7B4jyK4MDG0FWGiY3+sSfGQYYHhhOvHEgbMg4bwhDBv/K37p1q40zuXlb8TV0uW2zonDYhZc33nzTxn1YxWCKSgBf52c5WJW3+8bGxOIbr76KV37v9yxMsdGcqvrCz7IhtwGv/f3W2LMawfOZHE48PAeGAQ7gnarbiCGD4YohLNWdH6tLr778soWXThccqtxxsiLCasmHO3dagHvyK1/G0sVLbFDxmbNnLWCw+sGxLrwD6amnnsI2d51YjXn3/fftswwFDB4WTicdKyssAXfOvLZl7rpGMpxMNwUUERG5J16DziXKBRCOyUh0DfbtGvM74fqsRLDRZgWGA1HZ+HOwLRtXvh/jfo69i9t1g8GbE7ddv37dvnKMy28/+9t46umnsWzZMqtYREVNPUh2cohhFSTdNeyf9XxuxWvDoMMxML/97LPWLbRlyxYbwMrKAo+T+7x0+bJbewIlJSXYvHmTHS+rTVku9PFad7qQwont2GWz2X2+dHWpVZJ4yzSDyeRrw+NnOGFY47XMz8uzY/CC4f1AAUVERO4JG0Q2eAwPrEnwdt6pqhNTYVWF4eTh7duxYsUKqyBwwCsrD6yUsHsk1zWuq11o2bpt25SVCk8wGEBnZ5d1l+Tl5qJ4fpELTmkWNti9ke22P+UdP46FIb7vzo1ViakqNXeL22MX0JbNm7Fh/Xo7P1Y82O1h1y8cfngdWX3i+BR2Qw27c1+9ahU2btxolSlWQGJiYzE4MGh3F3GMSnHxfDwS7lJjZWpykOJx8xpwPwyOxS7UsHL1ecPWTFJAERGRe8LGLjEpye6QYWPb7/6655iDqRp1G5/g3mOVwgsy/BwDAQMEu0v4PW/hJW87rJzwlmIOTp1cJbidoNt2b1+vjR9h14zXncQqBrtiYmNZhQmvfAvulwGIn+FxcJ4VVizuFFL4HsPUVOt458djYXcWx51wYrlfvPGGddnweLkOz//JL38ZwUAA73/wAf76Bz/Aj378Yxuoy0qIdTe5kJGXl4v9Bw7hB3/z3/DffvhDm0X31mvCa8uKDLfPbiSOT+Htz/dTOCEFFBERuSdsGBkeOKsr59xgtwonTWO3BRvtydiAs7uhtrYOR8rLbVxFJEy4/bCRZ/XFZq+95TjuhM08KzYcK7J40SLrurpQUfnJINPJ1SEvBHB8TGVlpU3Wdjs8b46x2bt3r42hsbE2qanYtHGjdbtYIHPXkXc2cQK6r/3O7+DVV16xLqBut9/du3fbWBRWQjiY9onHH8dr3/59PPnkVyxQcd4Zzo7LY2TwI4YSXmNWWdgFxM+xwnK/UUAREZF7xr/KOQaCc51wCnveXcIGlbces2LAhpwNJwe7Xr1abTOaspoRqb/mvWoMG2QOTGVoYkBgUGlxDfbg4BAaGptw9tw5m+vk1ooPj80CxKZN1uXC8PHhhzttIKv3MEIu/J6DeKsuXbJAwP3ejjdI9mpNjQ105a3ApaWlNhCYXVsMJwwfNj19RYVVSnjn0PZt21BWVmYVFn6O3TUcq8JbjdlVtGP7dgs5XJ8DbRn+eFw8Zx4zK0icl4UBJTkpyfbBOWoYZPh7uR/oNmMRkQi5tfQ+3fxwmzG3z/2xUeddJayesLLARpCNYrtrKNlo2twdrS323vLly+1zvCOHz4xpbW1DUdHNhpS31fL1K1evWqjIy8mxMMPAw1DBLg/OO5Kbm2vBh5ULzlnC7bKxZqjgQN2B/gH7DBtu71gYKM6eO4/+/j4bl8LKAhvxWweYskuI2+BYEd7u3N3TbeM/uA2GHQad5qYmCx4MZby9mrcTM+wwZPD5QKzHzCuch0x3TDx/7pvH4t3FxAGvHG/CUMHXON6F52cByIU6rstryZ/57CF2pTGg8DlHDEPclze9P7uuOL6G145T8HP6fX7PoMbttrt9NbpjZWjhIGGuP1Wg+rwYSKfrNmMFFBGRCIl0OPBLQOGtq2z4uG+Ghn7XIHW4v/j5FzsrA+z24VT4HGOyxIUL3oXCigDDSXXNNdeIjSIuPs7GabARrq2ttbDDho5dH2ykuT7nW2HDzUG0aenpNjD3/PnzuO4af3bBsBFnQJlbMNcdS4LdksvqA4MKv7KxbG1rtflVOCCXQYmhxutm8c6HAYWNOAMTz43HxAafk6PxXFh5aXGhgzjvCseGcH0GkYOHDqHRhRf2F/EuHXbjjLtGm4GEgYfHz+01u3W5TVZYeN7sJvNuI+Z22HXEhp0PP+TdPAwbPAeOYeG14DGwGsLxP97jBDibL6tXnFuGdz8xIHBb/B0wVPF3w1lm+bviOUaCAoqIyH0g0uHAT08zZiPPcRv2RGLXqLNxYjcIG0U2WpxEjLfP8q4UYiWCYyysi2hugQ2AZXDguAoGEoYQVibYmDIo8Dy4TVZPeI6soKSmpFpVgI23VTHca2zQeWsuf+br3DePg2GGwYgVjfXr1tnMtgwWDAe3u0ZswLktfobb4Ta8W6p5fAxOnKqf3TDcF19nuLjuwhWrKQwmPGcGmAK3HWJ3DdfjNWFY4/b5WYaLVatWWcjhtjnJHCszDEelq1dbkLJp9R3eKcVGn8fD4+b2H33kEdseQwsnb2OFhovXvcavvGbzXDhg1xLPOVKmM6DMcRfjs90TJiIidyXS4WBoeBRv7TyCQ+VnMC87EZvXLLJxDXYXimvcOJ5ipgKKx2vE2UCxsSUeAwMMgxMbUjZiXIcNGBtQbx1vEjFWFdi9wyOPdp+z25jdZ7i+h40st8nXuD7f9/bBhbxGkvuw7bvXuS63533+064P12cjy7EfHIDL/fAzDFbcD7fDMMNz5f4mTyLH7fN8uS4/z8G73J7bgJ2b7dstPB6ux8/zWL3zIb7O/XBdvsfrxve9ffCaMdiQHad733vP4x2vt+6nnfO94hHbdXDH4HVRMbSx8sSK2MGj57B1yxZ87zvfcMFrxc0P3YECiohIhESqIfD4MaDIg2u6A4ru4hERERHfUUARERER31FAEREREd9RQBERERHfUUARERER31FAEREREd9RQBERERHfUUARERER31FAEREREd9RQBER+YLizJ6cMl2Llpla3H/96vvPSQFFROQLiM+N4UPb+EwbLVpmYhkPP0fo1mcB3Ss9i0dEJEJm41k8GRkZ9iweYkMxHX/Jitwt/ntjSOFDGvk8Hj0sUETEh2YjoKSlpdkTcBlOJj8VV2QmeN07fPIyn67MgNLa2qqAIiLiJzMZUOZmJ2Dj6gX2OH2vgWBIEZkN/LcXDAatitLW0YEmF1AOHTuvgCIi4gczGVBy02OxakmejTsJBILhcKL/e5fZwcLdxARDyhgGhwatiqKAIiLiEzMVUPYePIGUuHEsmpeGkZFRq56oZ0f8YML9h4Nn+/r6UH78HLZuVUAREZl1MxFQ3v34OD7ccwyh4BDyMhMQcH+xiviJdTkGgzhfUYWHtqzHa998EatXLgu/OzUFFBGRCIl0QBkZDWJveSV2HTiP7r5BJCXEhd8R8Q8LGe6/Wlpv4KH1y/DCVx/G0sVF9t6dKKCIiERIpAMKx5l0dfehvbMPwfEJREfHhN8R8Z9AYASZacnIz81AYmJC+NWpKaCIiERIpAMKcbzJ2BjnO3E/zMD+RO4VB83GREchJiYaUVGfPk+sAoqISITMREAR+aLSVPciIiLiOwooIiIi4jsKKCIiIuI7CigiIiLiOwooIiIi4jsKKCIiIuI7CigiIiLiO5oHRURERHwG+P8BF/1M5l+RluMAAAAASUVORK5CYII=)"
   ]
  },
  {
   "cell_type": "code",
   "execution_count": 89,
   "metadata": {
    "colab": {
     "base_uri": "https://localhost:8080/",
     "height": 52
    },
    "executionInfo": {
     "elapsed": 1142,
     "status": "ok",
     "timestamp": 1685695782657,
     "user": {
      "displayName": "naz nazira",
      "userId": "06694449877078577923"
     },
     "user_tz": -330
    },
    "id": "JsmTiA1LhKUW",
    "outputId": "f99074fa-eb92-433c-9413-76b20515591b"
   },
   "outputs": [
    {
     "data": {
      "text/plain": [
       "'Goa Bunglow'"
      ]
     },
     "execution_count": 89,
     "metadata": {},
     "output_type": "execute_result"
    }
   ],
   "source": [
    "# Base class\n",
    "class Grandparents:\n",
    "    def bunglow(self):\n",
    "        return 'Goa Bunglow'\n",
    "\n",
    "# Child class\n",
    "class Parents(Grandparents):\n",
    "    def car(self):\n",
    "        return 'BMW Car'\n",
    "\n",
    "# Child class\n",
    "class You(Parents):\n",
    "    def Phone(self):\n",
    "        return \"Iphone 12\"\n",
    "\n",
    "gokul = You()\n",
    "gokul.bunglow()"
   ]
  },
  {
   "cell_type": "code",
   "execution_count": 90,
   "metadata": {},
   "outputs": [
    {
     "name": "stdout",
     "output_type": "stream",
     "text": [
      "Help on class You in module __main__:\n",
      "\n",
      "class You(Parents)\n",
      " |  Method resolution order:\n",
      " |      You\n",
      " |      Parents\n",
      " |      Grandparents\n",
      " |      builtins.object\n",
      " |  \n",
      " |  Methods defined here:\n",
      " |  \n",
      " |  Phone(self)\n",
      " |  \n",
      " |  ----------------------------------------------------------------------\n",
      " |  Methods inherited from Parents:\n",
      " |  \n",
      " |  car(self)\n",
      " |  \n",
      " |  ----------------------------------------------------------------------\n",
      " |  Methods inherited from Grandparents:\n",
      " |  \n",
      " |  bunglow(self)\n",
      " |  \n",
      " |  ----------------------------------------------------------------------\n",
      " |  Data descriptors inherited from Grandparents:\n",
      " |  \n",
      " |  __dict__\n",
      " |      dictionary for instance variables (if defined)\n",
      " |  \n",
      " |  __weakref__\n",
      " |      list of weak references to the object (if defined)\n",
      "\n"
     ]
    }
   ],
   "source": [
    "help(You)"
   ]
  },
  {
   "cell_type": "code",
   "execution_count": 92,
   "metadata": {
    "colab": {
     "base_uri": "https://localhost:8080/",
     "height": 182
    },
    "executionInfo": {
     "elapsed": 384,
     "status": "error",
     "timestamp": 1675197339393,
     "user": {
      "displayName": "naz nazira",
      "userId": "06694449877078577923"
     },
     "user_tz": -330
    },
    "id": "khUjraw4isbb",
    "outputId": "4d22cc8e-f665-4fe7-fd8f-91b9c3637cff"
   },
   "outputs": [
    {
     "data": {
      "text/plain": [
       "'Goa Bunglow'"
      ]
     },
     "execution_count": 92,
     "metadata": {},
     "output_type": "execute_result"
    }
   ],
   "source": [
    "dad = Parents()\n",
    "dad.bunglow()"
   ]
  },
  {
   "cell_type": "markdown",
   "metadata": {
    "id": "JufSZI-ti0zL"
   },
   "source": [
    "##### Hierarchical Inheritance\n",
    "\n",
    "- one parent class and multiple child classes.\n",
    "\n",
    "![image.png](data:image/png;base64,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)"
   ]
  },
  {
   "cell_type": "code",
   "execution_count": 93,
   "metadata": {
    "colab": {
     "base_uri": "https://localhost:8080/"
    },
    "executionInfo": {
     "elapsed": 476,
     "status": "ok",
     "timestamp": 1675197450055,
     "user": {
      "displayName": "naz nazira",
      "userId": "06694449877078577923"
     },
     "user_tz": -330
    },
    "id": "shGAn6wtjDyd",
    "outputId": "19cc74a8-cbdd-4019-b08b-d1d0c61f0e7c"
   },
   "outputs": [
    {
     "name": "stdout",
     "output_type": "stream",
     "text": [
      "This is Vehicle\n",
      "Car name is: BMW\n",
      "This is Vehicle\n",
      "Truck name is: Ford\n"
     ]
    }
   ],
   "source": [
    "class Vehicle:\n",
    "    def info(self):\n",
    "        print(\"This is Vehicle\")\n",
    "\n",
    "class Car(Vehicle):\n",
    "    def car_info(self, name):\n",
    "        print(\"Car name is:\", name)\n",
    "\n",
    "class Truck(Vehicle):\n",
    "    def truck_info(self, name):\n",
    "        print(\"Truck name is:\", name)\n",
    "\n",
    "obj1 = Car()\n",
    "obj1.info()\n",
    "obj1.car_info('BMW')\n",
    "\n",
    "obj2 = Truck()\n",
    "obj2.info()\n",
    "obj2.truck_info('Ford')"
   ]
  },
  {
   "cell_type": "code",
   "execution_count": 94,
   "metadata": {},
   "outputs": [
    {
     "data": {
      "text/plain": [
       "[__main__.Vehicle, object]"
      ]
     },
     "execution_count": 94,
     "metadata": {},
     "output_type": "execute_result"
    }
   ],
   "source": [
    "Vehicle.mro()"
   ]
  },
  {
   "cell_type": "code",
   "execution_count": 95,
   "metadata": {},
   "outputs": [
    {
     "data": {
      "text/plain": [
       "[__main__.Car, __main__.Vehicle, object]"
      ]
     },
     "execution_count": 95,
     "metadata": {},
     "output_type": "execute_result"
    }
   ],
   "source": [
    "Car.mro()"
   ]
  },
  {
   "cell_type": "code",
   "execution_count": 96,
   "metadata": {},
   "outputs": [
    {
     "data": {
      "text/plain": [
       "[__main__.Truck, __main__.Vehicle, object]"
      ]
     },
     "execution_count": 96,
     "metadata": {},
     "output_type": "execute_result"
    }
   ],
   "source": [
    "Truck.mro()"
   ]
  },
  {
   "cell_type": "markdown",
   "metadata": {
    "id": "Iqb6ZXQbjLsk"
   },
   "source": [
    "##### Hybrid Inheritance\n",
    "- When inheritance is consists of multiple types or a combination of different inheritance is called hybrid inheritance.\n",
    "\n",
    "![image.png](data:image/png;base64,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)"
   ]
  },
  {
   "cell_type": "code",
   "execution_count": 97,
   "metadata": {
    "colab": {
     "base_uri": "https://localhost:8080/"
    },
    "executionInfo": {
     "elapsed": 386,
     "status": "ok",
     "timestamp": 1675197522509,
     "user": {
      "displayName": "naz nazira",
      "userId": "06694449877078577923"
     },
     "user_tz": -330
    },
    "id": "gxEP8MNajY6k",
    "outputId": "1ecbfe8b-6f47-48ed-d0ca-f2a737511856"
   },
   "outputs": [
    {
     "name": "stdout",
     "output_type": "stream",
     "text": [
      "Inside Vehicle class\n",
      "Inside Car class\n",
      "Inside SportsCar class\n"
     ]
    }
   ],
   "source": [
    "class Vehicle:\n",
    "    def vehicle_info(self):\n",
    "        print(\"Inside Vehicle class\")\n",
    "\n",
    "class Car(Vehicle):\n",
    "    def car_info(self):\n",
    "        print(\"Inside Car class\")\n",
    "\n",
    "class Truck(Vehicle):\n",
    "    def truck_info(self):\n",
    "        print(\"Inside Truck class\")\n",
    "\n",
    "# Sports Car can inherits properties of Vehicle and Car\n",
    "class SportsCar(Car, Vehicle):\n",
    "    def sports_car_info(self):\n",
    "        print(\"Inside SportsCar class\")\n",
    "\n",
    "# create object\n",
    "s_car = SportsCar()\n",
    "s_car.vehicle_info()\n",
    "s_car.car_info()\n",
    "s_car.sports_car_info()"
   ]
  },
  {
   "cell_type": "code",
   "execution_count": 98,
   "metadata": {},
   "outputs": [
    {
     "data": {
      "text/plain": [
       "[__main__.SportsCar, __main__.Car, __main__.Vehicle, object]"
      ]
     },
     "execution_count": 98,
     "metadata": {},
     "output_type": "execute_result"
    }
   ],
   "source": [
    "SportsCar.mro()"
   ]
  },
  {
   "cell_type": "markdown",
   "metadata": {
    "id": "xF-UAYpcjgzO"
   },
   "source": [
    "#### super()\n",
    "\n",
    "- In child class, we can refer to parent class by using the super() function.\n",
    "- The super function returns a temporary object of the parent class that allows us to call a parent class method inside a child class method."
   ]
  },
  {
   "cell_type": "code",
   "execution_count": 123,
   "metadata": {},
   "outputs": [
    {
     "name": "stdout",
     "output_type": "stream",
     "text": [
      "Constructor B\n",
      "Constructor C\n",
      "Constructor D\n"
     ]
    }
   ],
   "source": [
    "class A:\n",
    "    def __init__(self):\n",
    "        print(\"Constructor A\")\n",
    "    def play(self):\n",
    "        print(\"In A\")\n",
    "class B:\n",
    "    def __init__(self):\n",
    "        print(\"Constructor B\")\n",
    "class C:\n",
    "    def __init__(self):\n",
    "        super().__init__()\n",
    "        print(\"Constructor C\")\n",
    "class D(C):\n",
    "    def __init__(self):\n",
    "        super().__init__()\n",
    "        print(\"Constructor D\")\n",
    "    def play(self):\n",
    "        super().play()\n",
    "        print(\"In D\")\n",
    "\n",
    "d1 = D()"
   ]
  },
  {
   "cell_type": "code",
   "execution_count": 109,
   "metadata": {},
   "outputs": [
    {
     "name": "stdout",
     "output_type": "stream",
     "text": [
      "Help on class C in module __main__:\n",
      "\n",
      "class C(builtins.object)\n",
      " |  Methods defined here:\n",
      " |  \n",
      " |  __init__(self)\n",
      " |      Initialize self.  See help(type(self)) for accurate signature.\n",
      " |  \n",
      " |  ----------------------------------------------------------------------\n",
      " |  Data descriptors defined here:\n",
      " |  \n",
      " |  __dict__\n",
      " |      dictionary for instance variables (if defined)\n",
      " |  \n",
      " |  __weakref__\n",
      " |      list of weak references to the object (if defined)\n",
      "\n"
     ]
    }
   ],
   "source": [
    "help(C)"
   ]
  },
  {
   "cell_type": "code",
   "execution_count": null,
   "metadata": {},
   "outputs": [],
   "source": [
    "d1.play()"
   ]
  },
  {
   "cell_type": "code",
   "execution_count": null,
   "metadata": {
    "colab": {
     "base_uri": "https://localhost:8080/"
    },
    "executionInfo": {
     "elapsed": 497,
     "status": "ok",
     "timestamp": 1688204646640,
     "user": {
      "displayName": "naz nazira",
      "userId": "06694449877078577923"
     },
     "user_tz": -330
    },
    "id": "s9rwLfBOjZCR",
    "outputId": "717a3b42-589f-4eb0-9369-103bfec40a29"
   },
   "outputs": [],
   "source": [
    "class Company:\n",
    "    def company_name(self):\n",
    "        return 'Google'\n",
    "\n",
    "class Family:\n",
    "    ...\n",
    "\n",
    "class Employee(Family,Company):\n",
    "  def __init__(self, name):\n",
    "    self.name = name\n",
    "\n",
    "  def info(self):\n",
    "      # Calling the superclass method using super()function\n",
    "      c_name = super().company_name()\n",
    "      print(f\"{self.name} works at {c_name}\")\n",
    "\n",
    "# Creating object of child class\n",
    "emp = Employee(\"John\")\n",
    "emp.info()"
   ]
  },
  {
   "cell_type": "code",
   "execution_count": null,
   "metadata": {
    "colab": {
     "base_uri": "https://localhost:8080/"
    },
    "executionInfo": {
     "elapsed": 443,
     "status": "ok",
     "timestamp": 1687597018497,
     "user": {
      "displayName": "naz nazira",
      "userId": "06694449877078577923"
     },
     "user_tz": -330
    },
    "id": "TOis_2U0ntBu",
    "outputId": "0a351d93-8572-4242-a5cb-2119c9475321"
   },
   "outputs": [],
   "source": [
    "help(Employee)"
   ]
  },
  {
   "cell_type": "code",
   "execution_count": null,
   "metadata": {
    "colab": {
     "base_uri": "https://localhost:8080/"
    },
    "executionInfo": {
     "elapsed": 3,
     "status": "ok",
     "timestamp": 1688204649545,
     "user": {
      "displayName": "naz nazira",
      "userId": "06694449877078577923"
     },
     "user_tz": -330
    },
    "id": "7FGE2RoMnf27",
    "outputId": "e618ca82-29f7-42ce-cf3f-50156ab40c9a"
   },
   "outputs": [],
   "source": [
    "Employee.mro()"
   ]
  },
  {
   "cell_type": "code",
   "execution_count": null,
   "metadata": {
    "colab": {
     "base_uri": "https://localhost:8080/",
     "height": 35
    },
    "executionInfo": {
     "elapsed": 5,
     "status": "ok",
     "timestamp": 1685697042791,
     "user": {
      "displayName": "naz nazira",
      "userId": "06694449877078577923"
     },
     "user_tz": -330
    },
    "id": "3GFKunBzAo_P",
    "outputId": "8d408d25-d2b3-421f-b37c-fc5e576e0a9a"
   },
   "outputs": [],
   "source": [
    "class Employee(Family,Company):\n",
    "  def __init__(self, name,salary):\n",
    "    self.name = name\n",
    "\n",
    "  def info(self):\n",
    "      # Calling the superclass method using super()function\n",
    "      c_name = super().company_name()\n",
    "      print(f\"{self.name} works at {c_name}\")\n",
    "\n",
    "class Developer(Employee):\n",
    "  def __init__(self, dept, name,salary):\n",
    "    super().__init__(name,salary)\n",
    "    self.dept = dept\n",
    "\n",
    "  def info(self):\n",
    "      super().info()\n",
    "      print(\"Dev\")\n",
    "\n",
    "dev1 = Developer(\"IT\",\"John\", 50000)\n",
    "dev1.info()"
   ]
  },
  {
   "cell_type": "markdown",
   "metadata": {
    "id": "nE6FXNXhyVcZ",
    "jp-MarkdownHeadingCollapsed": true
   },
   "source": [
    "#### Method Resolution Order (MRO):\n",
    "\n",
    "- In Python, Method Resolution Order(MRO) is the order by which Python looks for a method or attribute. First, the method or attribute is searched within a class, and then it follows the order we specified while inheriting.\n",
    "\n",
    "- In multiple inheritance, the following search order is followed.\n",
    "\n",
    "  1. First, it searches in the current parent class if not available, then searches in the parents class specified while inheriting (that is left to right.)\n",
    "  2. We can get the MRO of a class. For this purpose, we can use either the mro attribute or the mro() method.\n"
   ]
  },
  {
   "cell_type": "code",
   "execution_count": null,
   "metadata": {
    "colab": {
     "base_uri": "https://localhost:8080/"
    },
    "executionInfo": {
     "elapsed": 530,
     "status": "ok",
     "timestamp": 1687597473411,
     "user": {
      "displayName": "naz nazira",
      "userId": "06694449877078577923"
     },
     "user_tz": -330
    },
    "id": "1ZyMi7ZIYbKv",
    "outputId": "5f0480dc-decd-49e7-b471-7965e7616f23"
   },
   "outputs": [],
   "source": [
    "help(ArithmeticError)"
   ]
  },
  {
   "cell_type": "code",
   "execution_count": null,
   "metadata": {
    "colab": {
     "base_uri": "https://localhost:8080/"
    },
    "executionInfo": {
     "elapsed": 544,
     "status": "ok",
     "timestamp": 1687597577244,
     "user": {
      "displayName": "naz nazira",
      "userId": "06694449877078577923"
     },
     "user_tz": -330
    },
    "id": "XilC1mt1p0Jl",
    "outputId": "09db7c99-5cbe-426b-f50a-2dee06d530b6"
   },
   "outputs": [],
   "source": [
    "help(ZeroDivisionError)"
   ]
  },
  {
   "cell_type": "code",
   "execution_count": null,
   "metadata": {
    "colab": {
     "base_uri": "https://localhost:8080/"
    },
    "executionInfo": {
     "elapsed": 431,
     "status": "ok",
     "timestamp": 1685697503957,
     "user": {
      "displayName": "naz nazira",
      "userId": "06694449877078577923"
     },
     "user_tz": -330
    },
    "id": "D3Hw1elFlG5C",
    "outputId": "e98cd987-92bb-44f0-94fe-8410c7169e4e"
   },
   "outputs": [],
   "source": [
    "class A:\n",
    "    def process(self):\n",
    "        print(\" In class A\")\n",
    "\n",
    "class B(A):\n",
    "    def process(self):\n",
    "        print(\" In class B\")\n",
    "\n",
    "class C(B, A):\n",
    "  pass\n",
    "    # def process(self):\n",
    "    #     print(\" In class C\")\n",
    "\n",
    "# Creating object of C class\n",
    "C1 = C()\n",
    "C1.process()\n",
    "print(B.mro())"
   ]
  },
  {
   "cell_type": "markdown",
   "metadata": {
    "id": "8Bx0HXRR8D2n"
   },
   "source": [
    "#### passing additional parameters to subclass more than parent class"
   ]
  },
  {
   "cell_type": "code",
   "execution_count": null,
   "metadata": {
    "colab": {
     "base_uri": "https://localhost:8080/"
    },
    "executionInfo": {
     "elapsed": 393,
     "status": "ok",
     "timestamp": 1675198120506,
     "user": {
      "displayName": "naz nazira",
      "userId": "06694449877078577923"
     },
     "user_tz": -330
    },
    "id": "J7EPqIgA7uEA",
    "outputId": "c525df11-9bb6-4ec7-e8e4-7eb1c11faeed"
   },
   "outputs": [],
   "source": [
    "class Employee:\n",
    "\n",
    "  def __init__(self, name, salary):\n",
    "    self.name = name\n",
    "    self.salary = salary\n",
    "\n",
    "  def create_email_id(self):\n",
    "    self.email_id = self.name + \"@google.com\"\n",
    "\n",
    "class Developer(Employee):\n",
    "  raise_amount = 1.10\n",
    "\n",
    "  def __init__(self, name, salary, prog_lang):\n",
    "    super().__init__(name, salary)              # Calling parent class constructor\n",
    "    self.prog_lang = prog_lang\n",
    "\n",
    "dev1 = Developer(\"abc\", 90000, \"Python\")\n",
    "dev1.create_email_id()\n",
    "dev1.email_id, dev1.prog_lang"
   ]
  },
  {
   "cell_type": "code",
   "execution_count": null,
   "metadata": {
    "colab": {
     "base_uri": "https://localhost:8080/"
    },
    "executionInfo": {
     "elapsed": 395,
     "status": "ok",
     "timestamp": 1675198127530,
     "user": {
      "displayName": "naz nazira",
      "userId": "06694449877078577923"
     },
     "user_tz": -330
    },
    "id": "5r7wN_RVELBC",
    "outputId": "ab9239d5-5fda-4cf6-a6b1-46fb93492ff9"
   },
   "outputs": [],
   "source": [
    "class Manager(Employee):\n",
    "\n",
    "  def __init__(self, name, salary, employees = None):\n",
    "    super().__init__(name, salary)\n",
    "    if employees == None:\n",
    "      self.employees = []\n",
    "    else:\n",
    "      self.employees = employees\n",
    "\n",
    "  def add_employee(self, emp):\n",
    "    if emp not in self.employees:\n",
    "      self.employees.append(emp)\n",
    "\n",
    "  def remove_employee(self, emp):\n",
    "    if emp in self.employees:\n",
    "      self.employees.remove(emp)\n",
    "\n",
    "  def print_employee(self):\n",
    "    for emp in self.employees:\n",
    "      print(\"---->\", emp.name)\n",
    "\n",
    "dev1 = Developer(\"abc\", 90000, \"Python\")\n",
    "emp1 = Employee(\"Suzi\", 40000)\n",
    "\n",
    "\n",
    "mgr1 = Manager(\"Smith\", 150000, [dev1, emp1])\n",
    "mgr1.print_employee()"
   ]
  },
  {
   "cell_type": "code",
   "execution_count": null,
   "metadata": {
    "colab": {
     "base_uri": "https://localhost:8080/"
    },
    "executionInfo": {
     "elapsed": 3,
     "status": "ok",
     "timestamp": 1675198131205,
     "user": {
      "displayName": "naz nazira",
      "userId": "06694449877078577923"
     },
     "user_tz": -330
    },
    "id": "TxioBIWVGInS",
    "outputId": "5cd31dc8-2e03-42bf-a7fa-5a4f63523af8"
   },
   "outputs": [],
   "source": [
    "dev2 = Developer(\"Rohit\", 90000, \"Java\")\n",
    "mgr1.add_employee(dev2)\n",
    "mgr1.print_employee()"
   ]
  },
  {
   "cell_type": "code",
   "execution_count": null,
   "metadata": {
    "colab": {
     "base_uri": "https://localhost:8080/"
    },
    "executionInfo": {
     "elapsed": 4,
     "status": "ok",
     "timestamp": 1675198134267,
     "user": {
      "displayName": "naz nazira",
      "userId": "06694449877078577923"
     },
     "user_tz": -330
    },
    "id": "dtGy3BUsHgeZ",
    "outputId": "fd406efd-5bf4-41f8-85c0-eeb343fdab40"
   },
   "outputs": [],
   "source": [
    "mgr1.remove_employee(emp1)\n",
    "mgr1.print_employee()"
   ]
  },
  {
   "cell_type": "code",
   "execution_count": null,
   "metadata": {},
   "outputs": [],
   "source": [
    "class Grandparent(object):\n",
    "    def info(self):\n",
    "        print(\"GP info\")\n",
    "\n",
    "class Parent(Grandparent):\n",
    "    def info(self):\n",
    "        print(\"P info\")\n",
    "\n",
    "class child(Parent):\n",
    "    def info(self):\n",
    "        print(\"Child info\")\n",
    "\n",
    "    def info2(self):\n",
    "        super().info()\n",
    "\n",
    "c1 = child()\n",
    "c1.info2()"
   ]
  },
  {
   "cell_type": "code",
   "execution_count": null,
   "metadata": {},
   "outputs": [],
   "source": [
    "class A:\n",
    "    def __init__(self):\n",
    "        print(\"Init\")\n",
    "    def __new__(cls):\n",
    "        print(\"New\")\n",
    "        return super().__new__(cls)\n",
    "\n",
    "obj = A()"
   ]
  },
  {
   "cell_type": "code",
   "execution_count": null,
   "metadata": {},
   "outputs": [],
   "source": [
    "class Demo:\n",
    "    def __new__(self):\n",
    "        self.__init__(self)\n",
    "        print(\"Demo's __new__() invoked\")\n",
    "    def __init__(self):\n",
    "        print(\"Demo's __init__() invoked\")\n",
    "class Derived_Demo(Demo):\n",
    "    def __new__(self):\n",
    "        print(\"Derived_Demo's __new__() invoked\")\n",
    "    def __init__(self):\n",
    "        print(\"Derived_Demo's __init__() invoked\")\n",
    "def main():\n",
    "    obj1 = Derived_Demo()\n",
    "    obj2 = Demo()\n",
    "main()"
   ]
  },
  {
   "cell_type": "markdown",
   "metadata": {
    "id": "Wof1IRrdmBdR"
   },
   "source": [
    "### 3.Polymorphism\n",
    "\n",
    "- \"Poly\" means \"many\" & \"morph\" means \"forms\"\n",
    "- One object taking many forms\n",
    "\n",
    "![image.png](data:image/png;base64,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)\n"
   ]
  },
  {
   "cell_type": "markdown",
   "metadata": {
    "id": "Am-ovwMj1Hg9"
   },
   "source": [
    "#### 1. Polymorphism in operator's (Operator Overloading)\n",
    "\n",
    "Operator overloading means changing the default behavior of an operator depending on the operands (values) that we use. In other words, we can use the same operator for multiple purposes."
   ]
  },
  {
   "cell_type": "code",
   "execution_count": 124,
   "metadata": {
    "colab": {
     "base_uri": "https://localhost:8080/"
    },
    "executionInfo": {
     "elapsed": 369,
     "status": "ok",
     "timestamp": 1688363842258,
     "user": {
      "displayName": "naz nazira",
      "userId": "06694449877078577923"
     },
     "user_tz": -330
    },
    "id": "SpJaGPE3CAy1",
    "outputId": "fd9c4c18-9947-4030-a186-8259bd673511"
   },
   "outputs": [
    {
     "data": {
      "text/plain": [
       "30"
      ]
     },
     "execution_count": 124,
     "metadata": {},
     "output_type": "execute_result"
    }
   ],
   "source": [
    "10+20"
   ]
  },
  {
   "cell_type": "code",
   "execution_count": 125,
   "metadata": {
    "colab": {
     "base_uri": "https://localhost:8080/",
     "height": 36
    },
    "executionInfo": {
     "elapsed": 339,
     "status": "ok",
     "timestamp": 1688363846118,
     "user": {
      "displayName": "naz nazira",
      "userId": "06694449877078577923"
     },
     "user_tz": -330
    },
    "id": "b5UkGtQdyNVn",
    "outputId": "2f6e7876-1d53-4a83-fd41-4c90bc2f9300"
   },
   "outputs": [
    {
     "data": {
      "text/plain": [
       "'1020'"
      ]
     },
     "execution_count": 125,
     "metadata": {},
     "output_type": "execute_result"
    }
   ],
   "source": [
    "'10'+'20'"
   ]
  },
  {
   "cell_type": "code",
   "execution_count": 126,
   "metadata": {
    "colab": {
     "base_uri": "https://localhost:8080/"
    },
    "executionInfo": {
     "elapsed": 326,
     "status": "ok",
     "timestamp": 1688363856157,
     "user": {
      "displayName": "naz nazira",
      "userId": "06694449877078577923"
     },
     "user_tz": -330
    },
    "id": "kJDzTaTiB9bk",
    "outputId": "fc0ecf2c-b23f-4389-b024-9b9b4b2ab06d"
   },
   "outputs": [
    {
     "data": {
      "text/plain": [
       "[1, 2, 3, 4, 5, 6]"
      ]
     },
     "execution_count": 126,
     "metadata": {},
     "output_type": "execute_result"
    }
   ],
   "source": [
    "[1,2,3]+[4,5,6]"
   ]
  },
  {
   "cell_type": "code",
   "execution_count": 127,
   "metadata": {
    "colab": {
     "base_uri": "https://localhost:8080/"
    },
    "executionInfo": {
     "elapsed": 358,
     "status": "ok",
     "timestamp": 1688363861742,
     "user": {
      "displayName": "naz nazira",
      "userId": "06694449877078577923"
     },
     "user_tz": -330
    },
    "id": "0gmn_WvFCia0",
    "outputId": "e4ddbbc8-6ff2-437e-ac6b-3d817815c745"
   },
   "outputs": [
    {
     "data": {
      "text/plain": [
       "200"
      ]
     },
     "execution_count": 127,
     "metadata": {},
     "output_type": "execute_result"
    }
   ],
   "source": [
    "10*20"
   ]
  },
  {
   "cell_type": "code",
   "execution_count": 128,
   "metadata": {
    "colab": {
     "base_uri": "https://localhost:8080/",
     "height": 36
    },
    "executionInfo": {
     "elapsed": 698,
     "status": "ok",
     "timestamp": 1688363865947,
     "user": {
      "displayName": "naz nazira",
      "userId": "06694449877078577923"
     },
     "user_tz": -330
    },
    "id": "j7594oAQCh_1",
    "outputId": "17ec6bc2-cc84-4bc8-8d85-36081f9df91a"
   },
   "outputs": [
    {
     "data": {
      "text/plain": [
       "'1010101010101010101010101010101010101010'"
      ]
     },
     "execution_count": 128,
     "metadata": {},
     "output_type": "execute_result"
    }
   ],
   "source": [
    "'10'*20"
   ]
  },
  {
   "cell_type": "code",
   "execution_count": 129,
   "metadata": {
    "colab": {
     "base_uri": "https://localhost:8080/"
    },
    "executionInfo": {
     "elapsed": 1354,
     "status": "ok",
     "timestamp": 1688363872960,
     "user": {
      "displayName": "naz nazira",
      "userId": "06694449877078577923"
     },
     "user_tz": -330
    },
    "id": "Qp6HMGYwCD8W",
    "outputId": "57d42c7c-5960-409c-b561-19182c7d6686"
   },
   "outputs": [
    {
     "data": {
      "text/plain": [
       "(1, 2, 3, 1, 2, 3, 1, 2, 3)"
      ]
     },
     "execution_count": 129,
     "metadata": {},
     "output_type": "execute_result"
    }
   ],
   "source": [
    "(1,2,3)*3"
   ]
  },
  {
   "cell_type": "code",
   "execution_count": 130,
   "metadata": {},
   "outputs": [
    {
     "data": {
      "text/plain": [
       "['__add__',\n",
       " '__class__',\n",
       " '__contains__',\n",
       " '__delattr__',\n",
       " '__dir__',\n",
       " '__doc__',\n",
       " '__eq__',\n",
       " '__format__',\n",
       " '__ge__',\n",
       " '__getattribute__',\n",
       " '__getitem__',\n",
       " '__getnewargs__',\n",
       " '__gt__',\n",
       " '__hash__',\n",
       " '__init__',\n",
       " '__init_subclass__',\n",
       " '__iter__',\n",
       " '__le__',\n",
       " '__len__',\n",
       " '__lt__',\n",
       " '__mod__',\n",
       " '__mul__',\n",
       " '__ne__',\n",
       " '__new__',\n",
       " '__reduce__',\n",
       " '__reduce_ex__',\n",
       " '__repr__',\n",
       " '__rmod__',\n",
       " '__rmul__',\n",
       " '__setattr__',\n",
       " '__sizeof__',\n",
       " '__str__',\n",
       " '__subclasshook__',\n",
       " 'capitalize',\n",
       " 'casefold',\n",
       " 'center',\n",
       " 'count',\n",
       " 'encode',\n",
       " 'endswith',\n",
       " 'expandtabs',\n",
       " 'find',\n",
       " 'format',\n",
       " 'format_map',\n",
       " 'index',\n",
       " 'isalnum',\n",
       " 'isalpha',\n",
       " 'isascii',\n",
       " 'isdecimal',\n",
       " 'isdigit',\n",
       " 'isidentifier',\n",
       " 'islower',\n",
       " 'isnumeric',\n",
       " 'isprintable',\n",
       " 'isspace',\n",
       " 'istitle',\n",
       " 'isupper',\n",
       " 'join',\n",
       " 'ljust',\n",
       " 'lower',\n",
       " 'lstrip',\n",
       " 'maketrans',\n",
       " 'partition',\n",
       " 'removeprefix',\n",
       " 'removesuffix',\n",
       " 'replace',\n",
       " 'rfind',\n",
       " 'rindex',\n",
       " 'rjust',\n",
       " 'rpartition',\n",
       " 'rsplit',\n",
       " 'rstrip',\n",
       " 'split',\n",
       " 'splitlines',\n",
       " 'startswith',\n",
       " 'strip',\n",
       " 'swapcase',\n",
       " 'title',\n",
       " 'translate',\n",
       " 'upper',\n",
       " 'zfill']"
      ]
     },
     "execution_count": 130,
     "metadata": {},
     "output_type": "execute_result"
    }
   ],
   "source": [
    "dir(str)"
   ]
  },
  {
   "cell_type": "code",
   "execution_count": 131,
   "metadata": {},
   "outputs": [
    {
     "data": {
      "text/plain": [
       "['__abs__',\n",
       " '__add__',\n",
       " '__and__',\n",
       " '__bool__',\n",
       " '__ceil__',\n",
       " '__class__',\n",
       " '__delattr__',\n",
       " '__dir__',\n",
       " '__divmod__',\n",
       " '__doc__',\n",
       " '__eq__',\n",
       " '__float__',\n",
       " '__floor__',\n",
       " '__floordiv__',\n",
       " '__format__',\n",
       " '__ge__',\n",
       " '__getattribute__',\n",
       " '__getnewargs__',\n",
       " '__gt__',\n",
       " '__hash__',\n",
       " '__index__',\n",
       " '__init__',\n",
       " '__init_subclass__',\n",
       " '__int__',\n",
       " '__invert__',\n",
       " '__le__',\n",
       " '__lshift__',\n",
       " '__lt__',\n",
       " '__mod__',\n",
       " '__mul__',\n",
       " '__ne__',\n",
       " '__neg__',\n",
       " '__new__',\n",
       " '__or__',\n",
       " '__pos__',\n",
       " '__pow__',\n",
       " '__radd__',\n",
       " '__rand__',\n",
       " '__rdivmod__',\n",
       " '__reduce__',\n",
       " '__reduce_ex__',\n",
       " '__repr__',\n",
       " '__rfloordiv__',\n",
       " '__rlshift__',\n",
       " '__rmod__',\n",
       " '__rmul__',\n",
       " '__ror__',\n",
       " '__round__',\n",
       " '__rpow__',\n",
       " '__rrshift__',\n",
       " '__rshift__',\n",
       " '__rsub__',\n",
       " '__rtruediv__',\n",
       " '__rxor__',\n",
       " '__setattr__',\n",
       " '__sizeof__',\n",
       " '__str__',\n",
       " '__sub__',\n",
       " '__subclasshook__',\n",
       " '__truediv__',\n",
       " '__trunc__',\n",
       " '__xor__',\n",
       " 'as_integer_ratio',\n",
       " 'bit_count',\n",
       " 'bit_length',\n",
       " 'conjugate',\n",
       " 'denominator',\n",
       " 'from_bytes',\n",
       " 'imag',\n",
       " 'numerator',\n",
       " 'real',\n",
       " 'to_bytes']"
      ]
     },
     "execution_count": 131,
     "metadata": {},
     "output_type": "execute_result"
    }
   ],
   "source": [
    "dir(int)"
   ]
  },
  {
   "cell_type": "code",
   "execution_count": 132,
   "metadata": {},
   "outputs": [
    {
     "data": {
      "text/plain": [
       "['__add__',\n",
       " '__class__',\n",
       " '__class_getitem__',\n",
       " '__contains__',\n",
       " '__delattr__',\n",
       " '__delitem__',\n",
       " '__dir__',\n",
       " '__doc__',\n",
       " '__eq__',\n",
       " '__format__',\n",
       " '__ge__',\n",
       " '__getattribute__',\n",
       " '__getitem__',\n",
       " '__gt__',\n",
       " '__hash__',\n",
       " '__iadd__',\n",
       " '__imul__',\n",
       " '__init__',\n",
       " '__init_subclass__',\n",
       " '__iter__',\n",
       " '__le__',\n",
       " '__len__',\n",
       " '__lt__',\n",
       " '__mul__',\n",
       " '__ne__',\n",
       " '__new__',\n",
       " '__reduce__',\n",
       " '__reduce_ex__',\n",
       " '__repr__',\n",
       " '__reversed__',\n",
       " '__rmul__',\n",
       " '__setattr__',\n",
       " '__setitem__',\n",
       " '__sizeof__',\n",
       " '__str__',\n",
       " '__subclasshook__',\n",
       " 'append',\n",
       " 'clear',\n",
       " 'copy',\n",
       " 'count',\n",
       " 'extend',\n",
       " 'index',\n",
       " 'insert',\n",
       " 'pop',\n",
       " 'remove',\n",
       " 'reverse',\n",
       " 'sort']"
      ]
     },
     "execution_count": 132,
     "metadata": {},
     "output_type": "execute_result"
    }
   ],
   "source": [
    "dir(list)"
   ]
  },
  {
   "cell_type": "code",
   "execution_count": 133,
   "metadata": {},
   "outputs": [
    {
     "data": {
      "text/plain": [
       "['__and__',\n",
       " '__class__',\n",
       " '__class_getitem__',\n",
       " '__contains__',\n",
       " '__delattr__',\n",
       " '__dir__',\n",
       " '__doc__',\n",
       " '__eq__',\n",
       " '__format__',\n",
       " '__ge__',\n",
       " '__getattribute__',\n",
       " '__gt__',\n",
       " '__hash__',\n",
       " '__iand__',\n",
       " '__init__',\n",
       " '__init_subclass__',\n",
       " '__ior__',\n",
       " '__isub__',\n",
       " '__iter__',\n",
       " '__ixor__',\n",
       " '__le__',\n",
       " '__len__',\n",
       " '__lt__',\n",
       " '__ne__',\n",
       " '__new__',\n",
       " '__or__',\n",
       " '__rand__',\n",
       " '__reduce__',\n",
       " '__reduce_ex__',\n",
       " '__repr__',\n",
       " '__ror__',\n",
       " '__rsub__',\n",
       " '__rxor__',\n",
       " '__setattr__',\n",
       " '__sizeof__',\n",
       " '__str__',\n",
       " '__sub__',\n",
       " '__subclasshook__',\n",
       " '__xor__',\n",
       " 'add',\n",
       " 'clear',\n",
       " 'copy',\n",
       " 'difference',\n",
       " 'difference_update',\n",
       " 'discard',\n",
       " 'intersection',\n",
       " 'intersection_update',\n",
       " 'isdisjoint',\n",
       " 'issubset',\n",
       " 'issuperset',\n",
       " 'pop',\n",
       " 'remove',\n",
       " 'symmetric_difference',\n",
       " 'symmetric_difference_update',\n",
       " 'union',\n",
       " 'update']"
      ]
     },
     "execution_count": 133,
     "metadata": {},
     "output_type": "execute_result"
    }
   ],
   "source": [
    "dir(set)"
   ]
  },
  {
   "cell_type": "code",
   "execution_count": 213,
   "metadata": {},
   "outputs": [],
   "source": [
    "class Book:\n",
    "    def __init__(self,no_of_pages):\n",
    "        self.pages = no_of_pages\n",
    "\n",
    "    # Polymorphism with operators\n",
    "    def __add__(self,other):\n",
    "        return self.pages + other.pages\n",
    "\n",
    "    def __lt__(self,other):\n",
    "        print(\"lt\")\n",
    "\n",
    "    def __gt__(self,other):\n",
    "        print(\"gt\")\n",
    "\n",
    "    # polymorphism with functions\n",
    "    def __str__(self):\n",
    "        return f'Pages : {self.pages}'\n",
    "\n",
    "    def __len__(self):\n",
    "        return self.pages\n",
    "\n",
    "    def __del__(self):\n",
    "        del self\n",
    "\n",
    "    # def __new__():\n",
    "    #     pass\n",
    "\n",
    "b1 = Book(200)\n",
    "b2 = Book(500)"
   ]
  },
  {
   "cell_type": "markdown",
   "metadata": {
    "id": "HIO5SkzHDTru"
   },
   "source": [
    "![image.png](data:image/png;base64,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)"
   ]
  },
  {
   "cell_type": "markdown",
   "metadata": {
    "id": "lcpgkXhq1lX4"
   },
   "source": [
    "#### 2. Polymorphism in Functions\n",
    "\n",
    "- There are some functions in Python which are compatible to run with multiple data types.\n",
    "- One such function is the len() function."
   ]
  },
  {
   "cell_type": "code",
   "execution_count": null,
   "metadata": {
    "colab": {
     "base_uri": "https://localhost:8080/"
    },
    "executionInfo": {
     "elapsed": 447,
     "status": "ok",
     "timestamp": 1687599750594,
     "user": {
      "displayName": "naz nazira",
      "userId": "06694449877078577923"
     },
     "user_tz": -330
    },
    "id": "UYPVuFVYwiyl",
    "outputId": "314fe876-4070-4130-8087-213a147ce1ad"
   },
   "outputs": [],
   "source": [
    "print(len(\"GuidoVanRossum\"))\n",
    "print(len([\"Python\", \"Java\", \"C\"]))\n",
    "print(len({\"Name\": \"John\", \"Address\": \"Nepal\"}))"
   ]
  },
  {
   "cell_type": "code",
   "execution_count": null,
   "metadata": {},
   "outputs": [],
   "source": [
    "dir(Employee)"
   ]
  },
  {
   "cell_type": "code",
   "execution_count": null,
   "metadata": {
    "colab": {
     "base_uri": "https://localhost:8080/"
    },
    "executionInfo": {
     "elapsed": 495,
     "status": "ok",
     "timestamp": 1687600087611,
     "user": {
      "displayName": "naz nazira",
      "userId": "06694449877078577923"
     },
     "user_tz": -330
    },
    "id": "1mcsV7cOyl6Q",
    "outputId": "02d726b4-d4ab-4485-ce7f-57881c23ca56"
   },
   "outputs": [],
   "source": [
    "# __len__\n",
    "class Book:\n",
    "\n",
    "    def __init__(self,pages):\n",
    "        self.pages = pages\n",
    "    \n",
    "    def __len__(self):\n",
    "        return self.pages\n",
    "\n",
    "\n",
    "b1 = Book(400)\n",
    "len(b1)"
   ]
  },
  {
   "cell_type": "code",
   "execution_count": null,
   "metadata": {},
   "outputs": [],
   "source": [
    "# __len__\n",
    "class Book:\n",
    "\n",
    "    def __init__(self,pages):\n",
    "        self.pages = pages\n",
    "    \n",
    "    def __len__(self):\n",
    "        return 1000\n",
    "\n",
    "class A(Book):\n",
    "    def __init__(self):\n",
    "        pass\n",
    "\n",
    "\n",
    "b1 = Book(400)\n",
    "a1 = A()\n",
    "len(a1)"
   ]
  },
  {
   "cell_type": "code",
   "execution_count": null,
   "metadata": {},
   "outputs": [],
   "source": [
    "class Employee:\n",
    "    def __init__(self, name, salary):\n",
    "        self.name = name\n",
    "        self.salary = salary\n",
    "    def __mul__(self, timesheet):\n",
    "        print('Worked for', timesheet.days, 'days')\n",
    "        return self.salary * timesheet.days\n",
    "    def __len__(self):\n",
    "        return len(self.name)\n",
    "    \n",
    "class TimeSheet:\n",
    "    def __init__(self, name, days):\n",
    "        self.name = name\n",
    "        self.days = days\n",
    "\n",
    "emp1 = Employee(\"Jessa\", 800)\n",
    "timesheet = TimeSheet(\"Jessa\", 50)\n",
    "print(\"salary is: \", emp1 * timesheet)\n",
    "len(emp1)"
   ]
  },
  {
   "cell_type": "code",
   "execution_count": null,
   "metadata": {},
   "outputs": [],
   "source": [
    "len(timesheet)"
   ]
  },
  {
   "cell_type": "code",
   "execution_count": null,
   "metadata": {},
   "outputs": [],
   "source": [
    "class Car:\n",
    "    def __init__(self, max_speed, unit):\n",
    "        self.max_speed = max_speed\n",
    "        self.unit = unit\n",
    "\n",
    "    def __str__(self):\n",
    "        return f\"This car has a speed of {self.max_speed} {self.unit}\"\n",
    "\n",
    "c1 = Car(120, 'kmph')\n",
    "print(c1)"
   ]
  },
  {
   "cell_type": "code",
   "execution_count": 223,
   "metadata": {},
   "outputs": [
    {
     "name": "stdout",
     "output_type": "stream",
     "text": [
      "Object created\n",
      "Arguments assigned\n",
      "In Str\n",
      "Object of class c with argument 10, 20\n"
     ]
    }
   ],
   "source": [
    "class A:\n",
    "    def __init__(self,a,b):\n",
    "        print(\"Arguments assigned\")\n",
    "        self.a = a\n",
    "        self.b = b\n",
    "\n",
    "    def __new__(cls,a,b):\n",
    "        print(\"Object created\")\n",
    "        return super().__new__(cls)\n",
    "\n",
    "    def __str__(self):\n",
    "        print(\"In Str\")\n",
    "        return f\"Object of class c with argument {self.a}, {self.b}\"\n",
    "\n",
    "a2 = A(10,20)\n",
    "print(a2)"
   ]
  },
  {
   "cell_type": "code",
   "execution_count": null,
   "metadata": {},
   "outputs": [],
   "source": [
    "# __del__\n",
    "class Car:\n",
    "  def __init__(self, max_speed, unit):\n",
    "    self.max_speed = max_speed\n",
    "    self.unit = unit\n",
    "\n",
    "  def __str__(self):\n",
    "    return f\"This is a car with {self.max_speed} {self.unit}\"\n",
    "\n",
    "  # def __del__(self):\n",
    "  #     print(\"deleted\")\n",
    "\n",
    "c = Car(90, 'mph')"
   ]
  },
  {
   "cell_type": "code",
   "execution_count": null,
   "metadata": {},
   "outputs": [],
   "source": [
    "c"
   ]
  },
  {
   "cell_type": "code",
   "execution_count": null,
   "metadata": {},
   "outputs": [],
   "source": [
    "del c"
   ]
  },
  {
   "cell_type": "code",
   "execution_count": null,
   "metadata": {},
   "outputs": [],
   "source": [
    "c"
   ]
  },
  {
   "cell_type": "code",
   "execution_count": 226,
   "metadata": {},
   "outputs": [
    {
     "name": "stdout",
     "output_type": "stream",
     "text": [
      "init...\n"
     ]
    }
   ],
   "source": [
    "# __new__\n",
    "class Car:\n",
    "    def __init__(self):\n",
    "        print(\"init...\")\n",
    "\n",
    "    def __new__(cls):\n",
    "        print(\"new...\")\n",
    "        return super().__new__(cls)\n",
    "c = Car() \n"
   ]
  },
  {
   "cell_type": "code",
   "execution_count": null,
   "metadata": {},
   "outputs": [],
   "source": [
    "dir(dict)"
   ]
  },
  {
   "cell_type": "code",
   "execution_count": null,
   "metadata": {},
   "outputs": [],
   "source": [
    "class Car:\n",
    "    def __init__(self):\n",
    "        self.models = []\n",
    "\n",
    "    def add_models(self,*model):\n",
    "        self.models.extend(model)\n",
    "\n",
    "    def __getitem__(self,i):\n",
    "        return self.models[i]\n",
    "\n",
    "    def __setitem__(self,i,model):\n",
    "        self.models[i] = model\n",
    "\n",
    "c = Car()\n",
    "c.add_models('BMW-X5', 'Swift')"
   ]
  },
  {
   "cell_type": "code",
   "execution_count": null,
   "metadata": {},
   "outputs": [],
   "source": [
    "c[::]"
   ]
  },
  {
   "cell_type": "code",
   "execution_count": null,
   "metadata": {},
   "outputs": [],
   "source": [
    "c[0] = 'Audi-A8'"
   ]
  },
  {
   "cell_type": "code",
   "execution_count": null,
   "metadata": {},
   "outputs": [],
   "source": [
    "c[::]"
   ]
  },
  {
   "cell_type": "code",
   "execution_count": null,
   "metadata": {},
   "outputs": [],
   "source": [
    "class Account:\n",
    "    def __init__(self,acc_no,name, initial_balance):\n",
    "        self.details = {'acc_no' : acc_no,\n",
    "                       'name' : name,\n",
    "                       'balance' : initial_balance,\n",
    "                       'transaction_history' : [initial_balance]}\n",
    "    def deposit(self,amount):\n",
    "        self.details['balance'] += amount\n",
    "        self.details['transaction_history'].append(amount)\n",
    "    def withdrawal(self,amount):\n",
    "        if self.details['balance'] >= amount:\n",
    "            self.details['balance'] -= amount\n",
    "            self.details['transaction_history'].append(amount*-1)\n",
    "    def check_balance(self):\n",
    "        print(self.details['balance'])\n",
    "    def check_past_transactions(self):\n",
    "        print(self.details['transaction_history'])\n",
    "    def __getitem__(self,i):\n",
    "        return self.details['transaction_history'][i]"
   ]
  },
  {
   "cell_type": "code",
   "execution_count": null,
   "metadata": {},
   "outputs": [],
   "source": [
    "acc_1 = Account(123,'Dileep',500)\n",
    "acc_1.check_balance()\n",
    "acc_1.deposit(1000)\n",
    "acc_1.check_balance()\n",
    "acc_1.withdrawal(200)\n",
    "acc_1.check_balance()"
   ]
  },
  {
   "cell_type": "code",
   "execution_count": null,
   "metadata": {},
   "outputs": [],
   "source": [
    "acc_1.check_past_transactions()"
   ]
  },
  {
   "cell_type": "code",
   "execution_count": null,
   "metadata": {},
   "outputs": [],
   "source": [
    "acc_1[-1]"
   ]
  },
  {
   "cell_type": "markdown",
   "metadata": {
    "id": "4E2M25ST1ytF"
   },
   "source": [
    "#### 3.Polymorphism with Class methods\n",
    "- Use two different class types, in the same way."
   ]
  },
  {
   "cell_type": "code",
   "execution_count": null,
   "metadata": {
    "colab": {
     "base_uri": "https://localhost:8080/"
    },
    "executionInfo": {
     "elapsed": 567,
     "status": "ok",
     "timestamp": 1675235631140,
     "user": {
      "displayName": "naz nazira",
      "userId": "06694449877078577923"
     },
     "user_tz": -330
    },
    "id": "hXjRYbJjyPep",
    "outputId": "2958865d-166f-42ac-f1d0-f475db125b63"
   },
   "outputs": [],
   "source": [
    "class Sales:\n",
    "    def __init__(self, name):\n",
    "        self.name = name\n",
    "\n",
    "    def info(self):\n",
    "        print(f\"I am {self.name} from Sales Team\")\n",
    "\n",
    "\n",
    "class Operations:\n",
    "    def __init__(self, name):\n",
    "        self.name = name\n",
    "\n",
    "    def info(self):\n",
    "        print(f\"I am {self.name} from Operations Team\")\n",
    "\n",
    "\n",
    "sales = Sales(\"Carol\")\n",
    "optr = Operations(\"Suhas\")\n",
    "\n",
    "for candidate in (sales, optr):\n",
    "    candidate.info()"
   ]
  },
  {
   "cell_type": "markdown",
   "metadata": {
    "id": "GfCKSVhP2BhR"
   },
   "source": [
    "#### 4. Polymorphism with Inheritance\n",
    "- Like in other programming languages, the child classes in Python also inherit methods and attributes from the parent class. We can redefine certain methods and attributes specifically to fit the child class, which is known as **Method Overriding (Run-time Polymorphism).**\n",
    "\n",
    "- Polymorphism allows us to access these overridden methods and attributes that have the same name as the parent class."
   ]
  },
  {
   "cell_type": "code",
   "execution_count": null,
   "metadata": {
    "colab": {
     "base_uri": "https://localhost:8080/"
    },
    "executionInfo": {
     "elapsed": 1297,
     "status": "ok",
     "timestamp": 1685702354803,
     "user": {
      "displayName": "naz nazira",
      "userId": "06694449877078577923"
     },
     "user_tz": -330
    },
    "id": "r2eVRQv92LHL",
    "outputId": "6c8edaf9-0603-4deb-cef0-916172ee21df"
   },
   "outputs": [],
   "source": [
    "# Method Overriding\n",
    "\n",
    "from math import pi\n",
    "\n",
    "class Shape:\n",
    "    def __init__(self, name):\n",
    "        self.name = name\n",
    "\n",
    "    def area(self):\n",
    "        pass\n",
    "\n",
    "    def fact(self):\n",
    "        return \"I am a two-dimensional shape.\"\n",
    "\n",
    "    def __str__(self):\n",
    "        return self.name\n",
    "\n",
    "\n",
    "class Square(Shape):\n",
    "    def __init__(self, length):\n",
    "        super().__init__(\"Square\")\n",
    "        self.length = length\n",
    "\n",
    "    def area(self):\n",
    "        return self.length**2\n",
    "\n",
    "    def fact(self):\n",
    "        return \"Squares have each angle equal to 90 degrees.\"\n",
    "\n",
    "\n",
    "class Circle(Shape):\n",
    "    def __init__(self, radius):\n",
    "        super().__init__(\"Circle\")\n",
    "        self.radius = radius\n",
    "\n",
    "    def area(self):\n",
    "        return pi*self.radius**2\n",
    "\n",
    "\n",
    "a = Square(4)\n",
    "b = Circle(7)\n",
    "print(b.fact())\n",
    "print(a.fact())\n",
    "print(b.area())\n"
   ]
  },
  {
   "cell_type": "markdown",
   "metadata": {
    "id": "VxXrV_3g3Y0V"
   },
   "source": [
    "Due to polymorphism, the Python interpreter automatically recognizes that the fact() method for object a(Square class) is overridden. So, it uses the one defined in the child class.\n",
    "\n",
    "On the other hand, since the fact() method for object b isn't overridden, it is used from the Parent Shape class."
   ]
  },
  {
   "cell_type": "markdown",
   "metadata": {
    "id": "FCweql9G3vuC"
   },
   "source": [
    "**Compile-Time Polymorphism (Method Overloading):** create multiple methods with the same name but different arguments, is not possible in Python."
   ]
  },
  {
   "cell_type": "markdown",
   "metadata": {},
   "source": [
    "### 4.Abstraction\n",
    "\n",
    "- Hiding complex implementation details from the users and showing only signatures to them\n"
   ]
  },
  {
   "cell_type": "markdown",
   "metadata": {
    "id": "c-qbf73OtZb0"
   },
   "source": [
    "- Technically, it is a process by which data and functions are defined in such a way that only essential details can be seen and unwanted implementations are hidden\n",
    "- How abstraction is acheived in Python.\n",
    "  - Like in C++ and Java there are buitin abstract classes, python doesnt have that\n",
    "  - We use abc module to achieve abstraction in python\n",
    "\n",
    "- Syntax:\n",
    "```\n",
    "from abc import ABC,abstractmethod\n",
    "# abstract class\n",
    "class BaseClass(ABC):\n",
    "    # abstract method\n",
    "    # concrete method\n",
    "```\n",
    "\n",
    "- Abstract methods are methods that has declaration but no defination. Abstract methods are created using @abstractmethod decorator\n",
    "- Concrete methods are normal method"
   ]
  },
  {
   "cell_type": "code",
   "execution_count": 227,
   "metadata": {
    "id": "za8xBi_p25NA"
   },
   "outputs": [],
   "source": [
    "from abc import ABC, abstractmethod\n",
    "\n",
    "# Abstract Class\n",
    "class Employee(ABC):\n",
    "\n",
    "  # abstract method\n",
    "  @abstractmethod\n",
    "  def intro(self):\n",
    "    ...\n",
    "\n",
    "  # Concrete method\n",
    "  def greet(self):\n",
    "    print(\"Hello Folks\")"
   ]
  },
  {
   "cell_type": "code",
   "execution_count": 228,
   "metadata": {
    "colab": {
     "base_uri": "https://localhost:8080/",
     "height": 187
    },
    "executionInfo": {
     "elapsed": 501,
     "status": "error",
     "timestamp": 1688369549380,
     "user": {
      "displayName": "naz nazira",
      "userId": "06694449877078577923"
     },
     "user_tz": -330
    },
    "id": "vyQNZPZC4HSb",
    "outputId": "473cee9a-bdea-4fb8-cf27-bc9bdd7c1a53"
   },
   "outputs": [
    {
     "ename": "TypeError",
     "evalue": "Can't instantiate abstract class Employee with abstract method intro",
     "output_type": "error",
     "traceback": [
      "\u001b[1;31m---------------------------------------------------------------------------\u001b[0m",
      "\u001b[1;31mTypeError\u001b[0m                                 Traceback (most recent call last)",
      "Cell \u001b[1;32mIn[228], line 2\u001b[0m\n\u001b[0;32m      1\u001b[0m \u001b[38;5;66;03m# 1. We cannot create objects for Abstract class\u001b[39;00m\n\u001b[1;32m----> 2\u001b[0m emp1 \u001b[38;5;241m=\u001b[39m \u001b[43mEmployee\u001b[49m\u001b[43m(\u001b[49m\u001b[43m)\u001b[49m\n",
      "\u001b[1;31mTypeError\u001b[0m: Can't instantiate abstract class Employee with abstract method intro"
     ]
    }
   ],
   "source": [
    "# 1. We cannot create objects for Abstract class\n",
    "emp1 = Employee()"
   ]
  },
  {
   "cell_type": "code",
   "execution_count": 229,
   "metadata": {
    "colab": {
     "base_uri": "https://localhost:8080/"
    },
    "executionInfo": {
     "elapsed": 355,
     "status": "ok",
     "timestamp": 1688373598200,
     "user": {
      "displayName": "naz nazira",
      "userId": "06694449877078577923"
     },
     "user_tz": -330
    },
    "id": "IS8RYIIl6mYZ",
    "outputId": "f8f8a260-574a-48bd-ab05-b27fb6c1e7c5"
   },
   "outputs": [
    {
     "name": "stdout",
     "output_type": "stream",
     "text": [
      "True\n"
     ]
    }
   ],
   "source": [
    "import inspect\n",
    "print(inspect.isabstract(Employee))"
   ]
  },
  {
   "cell_type": "code",
   "execution_count": 230,
   "metadata": {
    "colab": {
     "base_uri": "https://localhost:8080/"
    },
    "executionInfo": {
     "elapsed": 5,
     "status": "ok",
     "timestamp": 1688373637303,
     "user": {
      "displayName": "naz nazira",
      "userId": "06694449877078577923"
     },
     "user_tz": -330
    },
    "id": "xB0vcUJ14MmF",
    "outputId": "2a3f3208-2524-4a43-89bd-d0967956bfd6"
   },
   "outputs": [],
   "source": [
    "# 2. A Class is said to be Abstract Class if it has one or more Abstract methods\n",
    "\n",
    "from abc import ABC, abstractmethod\n",
    "\n",
    "# Abstract Class\n",
    "class Employee(ABC):\n",
    "\n",
    "  def greet(self):\n",
    "    print(\"Hello Folks\")\n",
    "\n",
    "emp1 = Employee()\n"
   ]
  },
  {
   "cell_type": "code",
   "execution_count": 231,
   "metadata": {
    "colab": {
     "base_uri": "https://localhost:8080/"
    },
    "executionInfo": {
     "elapsed": 3,
     "status": "ok",
     "timestamp": 1688373638936,
     "user": {
      "displayName": "naz nazira",
      "userId": "06694449877078577923"
     },
     "user_tz": -330
    },
    "id": "R9R566WY6vos",
    "outputId": "e9494740-5ab9-4232-f24c-dfecb7ad1e27"
   },
   "outputs": [
    {
     "name": "stdout",
     "output_type": "stream",
     "text": [
      "False\n"
     ]
    }
   ],
   "source": [
    "import inspect\n",
    "print(inspect.isabstract(Employee))"
   ]
  },
  {
   "cell_type": "code",
   "execution_count": 232,
   "metadata": {},
   "outputs": [
    {
     "name": "stdout",
     "output_type": "stream",
     "text": [
      "True\n"
     ]
    }
   ],
   "source": [
    "# 2. A Class is said to be Abstract Class if it has one or more Abstract methods\n",
    "\n",
    "from abc import ABC, abstractmethod\n",
    "\n",
    "# Abstract Class\n",
    "class Employee(ABC):\n",
    "\n",
    "    @abstractmethod\n",
    "    def greet(self):\n",
    "        pass\n",
    "\n",
    "import inspect\n",
    "print(inspect.isabstract(Employee))"
   ]
  },
  {
   "cell_type": "code",
   "execution_count": 238,
   "metadata": {
    "id": "NMFOeZRR7A_q"
   },
   "outputs": [],
   "source": [
    "# 3. Usage of Abstract class:\n",
    "# When we need Same implementation of method for all child class then create using concrete method\n",
    "# If different implementations are needed for the same method among different child classes then create it as abstract method\n",
    "# where we can see only signature in the abstract class i.e declaraction of abstract methods and not the implementation\n",
    "\n",
    "from abc import ABC, abstractmethod\n",
    "\n",
    "# Abstract Class\n",
    "class Employee(ABC):\n",
    "\n",
    "  def __init__(self,name, field, experience):\n",
    "    self.name = name\n",
    "    self.field = field\n",
    "    self.experience = experience\n",
    "\n",
    "  # abstract method\n",
    "  @abstractmethod\n",
    "  def intro(self):\n",
    "    ...\n",
    "\n",
    "  # Concrete method\n",
    "  def greet(self):\n",
    "    print(\"Hello Folks\")\n",
    "\n",
    "class Developer(Employee):\n",
    "\n",
    "  def __init__(self, name, field, experience):\n",
    "    super().__init__(name, field, experience)\n",
    "\n",
    "  def intro(self):\n",
    "    print(f\"Hi. My name is {self.name}\\nI am a Developer with {self.experience} years of experience in {self.field}\")\n",
    "\n",
    "class Pilot(Employee):\n",
    "\n",
    "  def __init__(self, name, field, experience):\n",
    "    super().__init__(name, field, experience)\n",
    "\n",
    "  def intro(self):\n",
    "    print(f\"Hello All. My name is {self.name}\\nI am a Pilot with {self.experience} years of experience in {self.field}\")\n",
    "\n",
    "\n",
    "dev_1 = Developer(\"John\", 'Devops', 10)\n",
    "pilot_1 = Pilot(\"Jerry\", 'Mainline Carrier', 5)"
   ]
  },
  {
   "cell_type": "code",
   "execution_count": 239,
   "metadata": {
    "colab": {
     "base_uri": "https://localhost:8080/"
    },
    "executionInfo": {
     "elapsed": 501,
     "status": "ok",
     "timestamp": 1688373847798,
     "user": {
      "displayName": "naz nazira",
      "userId": "06694449877078577923"
     },
     "user_tz": -330
    },
    "id": "GbyBTYCO9pwy",
    "outputId": "de5c4426-154a-4395-99fb-c32947aef735"
   },
   "outputs": [
    {
     "name": "stdout",
     "output_type": "stream",
     "text": [
      "Hi. My name is John\n",
      "I am a Developer with 10 years of experience in Devops\n"
     ]
    }
   ],
   "source": [
    "dev_1.intro()"
   ]
  },
  {
   "cell_type": "code",
   "execution_count": 240,
   "metadata": {
    "colab": {
     "base_uri": "https://localhost:8080/"
    },
    "executionInfo": {
     "elapsed": 529,
     "status": "ok",
     "timestamp": 1688373858348,
     "user": {
      "displayName": "naz nazira",
      "userId": "06694449877078577923"
     },
     "user_tz": -330
    },
    "id": "hRhR8SoH9r72",
    "outputId": "a98bdc76-865f-4f4b-eac5-6f2453da241b"
   },
   "outputs": [
    {
     "name": "stdout",
     "output_type": "stream",
     "text": [
      "Hello All. My name is Jerry\n",
      "I am a Pilot with 5 years of experience in Mainline Carrier\n"
     ]
    }
   ],
   "source": [
    "pilot_1.intro()"
   ]
  },
  {
   "cell_type": "code",
   "execution_count": 241,
   "metadata": {
    "colab": {
     "base_uri": "https://localhost:8080/"
    },
    "executionInfo": {
     "elapsed": 328,
     "status": "ok",
     "timestamp": 1688373928090,
     "user": {
      "displayName": "naz nazira",
      "userId": "06694449877078577923"
     },
     "user_tz": -330
    },
    "id": "UcZIAwNw-T9A",
    "outputId": "56f68bde-43ed-45ff-f47a-eff3e5e6b2b8"
   },
   "outputs": [
    {
     "name": "stdout",
     "output_type": "stream",
     "text": [
      "Hello Folks\n",
      "Hello Folks\n"
     ]
    }
   ],
   "source": [
    "dev_1.greet()\n",
    "pilot_1.greet()"
   ]
  },
  {
   "cell_type": "code",
   "execution_count": null,
   "metadata": {
    "id": "ZsTA2ZN3AObk"
   },
   "outputs": [],
   "source": [
    "# abstract method is mandatory to be defined in all the child classes\n",
    "\n",
    "from abc import ABC, abstractmethod\n",
    "\n",
    "# Abstract Class\n",
    "class Employee(ABC):\n",
    "\n",
    "  def __init__(self,name, field, experience):\n",
    "    self.name = name\n",
    "    self.field = field\n",
    "    self.experience = experience\n",
    "\n",
    "  # abstract method\n",
    "  @abstractmethod\n",
    "  def intro(self):\n",
    "    ...\n",
    "\n",
    "  # Concrete method\n",
    "  def greet(self):\n",
    "    print(\"Hello Folks\")\n",
    "\n",
    "class Developer(Employee):\n",
    "\n",
    "  def __init__(self, name, field, experience):\n",
    "    super().__init__(name, field, experience)\n",
    "\n",
    "  def intro(self):\n",
    "    print(f\"Hi. My name is {self.name}\\nI am a Developer with {self.experience} years of experience in {self.field}\")\n",
    "\n",
    "class Pilot(Employee):\n",
    "\n",
    "  def __init__(self, name, field, experience):\n",
    "    super().__init__(name, field, experience)\n",
    "\n",
    "  def intro(self):\n",
    "    ...\n",
    "\n",
    "  # Not defining abstract method in one of the child class\n",
    "\n",
    "\n",
    "dev_1 = Developer(\"John\", 'Devops', 10)\n",
    "pilot_1 = Pilot(\"Jerry\", 'Mainline Carrier', 5)"
   ]
  },
  {
   "cell_type": "code",
   "execution_count": 246,
   "metadata": {},
   "outputs": [],
   "source": [
    "from abc import ABC, abstractmethod\n",
    "class C(ABC):\n",
    "    @abstractmethod\n",
    "    def fun1():\n",
    "        pass\n",
    "\n",
    "    def fun2():\n",
    "        print(\"Hi\")\n",
    "\n",
    "class B(C):\n",
    "    def fun1(self):\n",
    "        print(\"f1\")\n",
    "\n",
    "    def fun2():\n",
    "        print(\"Hello\")\n",
    "\n",
    "b1 = B()"
   ]
  },
  {
   "cell_type": "code",
   "execution_count": 247,
   "metadata": {},
   "outputs": [
    {
     "name": "stdout",
     "output_type": "stream",
     "text": [
      "f1\n"
     ]
    }
   ],
   "source": [
    "b1.fun1()"
   ]
  },
  {
   "cell_type": "markdown",
   "metadata": {
    "id": "Af0sHlHBBa0X"
   },
   "source": [
    "Summarising Abstract Class:\n",
    "\n",
    "1. A class which contains one or more abstract methods and zero or more concrete methods\n",
    "  - abstract method is created using @abstractmethod decorator\n",
    "  - concrete method are normal methods\n",
    "2. An Abstract class is a class which is inherited from ABC Class\n",
    "3. An Abstract Class can be considered as Blueprint for other child classes\n",
    "4. You cant instantiate Abstract classes\n",
    "5. When we need\n",
    "    - Same implementation of method for all child class then create using concrete method\n",
    "    - If different implementations are needed for the same method among different child classes then create it as abstract method where we can see only signature in the abstract class i.e declaraction of abstract methods and not the implementation\n",
    "6. All abstract methods present in the abstract class must be implementaed in the child class\n",
    "\n",
    "Uses of Abstraction:\n",
    "https://www.youtube.com/watch?v=TcIM2NrxPyU\n"
   ]
  },
  {
   "cell_type": "markdown",
   "metadata": {},
   "source": [
    "## Interface\n",
    "- In python, the concept of interface is not explicitly available like other languages (java)\n",
    "- In Python, an interface is an abstract class which contains only abstract method but not a single concrete method"
   ]
  }
 ],
 "metadata": {
  "colab": {
   "collapsed_sections": [
    "BgH0UIIGFYdz",
    "Y870IYV5CLrY",
    "NzJ1XgJJq898",
    "U-gQvJgBxox6",
    "6UAnxgNfSq_8",
    "rSbSQJHwSwE1",
    "k8vzVPClQlW0",
    "3rbSJNDRekAI",
    "jvitpdZGELcS",
    "8nAsEjgeS0E3",
    "l-O80MYZSmv9",
    "LbFg8_mPwaWF",
    "3bxcCfGJzlaH",
    "iMp3uyR0OzEl",
    "BR4gQCvPfYTe",
    "C-H7FDoIZxIA",
    "2t8QJ0BHZ5R-",
    "PMSBdeh-GwPs",
    "lQx0bB5oV_h6",
    "lgYlQP5GP4la",
    "BRhV_mMF2908",
    "Zq1H1SRz5KJZ",
    "h6f_bk0BdaSc"
   ],
   "provenance": [],
   "toc_visible": true
  },
  "kernelspec": {
   "display_name": "Python 3 (ipykernel)",
   "language": "python",
   "name": "python3"
  },
  "language_info": {
   "codemirror_mode": {
    "name": "ipython",
    "version": 3
   },
   "file_extension": ".py",
   "mimetype": "text/x-python",
   "name": "python",
   "nbconvert_exporter": "python",
   "pygments_lexer": "ipython3",
   "version": "3.10.11"
  }
 },
 "nbformat": 4,
 "nbformat_minor": 4
}
