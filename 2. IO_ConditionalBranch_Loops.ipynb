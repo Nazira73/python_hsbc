{
 "cells": [
  {
   "cell_type": "markdown",
   "id": "f9f0c2a6-0fcb-4508-b781-577cfa5ccde8",
   "metadata": {
    "jp-MarkdownHeadingCollapsed": true
   },
   "source": [
    "# Conditional Branching"
   ]
  },
  {
   "cell_type": "markdown",
   "id": "ce260020-b9a1-41d1-9668-ea7b93862829",
   "metadata": {},
   "source": [
    "## if-elif-else"
   ]
  },
  {
   "cell_type": "markdown",
   "id": "a5b5a4e2-6371-420e-966b-9589926c84c9",
   "metadata": {
    "jp-MarkdownHeadingCollapsed": true
   },
   "source": [
    "**Syntax:**\n",
    "```\n",
    "if condition:\n",
    "  ......\n",
    "  ......\n",
    "elif condition:\n",
    "  .......\n",
    "  ......\n",
    "else:\n",
    "  .....\n",
    "  .....\n",
    "\n",
    "```\n",
    "*elif and else are optional*"
   ]
  },
  {
   "cell_type": "code",
   "execution_count": null,
   "id": "6f682cb8-fa4b-4723-97ea-92bf51ada6bf",
   "metadata": {},
   "outputs": [],
   "source": [
    "# WAP to check if a given number is even or odd\n",
    "\n",
    "num = int(input(\"Enter the number: \"))\n",
    "if num%2==0:\n",
    "    print(f\"{num} is even\")\n",
    "    print(\"Done\")\n",
    "elif num%2!=0:\n",
    "    print(f\"{num} is odd\")\n",
    "    print(\"Done\")\n",
    "print(\"All Done\")"
   ]
  },
  {
   "cell_type": "code",
   "execution_count": null,
   "id": "711073c8-1bf8-4e81-af8e-d1041aac9b8e",
   "metadata": {},
   "outputs": [],
   "source": [
    "# WAP to check if a given number is even or odd\n",
    "num = int(input(\"Enter the number: \"))\n",
    "if num%2==0:\n",
    "    print(f\"{num} is even\")\n",
    "    print(\"Done\")\n",
    "else:\n",
    "    print(f\"{num} is odd\")\n",
    "    print(\"Done\")\n",
    "print(\"All Done\")"
   ]
  },
  {
   "cell_type": "code",
   "execution_count": null,
   "id": "c3d2b984-0444-4365-bb5d-c66306013dcd",
   "metadata": {},
   "outputs": [],
   "source": [
    "# WAP to test if the given number is positive or negative or zero\n",
    "num = round(float(input(\"Enter the number: \")),2)\n",
    "if num > 0:\n",
    "    print(\"Positive\")\n",
    "elif num < 0:\n",
    "    print(\"Negative\")\n",
    "elif num == 0:\n",
    "    print(\"Zero\")"
   ]
  },
  {
   "cell_type": "code",
   "execution_count": null,
   "id": "aa7ee0d0-2ca2-4ef8-907f-89a35fae1476",
   "metadata": {},
   "outputs": [],
   "source": [
    "chr(230), ord('æ')"
   ]
  },
  {
   "cell_type": "code",
   "execution_count": null,
   "id": "172a6ef5-8a5b-486f-b7d7-f952ed2238a1",
   "metadata": {},
   "outputs": [],
   "source": [
    "# WAP for Transaction\n",
    "\n",
    "# Set an initial balance\n",
    "# Ask user for transaction type (deposit/withdrawal)\n",
    "# Ask for amount to be credited/debited\n",
    "# Give appropriate responses\n",
    "# Update the account balance\n",
    "\n",
    "balance = int(input(\"Enter the initial balance :\"))\n",
    "trans_type = input(\"Enter transaction type (ex . credit/debit) : \")\n",
    "trans_amount = int(input(\"Amount : \"))\n",
    "if trans_type == 'credit':\n",
    "    balance += trans_amount\n",
    "    print(f'{trans_amount} {chr(230)} credited succesfully. Current balance is {balance} Rs')\n",
    "elif trans_type == 'debit':\n",
    "    if balance >= trans_amount:\n",
    "        balance -= trans_amount\n",
    "        print(f'{trans_amount} Rs debited succesfully. Current balance is {balance} Rs')\n",
    "    else:\n",
    "        print(\"Insufficient funds\")\n",
    "else:\n",
    "    print(\"Invalid transaction type\")\n",
    "print(\"Thank You for banking with us!\")"
   ]
  },
  {
   "cell_type": "markdown",
   "id": "923a7cd5-fc00-414f-8cac-058c71a196e4",
   "metadata": {},
   "source": [
    "# Looping"
   ]
  },
  {
   "cell_type": "code",
   "execution_count": null,
   "id": "197b1825-d81d-45ea-b6db-2d114f494dfc",
   "metadata": {},
   "outputs": [],
   "source": [
    "DRY: Dont repeat yourself"
   ]
  },
  {
   "cell_type": "code",
   "execution_count": null,
   "id": "2947e2a2-5263-4b2d-81e0-a9b59f08d229",
   "metadata": {},
   "outputs": [],
   "source": [
    "print(\"Hello\")\n",
    "print(\"Hello\")\n",
    "print(\"Hello\")"
   ]
  },
  {
   "cell_type": "code",
   "execution_count": null,
   "id": "2b7f9f3a-427e-4c23-85b5-57569e6e769b",
   "metadata": {},
   "outputs": [],
   "source": [
    "for i in range(3):\n",
    "    print(\"hello\")\n",
    "    print(\"Hi\")"
   ]
  },
  {
   "cell_type": "markdown",
   "id": "de8e9b25-62f9-458e-b955-291f298d2661",
   "metadata": {
    "jp-MarkdownHeadingCollapsed": true
   },
   "source": [
    "- while\n",
    "- for"
   ]
  },
  {
   "cell_type": "markdown",
   "id": "8821db3b-b2fa-4923-bf48-cc43a9b6a463",
   "metadata": {},
   "source": [
    "## while"
   ]
  },
  {
   "cell_type": "markdown",
   "id": "c8150f48-9cc6-488a-bf71-654201f31085",
   "metadata": {
    "jp-MarkdownHeadingCollapsed": true
   },
   "source": [
    "**Syntax**\n",
    "```\n",
    "while cond:\n",
    "  .....\n",
    "  .....\n",
    "\n",
    "used when you want to do a process repeatatively until a goal is achieved\n",
    "```"
   ]
  },
  {
   "cell_type": "code",
   "execution_count": null,
   "id": "079b6153-3fde-40a9-92a4-43920d853170",
   "metadata": {},
   "outputs": [],
   "source": [
    "count = 3\n",
    "while count > 0:\n",
    "    print(count)\n",
    "    count -= 1\n",
    "print(\"Done\")"
   ]
  },
  {
   "cell_type": "code",
   "execution_count": null,
   "id": "cb0465fa-ba60-4122-af2a-e84c7b56650b",
   "metadata": {},
   "outputs": [],
   "source": [
    "# Sum of numbers until a negative number is encountered\n",
    "total = 0\n",
    "num = float(input(\"Enter the number:\"))\n",
    "while num > 0:\n",
    "    total += num\n",
    "    num = float(input(\"Enter the number:\"))\n",
    "print(total)"
   ]
  },
  {
   "cell_type": "markdown",
   "id": "494a8097-6f66-44d2-90eb-fdaadf102a3b",
   "metadata": {},
   "source": [
    "## for"
   ]
  },
  {
   "cell_type": "markdown",
   "id": "aa7632cb-f762-4be3-8e4b-5082edc989ba",
   "metadata": {
    "jp-MarkdownHeadingCollapsed": true
   },
   "source": [
    "**Syntax**\n",
    "```\n",
    "for par in iterable:\n",
    "  .....\n",
    "  .....\n",
    "\n",
    "used when you want to do a process repeatatively for a specific number of times\n",
    "```"
   ]
  },
  {
   "cell_type": "code",
   "execution_count": null,
   "id": "598b5169-a2d1-4af7-9bf2-73d52b4d8eef",
   "metadata": {},
   "outputs": [],
   "source": [
    "name = \"NUVAMA\"\n",
    "for char in name:\n",
    "    print(char)"
   ]
  },
  {
   "cell_type": "code",
   "execution_count": null,
   "id": "216b1985-61e2-4eb0-b19e-01982a10974b",
   "metadata": {},
   "outputs": [],
   "source": [
    "# >=14\n",
    "count = 0\n",
    "scores = [10,15,14,13,16]\n",
    "for score in scores:\n",
    "    if score >= 14:\n",
    "        count += 1\n",
    "count"
   ]
  },
  {
   "cell_type": "code",
   "execution_count": null,
   "id": "2b25d6a9-2508-43a9-99a1-731a01c3729d",
   "metadata": {},
   "outputs": [],
   "source": [
    "list(range(3))"
   ]
  },
  {
   "cell_type": "code",
   "execution_count": null,
   "id": "7ad75c9b-d7a3-4b43-9815-00abf87dd486",
   "metadata": {},
   "outputs": [],
   "source": [
    "list(range(8))"
   ]
  },
  {
   "cell_type": "code",
   "execution_count": null,
   "id": "38784749-f66c-4bf0-b935-2eac66c2c4d4",
   "metadata": {},
   "outputs": [],
   "source": [
    "list(range(2,8))"
   ]
  },
  {
   "cell_type": "code",
   "execution_count": null,
   "id": "e4fae9fd-1e01-4693-9c89-8de5211b7516",
   "metadata": {},
   "outputs": [],
   "source": [
    "# range(stop)\n",
    "# range(start=0,stop)\n",
    "# range(start,stop,step = 1)"
   ]
  },
  {
   "cell_type": "code",
   "execution_count": null,
   "id": "fc3c023f-5674-4189-bd5a-0837043ee0a4",
   "metadata": {},
   "outputs": [],
   "source": [
    "list(range(2,8,2))"
   ]
  },
  {
   "cell_type": "code",
   "execution_count": null,
   "id": "d5f16740-3d43-44b6-8810-c33c8e0a236f",
   "metadata": {},
   "outputs": [],
   "source": [
    "list(range(4,8,-1))"
   ]
  },
  {
   "cell_type": "code",
   "execution_count": null,
   "id": "fa13b99b-af03-4a3d-9275-13f30a4403dc",
   "metadata": {},
   "outputs": [],
   "source": [
    "list(range(8,4,-1))"
   ]
  },
  {
   "cell_type": "code",
   "execution_count": null,
   "id": "7000b8fa-6725-44aa-aa07-8fd5e5177e91",
   "metadata": {},
   "outputs": [],
   "source": [
    "numbers = range(8,4,-1)\n",
    "numbers"
   ]
  },
  {
   "cell_type": "code",
   "execution_count": null,
   "id": "f0adf661-7d91-4494-8084-1bbd0079070f",
   "metadata": {},
   "outputs": [],
   "source": [
    "dir(numbers)"
   ]
  },
  {
   "cell_type": "code",
   "execution_count": null,
   "id": "64c58e35-c152-4329-9685-6baf6888e19b",
   "metadata": {},
   "outputs": [],
   "source": [
    "-> positive step\n",
    "<- negative step"
   ]
  },
  {
   "cell_type": "code",
   "execution_count": null,
   "id": "f019c2df-3572-4bf2-9751-756404beb98a",
   "metadata": {},
   "outputs": [],
   "source": [
    "for i in range(5):\n",
    "    print(i)"
   ]
  },
  {
   "cell_type": "code",
   "execution_count": null,
   "id": "c2c8ce67-e871-4437-b395-d72b6c34b8d1",
   "metadata": {},
   "outputs": [],
   "source": [
    "# WAP to print hello 10 times\n",
    "for i in range(10):\n",
    "    print(f\"{i+1}.hello\")"
   ]
  },
  {
   "cell_type": "code",
   "execution_count": null,
   "id": "66c380a7-5abc-4e6e-a034-cbf60febe6f4",
   "metadata": {},
   "outputs": [],
   "source": [
    "# WAP to print all even numbers between 10 and 20\n",
    "print(list(range(10,21,2)))\n",
    "\n",
    "for i in range(10,21,2):\n",
    "    print(i)\n",
    "\n",
    "print(\"---------------\")\n",
    "for i in range(10,21):\n",
    "    if i%2 == 0:\n",
    "        print(i)"
   ]
  },
  {
   "cell_type": "code",
   "execution_count": null,
   "id": "6d44fc62-a4f2-47e9-8fbd-d43b5541dce3",
   "metadata": {},
   "outputs": [],
   "source": [
    "# WAP to print table of a given number\n",
    "\n",
    "table = int(input(\"Which table : \"))\n",
    "for i in range(1,11):\n",
    "    print(f'{table} x {i} = {table*i}')                # 45 * 1 = 45"
   ]
  },
  {
   "cell_type": "markdown",
   "id": "d4b4823b-7a46-4df3-8dd0-a1a357c078c1",
   "metadata": {},
   "source": [
    "## break"
   ]
  },
  {
   "cell_type": "markdown",
   "id": "7eff203d-17a1-4865-a228-37d11fc07512",
   "metadata": {},
   "source": [
    "Throws you out of the nearest loop"
   ]
  },
  {
   "cell_type": "code",
   "execution_count": null,
   "id": "72423627-e3f7-4337-b940-2ee407c6422a",
   "metadata": {},
   "outputs": [],
   "source": [
    "for i in range(5):\n",
    "    if i == 3:\n",
    "        break\n",
    "    print(i)\n",
    "print(\"Done\")"
   ]
  },
  {
   "cell_type": "markdown",
   "id": "ee077570-06c6-4a0d-9072-a78acdfeeeca",
   "metadata": {},
   "source": [
    "## continue"
   ]
  },
  {
   "cell_type": "markdown",
   "id": "46cedd73-aee0-4bbf-a94f-fc342b27fea6",
   "metadata": {},
   "source": [
    "bypasses the current iteration"
   ]
  },
  {
   "cell_type": "code",
   "execution_count": null,
   "id": "0685058c-a1f3-4cc9-929c-036cc541ad38",
   "metadata": {},
   "outputs": [],
   "source": [
    "for i in range(5):\n",
    "    if i == 3:\n",
    "        continue\n",
    "    print(i)\n",
    "print(\"Done\")"
   ]
  },
  {
   "cell_type": "markdown",
   "id": "7c8492d4-103c-41c4-b78f-eb98529fdef2",
   "metadata": {},
   "source": [
    "## Quick Questions"
   ]
  },
  {
   "cell_type": "code",
   "execution_count": 1,
   "id": "bde71222-d95d-4807-abf0-b02687687c81",
   "metadata": {},
   "outputs": [
    {
     "name": "stdout",
     "output_type": "stream",
     "text": [
      "0\n",
      "2\n",
      "4\n",
      "Done\n"
     ]
    }
   ],
   "source": [
    "for i in range(0,10,2):\n",
    "    print(i)\n",
    "    if i == 4:\n",
    "        break\n",
    "print(\"Done\")"
   ]
  },
  {
   "cell_type": "code",
   "execution_count": 2,
   "id": "74f2530f-ba88-4fae-a5f7-daf02dd7ef07",
   "metadata": {},
   "outputs": [
    {
     "name": "stdout",
     "output_type": "stream",
     "text": [
      "0\n",
      "1\n",
      "2\n",
      "4\n"
     ]
    }
   ],
   "source": [
    "for i in range(5):\n",
    "    if i == 3:\n",
    "        continue\n",
    "    print(i)"
   ]
  },
  {
   "cell_type": "code",
   "execution_count": 3,
   "id": "b9a114a3-2acf-4a27-9db0-5b76cea60fe8",
   "metadata": {},
   "outputs": [
    {
     "name": "stdout",
     "output_type": "stream",
     "text": [
      "0 0\n",
      "1 0\n",
      "2 0\n"
     ]
    }
   ],
   "source": [
    "for i in range(3):\n",
    "    for j in range(2):\n",
    "        print(i,j)\n",
    "        if j == 0:\n",
    "            break"
   ]
  },
  {
   "cell_type": "code",
   "execution_count": 4,
   "id": "22273354-3ff0-453d-a10f-1cfc65f317b3",
   "metadata": {},
   "outputs": [
    {
     "name": "stdout",
     "output_type": "stream",
     "text": [
      ".\n",
      ".\n",
      ".\n"
     ]
    }
   ],
   "source": [
    "for i in range(3):\n",
    "    for j in range(2):\n",
    "        if j == 0:\n",
    "            break\n",
    "        print(i,j)\n",
    "    print(\".\")"
   ]
  },
  {
   "cell_type": "code",
   "execution_count": 5,
   "id": "d2d9fa11-793a-4a52-b340-b16dc4848706",
   "metadata": {},
   "outputs": [
    {
     "name": "stdout",
     "output_type": "stream",
     "text": [
      "Done\n"
     ]
    }
   ],
   "source": [
    "i = 10\n",
    "while True:\n",
    "    if i == 10:\n",
    "        break\n",
    "print(\"Done\")"
   ]
  },
  {
   "cell_type": "code",
   "execution_count": 6,
   "id": "f0f5262c-98e5-433b-9afd-8accf67cf932",
   "metadata": {},
   "outputs": [
    {
     "name": "stdout",
     "output_type": "stream",
     "text": [
      "9\n",
      "8\n",
      "Done\n"
     ]
    }
   ],
   "source": [
    "count = 10\n",
    "while True:\n",
    "    if count == 8:\n",
    "        break\n",
    "    count -= 1\n",
    "    print(count)\n",
    "print(\"Done\")"
   ]
  },
  {
   "cell_type": "code",
   "execution_count": 7,
   "id": "20a1b0f9-f173-4f9f-b40d-a9a00cb0b08b",
   "metadata": {},
   "outputs": [
    {
     "name": "stdout",
     "output_type": "stream",
     "text": [
      "0 0\n",
      "0 1\n",
      "0 2\n",
      "0 3\n",
      "1 0\n",
      "1 1\n",
      "1 2\n",
      "1 3\n",
      "2 0\n",
      "2 1\n",
      "2 2\n",
      "2 3\n"
     ]
    }
   ],
   "source": [
    "for i in range(3):\n",
    "    for j in range(4):\n",
    "        print(i,j)"
   ]
  },
  {
   "cell_type": "code",
   "execution_count": null,
   "id": "ef8ff588-074a-4b75-9cfd-ce8b2d95cd29",
   "metadata": {},
   "outputs": [],
   "source": [
    "for i in range(4):\n",
    "    for j in range(3):\n",
    "        for k in range(2):\n",
    "            print(i,j,k)"
   ]
  },
  {
   "cell_type": "code",
   "execution_count": null,
   "id": "a978c903-10b3-4157-ae04-ed79544c7081",
   "metadata": {},
   "outputs": [],
   "source": [
    "for i in range(5):\n",
    "    print(i)\n",
    "    for j in range(i):\n",
    "        print(i,j)\n",
    "    print(\"-----------------\")"
   ]
  },
  {
   "cell_type": "code",
   "execution_count": null,
   "id": "75fc33fb-eb26-4655-a9cd-54547731971f",
   "metadata": {},
   "outputs": [],
   "source": [
    "for i in range(3):\n",
    "    for j in range(2):\n",
    "        print(i,j)\n",
    "        if j == 0:\n",
    "            break\n",
    "    break\n",
    "print(\".\")"
   ]
  },
  {
   "cell_type": "code",
   "execution_count": null,
   "id": "67b83cd0-5faa-4c20-b7d2-530a5e6df384",
   "metadata": {},
   "outputs": [],
   "source": [
    "for i in range(4):\n",
    "    for j in range(3):\n",
    "        if i == j:\n",
    "            continue\n",
    "        print(i,j)"
   ]
  },
  {
   "cell_type": "code",
   "execution_count": null,
   "id": "5688a7d5-9fd5-4044-bad8-08b7365621fa",
   "metadata": {},
   "outputs": [],
   "source": [
    "# Guess the output\n",
    "for i in range(5):\n",
    "    for j in range(3):\n",
    "        if j == 1:\n",
    "            continue\n",
    "        print(i,j)"
   ]
  },
  {
   "cell_type": "code",
   "execution_count": 8,
   "id": "71535f27-760c-4e8e-8f49-86db155f0ab4",
   "metadata": {},
   "outputs": [
    {
     "name": "stdout",
     "output_type": "stream",
     "text": [
      "0 1\n",
      "0 2\n",
      "1 0\n",
      "1 2\n",
      "2 0\n",
      "2 1\n",
      "3 0\n",
      "3 1\n",
      "3 2\n"
     ]
    }
   ],
   "source": [
    "for i in range(4):\n",
    "    for j in range(3):\n",
    "        if i == j:\n",
    "            continue\n",
    "        print(i,j)\n",
    "    continue\n",
    "    print(i)"
   ]
  },
  {
   "cell_type": "code",
   "execution_count": null,
   "id": "7b30a6fd-7b72-4de8-a9a1-f5790863c1a0",
   "metadata": {},
   "outputs": [],
   "source": [
    "# Guess the output\n",
    "\n",
    "i = 2\n",
    "while True:\n",
    "    print(i)\n",
    "    i -= 1\n",
    "    if i == -1:\n",
    "        break\n",
    "    else:\n",
    "        continue\n",
    "    print(\".\")\n",
    "print(\"Done\")"
   ]
  },
  {
   "cell_type": "code",
   "execution_count": null,
   "id": "400fa627-5757-46b1-961d-1c96bb520033",
   "metadata": {},
   "outputs": [],
   "source": [
    "# Guess the output\n",
    "\n",
    "i = 2\n",
    "while True:\n",
    "    print(i)\n",
    "    i -= 1\n",
    "    if i == -1:\n",
    "        break\n",
    "    print(\".\")\n",
    "print(\"Done\")"
   ]
  },
  {
   "cell_type": "markdown",
   "id": "fe1625da-14be-47e6-b6fd-261431eb5789",
   "metadata": {},
   "source": [
    "# Practice Questions"
   ]
  },
  {
   "cell_type": "code",
   "execution_count": 15,
   "id": "4d7bfd7d-51d7-449a-a014-bc758c9fe588",
   "metadata": {},
   "outputs": [
    {
     "name": "stdin",
     "output_type": "stream",
     "text": [
      "Enter the number:  1\n",
      "Enter the number:  2\n",
      "Enter the number:  3\n"
     ]
    },
    {
     "name": "stdout",
     "output_type": "stream",
     "text": [
      "You guessed it correctly in 3 attempts\n"
     ]
    }
   ],
   "source": [
    "# use a loop to repeatedly ask the user to guess a number until they guess it correctly.\n",
    "# also print the number of attempts he/she took to guess the correct number\n",
    "\n",
    "import random\n",
    "\n",
    "sys_num = random.randint(1,10)\n",
    "count = 0\n",
    "while True:\n",
    "    count += 1\n",
    "    user_num = int(input(\"Enter the number: \"))\n",
    "    if user_num == sys_num:\n",
    "        break\n",
    "\n",
    "print(f\"You guessed it correctly in {count} attempts\")"
   ]
  },
  {
   "cell_type": "code",
   "execution_count": 16,
   "id": "2618443d-607f-40e5-93f6-e6f69b1aaafc",
   "metadata": {},
   "outputs": [
    {
     "name": "stdout",
     "output_type": "stream",
     "text": [
      "7\n"
     ]
    },
    {
     "name": "stdin",
     "output_type": "stream",
     "text": [
      "Guess a number : 8\n"
     ]
    },
    {
     "name": "stdout",
     "output_type": "stream",
     "text": [
      "Incorrect Guess. Try again! You have 2 attempts left\n"
     ]
    },
    {
     "name": "stdin",
     "output_type": "stream",
     "text": [
      "Guess a number : 6\n"
     ]
    },
    {
     "name": "stdout",
     "output_type": "stream",
     "text": [
      "Incorrect Guess. Try again! You have 1 attempts left\n"
     ]
    },
    {
     "name": "stdin",
     "output_type": "stream",
     "text": [
      "Guess a number : 7\n"
     ]
    },
    {
     "name": "stdout",
     "output_type": "stream",
     "text": [
      "Congrats! You guessed it\n"
     ]
    }
   ],
   "source": [
    "# max_3_attempts\n",
    "\n",
    "import random\n",
    "system_num = random.randint(1,10)\n",
    "print(system_num)\n",
    "attempts = 3\n",
    "win = False\n",
    "\n",
    "while attempts >= 1:\n",
    "    user_num = int(input(\"Guess a number :\"))\n",
    "    attempts -= 1\n",
    "    if user_num == system_num:\n",
    "        win = True\n",
    "        break\n",
    "    else:\n",
    "        print(f\"Incorrect Guess. Try again! You have {attempts} attempts left\")\n",
    "if win:\n",
    "    print(\"Congrats! You guessed it\")\n",
    "else:\n",
    "    print(\"Sorry! You Lose\")"
   ]
  },
  {
   "cell_type": "code",
   "execution_count": null,
   "id": "ea63f73d-be8e-4b14-a80d-243b73422495",
   "metadata": {},
   "outputs": [],
   "source": [
    "# WAP to print the pattern below\n",
    "\n",
    "# *\n",
    "# **\n",
    "# ***\n",
    "# ****\n",
    "# *****\n",
    "\n",
    "lines = int(input(\"How many line : \"))\n",
    "for i in range(lines):\n",
    "    for j in range(i+1):\n",
    "        print(\"*\", end = \"\")\n",
    "        # print(i,j)\n",
    "    print()"
   ]
  },
  {
   "cell_type": "code",
   "execution_count": null,
   "id": "93a4a56f-bd19-437e-a384-28bf99b9d7d2",
   "metadata": {},
   "outputs": [],
   "source": [
    "# WAP to print the pattern below\n",
    "\n",
    "# 1\n",
    "# 22\n",
    "# 333\n",
    "# 4444\n",
    "# 55555\n",
    "\n",
    "lines = int(input(\"How many line : \"))\n",
    "for i in range(lines):\n",
    "    for j in range(i+1):\n",
    "        print(i+1, end = \"\")\n",
    "    print()"
   ]
  },
  {
   "cell_type": "code",
   "execution_count": null,
   "id": "1db77c95-9ada-4060-85e8-54ef842293e1",
   "metadata": {},
   "outputs": [],
   "source": [
    "# WAP to print the pattern below\n",
    "\n",
    "# 1\n",
    "# 12\n",
    "# 123\n",
    "# 1234\n",
    "# 12345\n",
    "\n",
    "lines = int(input(\"How many line : \"))\n",
    "for i in range(lines):\n",
    "    for j in range(i+1):\n",
    "        print(j+1, end = \"\")\n",
    "    print()"
   ]
  },
  {
   "cell_type": "code",
   "execution_count": null,
   "id": "2eaefd6f-6350-4985-aaed-084682bb5661",
   "metadata": {},
   "outputs": [],
   "source": [
    "# WAP to print the pattern below\n",
    "\n",
    "#   *\n",
    "#  ***\n",
    "# *****"
   ]
  }
 ],
 "metadata": {
  "kernelspec": {
   "display_name": "Python 3 (ipykernel)",
   "language": "python",
   "name": "python3"
  },
  "language_info": {
   "codemirror_mode": {
    "name": "ipython",
    "version": 3
   },
   "file_extension": ".py",
   "mimetype": "text/x-python",
   "name": "python",
   "nbconvert_exporter": "python",
   "pygments_lexer": "ipython3",
   "version": "3.10.11"
  }
 },
 "nbformat": 4,
 "nbformat_minor": 5
}
